{
 "cells": [
  {
   "cell_type": "markdown",
   "metadata": {},
   "source": [
    "# Index\n",
    "1. [__Data Loading and Check Skewness__](#section1) <br>\n",
    "2. [__Stats Models using OLS__](#section2) <br>\n",
    "3. [__Anova Model [N-Way]__](#section3) <br>\n",
    "4. [__Tukey HSD Test__](#section4) <br>\n",
    "5. [__Anova One way__](#section5) <br>\n",
    "6. [__Create Datasets__](#section6) <br>\n",
    "7. [__Linear Regression without Regularization__](#section7) <br>\n",
    "8. [__Linear Regression [Ridge]__](#section8) <br>\n",
    "9. [__Linear Regression [Lasso]__](#section9) <br>\n",
    "10. [__Linear Regression [Elastic-Net]__](#section10) <br>"
   ]
  },
  {
   "cell_type": "code",
   "execution_count": 1,
   "metadata": {},
   "outputs": [
    {
     "data": {
      "text/html": [
       "        <script type=\"text/javascript\">\n",
       "        window.PlotlyConfig = {MathJaxConfig: 'local'};\n",
       "        if (window.MathJax) {MathJax.Hub.Config({SVG: {font: \"STIX-Web\"}});}\n",
       "        if (typeof require !== 'undefined') {\n",
       "        require.undef(\"plotly\");\n",
       "        requirejs.config({\n",
       "            paths: {\n",
       "                'plotly': ['https://cdn.plot.ly/plotly-latest.min']\n",
       "            }\n",
       "        });\n",
       "        require(['plotly'], function(Plotly) {\n",
       "            window._Plotly = Plotly;\n",
       "        });\n",
       "        }\n",
       "        </script>\n",
       "        "
      ]
     },
     "metadata": {},
     "output_type": "display_data"
    }
   ],
   "source": [
    "#numerical computing packages\n",
    "import numpy as np\n",
    "import pandas as pd\n",
    "import scipy\n",
    "from scipy.stats import norm\n",
    "from scipy import stats\n",
    "from numpy.random import choice\n",
    "np.random.seed(99)\n",
    "\n",
    "#visualization packages\n",
    "import plotly as pl\n",
    "import plotly.offline as py\n",
    "import plotly.graph_objs as go\n",
    "from plotly.subplots import make_subplots\n",
    "from sklearn.manifold import TSNE\n",
    "import matplotlib.pyplot as plt\n",
    "import seaborn as sns\n",
    "%matplotlib inline\n",
    "import warnings \n",
    "warnings.filterwarnings('ignore')\n",
    "from matplotlib import rcParams\n",
    "from _plotly_future_ import v4_subplots\n",
    "import missingno as msno\n",
    "\n",
    "#ML packages\n",
    "import sklearn\n",
    "from sklearn.model_selection import train_test_split,cross_val_score\n",
    "import sklearn.linear_model as linear_model\n",
    "import xgboost as xgb\n",
    "from sklearn.model_selection import KFold\n",
    "from sklearn.manifold import TSNE\n",
    "from sklearn.decomposition import PCA\n",
    "from sklearn.preprocessing import StandardScaler\n",
    "from sklearn.cluster import KMeans\n",
    "import category_encoders as ce\n",
    "from sklearn.feature_selection import RFE\n",
    "from sklearn.linear_model import LinearRegression,LogisticRegression,RidgeCV, LassoCV, ElasticNetCV\n",
    "from sklearn.feature_selection import SelectFromModel\n",
    "import mglearn\n",
    "from sklearn.metrics import accuracy_score\n",
    "import category_encoders as ce\n",
    "from sklearn.preprocessing import PolynomialFeatures\n",
    "from sklearn.metrics import mean_squared_error, make_scorer\n",
    "\n",
    "#statistical pakages\n",
    "from scipy.stats import skew\n",
    "import statsmodels.api as sm\n",
    "from statsmodels.formula.api import ols\n",
    "from statsmodels.stats.anova import anova_lm\n",
    "from statsmodels.stats.multicomp import (pairwise_tukeyhsd,\n",
    "                                         MultiComparison)\n",
    "#jupyter notebook specfic packges\n",
    "import warnings\n",
    "warnings.filterwarnings('ignore')\n",
    "py.init_notebook_mode(connected=True)\n",
    "pd.options.display.max_columns = None\n",
    "from IPython.display import HTML, display"
   ]
  },
  {
   "cell_type": "code",
   "execution_count": 2,
   "metadata": {},
   "outputs": [],
   "source": [
    "%store -r newdf"
   ]
  },
  {
   "cell_type": "code",
   "execution_count": 3,
   "metadata": {},
   "outputs": [],
   "source": [
    "df=newdf.copy()\n",
    "df.reset_index(inplace=True)\n",
    "df.drop(columns=['index'],inplace=True)"
   ]
  },
  {
   "cell_type": "markdown",
   "metadata": {},
   "source": [
    "<a id ='section1'></a>"
   ]
  },
  {
   "cell_type": "code",
   "execution_count": 4,
   "metadata": {},
   "outputs": [
    {
     "data": {
      "text/plain": [
       "(array([1231., 2045., 2400., 1767.,  791.,  318.,  134.,   38.,   25.,\n",
       "           7.]),\n",
       " array([11.5 , 17.08, 22.66, 28.24, 33.82, 39.4 , 44.98, 50.56, 56.14,\n",
       "        61.72, 67.3 ]),\n",
       " <a list of 10 Patch objects>)"
      ]
     },
     "execution_count": 4,
     "metadata": {},
     "output_type": "execute_result"
    },
    {
     "data": {
      "image/png": "[encoded data removed]",
      "text/plain": [
       "<Figure size 432x288 with 1 Axes>"
      ]
     },
     "metadata": {
      "needs_background": "light"
     },
     "output_type": "display_data"
    }
   ],
   "source": [
    "plt.hist(df['bmi'])"
   ]
  },
  {
   "cell_type": "code",
   "execution_count": 5,
   "metadata": {},
   "outputs": [
    {
     "data": {
      "text/plain": [
       "(array([  50.,  955., 1165., 1522., 1984., 1719.,  888.,  336.,  110.,\n",
       "          27.]),\n",
       " array([2.52572864, 2.69554676, 2.86536487, 3.03518298, 3.20500109,\n",
       "        3.37481921, 3.54463732, 3.71445543, 3.88427354, 4.05409165,\n",
       "        4.22390977]),\n",
       " <a list of 10 Patch objects>)"
      ]
     },
     "execution_count": 5,
     "metadata": {},
     "output_type": "execute_result"
    },
    {
     "data": {
      "image/png": "[encoded data removed]",
      "text/plain": [
       "<Figure size 432x288 with 1 Axes>"
      ]
     },
     "metadata": {
      "needs_background": "light"
     },
     "output_type": "display_data"
    }
   ],
   "source": [
    "#since the bmi values are not normalized, let's normalize them using log\n",
    "df['bmi']=np.log1p(df['bmi'])\n",
    "plt.hist(df['bmi'])"
   ]
  },
  {
   "cell_type": "code",
   "execution_count": 6,
   "metadata": {},
   "outputs": [],
   "source": [
    "# since the variables we have all are categorical and mostly nominal and the outcome we have to predict is continuous variable \n",
    "#BMI\n",
    "# Let's use anova model built on top of the ordinary least squares method to check which columns are indeed helpful \n",
    "#in determining BMI index"
   ]
  },
  {
   "cell_type": "markdown",
   "metadata": {},
   "source": [
    "<a id ='section2'></a>"
   ]
  },
  {
   "cell_type": "code",
   "execution_count": 7,
   "metadata": {},
   "outputs": [
    {
     "name": "stdout",
     "output_type": "stream",
     "text": [
      "Formula for OLS \n",
      " C(p_gen)+C(p_race)+C(p_milt)+C(p_born)+C(p_citz)+C(p_marl)+C(p_pre)+C(p_ilang)+C(p_iprox)+C(p_intrp)+C(mec_lang)+C(mec_prox)+C(mec_intrp)+C(aca_lang)\n"
     ]
    },
    {
     "data": {
      "text/html": [
       "<table class=\"simpletable\">\n",
       "<caption>OLS Regression Results</caption>\n",
       "<tr>\n",
       "  <th>Dep. Variable:</th>           <td>bmi</td>       <th>  R-squared:         </th> <td>   0.461</td>\n",
       "</tr>\n",
       "<tr>\n",
       "  <th>Model:</th>                   <td>OLS</td>       <th>  Adj. R-squared:    </th> <td>   0.460</td>\n",
       "</tr>\n",
       "<tr>\n",
       "  <th>Method:</th>             <td>Least Squares</td>  <th>  F-statistic:       </th> <td>   311.2</td>\n",
       "</tr>\n",
       "<tr>\n",
       "  <th>Date:</th>             <td>Fri, 16 Aug 2019</td> <th>  Prob (F-statistic):</th>  <td>  0.00</td> \n",
       "</tr>\n",
       "<tr>\n",
       "  <th>Time:</th>                 <td>18:08:35</td>     <th>  Log-Likelihood:    </th> <td>  1205.4</td>\n",
       "</tr>\n",
       "<tr>\n",
       "  <th>No. Observations:</th>      <td>  8756</td>      <th>  AIC:               </th> <td>  -2361.</td>\n",
       "</tr>\n",
       "<tr>\n",
       "  <th>Df Residuals:</th>          <td>  8731</td>      <th>  BIC:               </th> <td>  -2184.</td>\n",
       "</tr>\n",
       "<tr>\n",
       "  <th>Df Model:</th>              <td>    24</td>      <th>                     </th>     <td> </td>   \n",
       "</tr>\n",
       "<tr>\n",
       "  <th>Covariance Type:</th>      <td>nonrobust</td>    <th>                     </th>     <td> </td>   \n",
       "</tr>\n",
       "</table>\n",
       "<table class=\"simpletable\">\n",
       "<tr>\n",
       "                 <td></td>                   <th>coef</th>     <th>std err</th>      <th>t</th>      <th>P>|t|</th>  <th>[0.025</th>    <th>0.975]</th>  \n",
       "</tr>\n",
       "<tr>\n",
       "  <th>Intercept</th>                      <td>    3.3254</td> <td>    0.026</td> <td>  126.571</td> <td> 0.000</td> <td>    3.274</td> <td>    3.377</td>\n",
       "</tr>\n",
       "<tr>\n",
       "  <th>C(p_gen)[T.male]</th>               <td>   -0.0070</td> <td>    0.005</td> <td>   -1.293</td> <td> 0.196</td> <td>   -0.018</td> <td>    0.004</td>\n",
       "</tr>\n",
       "<tr>\n",
       "  <th>C(p_race)[T.his_others]</th>        <td>   -0.0186</td> <td>    0.008</td> <td>   -2.237</td> <td> 0.025</td> <td>   -0.035</td> <td>   -0.002</td>\n",
       "</tr>\n",
       "<tr>\n",
       "  <th>C(p_race)[T.nhis_asian]</th>        <td>   -0.1372</td> <td>    0.011</td> <td>  -12.814</td> <td> 0.000</td> <td>   -0.158</td> <td>   -0.116</td>\n",
       "</tr>\n",
       "<tr>\n",
       "  <th>C(p_race)[T.nhis_black]</th>        <td>   -0.0270</td> <td>    0.008</td> <td>   -3.370</td> <td> 0.001</td> <td>   -0.043</td> <td>   -0.011</td>\n",
       "</tr>\n",
       "<tr>\n",
       "  <th>C(p_race)[T.nhis_others]</th>       <td>   -0.0481</td> <td>    0.012</td> <td>   -3.997</td> <td> 0.000</td> <td>   -0.072</td> <td>   -0.025</td>\n",
       "</tr>\n",
       "<tr>\n",
       "  <th>C(p_race)[T.nhis_white]</th>        <td>   -0.0767</td> <td>    0.008</td> <td>  -10.059</td> <td> 0.000</td> <td>   -0.092</td> <td>   -0.062</td>\n",
       "</tr>\n",
       "<tr>\n",
       "  <th>C(p_milt)[T.mil_yes]</th>           <td>    0.0256</td> <td>    0.011</td> <td>    2.425</td> <td> 0.015</td> <td>    0.005</td> <td>    0.046</td>\n",
       "</tr>\n",
       "<tr>\n",
       "  <th>C(p_born)[T.born_us]</th>           <td>    0.0536</td> <td>    0.009</td> <td>    5.858</td> <td> 0.000</td> <td>    0.036</td> <td>    0.072</td>\n",
       "</tr>\n",
       "<tr>\n",
       "  <th>C(p_citz)[T.yes_citz]</th>          <td>    0.0019</td> <td>    0.010</td> <td>    0.199</td> <td> 0.842</td> <td>   -0.017</td> <td>    0.021</td>\n",
       "</tr>\n",
       "<tr>\n",
       "  <th>C(p_marl)[T.p_liv_partn]</th>       <td>   -0.0101</td> <td>    0.013</td> <td>   -0.771</td> <td> 0.441</td> <td>   -0.036</td> <td>    0.016</td>\n",
       "</tr>\n",
       "<tr>\n",
       "  <th>C(p_marl)[T.p_married]</th>         <td>    0.0032</td> <td>    0.010</td> <td>    0.328</td> <td> 0.743</td> <td>   -0.016</td> <td>    0.023</td>\n",
       "</tr>\n",
       "<tr>\n",
       "  <th>C(p_marl)[T.p_never_married]</th>   <td>   -0.0900</td> <td>    0.011</td> <td>   -8.448</td> <td> 0.000</td> <td>   -0.111</td> <td>   -0.069</td>\n",
       "</tr>\n",
       "<tr>\n",
       "  <th>C(p_marl)[T.p_separated]</th>       <td>    0.0089</td> <td>    0.018</td> <td>    0.493</td> <td> 0.622</td> <td>   -0.027</td> <td>    0.044</td>\n",
       "</tr>\n",
       "<tr>\n",
       "  <th>C(p_marl)[T.p_widowed]</th>         <td>   -0.0189</td> <td>    0.014</td> <td>   -1.339</td> <td> 0.180</td> <td>   -0.047</td> <td>    0.009</td>\n",
       "</tr>\n",
       "<tr>\n",
       "  <th>C(p_pre)[T.p_preg]</th>             <td>    0.0106</td> <td>    0.026</td> <td>    0.406</td> <td> 0.684</td> <td>   -0.040</td> <td>    0.061</td>\n",
       "</tr>\n",
       "<tr>\n",
       "  <th>C(p_pre)[T.p_preg_dont]</th>        <td>    0.0335</td> <td>    0.008</td> <td>    4.449</td> <td> 0.000</td> <td>    0.019</td> <td>    0.048</td>\n",
       "</tr>\n",
       "<tr>\n",
       "  <th>C(p_ilang)[T.p_spa_lang_int]</th>   <td>    0.0029</td> <td>    0.011</td> <td>    0.270</td> <td> 0.787</td> <td>   -0.018</td> <td>    0.024</td>\n",
       "</tr>\n",
       "<tr>\n",
       "  <th>C(p_iprox)[T.p_prox_res_yes]</th>   <td>   -0.3397</td> <td>    0.007</td> <td>  -48.977</td> <td> 0.000</td> <td>   -0.353</td> <td>   -0.326</td>\n",
       "</tr>\n",
       "<tr>\n",
       "  <th>C(p_intrp)[T.p_intrp_yes]</th>      <td>    0.0238</td> <td>    0.015</td> <td>    1.600</td> <td> 0.110</td> <td>   -0.005</td> <td>    0.053</td>\n",
       "</tr>\n",
       "<tr>\n",
       "  <th>C(mec_lang)[T.mec_lang_spa]</th>    <td>    0.0012</td> <td>    0.017</td> <td>    0.072</td> <td> 0.942</td> <td>   -0.032</td> <td>    0.034</td>\n",
       "</tr>\n",
       "<tr>\n",
       "  <th>C(mec_prox)[T.mec_prox_yes]</th>    <td>    0.0974</td> <td>    0.031</td> <td>    3.188</td> <td> 0.001</td> <td>    0.038</td> <td>    0.157</td>\n",
       "</tr>\n",
       "<tr>\n",
       "  <th>C(mec_intrp)[T.mec_intrp_yes]</th>  <td>    0.0029</td> <td>    0.016</td> <td>    0.179</td> <td> 0.858</td> <td>   -0.028</td> <td>    0.034</td>\n",
       "</tr>\n",
       "<tr>\n",
       "  <th>C(aca_lang)[T.aca_lan_int_eng]</th> <td>    0.0839</td> <td>    0.023</td> <td>    3.693</td> <td> 0.000</td> <td>    0.039</td> <td>    0.128</td>\n",
       "</tr>\n",
       "<tr>\n",
       "  <th>C(aca_lang)[T.aca_lan_int_spa]</th> <td>    0.0925</td> <td>    0.027</td> <td>    3.372</td> <td> 0.001</td> <td>    0.039</td> <td>    0.146</td>\n",
       "</tr>\n",
       "</table>\n",
       "<table class=\"simpletable\">\n",
       "<tr>\n",
       "  <th>Omnibus:</th>       <td>455.115</td> <th>  Durbin-Watson:     </th> <td>   1.987</td> \n",
       "</tr>\n",
       "<tr>\n",
       "  <th>Prob(Omnibus):</th> <td> 0.000</td>  <th>  Jarque-Bera (JB):  </th> <td> 531.989</td> \n",
       "</tr>\n",
       "<tr>\n",
       "  <th>Skew:</th>          <td> 0.572</td>  <th>  Prob(JB):          </th> <td>3.02e-116</td>\n",
       "</tr>\n",
       "<tr>\n",
       "  <th>Kurtosis:</th>      <td> 3.386</td>  <th>  Cond. No.          </th> <td>    38.5</td> \n",
       "</tr>\n",
       "</table><br/><br/>Warnings:<br/>[1] Standard Errors assume that the covariance matrix of the errors is correctly specified."
      ],
      "text/plain": [
       "<class 'statsmodels.iolib.summary.Summary'>\n",
       "\"\"\"\n",
       "                            OLS Regression Results                            \n",
       "==============================================================================\n",
       "Dep. Variable:                    bmi   R-squared:                       0.461\n",
       "Model:                            OLS   Adj. R-squared:                  0.460\n",
       "Method:                 Least Squares   F-statistic:                     311.2\n",
       "Date:                Fri, 16 Aug 2019   Prob (F-statistic):               0.00\n",
       "Time:                        18:08:35   Log-Likelihood:                 1205.4\n",
       "No. Observations:                8756   AIC:                            -2361.\n",
       "Df Residuals:                    8731   BIC:                            -2184.\n",
       "Df Model:                          24                                         \n",
       "Covariance Type:            nonrobust                                         \n",
       "==================================================================================================\n",
       "                                     coef    std err          t      P>|t|      [0.025      0.975]\n",
       "--------------------------------------------------------------------------------------------------\n",
       "Intercept                          3.3254      0.026    126.571      0.000       3.274       3.377\n",
       "C(p_gen)[T.male]                  -0.0070      0.005     -1.293      0.196      -0.018       0.004\n",
       "C(p_race)[T.his_others]           -0.0186      0.008     -2.237      0.025      -0.035      -0.002\n",
       "C(p_race)[T.nhis_asian]           -0.1372      0.011    -12.814      0.000      -0.158      -0.116\n",
       "C(p_race)[T.nhis_black]           -0.0270      0.008     -3.370      0.001      -0.043      -0.011\n",
       "C(p_race)[T.nhis_others]          -0.0481      0.012     -3.997      0.000      -0.072      -0.025\n",
       "C(p_race)[T.nhis_white]           -0.0767      0.008    -10.059      0.000      -0.092      -0.062\n",
       "C(p_milt)[T.mil_yes]               0.0256      0.011      2.425      0.015       0.005       0.046\n",
       "C(p_born)[T.born_us]               0.0536      0.009      5.858      0.000       0.036       0.072\n",
       "C(p_citz)[T.yes_citz]              0.0019      0.010      0.199      0.842      -0.017       0.021\n",
       "C(p_marl)[T.p_liv_partn]          -0.0101      0.013     -0.771      0.441      -0.036       0.016\n",
       "C(p_marl)[T.p_married]             0.0032      0.010      0.328      0.743      -0.016       0.023\n",
       "C(p_marl)[T.p_never_married]      -0.0900      0.011     -8.448      0.000      -0.111      -0.069\n",
       "C(p_marl)[T.p_separated]           0.0089      0.018      0.493      0.622      -0.027       0.044\n",
       "C(p_marl)[T.p_widowed]            -0.0189      0.014     -1.339      0.180      -0.047       0.009\n",
       "C(p_pre)[T.p_preg]                 0.0106      0.026      0.406      0.684      -0.040       0.061\n",
       "C(p_pre)[T.p_preg_dont]            0.0335      0.008      4.449      0.000       0.019       0.048\n",
       "C(p_ilang)[T.p_spa_lang_int]       0.0029      0.011      0.270      0.787      -0.018       0.024\n",
       "C(p_iprox)[T.p_prox_res_yes]      -0.3397      0.007    -48.977      0.000      -0.353      -0.326\n",
       "C(p_intrp)[T.p_intrp_yes]          0.0238      0.015      1.600      0.110      -0.005       0.053\n",
       "C(mec_lang)[T.mec_lang_spa]        0.0012      0.017      0.072      0.942      -0.032       0.034\n",
       "C(mec_prox)[T.mec_prox_yes]        0.0974      0.031      3.188      0.001       0.038       0.157\n",
       "C(mec_intrp)[T.mec_intrp_yes]      0.0029      0.016      0.179      0.858      -0.028       0.034\n",
       "C(aca_lang)[T.aca_lan_int_eng]     0.0839      0.023      3.693      0.000       0.039       0.128\n",
       "C(aca_lang)[T.aca_lan_int_spa]     0.0925      0.027      3.372      0.001       0.039       0.146\n",
       "==============================================================================\n",
       "Omnibus:                      455.115   Durbin-Watson:                   1.987\n",
       "Prob(Omnibus):                  0.000   Jarque-Bera (JB):              531.989\n",
       "Skew:                           0.572   Prob(JB):                    3.02e-116\n",
       "Kurtosis:                       3.386   Cond. No.                         38.5\n",
       "==============================================================================\n",
       "\n",
       "Warnings:\n",
       "[1] Standard Errors assume that the covariance matrix of the errors is correctly specified.\n",
       "\"\"\""
      ]
     },
     "execution_count": 7,
     "metadata": {},
     "output_type": "execute_result"
    }
   ],
   "source": [
    "#formula for ols is used to pass it to the variable in OLS model do not include conitnuous varibales and target variable\n",
    "formula_for_ols=''.join('C('+each+')+' for each in df.columns.values if each not in ['bmi','p_yr','p_edu'])\n",
    "print('Formula for OLS \\n',formula_for_ols[:-1])\n",
    "model =ols('bmi ~ '+formula_for_ols[:-1],data=df).fit()\n",
    "model.summary()"
   ]
  },
  {
   "cell_type": "markdown",
   "metadata": {},
   "source": [
    "<a id ='section3'></a>"
   ]
  },
  {
   "cell_type": "code",
   "execution_count": 8,
   "metadata": {},
   "outputs": [
    {
     "data": {
      "text/html": [
       "<div>\n",
       "<style scoped>\n",
       "    .dataframe tbody tr th:only-of-type {\n",
       "        vertical-align: middle;\n",
       "    }\n",
       "\n",
       "    .dataframe tbody tr th {\n",
       "        vertical-align: top;\n",
       "    }\n",
       "\n",
       "    .dataframe thead th {\n",
       "        text-align: right;\n",
       "    }\n",
       "</style>\n",
       "<table border=\"1\" class=\"dataframe\">\n",
       "  <thead>\n",
       "    <tr style=\"text-align: right;\">\n",
       "      <th></th>\n",
       "      <th>sum_sq</th>\n",
       "      <th>df</th>\n",
       "      <th>F</th>\n",
       "      <th>PR(&gt;F)</th>\n",
       "    </tr>\n",
       "  </thead>\n",
       "  <tbody>\n",
       "    <tr>\n",
       "      <th>C(p_gen)</th>\n",
       "      <td>0.074483</td>\n",
       "      <td>1.0</td>\n",
       "      <td>1.670559</td>\n",
       "      <td>1.962179e-01</td>\n",
       "    </tr>\n",
       "    <tr>\n",
       "      <th>C(p_race)</th>\n",
       "      <td>10.793925</td>\n",
       "      <td>5.0</td>\n",
       "      <td>48.418647</td>\n",
       "      <td>1.362333e-49</td>\n",
       "    </tr>\n",
       "    <tr>\n",
       "      <th>C(p_milt)</th>\n",
       "      <td>0.262095</td>\n",
       "      <td>1.0</td>\n",
       "      <td>5.878433</td>\n",
       "      <td>1.534762e-02</td>\n",
       "    </tr>\n",
       "    <tr>\n",
       "      <th>C(p_born)</th>\n",
       "      <td>1.530213</td>\n",
       "      <td>1.0</td>\n",
       "      <td>34.320616</td>\n",
       "      <td>4.843330e-09</td>\n",
       "    </tr>\n",
       "    <tr>\n",
       "      <th>C(p_citz)</th>\n",
       "      <td>0.001772</td>\n",
       "      <td>1.0</td>\n",
       "      <td>0.039749</td>\n",
       "      <td>8.419760e-01</td>\n",
       "    </tr>\n",
       "    <tr>\n",
       "      <th>C(p_marl)</th>\n",
       "      <td>8.505266</td>\n",
       "      <td>5.0</td>\n",
       "      <td>38.152338</td>\n",
       "      <td>7.263364e-39</td>\n",
       "    </tr>\n",
       "    <tr>\n",
       "      <th>C(p_pre)</th>\n",
       "      <td>0.884224</td>\n",
       "      <td>2.0</td>\n",
       "      <td>9.915977</td>\n",
       "      <td>4.993782e-05</td>\n",
       "    </tr>\n",
       "    <tr>\n",
       "      <th>C(p_ilang)</th>\n",
       "      <td>0.003251</td>\n",
       "      <td>1.0</td>\n",
       "      <td>0.072913</td>\n",
       "      <td>7.871474e-01</td>\n",
       "    </tr>\n",
       "    <tr>\n",
       "      <th>C(p_iprox)</th>\n",
       "      <td>106.952146</td>\n",
       "      <td>1.0</td>\n",
       "      <td>2398.792908</td>\n",
       "      <td>0.000000e+00</td>\n",
       "    </tr>\n",
       "    <tr>\n",
       "      <th>C(p_intrp)</th>\n",
       "      <td>0.114208</td>\n",
       "      <td>1.0</td>\n",
       "      <td>2.561536</td>\n",
       "      <td>1.095283e-01</td>\n",
       "    </tr>\n",
       "    <tr>\n",
       "      <th>C(mec_lang)</th>\n",
       "      <td>0.000234</td>\n",
       "      <td>1.0</td>\n",
       "      <td>0.005238</td>\n",
       "      <td>9.423086e-01</td>\n",
       "    </tr>\n",
       "    <tr>\n",
       "      <th>C(mec_prox)</th>\n",
       "      <td>0.453234</td>\n",
       "      <td>1.0</td>\n",
       "      <td>10.165440</td>\n",
       "      <td>1.436027e-03</td>\n",
       "    </tr>\n",
       "    <tr>\n",
       "      <th>C(mec_intrp)</th>\n",
       "      <td>0.001437</td>\n",
       "      <td>1.0</td>\n",
       "      <td>0.032219</td>\n",
       "      <td>8.575510e-01</td>\n",
       "    </tr>\n",
       "    <tr>\n",
       "      <th>C(aca_lang)</th>\n",
       "      <td>0.645299</td>\n",
       "      <td>2.0</td>\n",
       "      <td>7.236597</td>\n",
       "      <td>7.240819e-04</td>\n",
       "    </tr>\n",
       "    <tr>\n",
       "      <th>Residual</th>\n",
       "      <td>389.278784</td>\n",
       "      <td>8731.0</td>\n",
       "      <td>NaN</td>\n",
       "      <td>NaN</td>\n",
       "    </tr>\n",
       "  </tbody>\n",
       "</table>\n",
       "</div>"
      ],
      "text/plain": [
       "                  sum_sq      df            F        PR(>F)\n",
       "C(p_gen)        0.074483     1.0     1.670559  1.962179e-01\n",
       "C(p_race)      10.793925     5.0    48.418647  1.362333e-49\n",
       "C(p_milt)       0.262095     1.0     5.878433  1.534762e-02\n",
       "C(p_born)       1.530213     1.0    34.320616  4.843330e-09\n",
       "C(p_citz)       0.001772     1.0     0.039749  8.419760e-01\n",
       "C(p_marl)       8.505266     5.0    38.152338  7.263364e-39\n",
       "C(p_pre)        0.884224     2.0     9.915977  4.993782e-05\n",
       "C(p_ilang)      0.003251     1.0     0.072913  7.871474e-01\n",
       "C(p_iprox)    106.952146     1.0  2398.792908  0.000000e+00\n",
       "C(p_intrp)      0.114208     1.0     2.561536  1.095283e-01\n",
       "C(mec_lang)     0.000234     1.0     0.005238  9.423086e-01\n",
       "C(mec_prox)     0.453234     1.0    10.165440  1.436027e-03\n",
       "C(mec_intrp)    0.001437     1.0     0.032219  8.575510e-01\n",
       "C(aca_lang)     0.645299     2.0     7.236597  7.240819e-04\n",
       "Residual      389.278784  8731.0          NaN           NaN"
      ]
     },
     "execution_count": 8,
     "metadata": {},
     "output_type": "execute_result"
    }
   ],
   "source": [
    "# let's use anova for comparison of p values\n",
    "anova_table=sm.stats.anova_lm(model,typ=2)\n",
    "anova_table\n",
    "# so we can see that \n",
    "#so we can see that based on p value <0.005 have higher signs of rejecting null hypohesis\n",
    "#null hypothesis is that distribution does not differ in there means when compared to the BMI values\n",
    "# so let's use tukey test to see which pairs within the group were responsible for categorizing the BMI values\n"
   ]
  },
  {
   "cell_type": "markdown",
   "metadata": {},
   "source": [
    "<a id ='section4'></a>"
   ]
  },
  {
   "cell_type": "code",
   "execution_count": 9,
   "metadata": {},
   "outputs": [
    {
     "name": "stdout",
     "output_type": "stream",
     "text": [
      "\n",
      "\n",
      "P_GEN \n",
      "\n",
      "Multiple Comparison of Means - Tukey HSD,FWER=0.05\n",
      "=============================================\n",
      "group1 group2 meandiff  lower   upper  reject\n",
      "---------------------------------------------\n",
      "female  male  -0.0317  -0.0437 -0.0197  True \n",
      "---------------------------------------------\n",
      "\n",
      "\n",
      "\n",
      "\n",
      "P_RACE \n",
      "\n",
      "      Multiple Comparison of Means - Tukey HSD,FWER=0.05     \n",
      "=============================================================\n",
      "      group1         group2   meandiff  lower   upper  reject\n",
      "-------------------------------------------------------------\n",
      "his_mex_americans  his_others  -0.009  -0.0403  0.0223 False \n",
      "his_mex_americans  nhis_asian -0.1285  -0.1617 -0.0953  True \n",
      "his_mex_americans  nhis_black -0.0192  -0.0465  0.0081 False \n",
      "his_mex_americans nhis_others -0.0932  -0.1372 -0.0492  True \n",
      "his_mex_americans  nhis_white -0.0365  -0.0619 -0.0111  True \n",
      "    his_others     nhis_asian -0.1195  -0.1553 -0.0837  True \n",
      "    his_others     nhis_black -0.0102  -0.0406  0.0202 False \n",
      "    his_others    nhis_others -0.0842  -0.1302 -0.0382  True \n",
      "    his_others     nhis_white -0.0275  -0.0562  0.0012 False \n",
      "    nhis_asian     nhis_black  0.1093   0.077   0.1417  True \n",
      "    nhis_asian    nhis_others  0.0353   -0.012  0.0826 False \n",
      "    nhis_asian     nhis_white  0.092    0.0612  0.1228  True \n",
      "    nhis_black    nhis_others  -0.074  -0.1174 -0.0307  True \n",
      "    nhis_black     nhis_white -0.0173  -0.0416  0.007  False \n",
      "   nhis_others     nhis_white  0.0567   0.0145  0.0989  True \n",
      "-------------------------------------------------------------\n",
      "\n",
      "\n",
      "P_MILT \n",
      "\n",
      "Multiple Comparison of Means - Tukey HSD,FWER=0.05\n",
      "============================================\n",
      "group1  group2 meandiff lower  upper  reject\n",
      "--------------------------------------------\n",
      "mil_no mil_yes  0.1732  0.1474 0.1989  True \n",
      "--------------------------------------------\n",
      "\n",
      "\n",
      "P_BORN \n",
      "\n",
      " Multiple Comparison of Means - Tukey HSD,FWER=0.05\n",
      "===================================================\n",
      "   group1    group2 meandiff  lower   upper  reject\n",
      "---------------------------------------------------\n",
      "born_not_us born_us -0.0728  -0.0868 -0.0588  True \n",
      "---------------------------------------------------\n",
      "\n",
      "\n",
      "P_CITZ \n",
      "\n",
      "Multiple Comparison of Means - Tukey HSD,FWER=0.05\n",
      "================================================\n",
      " group1   group2  meandiff  lower  upper  reject\n",
      "------------------------------------------------\n",
      "not_citz yes_citz -0.0539  -0.0719 -0.036  True \n",
      "------------------------------------------------\n",
      "\n",
      "\n",
      "\n",
      "\n",
      "P_MARL \n",
      "\n",
      "       Multiple Comparison of Means - Tukey HSD,FWER=0.05      \n",
      "===============================================================\n",
      "     group1          group2     meandiff  lower   upper  reject\n",
      "---------------------------------------------------------------\n",
      "   p_divorced     p_liv_partn   -0.0157  -0.0581  0.0268 False \n",
      "   p_divorced      p_married    -0.0233  -0.0556  0.0089 False \n",
      "   p_divorced   p_never_married -0.3142  -0.3454 -0.2829  True \n",
      "   p_divorced     p_separated    0.0181  -0.0416  0.0777 False \n",
      "   p_divorced      p_widowed    -0.0206  -0.0668  0.0256 False \n",
      "  p_liv_partn      p_married    -0.0077  -0.0411  0.0257 False \n",
      "  p_liv_partn   p_never_married -0.2985  -0.3309 -0.2661  True \n",
      "  p_liv_partn     p_separated    0.0337  -0.0266  0.094  False \n",
      "  p_liv_partn      p_widowed    -0.0049  -0.0519  0.0421 False \n",
      "   p_married    p_never_married -0.2908  -0.3079 -0.2738  True \n",
      "   p_married      p_separated    0.0414  -0.0122  0.0951 False \n",
      "   p_married       p_widowed     0.0028  -0.0353  0.0409 False \n",
      "p_never_married   p_separated    0.3322   0.2792  0.3853  True \n",
      "p_never_married    p_widowed     0.2936   0.2564  0.3308  True \n",
      "  p_separated      p_widowed    -0.0387  -0.1017  0.0244 False \n",
      "---------------------------------------------------------------\n",
      "\n",
      "\n",
      "P_PRE \n",
      "\n",
      "  Multiple Comparison of Means - Tukey HSD,FWER=0.05 \n",
      "=====================================================\n",
      "  group1      group2   meandiff  lower  upper  reject\n",
      "-----------------------------------------------------\n",
      "p_not_preg    p_preg    0.1829   0.1047 0.261   True \n",
      "p_not_preg p_preg_dont  0.201    0.1837 0.2183  True \n",
      "  p_preg   p_preg_dont  0.0181  -0.0611 0.0974 False \n",
      "-----------------------------------------------------\n",
      "\n",
      "\n",
      "P_ILANG \n",
      "\n",
      "    Multiple Comparison of Means - Tukey HSD,FWER=0.05    \n",
      "==========================================================\n",
      "    group1         group2     meandiff lower upper  reject\n",
      "----------------------------------------------------------\n",
      "p_eng_lang_int p_spa_lang_int  0.0372   0.02 0.0545  True \n",
      "----------------------------------------------------------\n",
      "\n",
      "\n",
      "P_IPROX \n",
      "\n",
      "     Multiple Comparison of Means - Tukey HSD,FWER=0.05     \n",
      "============================================================\n",
      "    group1        group2     meandiff  lower   upper  reject\n",
      "------------------------------------------------------------\n",
      "p_prox_res_no p_prox_res_yes -0.3945  -0.4044 -0.3846  True \n",
      "------------------------------------------------------------\n",
      "\n",
      "\n",
      "P_INTRP \n",
      "\n",
      "  Multiple Comparison of Means - Tukey HSD,FWER=0.05  \n",
      "======================================================\n",
      "  group1      group2   meandiff  lower   upper  reject\n",
      "------------------------------------------------------\n",
      "p_intrp_no p_intrp_yes -0.0498  -0.0782 -0.0213  True \n",
      "------------------------------------------------------\n",
      "\n",
      "\n",
      "MEC_LANG \n",
      "\n",
      "   Multiple Comparison of Means - Tukey HSD,FWER=0.05  \n",
      "=======================================================\n",
      "   group1       group2    meandiff lower  upper  reject\n",
      "-------------------------------------------------------\n",
      "mec_lang_eng mec_lang_spa  0.1629  0.1403 0.1854  True \n",
      "-------------------------------------------------------\n",
      "\n",
      "\n",
      "MEC_PROX \n",
      "\n",
      "   Multiple Comparison of Means - Tukey HSD,FWER=0.05  \n",
      "=======================================================\n",
      "   group1      group2    meandiff  lower  upper  reject\n",
      "-------------------------------------------------------\n",
      "mec_prox_no mec_prox_yes  0.0419  -0.0379 0.1218 False \n",
      "-------------------------------------------------------\n",
      "\n",
      "\n",
      "MEC_INTRP \n",
      "\n",
      "   Multiple Comparison of Means - Tukey HSD,FWER=0.05   \n",
      "========================================================\n",
      "   group1        group2    meandiff lower  upper  reject\n",
      "--------------------------------------------------------\n",
      "mec_intrp_no mec_intrp_yes  0.0527  0.0236 0.0817  True \n",
      "--------------------------------------------------------\n",
      "\n",
      "\n",
      "ACA_LANG \n",
      "\n",
      "      Multiple Comparison of Means - Tukey HSD,FWER=0.05      \n",
      "==============================================================\n",
      "     group1          group2     meandiff  lower  upper  reject\n",
      "--------------------------------------------------------------\n",
      "aca_lan_int_asi aca_lan_int_eng  0.0107  -0.0339 0.0552 False \n",
      "aca_lan_int_asi aca_lan_int_spa  0.1729   0.1233 0.2226  True \n",
      "aca_lan_int_eng aca_lan_int_spa  0.1623   0.1378 0.1867  True \n",
      "--------------------------------------------------------------\n",
      "\n",
      "\n"
     ]
    }
   ],
   "source": [
    "\n",
    "for each in df.columns.values:\n",
    "    print('\\n')\n",
    "    if each not in ['bmi','p_yr','p_edu']:\n",
    "        print(str.upper(each),'\\n')\n",
    "        res2 = pairwise_tukeyhsd(df['bmi'],df[each])\n",
    "        print (res2)\n",
    "\n",
    "        #mod = MultiComparison(df['bmi'],df[each])\n",
    "        #print (mod.tukeyhsd())"
   ]
  },
  {
   "cell_type": "markdown",
   "metadata": {},
   "source": [
    "<a id ='section5'></a>"
   ]
  },
  {
   "cell_type": "code",
   "execution_count": 10,
   "metadata": {},
   "outputs": [
    {
     "data": {
      "image/png": "[encoded data removed]",
      "text/plain": [
       "<Figure size 864x864 with 1 Axes>"
      ]
     },
     "metadata": {
      "needs_background": "light"
     },
     "output_type": "display_data"
    }
   ],
   "source": [
    "# the above test was N way test with all the variables passed on to OLS model and Anova for comparison \n",
    "# One way test can be done for each variable, how significant is the model\n",
    "\n",
    "#quick estimation of influence of categorical variable on BMI.For each variable BMI are \n",
    "#partitioned to distinct sets based on category values. Then check with ANOVA test if sets have similar distributions.\n",
    "#If variable has minor impact then set means should be equal. \n",
    "#Decreasing pval is sign of increasing diversity in partitions.\n",
    "#function and do a one way anova for each column\n",
    "def anova(frame):\n",
    "    anv=pd.DataFrame()\n",
    "    anv['feature']=obcol\n",
    "    pvals=[]\n",
    "    for c in obcol:\n",
    "        samples=[]\n",
    "        for cls in frame[c].unique():\n",
    "            s=frame[frame[c]==cls]['bmi'].values\n",
    "            samples.append(s)\n",
    "        pval=stats.f_oneway(*samples)[1]\n",
    "        pvals.append(pval)  \n",
    "    anv['pval']=pvals\n",
    "    \n",
    "    return anv.sort_values('pval')\n",
    "\n",
    "#below are the categorical columns used\n",
    "obcol=['p_gen', 'p_race', 'p_milt', 'p_born', 'p_citz',\n",
    "       'p_marl', 'p_pre', 'p_ilang', 'p_iprox', 'p_intrp', 'mec_lang',\n",
    "       'mec_prox', 'mec_intrp', 'aca_lang']\n",
    "\n",
    "a=anova(df)\n",
    "fig,ax =plt.subplots(1,figsize=(12,12))\n",
    "a['disparity']=np.log(1./a['pval'].values)\n",
    "sns.barplot(data=a,x='feature',y='disparity')\n",
    "x=plt.xticks(rotation=90)"
   ]
  },
  {
   "cell_type": "code",
   "execution_count": 11,
   "metadata": {},
   "outputs": [],
   "source": [
    "#The above model was using OLS and anova analysis\n",
    "#let's use Linear regression and variants to see if we can do some polynomial features and there interactions"
   ]
  },
  {
   "cell_type": "code",
   "execution_count": 12,
   "metadata": {},
   "outputs": [],
   "source": [
    "#encoding the data using one of three methods \n",
    "\n",
    "'''\n",
    "1. One hot encoding \n",
    "Since there are many columns with more number of dimensions, the problem might face curse of dimensionality\n",
    "\n",
    "3. Hashing \n",
    "works well if there are many distinct categories. There might be collisions if there are some overlapping columns. But the \n",
    "curse of dimensionality is solved.Like OneHot but fewer dimensions, some info loss due to collisions. Nominal, ordinal.\n",
    "\n",
    "4. Backward difference encoding\n",
    "the mean of the dependent variable for a level is compared with the mean of the dependent variable for the prior level. \n",
    "'''\n",
    "\n",
    "def onehotencoded(df):\n",
    "    return pd.get_dummies(df)\n",
    "\n",
    "def binaryencoded(df):\n",
    "    #create a binary encoded object\n",
    "    be=ce.BinaryEncoder(df.columns.values)\n",
    "    #fit and transform the data\n",
    "    return be.fit_transform(df)\n",
    "    \n",
    "def hashingencoded(df):\n",
    "    #create a hashing encoder object\n",
    "    he=ce.HashingEncoder(df.columns.values)\n",
    "    #fit and transofrm on the data\n",
    "    return he.fit_transform(df)\n",
    "\n",
    "def backwarddifferenceencoded(df):\n",
    "    #create a backward deference encoding\n",
    "    bd=ce.BackwardDifferenceEncoder(df.columns.values)\n",
    "    return bd.fit_transform(df)"
   ]
  },
  {
   "cell_type": "code",
   "execution_count": 13,
   "metadata": {},
   "outputs": [],
   "source": [
    "#Let's split the model into categorical features and non categorical features\n",
    "nom_data_df =df.select_dtypes(include=['object']).copy()\n",
    "ordinal_data_df=df.select_dtypes(include=['int64','float64']).copy()\n",
    "pred_df=df[['bmi']]\n",
    "#remove the target varibale from the ordinal and continuous data frames \n",
    "ordinal_data_df=ordinal_data_df.drop(columns=['bmi'])"
   ]
  },
  {
   "cell_type": "markdown",
   "metadata": {},
   "source": [
    "<a id ='section6'></a>"
   ]
  },
  {
   "cell_type": "code",
   "execution_count": 14,
   "metadata": {},
   "outputs": [],
   "source": [
    "# now let's create three data sets \n",
    "#one feach for onehotencoded,hashingcncoded and backwrd difference_encoded\n",
    "\n",
    "df_onehot=pd.concat([ordinal_data_df,onehotencoded(nom_data_df)],axis=1)\n",
    "df_hash=pd.concat([ordinal_data_df,hashingencoded(nom_data_df)],axis=1)\n",
    "df_bd=pd.concat([ordinal_data_df,backwarddifferenceencoded(nom_data_df)],axis=1)\n",
    "df_bd.drop(columns=['intercept'],inplace=True)"
   ]
  },
  {
   "cell_type": "code",
   "execution_count": 15,
   "metadata": {},
   "outputs": [],
   "source": [
    "def poly_features_interaction(df_bd):\n",
    "    poly = PolynomialFeatures(interaction_only=True,include_bias = False)\n",
    "    train=poly.fit_transform(df_bd)\n",
    "    column_names_interac=poly.get_feature_names(df_bd.columns)\n",
    "    return pd.DataFrame(train,columns=column_names_interac)"
   ]
  },
  {
   "cell_type": "code",
   "execution_count": 16,
   "metadata": {},
   "outputs": [],
   "source": [
    "def poly_features_degree(df_bd,top_ten_columns,degree):\n",
    "    temp_df=df_bd[top_ten_columns]**degree\n",
    "    temp_df.columns=[each+' ^'+str(degree) for each in top_ten_columns]\n",
    "    temp_df.reset_index(drop=True, inplace=True)\n",
    "    return pd.concat([df_bd,temp_df],axis=1)"
   ]
  },
  {
   "cell_type": "code",
   "execution_count": 17,
   "metadata": {},
   "outputs": [
    {
     "name": "stdout",
     "output_type": "stream",
     "text": [
      "Find most important features relative to target\n",
      "bmi                      1.000000\n",
      "p_iprox_0 mec_prox_0     0.639846\n",
      "p_pre_1 p_iprox_0        0.614412\n",
      "p_iprox_0 aca_lang_1     0.605120\n",
      "p_iprox_0 mec_intrp_0    0.599853\n",
      "p_iprox_0 p_intrp_0      0.598661\n",
      "p_edu                    0.585525\n",
      "p_iprox_0 aca_lang_0     0.560141\n",
      "p_yr                     0.553143\n",
      "p_milt_0 p_iprox_0       0.552254\n",
      "p_iprox_0 mec_lang_0     0.528787\n",
      "p_yr p_edu               0.519441\n",
      "p_citz_0 p_iprox_0       0.509964\n",
      "p_marl_3 p_pre_0         0.487932\n",
      "p_marl_3 aca_lang_1      0.476429\n",
      "p_marl_3 mec_prox_0      0.471960\n",
      "p_marl_3 p_pre_1         0.469508\n",
      "p_marl_3 aca_lang_0      0.468893\n",
      "p_marl_3 mec_intrp_0     0.465688\n",
      "p_pre_0 p_iprox_0        0.465264\n",
      "Name: bmi, dtype: float64\n"
     ]
    }
   ],
   "source": [
    "#let's use backward deference first\n",
    "#now let's do polynomial feature to get the interaction between the columns\n",
    "newdf_bd=poly_features_interaction(df_bd)\n",
    "#let's add bmi and get get top columns which are correlated to the BMI\n",
    "newdf_bd['bmi']=df['bmi']\n",
    "\n",
    "# Find most important features relative to target\n",
    "print(\"Find most important features relative to target\")\n",
    "\n",
    "# check for correlation\n",
    "corr = newdf_bd.corr()\n",
    "corr.sort_values(['bmi'], ascending = False, inplace = True)\n",
    "\n",
    "#select top 10 columns and do a poly feature mapping of degree 2 and 3\n",
    "print(corr['bmi'][:20])\n",
    "top_ten_columns=list(corr['bmi'].index[1:11])\n",
    "newdf_bd=poly_features_degree(newdf_bd,top_ten_columns,2)\n",
    "newdf_bd=poly_features_degree(newdf_bd,top_ten_columns,3)\n",
    "\n",
    "\n",
    "\n",
    "# Differentiate numerical features (minus the target) and categorical features\n",
    "y=newdf_bd['bmi']\n",
    "newdf_bd.drop(columns='bmi',inplace=True)\n",
    "\n"
   ]
  },
  {
   "cell_type": "code",
   "execution_count": 18,
   "metadata": {},
   "outputs": [
    {
     "name": "stdout",
     "output_type": "stream",
     "text": [
      "X_train : (6129, 371)\n",
      "X_test : (2627, 371)\n",
      "y_train : (6129,)\n",
      "y_test : (2627,)\n"
     ]
    }
   ],
   "source": [
    "\n",
    "# Partition the dataset in train + validation sets\n",
    "X_train, X_test, y_train, y_test = train_test_split(newdf_bd, y, test_size = 0.3, random_state = 0)\n",
    "print(\"X_train : \" + str(X_train.shape))\n",
    "print(\"X_test : \" + str(X_test.shape))\n",
    "print(\"y_train : \" + str(y_train.shape))\n",
    "print(\"y_test : \" + str(y_test.shape))"
   ]
  },
  {
   "cell_type": "code",
   "execution_count": 19,
   "metadata": {},
   "outputs": [],
   "source": [
    "# Standardize numerical features\n",
    "stdSc = StandardScaler()\n",
    "X_train = stdSc.fit_transform(X_train)\n",
    "X_test = stdSc.transform(X_test)"
   ]
  },
  {
   "cell_type": "code",
   "execution_count": 20,
   "metadata": {},
   "outputs": [],
   "source": [
    "# error measure for scoring: RMSE\n",
    "scorer = make_scorer(mean_squared_error, greater_is_better = False)\n",
    "def rmse_cv_train(model):\n",
    "    rmse= np.sqrt(-cross_val_score(model, X_train, y_train, scoring = scorer, cv = 10))\n",
    "    return(rmse)\n",
    "\n",
    "def rmse_cv_test(model):\n",
    "    rmse= np.sqrt(-cross_val_score(model, X_test, y_test, scoring = scorer, cv = 10))\n",
    "    return(rmse)"
   ]
  },
  {
   "cell_type": "markdown",
   "metadata": {},
   "source": [
    "<a id ='section7'></a>"
   ]
  },
  {
   "cell_type": "code",
   "execution_count": 21,
   "metadata": {},
   "outputs": [
    {
     "name": "stdout",
     "output_type": "stream",
     "text": [
      "RMSE on Training set : 491034488.5242108\n",
      "RMSE on Test set : 29535330530.428703\n"
     ]
    },
    {
     "data": {
      "image/png": "[encoded data removed]",
      "text/plain": [
       "<Figure size 432x288 with 1 Axes>"
      ]
     },
     "metadata": {
      "needs_background": "light"
     },
     "output_type": "display_data"
    },
    {
     "data": {
      "image/png": "[encoded data removed]",
      "text/plain": [
       "<Figure size 432x288 with 1 Axes>"
      ]
     },
     "metadata": {
      "needs_background": "light"
     },
     "output_type": "display_data"
    }
   ],
   "source": [
    "# Linear Regression\n",
    "lr = LinearRegression()\n",
    "lr.fit(X_train, y_train)\n",
    "\n",
    "# Look at predictions on training and validation set\n",
    "print(\"RMSE on Training set :\", rmse_cv_train(lr).mean())\n",
    "print(\"RMSE on Test set :\", rmse_cv_test(lr).mean())\n",
    "y_train_pred = lr.predict(X_train)\n",
    "y_test_pred = lr.predict(X_test)\n",
    "\n",
    "# Plot residuals\n",
    "plt.scatter(y_train_pred, y_train_pred - y_train, c = \"blue\", marker = \"s\", label = \"Training data\")\n",
    "plt.scatter(y_test_pred, y_test_pred - y_test, c = \"lightgreen\", marker = \"s\", label = \"Validation data\")\n",
    "plt.title(\"Linear regression\")\n",
    "plt.xlabel(\"Predicted values\")\n",
    "plt.ylabel(\"Residuals\")\n",
    "plt.legend(loc = \"upper left\")\n",
    "plt.hlines(y = 0, xmin = 3, xmax = 4, color = \"red\")\n",
    "plt.show()\n",
    "\n",
    "# Plot predictions\n",
    "plt.scatter(y_train_pred, y_train, c = \"blue\", marker = \"s\", label = \"Training data\")\n",
    "plt.scatter(y_test_pred, y_test, c = \"lightgreen\", marker = \"s\", label = \"Validation data\")\n",
    "plt.title(\"Linear regression\")\n",
    "plt.xlabel(\"Predicted values\")\n",
    "plt.ylabel(\"Real values\")\n",
    "plt.legend(loc = \"upper left\")\n",
    "plt.plot([2.5, 4], [2.5, 4], c = \"red\")\n",
    "plt.show()\n",
    "\n",
    "# model has such high training error"
   ]
  },
  {
   "cell_type": "markdown",
   "metadata": {},
   "source": [
    "<a id ='section8'></a>"
   ]
  },
  {
   "cell_type": "code",
   "execution_count": 22,
   "metadata": {},
   "outputs": [
    {
     "name": "stdout",
     "output_type": "stream",
     "text": [
      "Best alpha : 60.0\n",
      "Try again for more precision with alphas centered around 60.0\n",
      "Best alpha : 84.0\n",
      "Ridge RMSE on Training set : 0.1984372601068616\n",
      "Ridge RMSE on Test set : 0.19877115985710758\n"
     ]
    },
    {
     "data": {
      "image/png": "[encoded data removed]",
      "text/plain": [
       "<Figure size 432x288 with 1 Axes>"
      ]
     },
     "metadata": {
      "needs_background": "light"
     },
     "output_type": "display_data"
    },
    {
     "data": {
      "image/png": "[encoded data removed]",
      "text/plain": [
       "<Figure size 432x288 with 1 Axes>"
      ]
     },
     "metadata": {
      "needs_background": "light"
     },
     "output_type": "display_data"
    },
    {
     "name": "stdout",
     "output_type": "stream",
     "text": [
      "Ridge picked 366 features and eliminated the other 5 features\n"
     ]
    },
    {
     "data": {
      "image/png": "[encoded data removed]",
      "text/plain": [
       "<Figure size 432x288 with 1 Axes>"
      ]
     },
     "metadata": {
      "needs_background": "light"
     },
     "output_type": "display_data"
    }
   ],
   "source": [
    "# Ridge\n",
    "ridge = RidgeCV(alphas = [0.01, 0.03, 0.06, 0.1, 0.3, 0.6, 1, 3, 6, 10, 30, 60])\n",
    "ridge.fit(X_train, y_train)\n",
    "alpha = ridge.alpha_\n",
    "print(\"Best alpha :\", alpha)\n",
    "\n",
    "print(\"Try again for more precision with alphas centered around \" + str(alpha))\n",
    "ridge = RidgeCV(alphas = [alpha * .6, alpha * .65, alpha * .7, alpha * .75, alpha * .8, alpha * .85, \n",
    "                          alpha * .9, alpha * .95, alpha, alpha * 1.05, alpha * 1.1, alpha * 1.15,\n",
    "                          alpha * 1.25, alpha * 1.3, alpha * 1.35, alpha * 1.4], \n",
    "                cv = 10)\n",
    "ridge.fit(X_train, y_train)\n",
    "alpha = ridge.alpha_\n",
    "print(\"Best alpha :\", alpha)\n",
    "\n",
    "print(\"Ridge RMSE on Training set :\", rmse_cv_train(ridge).mean())\n",
    "print(\"Ridge RMSE on Test set :\", rmse_cv_test(ridge).mean())\n",
    "y_train_rdg = ridge.predict(X_train)\n",
    "y_test_rdg = ridge.predict(X_test)\n",
    "\n",
    "\n",
    "\n",
    "# Plot residuals\n",
    "plt.scatter(y_train_rdg, y_train_rdg - y_train, c = \"blue\", marker = \"s\", label = \"Training data\")\n",
    "plt.scatter(y_test_rdg, y_test_rdg - y_test, c = \"lightgreen\", marker = \"s\", label = \"Validation data\")\n",
    "plt.title(\"Linear regression with Ridge regularization\")\n",
    "plt.xlabel(\"Predicted values\")\n",
    "plt.ylabel(\"Residuals\")\n",
    "plt.legend(loc = \"upper left\")\n",
    "plt.hlines(y = 0, xmin = 3, xmax = 4, color = \"red\")\n",
    "plt.show()\n",
    "\n",
    "# Plot predictions\n",
    "plt.scatter(y_train_rdg, y_train, c = \"blue\", marker = \"s\", label = \"Training data\")\n",
    "plt.scatter(y_test_rdg, y_test, c = \"lightgreen\", marker = \"s\", label = \"Validation data\")\n",
    "plt.title(\"Linear regression with Ridge regularization\")\n",
    "plt.xlabel(\"Predicted values\")\n",
    "plt.ylabel(\"Real values\")\n",
    "plt.legend(loc = \"upper left\")\n",
    "plt.plot([2.5, 4], [2.5, 4], c = \"red\")\n",
    "plt.show()\n",
    "\n",
    "# Plot important coefficients\n",
    "\n",
    "\n",
    "\n",
    "coefs = pd.Series(ridge.coef_, index = newdf_bd.columns)\n",
    "print(\"Ridge picked \" + str(sum(coefs != 0)) + \" features and eliminated the other \" +  \\\n",
    "      str(sum(coefs == 0)) + \" features\")\n",
    "imp_coefs = pd.concat([coefs.sort_values().head(10),\n",
    "                     coefs.sort_values().tail(10)])\n",
    "imp_coefs.plot(kind = \"barh\")\n",
    "plt.title(\"Coefficients in the Ridge Model\")\n",
    "plt.show()\n",
    "\n"
   ]
  },
  {
   "cell_type": "markdown",
   "metadata": {},
   "source": [
    "<a id ='section9'></a>"
   ]
  },
  {
   "cell_type": "code",
   "execution_count": 23,
   "metadata": {},
   "outputs": [
    {
     "name": "stdout",
     "output_type": "stream",
     "text": [
      "Best alpha : 0.001\n",
      "Try again for more precision with alphas centered around 0.001\n",
      "Best alpha : 0.0011\n",
      "Lasso RMSE on Training set : 0.19717186851590218\n",
      "Lasso RMSE on Test set : 0.19675961241545953\n"
     ]
    },
    {
     "data": {
      "image/png": "[encoded data removed]",
      "text/plain": [
       "<Figure size 432x288 with 1 Axes>"
      ]
     },
     "metadata": {
      "needs_background": "light"
     },
     "output_type": "display_data"
    },
    {
     "data": {
      "image/png": "[encoded data removed]",
      "text/plain": [
       "<Figure size 432x288 with 1 Axes>"
      ]
     },
     "metadata": {
      "needs_background": "light"
     },
     "output_type": "display_data"
    },
    {
     "name": "stdout",
     "output_type": "stream",
     "text": [
      "Lasso picked 91 features and eliminated the other 280 features\n"
     ]
    },
    {
     "data": {
      "image/png": "[encoded data removed]",
      "text/plain": [
       "<Figure size 432x288 with 1 Axes>"
      ]
     },
     "metadata": {
      "needs_background": "light"
     },
     "output_type": "display_data"
    }
   ],
   "source": [
    "#let's use lasso\n",
    "\n",
    "lasso = LassoCV(alphas = [0.0001, 0.0003, 0.0006, 0.001, 0.003, 0.006, 0.01, 0.03, 0.06, 0.1, \n",
    "                          0.3, 0.6, 1], \n",
    "                max_iter = 50000, cv = 10)\n",
    "lasso.fit(X_train, y_train)\n",
    "alpha = lasso.alpha_\n",
    "print(\"Best alpha :\", alpha)\n",
    "\n",
    "print(\"Try again for more precision with alphas centered around \" + str(alpha))\n",
    "lasso = LassoCV(alphas = [alpha * .6, alpha * .65, alpha * .7, alpha * .75, alpha * .8, \n",
    "                          alpha * .85, alpha * .9, alpha * .95, alpha, alpha * 1.05, \n",
    "                          alpha * 1.1, alpha * 1.15, alpha * 1.25, alpha * 1.3, alpha * 1.35, \n",
    "                          alpha * 1.4], \n",
    "                max_iter = 50000, cv = 10)\n",
    "lasso.fit(X_train, y_train)\n",
    "alpha = lasso.alpha_\n",
    "print(\"Best alpha :\", alpha)\n",
    "\n",
    "print(\"Lasso RMSE on Training set :\", rmse_cv_train(lasso).mean())\n",
    "print(\"Lasso RMSE on Test set :\", rmse_cv_test(lasso).mean())\n",
    "y_train_las = lasso.predict(X_train)\n",
    "y_test_las = lasso.predict(X_test)\n",
    "\n",
    "\n",
    "# Plot residuals\n",
    "plt.scatter(y_train_las, y_train_las - y_train, c = \"blue\", marker = \"s\", label = \"Training data\")\n",
    "plt.scatter(y_test_las, y_test_las - y_test, c = \"lightgreen\", marker = \"s\", label = \"Validation data\")\n",
    "plt.title(\"Linear regression with Lasso regularization\")\n",
    "plt.xlabel(\"Predicted values\")\n",
    "plt.ylabel(\"Residuals\")\n",
    "plt.legend(loc = \"upper left\")\n",
    "plt.hlines(y = 0, xmin = 3, xmax = 4, color = \"red\")\n",
    "plt.show()\n",
    "\n",
    "# Plot predictions\n",
    "plt.scatter(y_train_las, y_train, c = \"blue\", marker = \"s\", label = \"Training data\")\n",
    "plt.scatter(y_test_las, y_test, c = \"lightgreen\", marker = \"s\", label = \"Validation data\")\n",
    "plt.title(\"Linear regression with Lasso regularization\")\n",
    "plt.xlabel(\"Predicted values\")\n",
    "plt.ylabel(\"Real values\")\n",
    "plt.legend(loc = \"upper left\")\n",
    "plt.plot([2.5, 4], [2.5, 4], c = \"red\")\n",
    "plt.show()\n",
    "\n",
    "# Plot important coefficients\n",
    "coefs = pd.Series(lasso.coef_, index = newdf_bd.columns)\n",
    "print(\"Lasso picked \" + str(sum(coefs != 0)) + \" features and eliminated the other \" +  \\\n",
    "      str(sum(coefs == 0)) + \" features\")\n",
    "imp_coefs = pd.concat([coefs.sort_values().head(10),\n",
    "                     coefs.sort_values().tail(10)])\n",
    "imp_coefs.plot(kind = \"barh\")\n",
    "plt.title(\"Coefficients in the Lasso Model\")\n",
    "plt.show()"
   ]
  },
  {
   "cell_type": "markdown",
   "metadata": {},
   "source": [
    "<a id ='section10'></a>"
   ]
  },
  {
   "cell_type": "code",
   "execution_count": 24,
   "metadata": {},
   "outputs": [
    {
     "name": "stdout",
     "output_type": "stream",
     "text": [
      "Best l1_ratio : 1.0\n",
      "Best alpha : 0.001\n",
      "Try again for more precision with l1_ratio centered around 1.0\n",
      "Best l1_ratio : 1\n",
      "Best alpha : 0.001\n",
      "Now try again for more precision on alpha, with l1_ratio fixed at 1 and alpha centered around 0.001\n",
      "Best l1_ratio : 1\n",
      "Best alpha : 0.0011\n",
      "ElasticNet RMSE on Training set : 0.19717186851590218\n",
      "ElasticNet RMSE on Test set : 0.19675961241545953\n"
     ]
    },
    {
     "data": {
      "image/png": "[encoded data removed]",
      "text/plain": [
       "<Figure size 432x288 with 1 Axes>"
      ]
     },
     "metadata": {
      "needs_background": "light"
     },
     "output_type": "display_data"
    },
    {
     "data": {
      "image/png": "[encoded data removed]",
      "text/plain": [
       "<Figure size 432x288 with 1 Axes>"
      ]
     },
     "metadata": {
      "needs_background": "light"
     },
     "output_type": "display_data"
    },
    {
     "name": "stdout",
     "output_type": "stream",
     "text": [
      "ElasticNet picked 91 features and eliminated the other 280 features\n"
     ]
    },
    {
     "data": {
      "image/png": "[encoded data removed]",
      "text/plain": [
       "<Figure size 432x288 with 1 Axes>"
      ]
     },
     "metadata": {
      "needs_background": "light"
     },
     "output_type": "display_data"
    }
   ],
   "source": [
    "# let's use elasticnet with Cross validation\n",
    "\n",
    "elasticNet = ElasticNetCV(l1_ratio = [0.1, 0.3, 0.5, 0.6, 0.7, 0.8, 0.85, 0.9, 0.95, 1],\n",
    "                          alphas = [0.0001, 0.0003, 0.0006, 0.001, 0.003, 0.006, \n",
    "                                    0.01, 0.03, 0.06, 0.1, 0.3, 0.6, 1, 3, 6], \n",
    "                          max_iter = 50000, cv = 10)\n",
    "elasticNet.fit(X_train, y_train)\n",
    "alpha = elasticNet.alpha_\n",
    "ratio = elasticNet.l1_ratio_\n",
    "print(\"Best l1_ratio :\", ratio)\n",
    "print(\"Best alpha :\", alpha )\n",
    "\n",
    "print(\"Try again for more precision with l1_ratio centered around \" + str(ratio))\n",
    "elasticNet = ElasticNetCV(l1_ratio = [ratio * .85, ratio * .9, ratio * .95, ratio, ratio * 1.05, ratio * 1.1, ratio * 1.15],\n",
    "                          alphas = [0.0001, 0.0003, 0.0006, 0.001, 0.003, 0.006, 0.01, 0.03, 0.06, 0.1, 0.3, 0.6, 1, 3, 6], \n",
    "                          max_iter = 50000, cv = 10)\n",
    "elasticNet.fit(X_train, y_train)\n",
    "if (elasticNet.l1_ratio_ > 1):\n",
    "    elasticNet.l1_ratio_ = 1    \n",
    "alpha = elasticNet.alpha_\n",
    "ratio = elasticNet.l1_ratio_\n",
    "print(\"Best l1_ratio :\", ratio)\n",
    "print(\"Best alpha :\", alpha )\n",
    "\n",
    "print(\"Now try again for more precision on alpha, with l1_ratio fixed at \" + str(ratio) + \n",
    "      \" and alpha centered around \" + str(alpha))\n",
    "elasticNet = ElasticNetCV(l1_ratio = ratio,\n",
    "                          alphas = [alpha * .6, alpha * .65, alpha * .7, alpha * .75, alpha * .8, alpha * .85, alpha * .9, \n",
    "                                    alpha * .95, alpha, alpha * 1.05, alpha * 1.1, alpha * 1.15, alpha * 1.25, alpha * 1.3, \n",
    "                                    alpha * 1.35, alpha * 1.4], \n",
    "                          max_iter = 50000, cv = 10)\n",
    "\n",
    "elasticNet.fit(X_train, y_train)\n",
    "if (elasticNet.l1_ratio_ > 1):\n",
    "    elasticNet.l1_ratio_ = 1    \n",
    "alpha = elasticNet.alpha_\n",
    "ratio = elasticNet.l1_ratio_\n",
    "print(\"Best l1_ratio :\", ratio)\n",
    "print(\"Best alpha :\", alpha )\n",
    "\n",
    "print(\"ElasticNet RMSE on Training set :\", rmse_cv_train(elasticNet).mean())\n",
    "print(\"ElasticNet RMSE on Test set :\", rmse_cv_test(elasticNet).mean())\n",
    "y_train_ela = elasticNet.predict(X_train)\n",
    "y_test_ela = elasticNet.predict(X_test)\n",
    "\n",
    "\n",
    "# Plot residuals\n",
    "plt.scatter(y_train_ela, y_train_ela - y_train, c = \"blue\", marker = \"s\", label = \"Training data\")\n",
    "plt.scatter(y_test_ela, y_test_ela - y_test, c = \"lightgreen\", marker = \"s\", label = \"Validation data\")\n",
    "plt.title(\"Linear regression with ElasticNet regularization\")\n",
    "plt.xlabel(\"Predicted values\")\n",
    "plt.ylabel(\"Residuals\")\n",
    "plt.legend(loc = \"upper left\")\n",
    "plt.hlines(y = 0, xmin = 3, xmax = 4, color = \"red\")\n",
    "plt.show()\n",
    "\n",
    "# Plot predictions\n",
    "plt.scatter(y_train, y_train_ela, c = \"blue\", marker = \"s\", label = \"Training data\")\n",
    "plt.scatter(y_test, y_test_ela, c = \"lightgreen\", marker = \"s\", label = \"Validation data\")\n",
    "plt.title(\"Linear regression with ElasticNet regularization\")\n",
    "plt.xlabel(\"Predicted values\")\n",
    "plt.ylabel(\"Real values\")\n",
    "plt.legend(loc = \"upper left\")\n",
    "plt.plot([2.5, 4], [2.5, 4], c = \"red\")\n",
    "plt.show()\n",
    "\n",
    "# Plot important coefficients\n",
    "coefs = pd.Series(elasticNet.coef_, index = newdf_bd.columns)\n",
    "print(\"ElasticNet picked \" + str(sum(coefs != 0)) + \" features and eliminated the other \" +  str(sum(coefs == 0)) + \" features\")\n",
    "imp_coefs = pd.concat([coefs.sort_values().head(10),\n",
    "                     coefs.sort_values().tail(10)])\n",
    "imp_coefs.plot(kind = \"barh\")\n",
    "plt.title(\"Coefficients in the ElasticNet Model\")\n",
    "plt.show()"
   ]
  },
  {
   "cell_type": "code",
   "execution_count": null,
   "metadata": {},
   "outputs": [],
   "source": []
  },
  {
   "cell_type": "code",
   "execution_count": null,
   "metadata": {},
   "outputs": [],
   "source": []
  },
  {
   "cell_type": "code",
   "execution_count": null,
   "metadata": {},
   "outputs": [],
   "source": []
  },
  {
   "cell_type": "code",
   "execution_count": null,
   "metadata": {},
   "outputs": [],
   "source": []
  },
  {
   "cell_type": "code",
   "execution_count": null,
   "metadata": {},
   "outputs": [],
   "source": []
  },
  {
   "cell_type": "code",
   "execution_count": null,
   "metadata": {},
   "outputs": [],
   "source": []
  },
  {
   "cell_type": "code",
   "execution_count": null,
   "metadata": {},
   "outputs": [],
   "source": []
  },
  {
   "cell_type": "code",
   "execution_count": null,
   "metadata": {},
   "outputs": [],
   "source": []
  }
 ],
 "metadata": {
  "kernelspec": {
   "display_name": "Python 3",
   "language": "python",
   "name": "python3"
  },
  "language_info": {
   "codemirror_mode": {
    "name": "ipython",
    "version": 3
   },
   "file_extension": ".py",
   "mimetype": "text/x-python",
   "name": "python",
   "nbconvert_exporter": "python",
   "pygments_lexer": "ipython3",
   "version": "3.7.0"
  }
 },
 "nbformat": 4,
 "nbformat_minor": 2
}
