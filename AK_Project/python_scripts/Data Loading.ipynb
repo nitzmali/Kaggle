{
 "cells": [
  {
   "cell_type": "code",
   "execution_count": 1,
   "metadata": {},
   "outputs": [],
   "source": [
    "import pandas as pd\n",
    "import pyodbc \n",
    "import sqlalchemy as sq\n",
    "import datetime\n",
    "pd.set_option('display.max_columns', None)\n",
    "import os\n",
    "import time\n",
    "import datetime\n",
    "from zipfile import ZipFile"
   ]
  },
  {
   "cell_type": "code",
   "execution_count": 2,
   "metadata": {},
   "outputs": [],
   "source": [
    "from AllFunctions.sendemail import sendemailwithattachment\n",
    "from AllFunctions.scanemail import main\n",
    "from AllFunctions.runstoreproc import runstoreprocedure\n",
    "from AllFunctions.runsql import runcommand\n",
    "import random"
   ]
  },
  {
   "cell_type": "code",
   "execution_count": 3,
   "metadata": {},
   "outputs": [],
   "source": [
    "def runstoreprocedure(con,sp):\n",
    "    cursor=con.cursor()\n",
    "    cursor.execute(sp)\n",
    "    cursor.commit()\n",
    "    cursor.close()\n",
    "    con.close()"
   ]
  },
  {
   "cell_type": "code",
   "execution_count": 4,
   "metadata": {},
   "outputs": [],
   "source": [
    "def exportsqldata(command,DB,serv):\n",
    "    con=pyodbc.connect('Trusted_Connection=yes',driver ='{SQL Server}',server=serv, database =DB)\n",
    "    cursor=con.cursor()\n",
    "    cursor.execute(command)\n",
    "    l=[]\n",
    "    while 1:\n",
    "        head =cursor.fetchone()\n",
    "        if not head:\n",
    "            break\n",
    "        [l.append(s) for s in head]\n",
    "    return l"
   ]
  },
  {
   "cell_type": "code",
   "execution_count": 5,
   "metadata": {},
   "outputs": [],
   "source": [
    "def exportdata(con,command):\n",
    "    data=pd.read_sql(command,con)\n",
    "    return data"
   ]
  },
  {
   "cell_type": "code",
   "execution_count": 6,
   "metadata": {},
   "outputs": [],
   "source": [
    "def importsqlcommands(filename):\n",
    "    csvfilescreated=[]\n",
    "    with open (filename,'r') as fd:\n",
    "        sqlfile=fd.read()\n",
    "    print(sqlfile)\n",
    "    return sqlfile"
   ]
  },
  {
   "cell_type": "code",
   "execution_count": 7,
   "metadata": {},
   "outputs": [],
   "source": [
    "def createdb():\n",
    "    #create database if it does not exist\n",
    "    #if exist, open SQL server to manually drop the database\n",
    "    serv ='NMALI-T450S'\n",
    "    DB ='master'\n",
    "    con=pyodbc.connect('Trusted_Connection=yes',driver ='{SQL Server}',server=serv, database =DB)\n",
    "    #drop database if exist\n",
    "    command=\"SELECT name FROM master.dbo.sysdatabases WHERE ('[' + name + ']' = 'event' OR name = 'event')\"\n",
    "    filename =\"D:\\Jupyter Notebook\\AK_Project2\\sql_scripts\\Drop data base.sql\"\n",
    "    df=exportsqldata(command,DB,serv)\n",
    "    if df:\n",
    "        print('Please drop the database before you create a new one')\n",
    "        con.autocommit\n",
    "        cursor=con.cursor()\n",
    "        cursor.execute(importsqlcommands(filename))\n",
    "        cursor.commit()\n",
    "        cursor.close()\n",
    "        runstoreprocedure(con,'exec create_database')\n",
    "\n",
    "    else:\n",
    "        runstoreprocedure(con,'exec create_database')\n",
    "    \n",
    "    if df:\n",
    "        return True\n",
    "    else:\n",
    "        return False"
   ]
  },
  {
   "cell_type": "code",
   "execution_count": 8,
   "metadata": {},
   "outputs": [],
   "source": [
    "def createstoreproc():\n",
    "    #call Master scripts to create store procedures\n",
    "    serv ='NMALI-T450S'\n",
    "    DB ='Event'\n",
    "    con=pyodbc.connect('Trusted_Connection=yes',driver ='{SQL Server}',server=serv, database =DB)\n",
    "    #Location of master script\n",
    "    filename =\"D:\\Jupyter Notebook\\AK_Project2\\sql_scripts\\Store_Procedure_Creation\\Master_Script.sql\"\n",
    "    cursor=con.cursor()\n",
    "    cursor.execute(importsqlcommands(filename))\n",
    "    cursor.commit()\n",
    "    cursor.close()\n",
    "    con.close()\n",
    "        "
   ]
  },
  {
   "cell_type": "code",
   "execution_count": 9,
   "metadata": {},
   "outputs": [],
   "source": [
    "def insertdata():\n",
    "    #call Master scripts to run and insert the data in the database\n",
    "    x1=time.time()\n",
    "    serv ='NMALI-T450S'\n",
    "    DB ='Event'\n",
    "    #Location of master script\n",
    "    filename =\"D:\\Jupyter Notebook\\AK_Project2\\sql_scripts\\SQL_Independent_Scripts\\Master_Script.sql\"\n",
    "    file=importsqlcommands(filename)\n",
    "    for each in file.split(';'):\n",
    "        con=pyodbc.connect('Trusted_Connection=yes',driver ='{SQL Server}',server=serv, database =DB)\n",
    "        cursor=con.cursor()\n",
    "        cursor.execute(each)\n",
    "        cursor.commit()\n",
    "        cursor.close()\n",
    "        con.close()\n",
    "    x2=time.time()\n",
    "    diff=str((x2-x1)//60)+\" Minutes\"     \n",
    "    print('Program took ',diff,' to load and create index on the dataset')\n",
    "    \n",
    "    "
   ]
  },
  {
   "cell_type": "code",
   "execution_count": 10,
   "metadata": {},
   "outputs": [],
   "source": [
    "\n",
    "def dataprocess():\n",
    "    #call procssing scripts to run and process the data in the database\n",
    "    x1=time.time()\n",
    "    serv ='NMALI-T450S'\n",
    "    DB ='Event'\n",
    "    #Location of master script\n",
    "    filename =\"D:\\Jupyter Notebook\\AK_Project2\\sql_scripts\\Data_processing.sql\"\n",
    "    file=importsqlcommands(filename)\n",
    "    for each in file.split(';'):\n",
    "        con=pyodbc.connect('Trusted_Connection=yes',driver ='{SQL Server}',server=serv, database =DB)\n",
    "        cursor=con.cursor()\n",
    "        cursor.execute(each)\n",
    "    cursor.commit()\n",
    "    cursor.close()\n",
    "    con.close()\n",
    "    x2=time.time()\n",
    "    diff=str((x2-x1)//60)+\" Minutes\"     \n",
    "    print('Program took ',diff,' to load and create index on the dataset')\n",
    "    "
   ]
  },
  {
   "cell_type": "code",
   "execution_count": 11,
   "metadata": {},
   "outputs": [
    {
     "name": "stdout",
     "output_type": "stream",
     "text": [
      "02-Sep-2019\n",
      "22\n",
      "22\n",
      "{'21:09:29': {'Time': '21:09:29', 'From': 'nitsmali@hotmail.com', 'To': 'Nitin Mali <nitsmali@hotmail.com>, \"sys.ta.services@klarna.com\"\\r\\n\\t<sys.ta.services@klarna.com>', 'Subject': 'RE: Reminder: Test request from Klarna', 'Body': 'Hello Kattis,  I have completed the test. Thank you.  Best regards, Nitin Mali Data Scientist/Analyst mailto:Â\\xa0nitsmali@hotmail.com phone: 908-275-7808   -----Original Message----- From: Nitin Mali Sent: Thursday, August 29, 2019 7:30 PM To: sys.ta.services@klarna.com Subject: RE: Reminder: Test request from Klarna  Hello Kattis,  Yes. I will answer the test as soon as possible. Thank you.  Best regards, Nitin Mali Data Scientist/Analyst mailto:Â\\xa0nitsmali@hotmail.com phone: 908-275-7808   -----Original Message----- From: Kattis Sent: Thursday, August 29, 2019 7:15 PM To: Nitin Mali Subject: Reminder: Test request from Klarna  Hello Nitin Mali,  3 days ago, we sent you an e-mail requesting that you take a test. You will find the test here:  https://klarna.kattis.com/test/intelligence/9g5fa4pirxwgf5to  Best regards from Klarna'}}\n",
      "22\n",
      "{'22:09:39': {'Time': '22:09:39', 'From': 'nitsmali@hotmail.com', 'To': 'Nitin Mali <nitsmali@hotmail.com>', 'Subject': 'Files have been loaded', 'Body': 'Hi Nitin,  Files have been loaded. Please start the automated process. posted=yes.  Thank you.   Best regards, Nitin Mali Data Scientist/Analyst mailto: nitsmali@hotmail.com phone: 908-275-7808 [linkedin] [Github-icon]   [facebook]'}}\n",
      "Data Loading has been started\n",
      "Data process started\n"
     ]
    }
   ],
   "source": [
    "date = (datetime.datetime.now().strftime(\"%d-%b-%Y\"))\n",
    "print(date)\n",
    "username = 'nitsmali@hotmail.com'\n",
    "password = 'mylifemyruleS9'\n",
    "downloadattach=False\n",
    "numberofemails=3\n",
    "\n",
    "currentdate=datetime.datetime.now().strftime(\"%Y%m%d\")\n",
    "allocatedtime=datetime.datetime.now().strftime(\"%H\")\n",
    "print(allocatedtime)\n",
    "\n",
    "listemail =['nitsmali@hotmail.com']\n",
    "flag=True\n",
    "while allocatedtime>='12' and allocatedtime<='23' and flag==True:\n",
    "    searchfrom=random.choice(listemail)\n",
    "    allocatedtime=datetime.datetime.now().strftime(\"%H\")\n",
    "    print(allocatedtime)\n",
    "    if allocatedtime>='16':\n",
    "        datastamp=main(username,password,searchfrom,downloadattach,date,numberofemails)\n",
    "        print(datastamp)\n",
    "        if datastamp:\n",
    "            for key,value in datastamp.items():\n",
    "                if  (value['Body'].lower().find('posted=yes')!=-1):\n",
    "                    flag=False\n",
    "                    sendemailwithattachment(username,password,\"nitsmali@hotmail.com\",\"nitsmali@hotmail.com\",\"\",\"Data Loading has been started\",\"Hi Team,\\nAutomated Data Loading has been started.\\n\\nThank You\\nNitin\",[])\n",
    "                    print('Data Loading has been started')\n",
    "                    time.sleep(30)\n",
    "                    #createdb()\n",
    "                    #createstoreproc()\n",
    "                    #insertdata()\n",
    "                    sendemailwithattachment(username,password,\"nitsmali@hotmail.com\",\"nitsmali@hotmail.com\",\"\",\"Data Loading Completed\",\"Hi Team,\\nAutomated Data Loading has been completed.\\n Data processing has been started.\\n\\nThank You\\nNitin\",[])\n",
    "                    print('Data process started')\n",
    "                    #dataprocess()\n",
    "                    time.sleep(30)\n",
    "                    sendemailwithattachment(username,password,\"nitsmali@hotmail.com\",\"nitsmali@hotmail.com\",\"\",\"Data Processing Completed\",\"Hi Team,\\nAutomated Data Processing has been completed.\\n\\nThank You\\nNitin\",[])\n",
    "                    \n",
    "    time.sleep(30)"
   ]
  },
  {
   "cell_type": "code",
   "execution_count": null,
   "metadata": {},
   "outputs": [],
   "source": []
  },
  {
   "cell_type": "code",
   "execution_count": null,
   "metadata": {},
   "outputs": [],
   "source": []
  }
 ],
 "metadata": {
  "kernelspec": {
   "display_name": "Python 3",
   "language": "python",
   "name": "python3"
  },
  "language_info": {
   "codemirror_mode": {
    "name": "ipython",
    "version": 3
   },
   "file_extension": ".py",
   "mimetype": "text/x-python",
   "name": "python",
   "nbconvert_exporter": "python",
   "pygments_lexer": "ipython3",
   "version": "3.7.0"
  }
 },
 "nbformat": 4,
 "nbformat_minor": 2
}
