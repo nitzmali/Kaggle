{
 "cells": [
  {
   "cell_type": "code",
   "execution_count": 253,
   "metadata": {},
   "outputs": [
    {
     "data": {
      "text/html": [
       "        <script type=\"text/javascript\">\n",
       "        window.PlotlyConfig = {MathJaxConfig: 'local'};\n",
       "        if (window.MathJax) {MathJax.Hub.Config({SVG: {font: \"STIX-Web\"}});}\n",
       "        if (typeof require !== 'undefined') {\n",
       "        require.undef(\"plotly\");\n",
       "        requirejs.config({\n",
       "            paths: {\n",
       "                'plotly': ['https://cdn.plot.ly/plotly-latest.min']\n",
       "            }\n",
       "        });\n",
       "        require(['plotly'], function(Plotly) {\n",
       "            window._Plotly = Plotly;\n",
       "        });\n",
       "        }\n",
       "        </script>\n",
       "        "
      ]
     },
     "metadata": {},
     "output_type": "display_data"
    }
   ],
   "source": [
    "import numpy as np\n",
    "import pandas as pd\n",
    "import scipy\n",
    "import matplotlib.pyplot as plt\n",
    "import seaborn as sns\n",
    "%matplotlib inline\n",
    "#import cufflinks as cf\n",
    "#cf.go_offline()\n",
    "import warnings \n",
    "warnings.filterwarnings('ignore')\n",
    "from matplotlib import rcParams\n",
    "from _plotly_future_ import v4_subplots\n",
    "\n",
    "import plotly.offline as py\n",
    "import plotly.graph_objs as go\n",
    "py.init_notebook_mode(connected=True)\n",
    "from plotly.subplots import make_subplots\n",
    "from sklearn.manifold import TSNE\n",
    "\n",
    "import plotly as pl\n",
    "from scipy.stats import norm\n",
    "from sklearn.preprocessing import StandardScaler\n",
    "from scipy import stats\n",
    "import warnings\n",
    "warnings.filterwarnings('ignore')\n",
    "%matplotlib inline\n",
    "import sklearn\n",
    "\n",
    "import sklearn.linear_model as linear_model\n",
    "import xgboost as xgb\n",
    "from sklearn.model_selection import KFold\n",
    "from sklearn.manifold import TSNE\n",
    "from sklearn.decomposition import PCA\n",
    "from sklearn.preprocessing import StandardScaler\n",
    "from sklearn.cluster import KMeans\n",
    "from IPython.display import HTML, display\n",
    "from sklearn.model_selection import train_test_split\n",
    "import category_encoders as ce\n",
    "pd.options.display.max_columns = None\n",
    "import missingno as msno\n",
    "from numpy.random import choice\n",
    "np.random.seed(99)"
   ]
  },
  {
   "cell_type": "code",
   "execution_count": 2,
   "metadata": {},
   "outputs": [],
   "source": [
    "%store -r nnn_newdf"
   ]
  },
  {
   "cell_type": "code",
   "execution_count": 4,
   "metadata": {},
   "outputs": [],
   "source": [
    "df=nnn_newdf.copy()"
   ]
  },
  {
   "cell_type": "code",
   "execution_count": 6,
   "metadata": {},
   "outputs": [
    {
     "name": "stdout",
     "output_type": "stream",
     "text": [
      "<class 'pandas.core.frame.DataFrame'>\n",
      "RangeIndex: 9971 entries, 0 to 9970\n",
      "Data columns (total 30 columns):\n",
      "p_gen         9971 non-null object\n",
      "p_yr          9971 non-null float64\n",
      "p_race        9971 non-null object\n",
      "p_born        9971 non-null object\n",
      "p_citz        9971 non-null object\n",
      "p_marl        9971 non-null object\n",
      "p_ilang       9971 non-null object\n",
      "p_iprox       9971 non-null object\n",
      "p_intrp       9971 non-null object\n",
      "f_ilang       9971 non-null object\n",
      "f_iprox       9971 non-null object\n",
      "f_intrp       9971 non-null object\n",
      "mec_lang      9971 non-null object\n",
      "mec_prox      9971 non-null object\n",
      "mec_intrp     9971 non-null object\n",
      "aca_lang      9971 non-null object\n",
      "hh_size       9971 non-null int64\n",
      "fm_size       9971 non-null int64\n",
      "hh_chld5      9971 non-null float64\n",
      "hh_chld617    9971 non-null float64\n",
      "hh_adult      9971 non-null float64\n",
      "hh_gend       9971 non-null object\n",
      "hh_age        9971 non-null int64\n",
      "hh_born       9971 non-null object\n",
      "hh_edu        9971 non-null float64\n",
      "hh_marl       9971 non-null object\n",
      "hh_sedu       9971 non-null float64\n",
      "hh_inco       9971 non-null float64\n",
      "f_inc         9971 non-null float64\n",
      "f_pir         9971 non-null float64\n",
      "dtypes: float64(9), int64(3), object(18)\n",
      "memory usage: 2.3+ MB\n"
     ]
    }
   ],
   "source": [
    "df.info()"
   ]
  },
  {
   "cell_type": "code",
   "execution_count": 22,
   "metadata": {},
   "outputs": [],
   "source": [
    "cat_df =df.select_dtypes(include=['object']).copy()\n",
    "notcat_df=df.select_dtypes(include=['int64','float64']).copy()"
   ]
  },
  {
   "cell_type": "code",
   "execution_count": 10,
   "metadata": {},
   "outputs": [
    {
     "data": {
      "text/html": [
       "<div>\n",
       "<style scoped>\n",
       "    .dataframe tbody tr th:only-of-type {\n",
       "        vertical-align: middle;\n",
       "    }\n",
       "\n",
       "    .dataframe tbody tr th {\n",
       "        vertical-align: top;\n",
       "    }\n",
       "\n",
       "    .dataframe thead th {\n",
       "        text-align: right;\n",
       "    }\n",
       "</style>\n",
       "<table border=\"1\" class=\"dataframe\">\n",
       "  <thead>\n",
       "    <tr style=\"text-align: right;\">\n",
       "      <th></th>\n",
       "      <th>p_gen</th>\n",
       "      <th>p_race</th>\n",
       "      <th>p_born</th>\n",
       "      <th>p_citz</th>\n",
       "      <th>p_marl</th>\n",
       "      <th>p_ilang</th>\n",
       "      <th>p_iprox</th>\n",
       "      <th>p_intrp</th>\n",
       "      <th>f_ilang</th>\n",
       "      <th>f_iprox</th>\n",
       "      <th>f_intrp</th>\n",
       "      <th>mec_lang</th>\n",
       "      <th>mec_prox</th>\n",
       "      <th>mec_intrp</th>\n",
       "      <th>aca_lang</th>\n",
       "      <th>hh_gend</th>\n",
       "      <th>hh_born</th>\n",
       "      <th>hh_marl</th>\n",
       "    </tr>\n",
       "  </thead>\n",
       "  <tbody>\n",
       "    <tr>\n",
       "      <th>0</th>\n",
       "      <td>male</td>\n",
       "      <td>nhis_white</td>\n",
       "      <td>born_us</td>\n",
       "      <td>yes_citz</td>\n",
       "      <td>p_married</td>\n",
       "      <td>p_eng_lang_int</td>\n",
       "      <td>p_prox_res_no</td>\n",
       "      <td>p_intrp_no</td>\n",
       "      <td>fam_lan_int_eng</td>\n",
       "      <td>ff_prox_no</td>\n",
       "      <td>fam_intrp_no</td>\n",
       "      <td>mec_lang_eng</td>\n",
       "      <td>mec_prox_no</td>\n",
       "      <td>mec_intrp_no</td>\n",
       "      <td>aca_lan_int_eng</td>\n",
       "      <td>hh_gend_male</td>\n",
       "      <td>hh_born_us</td>\n",
       "      <td>hh_married</td>\n",
       "    </tr>\n",
       "    <tr>\n",
       "      <th>1</th>\n",
       "      <td>male</td>\n",
       "      <td>nhis_white</td>\n",
       "      <td>born_not_us</td>\n",
       "      <td>not_citz</td>\n",
       "      <td>p_divorced</td>\n",
       "      <td>p_eng_lang_int</td>\n",
       "      <td>p_prox_res_no</td>\n",
       "      <td>p_intrp_no</td>\n",
       "      <td>fam_lan_int_eng</td>\n",
       "      <td>ff_prox_no</td>\n",
       "      <td>fam_intrp_no</td>\n",
       "      <td>mec_lang_eng</td>\n",
       "      <td>mec_prox_no</td>\n",
       "      <td>mec_intrp_no</td>\n",
       "      <td>aca_lan_int_eng</td>\n",
       "      <td>hh_gend_male</td>\n",
       "      <td>hh_born_not_us</td>\n",
       "      <td>hh_divorced</td>\n",
       "    </tr>\n",
       "    <tr>\n",
       "      <th>2</th>\n",
       "      <td>male</td>\n",
       "      <td>nhis_white</td>\n",
       "      <td>born_us</td>\n",
       "      <td>yes_citz</td>\n",
       "      <td>p_married</td>\n",
       "      <td>p_eng_lang_int</td>\n",
       "      <td>p_prox_res_no</td>\n",
       "      <td>p_intrp_no</td>\n",
       "      <td>fam_lan_int_eng</td>\n",
       "      <td>ff_prox_no</td>\n",
       "      <td>fam_intrp_no</td>\n",
       "      <td>mec_lang_eng</td>\n",
       "      <td>mec_prox_no</td>\n",
       "      <td>mec_intrp_no</td>\n",
       "      <td>aca_lan_int_eng</td>\n",
       "      <td>hh_gend_female</td>\n",
       "      <td>hh_born_us</td>\n",
       "      <td>hh_married</td>\n",
       "    </tr>\n",
       "    <tr>\n",
       "      <th>3</th>\n",
       "      <td>female</td>\n",
       "      <td>nhis_white</td>\n",
       "      <td>born_us</td>\n",
       "      <td>yes_citz</td>\n",
       "      <td>p_liv_partn</td>\n",
       "      <td>p_eng_lang_int</td>\n",
       "      <td>p_prox_res_no</td>\n",
       "      <td>p_intrp_no</td>\n",
       "      <td>fam_lan_int_eng</td>\n",
       "      <td>ff_prox_no</td>\n",
       "      <td>fam_intrp_no</td>\n",
       "      <td>mec_lang_eng</td>\n",
       "      <td>mec_prox_no</td>\n",
       "      <td>mec_intrp_no</td>\n",
       "      <td>aca_lan_int_eng</td>\n",
       "      <td>hh_gend_female</td>\n",
       "      <td>hh_born_us</td>\n",
       "      <td>hh_liv_partn</td>\n",
       "    </tr>\n",
       "    <tr>\n",
       "      <th>4</th>\n",
       "      <td>female</td>\n",
       "      <td>nhis_black</td>\n",
       "      <td>born_us</td>\n",
       "      <td>yes_citz</td>\n",
       "      <td>p_divorced</td>\n",
       "      <td>p_eng_lang_int</td>\n",
       "      <td>p_prox_res_no</td>\n",
       "      <td>p_intrp_no</td>\n",
       "      <td>fam_lan_int_eng</td>\n",
       "      <td>ff_prox_no</td>\n",
       "      <td>fam_intrp_no</td>\n",
       "      <td>mec_lang_eng</td>\n",
       "      <td>mec_prox_no</td>\n",
       "      <td>mec_intrp_no</td>\n",
       "      <td>aca_lan_int_eng</td>\n",
       "      <td>hh_gend_female</td>\n",
       "      <td>hh_born_us</td>\n",
       "      <td>hh_divorced</td>\n",
       "    </tr>\n",
       "  </tbody>\n",
       "</table>\n",
       "</div>"
      ],
      "text/plain": [
       "    p_gen      p_race       p_born    p_citz       p_marl         p_ilang  \\\n",
       "0    male  nhis_white      born_us  yes_citz    p_married  p_eng_lang_int   \n",
       "1    male  nhis_white  born_not_us  not_citz   p_divorced  p_eng_lang_int   \n",
       "2    male  nhis_white      born_us  yes_citz    p_married  p_eng_lang_int   \n",
       "3  female  nhis_white      born_us  yes_citz  p_liv_partn  p_eng_lang_int   \n",
       "4  female  nhis_black      born_us  yes_citz   p_divorced  p_eng_lang_int   \n",
       "\n",
       "         p_iprox     p_intrp          f_ilang     f_iprox       f_intrp  \\\n",
       "0  p_prox_res_no  p_intrp_no  fam_lan_int_eng  ff_prox_no  fam_intrp_no   \n",
       "1  p_prox_res_no  p_intrp_no  fam_lan_int_eng  ff_prox_no  fam_intrp_no   \n",
       "2  p_prox_res_no  p_intrp_no  fam_lan_int_eng  ff_prox_no  fam_intrp_no   \n",
       "3  p_prox_res_no  p_intrp_no  fam_lan_int_eng  ff_prox_no  fam_intrp_no   \n",
       "4  p_prox_res_no  p_intrp_no  fam_lan_int_eng  ff_prox_no  fam_intrp_no   \n",
       "\n",
       "       mec_lang     mec_prox     mec_intrp         aca_lang         hh_gend  \\\n",
       "0  mec_lang_eng  mec_prox_no  mec_intrp_no  aca_lan_int_eng    hh_gend_male   \n",
       "1  mec_lang_eng  mec_prox_no  mec_intrp_no  aca_lan_int_eng    hh_gend_male   \n",
       "2  mec_lang_eng  mec_prox_no  mec_intrp_no  aca_lan_int_eng  hh_gend_female   \n",
       "3  mec_lang_eng  mec_prox_no  mec_intrp_no  aca_lan_int_eng  hh_gend_female   \n",
       "4  mec_lang_eng  mec_prox_no  mec_intrp_no  aca_lan_int_eng  hh_gend_female   \n",
       "\n",
       "          hh_born       hh_marl  \n",
       "0      hh_born_us    hh_married  \n",
       "1  hh_born_not_us   hh_divorced  \n",
       "2      hh_born_us    hh_married  \n",
       "3      hh_born_us  hh_liv_partn  \n",
       "4      hh_born_us   hh_divorced  "
      ]
     },
     "execution_count": 10,
     "metadata": {},
     "output_type": "execute_result"
    }
   ],
   "source": [
    "cat_df.head()"
   ]
  },
  {
   "cell_type": "code",
   "execution_count": 91,
   "metadata": {},
   "outputs": [],
   "source": [
    "encoder =ce.BackwardDifferenceEncoder()\n",
    "df_bd=encoder.fit_transform(cat_df)\n",
    "                            \n",
    "onehot=pd.get_dummies(cat_df)                            "
   ]
  },
  {
   "cell_type": "code",
   "execution_count": 207,
   "metadata": {},
   "outputs": [],
   "source": [
    "finaldf=pd.concat([df_bd,notcat_df],axis=1)"
   ]
  },
  {
   "cell_type": "code",
   "execution_count": 94,
   "metadata": {},
   "outputs": [
    {
     "data": {
      "text/plain": [
       "array(['p_gen_female', 'p_gen_male', 'p_race_his_mex_americans',\n",
       "       'p_race_his_others', 'p_race_nhis_asian', 'p_race_nhis_black',\n",
       "       'p_race_nhis_others', 'p_race_nhis_white', 'p_born_born_not_us',\n",
       "       'p_born_born_us', 'p_citz_not_citz', 'p_citz_yes_citz',\n",
       "       'p_marl_p_divorced', 'p_marl_p_liv_partn', 'p_marl_p_married',\n",
       "       'p_marl_p_never_married', 'p_marl_p_separated', 'p_marl_p_widowed',\n",
       "       'p_ilang_p_eng_lang_int', 'p_ilang_p_spa_lang_int',\n",
       "       'p_iprox_p_prox_res_no', 'p_iprox_p_prox_res_yes',\n",
       "       'p_intrp_p_intrp_no', 'p_intrp_p_intrp_yes',\n",
       "       'f_ilang_fam_lan_int_eng', 'f_ilang_fam_lan_int_spa',\n",
       "       'f_iprox_ff_prox_no', 'f_iprox_ff_prox_yes',\n",
       "       'f_intrp_fam_intrp_no', 'f_intrp_fam_intrp_yes',\n",
       "       'mec_lang_mec_lang_eng', 'mec_lang_mec_lang_spa',\n",
       "       'mec_prox_mec_prox_no', 'mec_prox_mec_prox_yes',\n",
       "       'mec_intrp_mec_intrp_no', 'mec_intrp_mec_intrp_yes',\n",
       "       'aca_lang_aca_lan_int_asi', 'aca_lang_aca_lan_int_eng',\n",
       "       'aca_lang_aca_lan_int_spa', 'hh_gend_hh_gend_female',\n",
       "       'hh_gend_hh_gend_male', 'hh_born_hh_born_not_us',\n",
       "       'hh_born_hh_born_us', 'hh_marl_hh_divorced',\n",
       "       'hh_marl_hh_liv_partn', 'hh_marl_hh_married',\n",
       "       'hh_marl_hh_never_married', 'hh_marl_hh_separated',\n",
       "       'hh_marl_hh_widowed', 'p_yr', 'hh_size', 'fm_size', 'hh_chld5',\n",
       "       'hh_chld617', 'hh_adult', 'hh_age', 'hh_edu', 'hh_sedu', 'hh_inco',\n",
       "       'f_inc', 'f_pir'], dtype=object)"
      ]
     },
     "execution_count": 94,
     "metadata": {},
     "output_type": "execute_result"
    }
   ],
   "source": [
    "finaldf.columns.values"
   ]
  },
  {
   "cell_type": "code",
   "execution_count": 162,
   "metadata": {},
   "outputs": [],
   "source": [
    "X_train=finaldf[['p_gen_female', 'p_gen_male', 'p_race_his_mex_americans',\n",
    "       'p_race_his_others', 'p_race_nhis_asian', 'p_race_nhis_black',\n",
    "       'p_race_nhis_others', 'p_race_nhis_white', 'p_born_born_not_us',\n",
    "       'p_born_born_us', 'p_citz_not_citz', 'p_citz_yes_citz',\n",
    "       'p_marl_p_divorced', 'p_marl_p_liv_partn', 'p_marl_p_married',\n",
    "       'p_marl_p_never_married', 'p_marl_p_separated', 'p_marl_p_widowed',\n",
    "       'p_ilang_p_eng_lang_int', 'p_ilang_p_spa_lang_int',\n",
    "       'p_iprox_p_prox_res_no', 'p_iprox_p_prox_res_yes',\n",
    "       'p_intrp_p_intrp_no', 'p_intrp_p_intrp_yes',\n",
    "       'f_ilang_fam_lan_int_eng', 'f_ilang_fam_lan_int_spa',\n",
    "       'f_iprox_ff_prox_no', 'f_iprox_ff_prox_yes',\n",
    "       'f_intrp_fam_intrp_no', 'f_intrp_fam_intrp_yes',\n",
    "       'mec_lang_mec_lang_eng', 'mec_lang_mec_lang_spa',\n",
    "       'mec_prox_mec_prox_no', 'mec_prox_mec_prox_yes',\n",
    "       'mec_intrp_mec_intrp_no', 'mec_intrp_mec_intrp_yes',\n",
    "       'aca_lang_aca_lan_int_asi', 'aca_lang_aca_lan_int_eng',\n",
    "       'aca_lang_aca_lan_int_spa', 'hh_gend_hh_gend_female',\n",
    "       'hh_gend_hh_gend_male', 'hh_born_hh_born_not_us',\n",
    "       'hh_born_hh_born_us', 'hh_marl_hh_divorced',\n",
    "       'hh_marl_hh_liv_partn', 'hh_marl_hh_married',\n",
    "       'hh_marl_hh_never_married', 'hh_marl_hh_separated',\n",
    "       'hh_marl_hh_widowed', 'p_yr', 'hh_size', 'fm_size', 'hh_chld5',\n",
    "       'hh_chld617', 'hh_adult', 'hh_age', 'hh_edu', 'hh_sedu',\n",
    "       'f_inc', 'f_pir']]\n",
    "y_train=finaldf[['hh_inco']]"
   ]
  },
  {
   "cell_type": "code",
   "execution_count": 215,
   "metadata": {},
   "outputs": [],
   "source": [
    "X_train=finaldf[[ 'p_gen_0', 'p_race_0', 'p_race_1', 'p_race_2',\n",
    "       'p_race_3', 'p_race_4', 'p_born_0', 'p_citz_0', 'p_marl_0',\n",
    "       'p_marl_1', 'p_marl_2', 'p_marl_3', 'p_marl_4', 'p_ilang_0',\n",
    "       'p_iprox_0', 'p_intrp_0', 'f_ilang_0', 'f_iprox_0', 'f_intrp_0',\n",
    "       'mec_lang_0', 'mec_prox_0', 'mec_intrp_0', 'aca_lang_0',\n",
    "       'aca_lang_1', 'hh_gend_0', 'hh_born_0', 'hh_marl_0', 'hh_marl_1',\n",
    "       'hh_marl_2', 'hh_marl_3', 'hh_marl_4', 'p_yr', 'hh_size',\n",
    "       'fm_size', 'hh_chld5', 'hh_chld617', 'hh_adult', 'hh_age',\n",
    "       'hh_edu', 'hh_sedu', 'f_inc', 'f_pir']]\n",
    "y_train=finaldf[['hh_inco']]"
   ]
  },
  {
   "cell_type": "code",
   "execution_count": 226,
   "metadata": {},
   "outputs": [],
   "source": [
    "from sklearn.model_selection import train_test_split\n",
    "X_train, X_test, y_train, y_test = train_test_split(\n",
    "X_train, y_train, random_state=0)"
   ]
  },
  {
   "cell_type": "code",
   "execution_count": 259,
   "metadata": {},
   "outputs": [
    {
     "name": "stdout",
     "output_type": "stream",
     "text": [
      "Coefficient of model : [[-3.01482609e-02  2.28565940e-01  3.80173048e-01 -6.57868102e-01\n",
      "   5.44958151e-01 -8.64408213e-02 -6.11748831e+00  5.07147932e+00\n",
      "  -1.57773002e+01 -8.04716823e+00]\n",
      " [-2.28129808e-01  8.68215155e-02  2.53204292e-01 -4.30093638e-01\n",
      "   2.65160268e-01  1.70240998e-01 -5.47957850e+00  4.45965744e+00\n",
      "  -1.13832176e+01 -5.17358372e+00]\n",
      " [-2.49654679e-01  2.51401403e-01  2.32308901e-01 -4.23192051e-01\n",
      "   2.21453963e-01  9.22812536e-02 -5.25843860e+00  4.14585183e+00\n",
      "  -7.58722979e+00 -4.62326380e+00]\n",
      " [-6.65019479e-02  1.19348478e-01  1.92641971e-01 -3.09337110e-01\n",
      "   1.09301779e-01  1.22584247e-01 -3.77202939e+00  2.95107502e+00\n",
      "  -4.92203794e+00 -3.39673450e+00]\n",
      " [ 3.44035950e-02  1.06041947e-01  2.68048553e-01 -5.06194738e-01\n",
      "   1.58207580e-01  1.33943718e-01 -2.71677182e+00  1.86123372e+00\n",
      "  -1.82210047e+00 -3.51579299e+00]\n",
      " [-3.87731235e-03  6.70140350e-02  1.01088167e-02 -2.33976176e-02\n",
      "  -5.23717884e-02 -1.82586226e-03 -1.79422094e+00  1.07731172e+00\n",
      "   5.29010960e-01 -2.09247898e+00]\n",
      " [ 4.12569927e-02  3.39151060e-02 -5.57108901e-02 -2.54578323e-02\n",
      "  -2.32709451e-01  2.17223321e-01  1.24141737e-01  3.09539572e-01\n",
      "   3.89460237e-02  1.79595768e+00]\n",
      " [ 7.12050772e-03 -1.33823811e-01 -2.28285475e-01 -8.25515894e-02\n",
      "   1.05696147e-03  1.23231613e-02  8.68793551e-01 -1.24933677e-01\n",
      "   1.66840437e+00  2.86175227e+00]\n",
      " [ 3.12345196e-02 -1.73935571e-01 -1.45325410e-01 -8.15506967e-02\n",
      "  -4.16025205e-02  3.81707285e-02  2.29219906e+00 -9.47954407e-01\n",
      "   2.56382495e+00  4.19323957e+00]\n",
      " [ 1.17360594e-01 -3.50935905e-01 -5.46470424e-01  3.23664931e-01\n",
      "  -1.63678090e-01  7.43789570e-02  3.38265612e+00 -1.83245522e+00\n",
      "   3.33853341e+00  4.84129062e+00]\n",
      " [ 2.67891039e-01  3.65322556e-01 -1.70101776e-01  4.50530940e-01\n",
      "  -1.29451965e-01 -2.23857015e-01  4.07599903e+00 -3.66678312e+00\n",
      "   6.35021984e+00  3.09946994e+00]\n",
      " [-2.89912139e-01  1.52740726e-01  5.64399855e-01  4.44032365e-01\n",
      "  -4.60689971e-02 -1.75167535e-01  2.95206110e+00 -2.24884306e+00\n",
      "   7.09425769e+00  3.62594300e+00]\n",
      " [ 1.59564788e-01 -1.19155835e-01 -2.33884763e-01  5.82418568e-01\n",
      "  -3.96306318e-01 -2.54386145e-01  4.31793025e+00 -5.27824174e+00\n",
      "   1.03032115e+01  6.45651713e-01]\n",
      " [ 2.09392111e-01 -6.33320585e-01 -5.21106700e-01  7.38996572e-01\n",
      "  -2.37949573e-01 -1.19469006e-01  7.12474671e+00 -5.77693740e+00\n",
      "   9.60547728e+00  5.78571742e+00]]\n",
      "Intercept of model [-22.67938849 -11.90861608  -5.95311186  -1.47299497   1.28006291\n",
      "   4.41237893   6.07206818   6.49732789   6.31121824   5.68828299\n",
      "   4.75767586   3.06205259   4.18961058  -0.25656677]\n",
      "Target on train data [ 6. 15. 10. ... 15.  7. 15.]\n",
      "accuracy_score on train dataset :  0.7270660604439689\n",
      "Target on test data [6. 2. 8. ... 6. 7. 3.]\n",
      "accuracy_score on test dataset :  0.7236261532290413\n"
     ]
    }
   ],
   "source": [
    "\n",
    "\n",
    "# importing required libraries\n",
    "import pandas as pd\n",
    "from sklearn.linear_model import LogisticRegression\n",
    "from sklearn.metrics import accuracy_score\n",
    "\n",
    "\n",
    "model = LogisticRegression(solver=\"lbfgs\",multi_class=\"multinomial\",C=100)\n",
    "\n",
    "# fit the model with the training data\n",
    "model.fit(X_train,y_train)\n",
    "\n",
    "# coefficeints of the trained model\n",
    "print('Coefficient of model :', model.coef_)\n",
    "\n",
    "# intercept of the model\n",
    "print('Intercept of model',model.intercept_)\n",
    "\n",
    "# predict the target on the train dataset\n",
    "predict_train = model.predict(X_train)\n",
    "print('Target on train data',predict_train) \n",
    "\n",
    "# Accuray Score on train dataset\n",
    "accuracy_train = accuracy_score(y_train,predict_train)\n",
    "print('accuracy_score on train dataset : ', accuracy_train)\n",
    "\n",
    "\n",
    "# predict the target on the train dataset\n",
    "predict_test = model.predict(X_test)\n",
    "print('Target on test data',predict_test) \n",
    "\n",
    "# Accuray Score on train dataset\n",
    "accuracy_test= accuracy_score(y_test,predict_test)\n",
    "print('accuracy_score on test dataset : ', accuracy_test)\n",
    "\n"
   ]
  },
  {
   "cell_type": "code",
   "execution_count": 252,
   "metadata": {},
   "outputs": [
    {
     "data": {
      "text/plain": [
       "Text(0, 0.5, 'Coefficient magnitude')"
      ]
     },
     "execution_count": 252,
     "metadata": {},
     "output_type": "execute_result"
    },
    {
     "data": {
      "image/png": "[encoded data removed]",
      "text/plain": [
       "<Figure size 432x288 with 1 Axes>"
      ]
     },
     "metadata": {
      "needs_background": "light"
     },
     "output_type": "display_data"
    }
   ],
   "source": [
    "plt.plot(model.coef_.T,'^', label=\"C=100\")\n",
    "plt.xticks(range(X_train.shape[1]), ['p_race_3', 'f_ilang_0', 'hh_marl_0', 'hh_marl_1', 'hh_marl_3', 'hh_marl_4', 'hh_size', 'fm_size', 'f_inc', 'f_pir'], rotation=90)\n",
    "plt.hlines(0, 0, X_train.shape[1])\n",
    "plt.ylim(-5, 5)\n",
    "plt.xlabel(\"Feature\")\n",
    "plt.ylabel(\"Coefficient magnitude\")\n"
   ]
  },
  {
   "cell_type": "code",
   "execution_count": 243,
   "metadata": {},
   "outputs": [
    {
     "data": {
      "text/plain": [
       "([<matplotlib.axis.XTick at 0x1b31524fef0>,\n",
       "  <matplotlib.axis.XTick at 0x1b3152a7908>,\n",
       "  <matplotlib.axis.XTick at 0x1b3152a7128>,\n",
       "  <matplotlib.axis.XTick at 0x1b3152ef160>,\n",
       "  <matplotlib.axis.XTick at 0x1b3152ef5c0>,\n",
       "  <matplotlib.axis.XTick at 0x1b3152efac8>,\n",
       "  <matplotlib.axis.XTick at 0x1b3152f20f0>,\n",
       "  <matplotlib.axis.XTick at 0x1b3152f25f8>,\n",
       "  <matplotlib.axis.XTick at 0x1b3152ef518>,\n",
       "  <matplotlib.axis.XTick at 0x1b3152f2940>],\n",
       " <a list of 10 Text xticklabel objects>)"
      ]
     },
     "execution_count": 243,
     "metadata": {},
     "output_type": "execute_result"
    },
    {
     "data": {
      "image/png": "[encoded data removed]",
      "text/plain": [
       "<Figure size 432x288 with 1 Axes>"
      ]
     },
     "metadata": {
      "needs_background": "light"
     },
     "output_type": "display_data"
    }
   ],
   "source": []
  },
  {
   "cell_type": "code",
   "execution_count": 195,
   "metadata": {},
   "outputs": [
    {
     "data": {
      "text/plain": [
       "0.0     1722\n",
       "1.0      611\n",
       "2.0       79\n",
       "5.0       25\n",
       "3.0       25\n",
       "4.0       18\n",
       "6.0        7\n",
       "7.0        4\n",
       "13.0       1\n",
       "10.0       1\n",
       "Name: 0, dtype: int64"
      ]
     },
     "execution_count": 195,
     "metadata": {},
     "output_type": "execute_result"
    }
   ],
   "source": [
    "pd.DataFrame(np.abs(np.array(y_test).T-predict_test)).T[0].value_counts()"
   ]
  },
  {
   "cell_type": "code",
   "execution_count": 188,
   "metadata": {},
   "outputs": [
    {
     "data": {
      "text/plain": [
       "array([ 6., 15., 10., ..., 15.,  7., 15.])"
      ]
     },
     "execution_count": 188,
     "metadata": {},
     "output_type": "execute_result"
    }
   ],
   "source": [
    "predict_train"
   ]
  },
  {
   "cell_type": "code",
   "execution_count": 183,
   "metadata": {},
   "outputs": [
    {
     "data": {
      "text/plain": [
       "15.0    1439\n",
       "6.0      993\n",
       "7.0      906\n",
       "14.0     717\n",
       "8.0      575\n",
       "9.0      513\n",
       "4.0      479\n",
       "3.0      460\n",
       "5.0      362\n",
       "10.0     311\n",
       "2.0      292\n",
       "1.0      252\n",
       "12.0     118\n",
       "13.0      61\n",
       "Name: 0, dtype: int64"
      ]
     },
     "execution_count": 183,
     "metadata": {},
     "output_type": "execute_result"
    }
   ],
   "source": [
    "pd.DataFrame(predict_train)[0].value_counts()"
   ]
  },
  {
   "cell_type": "code",
   "execution_count": 186,
   "metadata": {},
   "outputs": [
    {
     "data": {
      "text/plain": [
       "15.0    1292\n",
       "6.0      812\n",
       "7.0      779\n",
       "14.0     737\n",
       "8.0      615\n",
       "9.0      512\n",
       "5.0      507\n",
       "4.0      488\n",
       "3.0      437\n",
       "10.0     395\n",
       "2.0      307\n",
       "12.0     239\n",
       "1.0      228\n",
       "13.0     130\n",
       "Name: hh_inco, dtype: int64"
      ]
     },
     "execution_count": 186,
     "metadata": {},
     "output_type": "execute_result"
    }
   ],
   "source": [
    "y_train['hh_inco'].value_counts()"
   ]
  },
  {
   "cell_type": "code",
   "execution_count": 225,
   "metadata": {},
   "outputs": [],
   "source": [
    "scaler = StandardScaler()\n",
    "scaler.fit(X_train)\n",
    "# Apply transform to both the training set and the test set.\n",
    "X_train = scaler.transform(X_train)\n",
    "#X_test = scaler.transform(X_test)"
   ]
  },
  {
   "cell_type": "code",
   "execution_count": 147,
   "metadata": {},
   "outputs": [
    {
     "name": "stdout",
     "output_type": "stream",
     "text": [
      "Fitting estimator with 60 features.\n",
      "Fitting estimator with 50 features.\n",
      "Fitting estimator with 40 features.\n",
      "30 selected features\n"
     ]
    }
   ],
   "source": [
    "from sklearn.feature_selection import RFE\n",
    "from sklearn.linear_model import LogisticRegression\n",
    "rfe_selector = RFE(estimator=LogisticRegression(), n_features_to_select=30, step=10, verbose=5)\n",
    "rfe_selector.fit(X_train, y_train)\n",
    "rfe_support = rfe_selector.get_support()\n",
    "rfe_feature = X_train.loc[:,rfe_support].columns.tolist()\n",
    "print(str(len(rfe_feature)), 'selected features')"
   ]
  },
  {
   "cell_type": "code",
   "execution_count": 257,
   "metadata": {},
   "outputs": [
    {
     "name": "stdout",
     "output_type": "stream",
     "text": [
      "['p_gen_male', 'p_born_born_us', 'p_citz_not_citz', 'p_citz_yes_citz', 'p_ilang_p_eng_lang_int', 'p_ilang_p_spa_lang_int', 'p_iprox_p_prox_res_no', 'p_iprox_p_prox_res_yes', 'p_intrp_p_intrp_no', 'p_intrp_p_intrp_yes', 'f_ilang_fam_lan_int_eng', 'f_ilang_fam_lan_int_spa', 'f_iprox_ff_prox_no', 'f_intrp_fam_intrp_no', 'f_intrp_fam_intrp_yes', 'mec_lang_mec_lang_eng', 'mec_prox_mec_prox_no', 'mec_prox_mec_prox_yes', 'mec_intrp_mec_intrp_no', 'mec_intrp_mec_intrp_yes', 'aca_lang_aca_lan_int_spa', 'hh_gend_hh_gend_female', 'hh_gend_hh_gend_male', 'hh_born_hh_born_not_us', 'hh_marl_hh_married', 'hh_marl_hh_separated', 'hh_size', 'fm_size', 'f_inc', 'f_pir']\n"
     ]
    }
   ],
   "source": [
    "print(rfe_feature)"
   ]
  },
  {
   "cell_type": "code",
   "execution_count": 117,
   "metadata": {},
   "outputs": [],
   "source": [
    "result=pd.DataFrame(np.abs(np.array(y_test).reshape(2493)-predict_test))"
   ]
  },
  {
   "cell_type": "code",
   "execution_count": 130,
   "metadata": {},
   "outputs": [],
   "source": [
    "X_train=finaldf[['f_ilang_fam_lan_int_eng', 'f_ilang_fam_lan_int_spa', 'f_iprox_ff_prox_no', 'f_intrp_fam_intrp_yes', 'mec_prox_mec_prox_no', 'hh_born_hh_born_not_us', 'hh_size', 'fm_size', 'f_inc', 'f_pir']]\n",
    "y_train=finaldf[['hh_inco']]\n"
   ]
  },
  {
   "cell_type": "code",
   "execution_count": 138,
   "metadata": {},
   "outputs": [],
   "source": [
    "X_train=finaldf[['p_citz_not_citz', 'p_citz_yes_citz', 'p_ilang_p_spa_lang_int', 'p_iprox_p_prox_res_no', 'p_intrp_p_intrp_yes', 'f_ilang_fam_lan_int_eng', 'f_ilang_fam_lan_int_spa', 'f_iprox_ff_prox_no', 'f_intrp_fam_intrp_yes', 'mec_prox_mec_prox_no', 'mec_prox_mec_prox_yes', 'mec_intrp_mec_intrp_yes', 'aca_lang_aca_lan_int_spa', 'hh_gend_hh_gend_female', 'hh_gend_hh_gend_male', 'hh_marl_hh_married', 'hh_size', 'fm_size', 'f_inc', 'f_pir']]\n",
    "\n",
    "y_train=finaldf[['hh_inco']]"
   ]
  },
  {
   "cell_type": "code",
   "execution_count": 149,
   "metadata": {},
   "outputs": [],
   "source": [
    "X_train=finaldf[['p_gen_male', 'p_born_born_us', 'p_citz_not_citz', 'p_citz_yes_citz', 'p_ilang_p_eng_lang_int', 'p_ilang_p_spa_lang_int', 'p_iprox_p_prox_res_no', 'p_iprox_p_prox_res_yes', 'p_intrp_p_intrp_no', 'p_intrp_p_intrp_yes', 'f_ilang_fam_lan_int_eng', 'f_ilang_fam_lan_int_spa', 'f_iprox_ff_prox_no', 'f_intrp_fam_intrp_no', 'f_intrp_fam_intrp_yes', 'mec_lang_mec_lang_eng', 'mec_prox_mec_prox_no', 'mec_prox_mec_prox_yes', 'mec_intrp_mec_intrp_no', 'mec_intrp_mec_intrp_yes', 'aca_lang_aca_lan_int_spa', 'hh_gend_hh_gend_female', 'hh_gend_hh_gend_male', 'hh_born_hh_born_not_us', 'hh_marl_hh_married', 'hh_marl_hh_separated', 'hh_size', 'fm_size', 'f_inc', 'f_pir']]\n",
    "                \n",
    "y_train=finaldf[['hh_inco']]                "
   ]
  },
  {
   "cell_type": "code",
   "execution_count": 216,
   "metadata": {},
   "outputs": [
    {
     "name": "stdout",
     "output_type": "stream",
     "text": [
      "15 selected features\n"
     ]
    }
   ],
   "source": [
    "from sklearn.feature_selection import SelectFromModel\n",
    "from sklearn.linear_model import LogisticRegression\n",
    "\n",
    "embeded_lr_selector = SelectFromModel(LogisticRegression(penalty=\"l1\"), max_features=15)\n",
    "embeded_lr_selector.fit(X_train, y_train)\n",
    "\n",
    "embeded_lr_support = embeded_lr_selector.get_support()\n",
    "embeded_lr_feature = X_train.loc[:,embeded_lr_support].columns.tolist()\n",
    "print(str(len(embeded_lr_feature)), 'selected features')"
   ]
  },
  {
   "cell_type": "code",
   "execution_count": 217,
   "metadata": {},
   "outputs": [
    {
     "name": "stdout",
     "output_type": "stream",
     "text": [
      "['p_race_0', 'p_race_1', 'p_race_3', 'p_ilang_0', 'f_ilang_0', 'f_intrp_0', 'hh_born_0', 'hh_marl_0', 'hh_marl_1', 'hh_marl_3', 'hh_marl_4', 'hh_size', 'fm_size', 'f_inc', 'f_pir']\n"
     ]
    }
   ],
   "source": [
    "print(embeded_lr_feature)"
   ]
  },
  {
   "cell_type": "code",
   "execution_count": 157,
   "metadata": {},
   "outputs": [],
   "source": [
    "X_train=finaldf[['f_ilang_fam_lan_int_spa', 'f_iprox_ff_prox_no', 'f_intrp_fam_intrp_yes', 'hh_born_hh_born_not_us', 'hh_marl_hh_married', 'hh_marl_hh_never_married', 'hh_size', 'fm_size', 'f_inc', 'f_pir']]\n",
    "y_train=finaldf[['hh_inco']]"
   ]
  },
  {
   "cell_type": "code",
   "execution_count": 223,
   "metadata": {},
   "outputs": [
    {
     "ename": "KeyError",
     "evalue": "\"['f_iprox_ff_prox_no', 'p_race_his_others', 'hh_marl_hh_liv_partn', 'hh_marl_hh_never_married', 'aca_lang_aca_lan_int_spa', 'hh_marl_hh_married', 'hh_marl_hh_widowed', 'f_ilang_fam_lan_int_eng', 'p_race_nhis_black', 'p_race_nhis_asian', 'hh_born_hh_born_not_us', 'mec_prox_mec_prox_no', 'hh_marl_hh_separated', 'f_intrp_fam_intrp_yes', 'mec_prox_mec_prox_yes', 'f_ilang_fam_lan_int_spa'] not in index\"",
     "output_type": "error",
     "traceback": [
      "\u001b[1;31m---------------------------------------------------------------------------\u001b[0m",
      "\u001b[1;31mKeyError\u001b[0m                                  Traceback (most recent call last)",
      "\u001b[1;32m<ipython-input-223-df65ab127326>\u001b[0m in \u001b[0;36m<module>\u001b[1;34m\u001b[0m\n\u001b[1;32m----> 1\u001b[1;33m \u001b[0mX_train\u001b[0m\u001b[1;33m=\u001b[0m\u001b[0mfinaldf\u001b[0m\u001b[1;33m[\u001b[0m\u001b[1;33m[\u001b[0m\u001b[1;34m'p_race_his_others'\u001b[0m\u001b[1;33m,\u001b[0m \u001b[1;34m'p_race_nhis_asian'\u001b[0m\u001b[1;33m,\u001b[0m \u001b[1;34m'p_race_nhis_black'\u001b[0m\u001b[1;33m,\u001b[0m \u001b[1;34m'f_ilang_fam_lan_int_eng'\u001b[0m\u001b[1;33m,\u001b[0m \u001b[1;34m'f_ilang_fam_lan_int_spa'\u001b[0m\u001b[1;33m,\u001b[0m \u001b[1;34m'f_iprox_ff_prox_no'\u001b[0m\u001b[1;33m,\u001b[0m \u001b[1;34m'f_intrp_fam_intrp_yes'\u001b[0m\u001b[1;33m,\u001b[0m \u001b[1;34m'mec_prox_mec_prox_no'\u001b[0m\u001b[1;33m,\u001b[0m \u001b[1;34m'mec_prox_mec_prox_yes'\u001b[0m\u001b[1;33m,\u001b[0m \u001b[1;34m'aca_lang_aca_lan_int_spa'\u001b[0m\u001b[1;33m,\u001b[0m \u001b[1;34m'hh_born_hh_born_not_us'\u001b[0m\u001b[1;33m,\u001b[0m \u001b[1;34m'hh_marl_hh_liv_partn'\u001b[0m\u001b[1;33m,\u001b[0m \u001b[1;34m'hh_marl_hh_married'\u001b[0m\u001b[1;33m,\u001b[0m \u001b[1;34m'hh_marl_hh_never_married'\u001b[0m\u001b[1;33m,\u001b[0m \u001b[1;34m'hh_marl_hh_separated'\u001b[0m\u001b[1;33m,\u001b[0m \u001b[1;34m'hh_marl_hh_widowed'\u001b[0m\u001b[1;33m,\u001b[0m \u001b[1;34m'hh_size'\u001b[0m\u001b[1;33m,\u001b[0m \u001b[1;34m'fm_size'\u001b[0m\u001b[1;33m,\u001b[0m \u001b[1;34m'f_inc'\u001b[0m\u001b[1;33m,\u001b[0m \u001b[1;34m'f_pir'\u001b[0m\u001b[1;33m]\u001b[0m\u001b[1;33m]\u001b[0m\u001b[1;33m\u001b[0m\u001b[0m\n\u001b[0m\u001b[0;32m      2\u001b[0m \u001b[1;33m\u001b[0m\u001b[0m\n\u001b[0;32m      3\u001b[0m \u001b[0my_train\u001b[0m\u001b[1;33m=\u001b[0m\u001b[0mfinaldf\u001b[0m\u001b[1;33m[\u001b[0m\u001b[1;33m[\u001b[0m\u001b[1;34m'hh_inco'\u001b[0m\u001b[1;33m]\u001b[0m\u001b[1;33m]\u001b[0m\u001b[1;33m\u001b[0m\u001b[0m\n",
      "\u001b[1;32mc:\\users\\nitin mali\\appdata\\local\\programs\\python\\python37\\lib\\site-packages\\pandas\\core\\frame.py\u001b[0m in \u001b[0;36m__getitem__\u001b[1;34m(self, key)\u001b[0m\n\u001b[0;32m   2932\u001b[0m                 \u001b[0mkey\u001b[0m \u001b[1;33m=\u001b[0m \u001b[0mlist\u001b[0m\u001b[1;33m(\u001b[0m\u001b[0mkey\u001b[0m\u001b[1;33m)\u001b[0m\u001b[1;33m\u001b[0m\u001b[0m\n\u001b[0;32m   2933\u001b[0m             indexer = self.loc._convert_to_indexer(key, axis=1,\n\u001b[1;32m-> 2934\u001b[1;33m                                                    raise_missing=True)\n\u001b[0m\u001b[0;32m   2935\u001b[0m \u001b[1;33m\u001b[0m\u001b[0m\n\u001b[0;32m   2936\u001b[0m         \u001b[1;31m# take() does not accept boolean indexers\u001b[0m\u001b[1;33m\u001b[0m\u001b[1;33m\u001b[0m\u001b[0m\n",
      "\u001b[1;32mc:\\users\\nitin mali\\appdata\\local\\programs\\python\\python37\\lib\\site-packages\\pandas\\core\\indexing.py\u001b[0m in \u001b[0;36m_convert_to_indexer\u001b[1;34m(self, obj, axis, is_setter, raise_missing)\u001b[0m\n\u001b[0;32m   1352\u001b[0m                 kwargs = {'raise_missing': True if is_setter else\n\u001b[0;32m   1353\u001b[0m                           raise_missing}\n\u001b[1;32m-> 1354\u001b[1;33m                 \u001b[1;32mreturn\u001b[0m \u001b[0mself\u001b[0m\u001b[1;33m.\u001b[0m\u001b[0m_get_listlike_indexer\u001b[0m\u001b[1;33m(\u001b[0m\u001b[0mobj\u001b[0m\u001b[1;33m,\u001b[0m \u001b[0maxis\u001b[0m\u001b[1;33m,\u001b[0m \u001b[1;33m**\u001b[0m\u001b[0mkwargs\u001b[0m\u001b[1;33m)\u001b[0m\u001b[1;33m[\u001b[0m\u001b[1;36m1\u001b[0m\u001b[1;33m]\u001b[0m\u001b[1;33m\u001b[0m\u001b[0m\n\u001b[0m\u001b[0;32m   1355\u001b[0m         \u001b[1;32melse\u001b[0m\u001b[1;33m:\u001b[0m\u001b[1;33m\u001b[0m\u001b[0m\n\u001b[0;32m   1356\u001b[0m             \u001b[1;32mtry\u001b[0m\u001b[1;33m:\u001b[0m\u001b[1;33m\u001b[0m\u001b[0m\n",
      "\u001b[1;32mc:\\users\\nitin mali\\appdata\\local\\programs\\python\\python37\\lib\\site-packages\\pandas\\core\\indexing.py\u001b[0m in \u001b[0;36m_get_listlike_indexer\u001b[1;34m(self, key, axis, raise_missing)\u001b[0m\n\u001b[0;32m   1159\u001b[0m         self._validate_read_indexer(keyarr, indexer,\n\u001b[0;32m   1160\u001b[0m                                     \u001b[0mo\u001b[0m\u001b[1;33m.\u001b[0m\u001b[0m_get_axis_number\u001b[0m\u001b[1;33m(\u001b[0m\u001b[0maxis\u001b[0m\u001b[1;33m)\u001b[0m\u001b[1;33m,\u001b[0m\u001b[1;33m\u001b[0m\u001b[0m\n\u001b[1;32m-> 1161\u001b[1;33m                                     raise_missing=raise_missing)\n\u001b[0m\u001b[0;32m   1162\u001b[0m         \u001b[1;32mreturn\u001b[0m \u001b[0mkeyarr\u001b[0m\u001b[1;33m,\u001b[0m \u001b[0mindexer\u001b[0m\u001b[1;33m\u001b[0m\u001b[0m\n\u001b[0;32m   1163\u001b[0m \u001b[1;33m\u001b[0m\u001b[0m\n",
      "\u001b[1;32mc:\\users\\nitin mali\\appdata\\local\\programs\\python\\python37\\lib\\site-packages\\pandas\\core\\indexing.py\u001b[0m in \u001b[0;36m_validate_read_indexer\u001b[1;34m(self, key, indexer, axis, raise_missing)\u001b[0m\n\u001b[0;32m   1250\u001b[0m             \u001b[1;32mif\u001b[0m \u001b[1;32mnot\u001b[0m\u001b[1;33m(\u001b[0m\u001b[0mself\u001b[0m\u001b[1;33m.\u001b[0m\u001b[0mname\u001b[0m \u001b[1;33m==\u001b[0m \u001b[1;34m'loc'\u001b[0m \u001b[1;32mand\u001b[0m \u001b[1;32mnot\u001b[0m \u001b[0mraise_missing\u001b[0m\u001b[1;33m)\u001b[0m\u001b[1;33m:\u001b[0m\u001b[1;33m\u001b[0m\u001b[0m\n\u001b[0;32m   1251\u001b[0m                 \u001b[0mnot_found\u001b[0m \u001b[1;33m=\u001b[0m \u001b[0mlist\u001b[0m\u001b[1;33m(\u001b[0m\u001b[0mset\u001b[0m\u001b[1;33m(\u001b[0m\u001b[0mkey\u001b[0m\u001b[1;33m)\u001b[0m \u001b[1;33m-\u001b[0m \u001b[0mset\u001b[0m\u001b[1;33m(\u001b[0m\u001b[0max\u001b[0m\u001b[1;33m)\u001b[0m\u001b[1;33m)\u001b[0m\u001b[1;33m\u001b[0m\u001b[0m\n\u001b[1;32m-> 1252\u001b[1;33m                 \u001b[1;32mraise\u001b[0m \u001b[0mKeyError\u001b[0m\u001b[1;33m(\u001b[0m\u001b[1;34m\"{} not in index\"\u001b[0m\u001b[1;33m.\u001b[0m\u001b[0mformat\u001b[0m\u001b[1;33m(\u001b[0m\u001b[0mnot_found\u001b[0m\u001b[1;33m)\u001b[0m\u001b[1;33m)\u001b[0m\u001b[1;33m\u001b[0m\u001b[0m\n\u001b[0m\u001b[0;32m   1253\u001b[0m \u001b[1;33m\u001b[0m\u001b[0m\n\u001b[0;32m   1254\u001b[0m             \u001b[1;31m# we skip the warning on Categorical/Interval\u001b[0m\u001b[1;33m\u001b[0m\u001b[1;33m\u001b[0m\u001b[0m\n",
      "\u001b[1;31mKeyError\u001b[0m: \"['f_iprox_ff_prox_no', 'p_race_his_others', 'hh_marl_hh_liv_partn', 'hh_marl_hh_never_married', 'aca_lang_aca_lan_int_spa', 'hh_marl_hh_married', 'hh_marl_hh_widowed', 'f_ilang_fam_lan_int_eng', 'p_race_nhis_black', 'p_race_nhis_asian', 'hh_born_hh_born_not_us', 'mec_prox_mec_prox_no', 'hh_marl_hh_separated', 'f_intrp_fam_intrp_yes', 'mec_prox_mec_prox_yes', 'f_ilang_fam_lan_int_spa'] not in index\""
     ]
    }
   ],
   "source": [
    "X_train=finaldf[['p_race_his_others', 'p_race_nhis_asian', 'p_race_nhis_black', 'f_ilang_fam_lan_int_eng', 'f_ilang_fam_lan_int_spa', 'f_iprox_ff_prox_no', 'f_intrp_fam_intrp_yes', 'mec_prox_mec_prox_no', 'mec_prox_mec_prox_yes', 'aca_lang_aca_lan_int_spa', 'hh_born_hh_born_not_us', 'hh_marl_hh_liv_partn', 'hh_marl_hh_married', 'hh_marl_hh_never_married', 'hh_marl_hh_separated', 'hh_marl_hh_widowed', 'hh_size', 'fm_size', 'f_inc', 'f_pir']]\n",
    "\n",
    "y_train=finaldf[['hh_inco']]"
   ]
  },
  {
   "cell_type": "code",
   "execution_count": 224,
   "metadata": {},
   "outputs": [],
   "source": [
    "X_train=finaldf[['p_race_3', 'f_ilang_0', 'hh_marl_0', 'hh_marl_1', 'hh_marl_3', 'hh_marl_4', 'hh_size', 'fm_size', 'f_inc', 'f_pir']]\n",
    "y_train=finaldf[['hh_inco']]"
   ]
  },
  {
   "cell_type": "code",
   "execution_count": 219,
   "metadata": {},
   "outputs": [],
   "source": [
    "X_train=finaldf[['p_race_0', 'p_race_1', 'p_race_3', 'p_ilang_0', 'f_ilang_0', 'f_intrp_0', 'hh_born_0', 'hh_marl_0', 'hh_marl_1', 'hh_marl_3', 'hh_marl_4', 'hh_size', 'fm_size', 'f_inc', 'f_pir']]\n",
    "y_train=finaldf[['hh_inco']]"
   ]
  },
  {
   "cell_type": "code",
   "execution_count": 262,
   "metadata": {},
   "outputs": [
    {
     "data": {
      "text/plain": [
       "(9971, 44)"
      ]
     },
     "execution_count": 262,
     "metadata": {},
     "output_type": "execute_result"
    }
   ],
   "source": []
  },
  {
   "cell_type": "code",
   "execution_count": null,
   "metadata": {},
   "outputs": [],
   "source": []
  },
  {
   "cell_type": "code",
   "execution_count": null,
   "metadata": {},
   "outputs": [],
   "source": []
  }
 ],
 "metadata": {
  "kernelspec": {
   "display_name": "Python 3",
   "language": "python",
   "name": "python3"
  },
  "language_info": {
   "codemirror_mode": {
    "name": "ipython",
    "version": 3
   },
   "file_extension": ".py",
   "mimetype": "text/x-python",
   "name": "python",
   "nbconvert_exporter": "python",
   "pygments_lexer": "ipython3",
   "version": "3.7.0"
  }
 },
 "nbformat": 4,
 "nbformat_minor": 2
}
