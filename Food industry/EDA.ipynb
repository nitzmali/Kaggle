{
 "cells": [
  {
   "cell_type": "code",
   "execution_count": 4,
   "metadata": {},
   "outputs": [
    {
     "data": {
      "text/html": [
       "        <script type=\"text/javascript\">\n",
       "        window.PlotlyConfig = {MathJaxConfig: 'local'};\n",
       "        if (window.MathJax) {MathJax.Hub.Config({SVG: {font: \"STIX-Web\"}});}\n",
       "        if (typeof require !== 'undefined') {\n",
       "        require.undef(\"plotly\");\n",
       "        requirejs.config({\n",
       "            paths: {\n",
       "                'plotly': ['https://cdn.plot.ly/plotly-latest.min']\n",
       "            }\n",
       "        });\n",
       "        require(['plotly'], function(Plotly) {\n",
       "            window._Plotly = Plotly;\n",
       "        });\n",
       "        }\n",
       "        </script>\n",
       "        "
      ]
     },
     "metadata": {},
     "output_type": "display_data"
    }
   ],
   "source": [
    "import numpy as np\n",
    "import pandas as pd\n",
    "import scipy\n",
    "import matplotlib.pyplot as plt\n",
    "import seaborn as sns\n",
    "%matplotlib inline\n",
    "import plotly\n",
    "import cufflinks as cf\n",
    "cf.go_offline()\n",
    "import warnings \n",
    "warnings.filterwarnings('ignore')\n",
    "\n",
    "\n",
    "from sklearn.preprocessing import LabelEncoder,OneHotEncoder,StandardScaler\n",
    "from sklearn.model_selection import train_test_split,cross_val_score\n",
    "from sklearn.linear_model import LinearRegression,LogisticRegression\n",
    "from sklearn.svm import SVR,SVC\n",
    "from sklearn.naive_bayes import GaussianNB\n",
    "from sklearn.ensemble import RandomForestClassifier\n",
    "from sklearn.decomposition import PCA"
   ]
  },
  {
   "cell_type": "code",
   "execution_count": 33,
   "metadata": {},
   "outputs": [],
   "source": [
    "df =pd.read_excel('2019 Radian Case Interview Data.xlsx')"
   ]
  },
  {
   "cell_type": "code",
   "execution_count": 34,
   "metadata": {},
   "outputs": [],
   "source": [
    "#changing the column names for smoother programming\n",
    "columns=['storenumber', 'division', 'marketarea', 'subregion','totalstoresales', 'totalstoresfootage','totalstoresellingsqft', 'annualbakerysales',\n",
    "       'avgweeklybakerysales', 'annualbakerygrossmargin',\n",
    "       'bakerygrossmarginrate', 'annualbakerynetoperatingearnings',\n",
    "       'bakerynetoperatingearningspercentage',\n",
    "       'annualbakerydirectpayrollcosts', 'bakerydirectpayrollpercentage',\n",
    "       'annualbakerydeptlaberhours', 'bakerysellingsqft',\n",
    "       'bakerydeptsizegroup',\n",
    "       'coffeshoptype_nb',\n",
    "       'storetype_a', 'storetype_b',\n",
    "       'a_dd', 'b_gl', 'c_qf',\n",
    "       'd_t', 'e-us', 'f_b']\n",
    "\n",
    "df.columns=columns"
   ]
  },
  {
   "cell_type": "code",
   "execution_count": 40,
   "metadata": {},
   "outputs": [
    {
     "data": {
      "text/plain": [
       "storenumber                             0\n",
       "division                                0\n",
       "marketarea                              0\n",
       "subregion                               0\n",
       "totalstoresales                         0\n",
       "totalstoresfootage                      0\n",
       "totalstoresellingsqft                   0\n",
       "annualbakerysales                       0\n",
       "avgweeklybakerysales                    0\n",
       "annualbakerygrossmargin                 0\n",
       "bakerygrossmarginrate                   0\n",
       "annualbakerynetoperatingearnings        0\n",
       "bakerynetoperatingearningspercentage    0\n",
       "annualbakerydirectpayrollcosts          0\n",
       "bakerydirectpayrollpercentage           0\n",
       "annualbakerydeptlaberhours              0\n",
       "bakerysellingsqft                       0\n",
       "bakerydeptsizegroup                     0\n",
       "coffeshoptype_nb                        0\n",
       "storetype_a                             0\n",
       "storetype_b                             0\n",
       "a_dd                                    0\n",
       "b_gl                                    0\n",
       "c_qf                                    0\n",
       "d_t                                     0\n",
       "e-us                                    0\n",
       "f_b                                     0\n",
       "dtype: int64"
      ]
     },
     "execution_count": 40,
     "metadata": {},
     "output_type": "execute_result"
    }
   ],
   "source": [
    "#checking for null values\n",
    "df.isnull().sum()"
   ]
  },
  {
   "cell_type": "code",
   "execution_count": 46,
   "metadata": {},
   "outputs": [
    {
     "name": "stdout",
     "output_type": "stream",
     "text": [
      "<class 'pandas.core.frame.DataFrame'>\n",
      "RangeIndex: 515 entries, 0 to 514\n",
      "Data columns (total 27 columns):\n",
      "storenumber                             515 non-null int64\n",
      "division                                515 non-null object\n",
      "marketarea                              515 non-null object\n",
      "subregion                               515 non-null int64\n",
      "totalstoresales                         515 non-null float64\n",
      "totalstoresfootage                      515 non-null int64\n",
      "totalstoresellingsqft                   515 non-null int64\n",
      "annualbakerysales                       515 non-null float64\n",
      "avgweeklybakerysales                    515 non-null float64\n",
      "annualbakerygrossmargin                 515 non-null float64\n",
      "bakerygrossmarginrate                   515 non-null float64\n",
      "annualbakerynetoperatingearnings        515 non-null float64\n",
      "bakerynetoperatingearningspercentage    515 non-null float64\n",
      "annualbakerydirectpayrollcosts          515 non-null float64\n",
      "bakerydirectpayrollpercentage           515 non-null float64\n",
      "annualbakerydeptlaberhours              515 non-null float64\n",
      "bakerysellingsqft                       515 non-null int64\n",
      "bakerydeptsizegroup                     515 non-null object\n",
      "coffeshoptype_nb                        515 non-null object\n",
      "storetype_a                             515 non-null object\n",
      "storetype_b                             515 non-null object\n",
      "a_dd                                    515 non-null float64\n",
      "b_gl                                    515 non-null float64\n",
      "c_qf                                    515 non-null float64\n",
      "d_t                                     515 non-null float64\n",
      "e-us                                    515 non-null float64\n",
      "f_b                                     515 non-null float64\n",
      "dtypes: float64(16), int64(5), object(6)\n",
      "memory usage: 108.7+ KB\n"
     ]
    }
   ],
   "source": [
    "df.info()"
   ]
  },
  {
   "cell_type": "code",
   "execution_count": 41,
   "metadata": {},
   "outputs": [
    {
     "data": {
      "text/html": [
       "<div>\n",
       "<style scoped>\n",
       "    .dataframe tbody tr th:only-of-type {\n",
       "        vertical-align: middle;\n",
       "    }\n",
       "\n",
       "    .dataframe tbody tr th {\n",
       "        vertical-align: top;\n",
       "    }\n",
       "\n",
       "    .dataframe thead th {\n",
       "        text-align: right;\n",
       "    }\n",
       "</style>\n",
       "<table border=\"1\" class=\"dataframe\">\n",
       "  <thead>\n",
       "    <tr style=\"text-align: right;\">\n",
       "      <th></th>\n",
       "      <th>storenumber</th>\n",
       "      <th>division</th>\n",
       "      <th>marketarea</th>\n",
       "      <th>subregion</th>\n",
       "      <th>totalstoresales</th>\n",
       "      <th>totalstoresfootage</th>\n",
       "      <th>totalstoresellingsqft</th>\n",
       "      <th>annualbakerysales</th>\n",
       "      <th>avgweeklybakerysales</th>\n",
       "      <th>annualbakerygrossmargin</th>\n",
       "      <th>...</th>\n",
       "      <th>bakerydeptsizegroup</th>\n",
       "      <th>coffeshoptype_nb</th>\n",
       "      <th>storetype_a</th>\n",
       "      <th>storetype_b</th>\n",
       "      <th>a_dd</th>\n",
       "      <th>b_gl</th>\n",
       "      <th>c_qf</th>\n",
       "      <th>d_t</th>\n",
       "      <th>e-us</th>\n",
       "      <th>f_b</th>\n",
       "    </tr>\n",
       "  </thead>\n",
       "  <tbody>\n",
       "    <tr>\n",
       "      <th>0</th>\n",
       "      <td>1</td>\n",
       "      <td>DIVISION 01</td>\n",
       "      <td>REGION 1</td>\n",
       "      <td>1</td>\n",
       "      <td>25051671.12</td>\n",
       "      <td>37440</td>\n",
       "      <td>21824</td>\n",
       "      <td>537176.06</td>\n",
       "      <td>10330.308846</td>\n",
       "      <td>314725.23</td>\n",
       "      <td>...</td>\n",
       "      <td>SMALL</td>\n",
       "      <td>None</td>\n",
       "      <td>1-Quality Places</td>\n",
       "      <td>2-Mid/Traditional</td>\n",
       "      <td>0.230706</td>\n",
       "      <td>0.090784</td>\n",
       "      <td>0.046249</td>\n",
       "      <td>0.306602</td>\n",
       "      <td>0.268462</td>\n",
       "      <td>0.057197</td>\n",
       "    </tr>\n",
       "    <tr>\n",
       "      <th>1</th>\n",
       "      <td>3</td>\n",
       "      <td>DIVISION 01</td>\n",
       "      <td>REGION 1</td>\n",
       "      <td>1</td>\n",
       "      <td>37256804.00</td>\n",
       "      <td>79436</td>\n",
       "      <td>48453</td>\n",
       "      <td>851926.89</td>\n",
       "      <td>16383.209423</td>\n",
       "      <td>489247.63</td>\n",
       "      <td>...</td>\n",
       "      <td>MEDIUM</td>\n",
       "      <td>Dunkin Donuts</td>\n",
       "      <td>2-Mainstream Markets</td>\n",
       "      <td>2-Mid/Traditional</td>\n",
       "      <td>0.184601</td>\n",
       "      <td>0.141916</td>\n",
       "      <td>0.075622</td>\n",
       "      <td>0.301760</td>\n",
       "      <td>0.210752</td>\n",
       "      <td>0.085349</td>\n",
       "    </tr>\n",
       "    <tr>\n",
       "      <th>2</th>\n",
       "      <td>5</td>\n",
       "      <td>DIVISION 01</td>\n",
       "      <td>REGION 1</td>\n",
       "      <td>1</td>\n",
       "      <td>21649459.79</td>\n",
       "      <td>78133</td>\n",
       "      <td>48220</td>\n",
       "      <td>599781.15</td>\n",
       "      <td>11534.252885</td>\n",
       "      <td>327419.16</td>\n",
       "      <td>...</td>\n",
       "      <td>LARGE</td>\n",
       "      <td>None</td>\n",
       "      <td>3-Savings Centers</td>\n",
       "      <td>2-Mid/Traditional</td>\n",
       "      <td>0.146546</td>\n",
       "      <td>0.085418</td>\n",
       "      <td>0.045554</td>\n",
       "      <td>0.367253</td>\n",
       "      <td>0.264162</td>\n",
       "      <td>0.091067</td>\n",
       "    </tr>\n",
       "    <tr>\n",
       "      <th>3</th>\n",
       "      <td>6</td>\n",
       "      <td>DIVISION 01</td>\n",
       "      <td>REGION 1</td>\n",
       "      <td>1</td>\n",
       "      <td>37771075.80</td>\n",
       "      <td>75391</td>\n",
       "      <td>45118</td>\n",
       "      <td>858674.28</td>\n",
       "      <td>16512.966923</td>\n",
       "      <td>499531.40</td>\n",
       "      <td>...</td>\n",
       "      <td>SMALL</td>\n",
       "      <td>Starbucks</td>\n",
       "      <td>1-Quality Places</td>\n",
       "      <td>2-Mid/Traditional</td>\n",
       "      <td>0.201927</td>\n",
       "      <td>0.140318</td>\n",
       "      <td>0.072568</td>\n",
       "      <td>0.302012</td>\n",
       "      <td>0.204857</td>\n",
       "      <td>0.078319</td>\n",
       "    </tr>\n",
       "    <tr>\n",
       "      <th>4</th>\n",
       "      <td>7</td>\n",
       "      <td>DIVISION 01</td>\n",
       "      <td>REGION 1</td>\n",
       "      <td>1</td>\n",
       "      <td>39641511.90</td>\n",
       "      <td>80125</td>\n",
       "      <td>48105</td>\n",
       "      <td>834844.29</td>\n",
       "      <td>16054.697885</td>\n",
       "      <td>479350.66</td>\n",
       "      <td>...</td>\n",
       "      <td>MEDIUM</td>\n",
       "      <td>Dunkin Donuts</td>\n",
       "      <td>1-Quality Places</td>\n",
       "      <td>2-Mid/Traditional</td>\n",
       "      <td>0.129740</td>\n",
       "      <td>0.143704</td>\n",
       "      <td>0.096409</td>\n",
       "      <td>0.305724</td>\n",
       "      <td>0.194539</td>\n",
       "      <td>0.129884</td>\n",
       "    </tr>\n",
       "  </tbody>\n",
       "</table>\n",
       "<p>5 rows × 27 columns</p>\n",
       "</div>"
      ],
      "text/plain": [
       "   storenumber     division marketarea  subregion  totalstoresales  \\\n",
       "0            1  DIVISION 01   REGION 1          1      25051671.12   \n",
       "1            3  DIVISION 01   REGION 1          1      37256804.00   \n",
       "2            5  DIVISION 01   REGION 1          1      21649459.79   \n",
       "3            6  DIVISION 01   REGION 1          1      37771075.80   \n",
       "4            7  DIVISION 01   REGION 1          1      39641511.90   \n",
       "\n",
       "   totalstoresfootage  totalstoresellingsqft  annualbakerysales  \\\n",
       "0               37440                  21824          537176.06   \n",
       "1               79436                  48453          851926.89   \n",
       "2               78133                  48220          599781.15   \n",
       "3               75391                  45118          858674.28   \n",
       "4               80125                  48105          834844.29   \n",
       "\n",
       "   avgweeklybakerysales  annualbakerygrossmargin  ...  bakerydeptsizegroup  \\\n",
       "0          10330.308846                314725.23  ...                SMALL   \n",
       "1          16383.209423                489247.63  ...               MEDIUM   \n",
       "2          11534.252885                327419.16  ...                LARGE   \n",
       "3          16512.966923                499531.40  ...                SMALL   \n",
       "4          16054.697885                479350.66  ...               MEDIUM   \n",
       "\n",
       "   coffeshoptype_nb           storetype_a        storetype_b      a_dd  \\\n",
       "0              None      1-Quality Places  2-Mid/Traditional  0.230706   \n",
       "1     Dunkin Donuts  2-Mainstream Markets  2-Mid/Traditional  0.184601   \n",
       "2              None     3-Savings Centers  2-Mid/Traditional  0.146546   \n",
       "3         Starbucks      1-Quality Places  2-Mid/Traditional  0.201927   \n",
       "4     Dunkin Donuts      1-Quality Places  2-Mid/Traditional  0.129740   \n",
       "\n",
       "       b_gl      c_qf       d_t      e-us       f_b  \n",
       "0  0.090784  0.046249  0.306602  0.268462  0.057197  \n",
       "1  0.141916  0.075622  0.301760  0.210752  0.085349  \n",
       "2  0.085418  0.045554  0.367253  0.264162  0.091067  \n",
       "3  0.140318  0.072568  0.302012  0.204857  0.078319  \n",
       "4  0.143704  0.096409  0.305724  0.194539  0.129884  \n",
       "\n",
       "[5 rows x 27 columns]"
      ]
     },
     "execution_count": 41,
     "metadata": {},
     "output_type": "execute_result"
    }
   ],
   "source": [
    "df.head()"
   ]
  },
  {
   "cell_type": "code",
   "execution_count": 71,
   "metadata": {},
   "outputs": [],
   "source": [
    "#total store\n",
    "totstore= ['storenumber', 'division', 'marketarea', 'subregion','totalstoresales', 'totalstoresfootage','totalstoresellingsqft']\n",
    "\n",
    "#annual bakery \n",
    "bd=['annualbakerysales',\n",
    "       'avgweeklybakerysales', 'annualbakerygrossmargin',\n",
    "       'bakerygrossmarginrate', 'annualbakerynetoperatingearnings',\n",
    "       'bakerynetoperatingearningspercentage',\n",
    "       'annualbakerydirectpayrollcosts', 'bakerydirectpayrollpercentage',\n",
    "       'annualbakerydeptlaberhours', 'bakerysellingsqft']\n",
    "\n",
    "#store attr\n",
    "storeatt=['bakerydeptsizegroup','coffeshoptype_nb']\n",
    "\n",
    "#storesegm\n",
    "storesegmcustprof=['storetype_a', 'storetype_b','a_dd', 'b_gl', 'c_qf','d_t', 'e-us', 'f_b']"
   ]
  },
  {
   "cell_type": "code",
   "execution_count": 176,
   "metadata": {},
   "outputs": [
    {
     "data": {
      "text/html": [
       "<div>\n",
       "<style scoped>\n",
       "    .dataframe tbody tr th:only-of-type {\n",
       "        vertical-align: middle;\n",
       "    }\n",
       "\n",
       "    .dataframe tbody tr th {\n",
       "        vertical-align: top;\n",
       "    }\n",
       "\n",
       "    .dataframe thead th {\n",
       "        text-align: right;\n",
       "    }\n",
       "</style>\n",
       "<table border=\"1\" class=\"dataframe\">\n",
       "  <thead>\n",
       "    <tr style=\"text-align: right;\">\n",
       "      <th></th>\n",
       "      <th>storenumber</th>\n",
       "      <th>division</th>\n",
       "      <th>marketarea</th>\n",
       "      <th>subregion</th>\n",
       "      <th>totalstoresales</th>\n",
       "      <th>totalstoresfootage</th>\n",
       "      <th>totalstoresellingsqft</th>\n",
       "      <th>annualbakerysales</th>\n",
       "      <th>avgweeklybakerysales</th>\n",
       "      <th>annualbakerygrossmargin</th>\n",
       "      <th>...</th>\n",
       "      <th>bakerydeptsizegroup</th>\n",
       "      <th>coffeshoptype_nb</th>\n",
       "      <th>storetype_a</th>\n",
       "      <th>storetype_b</th>\n",
       "      <th>a_dd</th>\n",
       "      <th>b_gl</th>\n",
       "      <th>c_qf</th>\n",
       "      <th>d_t</th>\n",
       "      <th>e-us</th>\n",
       "      <th>f_b</th>\n",
       "    </tr>\n",
       "  </thead>\n",
       "  <tbody>\n",
       "    <tr>\n",
       "      <th>0</th>\n",
       "      <td>1</td>\n",
       "      <td>DIVISION 01</td>\n",
       "      <td>REGION 1</td>\n",
       "      <td>1</td>\n",
       "      <td>25051671.12</td>\n",
       "      <td>37440</td>\n",
       "      <td>21824</td>\n",
       "      <td>537176.06</td>\n",
       "      <td>10330.308846</td>\n",
       "      <td>314725.23</td>\n",
       "      <td>...</td>\n",
       "      <td>SMALL</td>\n",
       "      <td>None</td>\n",
       "      <td>1-Quality Places</td>\n",
       "      <td>2-Mid/Traditional</td>\n",
       "      <td>0.230706</td>\n",
       "      <td>0.090784</td>\n",
       "      <td>0.046249</td>\n",
       "      <td>0.306602</td>\n",
       "      <td>0.268462</td>\n",
       "      <td>0.057197</td>\n",
       "    </tr>\n",
       "    <tr>\n",
       "      <th>1</th>\n",
       "      <td>3</td>\n",
       "      <td>DIVISION 01</td>\n",
       "      <td>REGION 1</td>\n",
       "      <td>1</td>\n",
       "      <td>37256804.00</td>\n",
       "      <td>79436</td>\n",
       "      <td>48453</td>\n",
       "      <td>851926.89</td>\n",
       "      <td>16383.209423</td>\n",
       "      <td>489247.63</td>\n",
       "      <td>...</td>\n",
       "      <td>MEDIUM</td>\n",
       "      <td>Dunkin Donuts</td>\n",
       "      <td>2-Mainstream Markets</td>\n",
       "      <td>2-Mid/Traditional</td>\n",
       "      <td>0.184601</td>\n",
       "      <td>0.141916</td>\n",
       "      <td>0.075622</td>\n",
       "      <td>0.301760</td>\n",
       "      <td>0.210752</td>\n",
       "      <td>0.085349</td>\n",
       "    </tr>\n",
       "    <tr>\n",
       "      <th>2</th>\n",
       "      <td>5</td>\n",
       "      <td>DIVISION 01</td>\n",
       "      <td>REGION 1</td>\n",
       "      <td>1</td>\n",
       "      <td>21649459.79</td>\n",
       "      <td>78133</td>\n",
       "      <td>48220</td>\n",
       "      <td>599781.15</td>\n",
       "      <td>11534.252885</td>\n",
       "      <td>327419.16</td>\n",
       "      <td>...</td>\n",
       "      <td>LARGE</td>\n",
       "      <td>None</td>\n",
       "      <td>3-Savings Centers</td>\n",
       "      <td>2-Mid/Traditional</td>\n",
       "      <td>0.146546</td>\n",
       "      <td>0.085418</td>\n",
       "      <td>0.045554</td>\n",
       "      <td>0.367253</td>\n",
       "      <td>0.264162</td>\n",
       "      <td>0.091067</td>\n",
       "    </tr>\n",
       "    <tr>\n",
       "      <th>3</th>\n",
       "      <td>6</td>\n",
       "      <td>DIVISION 01</td>\n",
       "      <td>REGION 1</td>\n",
       "      <td>1</td>\n",
       "      <td>37771075.80</td>\n",
       "      <td>75391</td>\n",
       "      <td>45118</td>\n",
       "      <td>858674.28</td>\n",
       "      <td>16512.966923</td>\n",
       "      <td>499531.40</td>\n",
       "      <td>...</td>\n",
       "      <td>SMALL</td>\n",
       "      <td>Starbucks</td>\n",
       "      <td>1-Quality Places</td>\n",
       "      <td>2-Mid/Traditional</td>\n",
       "      <td>0.201927</td>\n",
       "      <td>0.140318</td>\n",
       "      <td>0.072568</td>\n",
       "      <td>0.302012</td>\n",
       "      <td>0.204857</td>\n",
       "      <td>0.078319</td>\n",
       "    </tr>\n",
       "    <tr>\n",
       "      <th>4</th>\n",
       "      <td>7</td>\n",
       "      <td>DIVISION 01</td>\n",
       "      <td>REGION 1</td>\n",
       "      <td>1</td>\n",
       "      <td>39641511.90</td>\n",
       "      <td>80125</td>\n",
       "      <td>48105</td>\n",
       "      <td>834844.29</td>\n",
       "      <td>16054.697885</td>\n",
       "      <td>479350.66</td>\n",
       "      <td>...</td>\n",
       "      <td>MEDIUM</td>\n",
       "      <td>Dunkin Donuts</td>\n",
       "      <td>1-Quality Places</td>\n",
       "      <td>2-Mid/Traditional</td>\n",
       "      <td>0.129740</td>\n",
       "      <td>0.143704</td>\n",
       "      <td>0.096409</td>\n",
       "      <td>0.305724</td>\n",
       "      <td>0.194539</td>\n",
       "      <td>0.129884</td>\n",
       "    </tr>\n",
       "  </tbody>\n",
       "</table>\n",
       "<p>5 rows × 27 columns</p>\n",
       "</div>"
      ],
      "text/plain": [
       "   storenumber     division marketarea  subregion  totalstoresales  \\\n",
       "0            1  DIVISION 01   REGION 1          1      25051671.12   \n",
       "1            3  DIVISION 01   REGION 1          1      37256804.00   \n",
       "2            5  DIVISION 01   REGION 1          1      21649459.79   \n",
       "3            6  DIVISION 01   REGION 1          1      37771075.80   \n",
       "4            7  DIVISION 01   REGION 1          1      39641511.90   \n",
       "\n",
       "   totalstoresfootage  totalstoresellingsqft  annualbakerysales  \\\n",
       "0               37440                  21824          537176.06   \n",
       "1               79436                  48453          851926.89   \n",
       "2               78133                  48220          599781.15   \n",
       "3               75391                  45118          858674.28   \n",
       "4               80125                  48105          834844.29   \n",
       "\n",
       "   avgweeklybakerysales  annualbakerygrossmargin  ...  bakerydeptsizegroup  \\\n",
       "0          10330.308846                314725.23  ...                SMALL   \n",
       "1          16383.209423                489247.63  ...               MEDIUM   \n",
       "2          11534.252885                327419.16  ...                LARGE   \n",
       "3          16512.966923                499531.40  ...                SMALL   \n",
       "4          16054.697885                479350.66  ...               MEDIUM   \n",
       "\n",
       "   coffeshoptype_nb           storetype_a        storetype_b      a_dd  \\\n",
       "0              None      1-Quality Places  2-Mid/Traditional  0.230706   \n",
       "1     Dunkin Donuts  2-Mainstream Markets  2-Mid/Traditional  0.184601   \n",
       "2              None     3-Savings Centers  2-Mid/Traditional  0.146546   \n",
       "3         Starbucks      1-Quality Places  2-Mid/Traditional  0.201927   \n",
       "4     Dunkin Donuts      1-Quality Places  2-Mid/Traditional  0.129740   \n",
       "\n",
       "       b_gl      c_qf       d_t      e-us       f_b  \n",
       "0  0.090784  0.046249  0.306602  0.268462  0.057197  \n",
       "1  0.141916  0.075622  0.301760  0.210752  0.085349  \n",
       "2  0.085418  0.045554  0.367253  0.264162  0.091067  \n",
       "3  0.140318  0.072568  0.302012  0.204857  0.078319  \n",
       "4  0.143704  0.096409  0.305724  0.194539  0.129884  \n",
       "\n",
       "[5 rows x 27 columns]"
      ]
     },
     "execution_count": 176,
     "metadata": {},
     "output_type": "execute_result"
    }
   ],
   "source": [
    "df.head()"
   ]
  },
  {
   "cell_type": "code",
   "execution_count": 196,
   "metadata": {},
   "outputs": [
    {
     "name": "stdout",
     "output_type": "stream",
     "text": [
      "$0.33 billion\n",
      "$15.6 billion\n",
      "The total bakery business is about  2.13 % of total store\n"
     ]
    }
   ],
   "source": [
    "# questions\n",
    "'''How big is our bakery business today? What is the sales contribution to the total store?  '''\n",
    "\n",
    "\n",
    "bakerybusiness=df['annualbakerysales'].sum()\n",
    "print('$'+str(round(bakerybusiness/1000000000,2))+' billion')\n",
    "\n",
    "totalstore=df['totalstoresales'].sum()\n",
    "print('$'+str(round(totalstore/1000000000,2))+' billion')\n",
    "\n",
    "print('The total bakery business is about ',round((bakerybusiness/totalstore) *100,2),\"% of total store\")"
   ]
  },
  {
   "cell_type": "code",
   "execution_count": 212,
   "metadata": {},
   "outputs": [
    {
     "name": "stdout",
     "output_type": "stream",
     "text": [
      "$30.29 million\n",
      "$0.65 million\n",
      "The total bakery business is about  2.13 % of total store\n"
     ]
    }
   ],
   "source": [
    "'''Average sales per store and range of variability?'''\n",
    "\n",
    "avgsalesperstore = df['totalstoresales'].mean()\n",
    "avgbaksalesperstore=df['annualbakerysales'].mean()\n",
    "print('$'+str(round(avgsalesperstore/1000000,2))+' million')\n",
    "\n",
    "print('$'+str(round(avgbaksalesperstore/1000000,2))+' million')\n",
    "\n",
    "print('The total bakery business is about ',round((avgbaksalesperstore/avgsalesperstore) *100,2),\"% of total store\")\n",
    "\n",
    "\n"
   ]
  },
  {
   "cell_type": "code",
   "execution_count": 213,
   "metadata": {},
   "outputs": [],
   "source": [
    "def normalize(df,columns):\n",
    "    for each in columns:\n",
    "        df[each]=df[each]-(df[each].mean())/df[each].std()\n",
    "    return df"
   ]
  },
  {
   "cell_type": "code",
   "execution_count": null,
   "metadata": {},
   "outputs": [],
   "source": [
    "'''Does size matter? \n",
    "What impact does store square footage and store sales volume have on bakery department sales? \n",
    "What impact does bakery square footage have on bakery department sales?  Are larger bakeries better?\n",
    "'''"
   ]
  },
  {
   "cell_type": "code",
   "execution_count": 237,
   "metadata": {},
   "outputs": [],
   "source": [
    "\n",
    "\n",
    "#sales analysis\n",
    "sales=df[['division','marketarea','subregion','totalstoresales','totalstoresfootage','totalstoresellingsqft','annualbakerysales','avgweeklybakerysales','annualbakerygrossmargin','bakerysellingsqft']]\n",
    "intcolumns=['totalstoresales','totalstoresfootage','totalstoresellingsqft','annualbakerysales','avgweeklybakerysales','annualbakerygrossmargin','bakerysellingsqft']\n",
    "\n",
    "\n",
    "sales[intcolumns] = sales[intcolumns].apply(lambda x: (x - x.min()) / (x.max() - x.min()))"
   ]
  },
  {
   "cell_type": "code",
   "execution_count": 238,
   "metadata": {},
   "outputs": [
    {
     "data": {
      "text/html": [
       "<div>\n",
       "<style scoped>\n",
       "    .dataframe tbody tr th:only-of-type {\n",
       "        vertical-align: middle;\n",
       "    }\n",
       "\n",
       "    .dataframe tbody tr th {\n",
       "        vertical-align: top;\n",
       "    }\n",
       "\n",
       "    .dataframe thead th {\n",
       "        text-align: right;\n",
       "    }\n",
       "</style>\n",
       "<table border=\"1\" class=\"dataframe\">\n",
       "  <thead>\n",
       "    <tr style=\"text-align: right;\">\n",
       "      <th></th>\n",
       "      <th>division</th>\n",
       "      <th>marketarea</th>\n",
       "      <th>subregion</th>\n",
       "      <th>totalstoresales</th>\n",
       "      <th>totalstoresfootage</th>\n",
       "      <th>totalstoresellingsqft</th>\n",
       "      <th>annualbakerysales</th>\n",
       "      <th>avgweeklybakerysales</th>\n",
       "      <th>annualbakerygrossmargin</th>\n",
       "      <th>bakerysellingsqft</th>\n",
       "    </tr>\n",
       "  </thead>\n",
       "  <tbody>\n",
       "    <tr>\n",
       "      <th>0</th>\n",
       "      <td>DIVISION 01</td>\n",
       "      <td>REGION 1</td>\n",
       "      <td>1</td>\n",
       "      <td>0.264983</td>\n",
       "      <td>0.205858</td>\n",
       "      <td>0.201056</td>\n",
       "      <td>0.249785</td>\n",
       "      <td>0.249785</td>\n",
       "      <td>0.264204</td>\n",
       "      <td>0.194949</td>\n",
       "    </tr>\n",
       "    <tr>\n",
       "      <th>1</th>\n",
       "      <td>DIVISION 01</td>\n",
       "      <td>REGION 1</td>\n",
       "      <td>1</td>\n",
       "      <td>0.460841</td>\n",
       "      <td>0.669656</td>\n",
       "      <td>0.794487</td>\n",
       "      <td>0.447540</td>\n",
       "      <td>0.447540</td>\n",
       "      <td>0.453361</td>\n",
       "      <td>0.339391</td>\n",
       "    </tr>\n",
       "    <tr>\n",
       "      <th>2</th>\n",
       "      <td>DIVISION 01</td>\n",
       "      <td>REGION 1</td>\n",
       "      <td>1</td>\n",
       "      <td>0.210387</td>\n",
       "      <td>0.655266</td>\n",
       "      <td>0.789294</td>\n",
       "      <td>0.289119</td>\n",
       "      <td>0.289119</td>\n",
       "      <td>0.277962</td>\n",
       "      <td>0.418220</td>\n",
       "    </tr>\n",
       "    <tr>\n",
       "      <th>3</th>\n",
       "      <td>DIVISION 01</td>\n",
       "      <td>REGION 1</td>\n",
       "      <td>1</td>\n",
       "      <td>0.469094</td>\n",
       "      <td>0.624983</td>\n",
       "      <td>0.720166</td>\n",
       "      <td>0.451779</td>\n",
       "      <td>0.451779</td>\n",
       "      <td>0.464507</td>\n",
       "      <td>0.243805</td>\n",
       "    </tr>\n",
       "    <tr>\n",
       "      <th>4</th>\n",
       "      <td>DIVISION 01</td>\n",
       "      <td>REGION 1</td>\n",
       "      <td>1</td>\n",
       "      <td>0.499109</td>\n",
       "      <td>0.677265</td>\n",
       "      <td>0.786731</td>\n",
       "      <td>0.436807</td>\n",
       "      <td>0.436807</td>\n",
       "      <td>0.442634</td>\n",
       "      <td>0.322398</td>\n",
       "    </tr>\n",
       "  </tbody>\n",
       "</table>\n",
       "</div>"
      ],
      "text/plain": [
       "      division marketarea  subregion  totalstoresales  totalstoresfootage  \\\n",
       "0  DIVISION 01   REGION 1          1         0.264983            0.205858   \n",
       "1  DIVISION 01   REGION 1          1         0.460841            0.669656   \n",
       "2  DIVISION 01   REGION 1          1         0.210387            0.655266   \n",
       "3  DIVISION 01   REGION 1          1         0.469094            0.624983   \n",
       "4  DIVISION 01   REGION 1          1         0.499109            0.677265   \n",
       "\n",
       "   totalstoresellingsqft  annualbakerysales  avgweeklybakerysales  \\\n",
       "0               0.201056           0.249785              0.249785   \n",
       "1               0.794487           0.447540              0.447540   \n",
       "2               0.789294           0.289119              0.289119   \n",
       "3               0.720166           0.451779              0.451779   \n",
       "4               0.786731           0.436807              0.436807   \n",
       "\n",
       "   annualbakerygrossmargin  bakerysellingsqft  \n",
       "0                 0.264204           0.194949  \n",
       "1                 0.453361           0.339391  \n",
       "2                 0.277962           0.418220  \n",
       "3                 0.464507           0.243805  \n",
       "4                 0.442634           0.322398  "
      ]
     },
     "execution_count": 238,
     "metadata": {},
     "output_type": "execute_result"
    }
   ],
   "source": [
    "sales.head()"
   ]
  },
  {
   "cell_type": "code",
   "execution_count": 239,
   "metadata": {},
   "outputs": [
    {
     "data": {
      "application/vnd.plotly.v1+json": {
       "config": {
        "linkText": "Export to plot.ly",
        "plotlyServerURL": "https://plot.ly",
        "showLink": true
       },
       "data": [
        {
         "marker": {
          "color": "rgba(255, 153, 51, 0.6)",
          "line": {
           "color": "rgba(255, 153, 51, 1.0)",
           "width": 1
          }
         },
         "name": "totalstoresales",
         "orientation": "v",
         "text": "",
         "type": "bar",
         "uid": "51628e07-eeec-4d64-b752-cf2001f03572",
         "x": [
          "(DIVISION 01,2)",
          "(DIVISION 01,1)",
          "(DIVISION 01,3)",
          "(DIVISION 01,4)",
          "(DIVISION 02,5)",
          "(DIVISION 02,6)",
          "(DIVISION 02,7)"
         ],
         "y": [
          41.048202224328406,
          32.27996024283243,
          32.78414130899558,
          20.571929985401432,
          21.189767394022258,
          18.86409997975011,
          12.994160091163906
         ]
        },
        {
         "marker": {
          "color": "rgba(55, 128, 191, 0.6)",
          "line": {
           "color": "rgba(55, 128, 191, 1.0)",
           "width": 1
          }
         },
         "name": "totalstoresfootage",
         "orientation": "v",
         "text": "",
         "type": "bar",
         "uid": "469f14f1-2892-4ea2-b204-647a5e88e340",
         "x": [
          "(DIVISION 01,2)",
          "(DIVISION 01,1)",
          "(DIVISION 01,3)",
          "(DIVISION 01,4)",
          "(DIVISION 02,5)",
          "(DIVISION 02,6)",
          "(DIVISION 02,7)"
         ],
         "y": [
          57.91333878164068,
          55.03860935636347,
          41.612802049741575,
          30.2134006272916,
          23.55430269028582,
          22.12776648849229,
          17.116579051994524
         ]
        }
       ],
       "layout": {
        "legend": {
         "bgcolor": "#F5F6F9",
         "font": {
          "color": "#4D5663"
         }
        },
        "paper_bgcolor": "#F5F6F9",
        "plot_bgcolor": "#F5F6F9",
        "title": {
         "font": {
          "color": "#4D5663"
         }
        },
        "xaxis": {
         "gridcolor": "#E1E5ED",
         "showgrid": true,
         "tickfont": {
          "color": "#4D5663"
         },
         "title": {
          "font": {
           "color": "#4D5663"
          },
          "text": ""
         },
         "zerolinecolor": "#E1E5ED"
        },
        "yaxis": {
         "gridcolor": "#E1E5ED",
         "showgrid": true,
         "tickfont": {
          "color": "#4D5663"
         },
         "title": {
          "font": {
           "color": "#4D5663"
          },
          "text": ""
         },
         "zerolinecolor": "#E1E5ED"
        }
       }
      },
      "text/html": [
       "<div>\n",
       "        \n",
       "        \n",
       "            <div id=\"99e9d15f-e9bb-4815-bccc-af460f04544b\" class=\"plotly-graph-div\" style=\"height:525px; width:100%;\"></div>\n",
       "            <script type=\"text/javascript\">\n",
       "                require([\"plotly\"], function(Plotly) {\n",
       "                    window.PLOTLYENV=window.PLOTLYENV || {};\n",
       "                    window.PLOTLYENV.BASE_URL='https://plot.ly';\n",
       "                    \n",
       "                if (document.getElementById(\"99e9d15f-e9bb-4815-bccc-af460f04544b\")) {\n",
       "                    Plotly.newPlot(\n",
       "                        '99e9d15f-e9bb-4815-bccc-af460f04544b',\n",
       "                        [{\"marker\": {\"color\": \"rgba(255, 153, 51, 0.6)\", \"line\": {\"color\": \"rgba(255, 153, 51, 1.0)\", \"width\": 1}}, \"name\": \"totalstoresales\", \"orientation\": \"v\", \"text\": \"\", \"type\": \"bar\", \"uid\": \"51628e07-eeec-4d64-b752-cf2001f03572\", \"x\": [\"(DIVISION 01,2)\", \"(DIVISION 01,1)\", \"(DIVISION 01,3)\", \"(DIVISION 01,4)\", \"(DIVISION 02,5)\", \"(DIVISION 02,6)\", \"(DIVISION 02,7)\"], \"y\": [41.048202224328406, 32.27996024283243, 32.78414130899558, 20.571929985401432, 21.189767394022258, 18.86409997975011, 12.994160091163906]}, {\"marker\": {\"color\": \"rgba(55, 128, 191, 0.6)\", \"line\": {\"color\": \"rgba(55, 128, 191, 1.0)\", \"width\": 1}}, \"name\": \"totalstoresfootage\", \"orientation\": \"v\", \"text\": \"\", \"type\": \"bar\", \"uid\": \"469f14f1-2892-4ea2-b204-647a5e88e340\", \"x\": [\"(DIVISION 01,2)\", \"(DIVISION 01,1)\", \"(DIVISION 01,3)\", \"(DIVISION 01,4)\", \"(DIVISION 02,5)\", \"(DIVISION 02,6)\", \"(DIVISION 02,7)\"], \"y\": [57.91333878164068, 55.03860935636347, 41.612802049741575, 30.2134006272916, 23.55430269028582, 22.12776648849229, 17.116579051994524]}],\n",
       "                        {\"legend\": {\"bgcolor\": \"#F5F6F9\", \"font\": {\"color\": \"#4D5663\"}}, \"paper_bgcolor\": \"#F5F6F9\", \"plot_bgcolor\": \"#F5F6F9\", \"title\": {\"font\": {\"color\": \"#4D5663\"}}, \"xaxis\": {\"gridcolor\": \"#E1E5ED\", \"showgrid\": true, \"tickfont\": {\"color\": \"#4D5663\"}, \"title\": {\"font\": {\"color\": \"#4D5663\"}, \"text\": \"\"}, \"zerolinecolor\": \"#E1E5ED\"}, \"yaxis\": {\"gridcolor\": \"#E1E5ED\", \"showgrid\": true, \"tickfont\": {\"color\": \"#4D5663\"}, \"title\": {\"font\": {\"color\": \"#4D5663\"}, \"text\": \"\"}, \"zerolinecolor\": \"#E1E5ED\"}},\n",
       "                        {\"showLink\": true, \"linkText\": \"Export to plot.ly\", \"plotlyServerURL\": \"https://plot.ly\", \"responsive\": true}\n",
       "                    ).then(function(){\n",
       "                            \n",
       "var gd = document.getElementById('99e9d15f-e9bb-4815-bccc-af460f04544b');\n",
       "var x = new MutationObserver(function (mutations, observer) {{\n",
       "        var display = window.getComputedStyle(gd).display;\n",
       "        if (!display || display === 'none') {{\n",
       "            console.log([gd, 'removed!']);\n",
       "            Plotly.purge(gd);\n",
       "            observer.disconnect();\n",
       "        }}\n",
       "}});\n",
       "\n",
       "// Listen for the removal of the full notebook cells\n",
       "var notebookContainer = gd.closest('#notebook-container');\n",
       "if (notebookContainer) {{\n",
       "    x.observe(notebookContainer, {childList: true});\n",
       "}}\n",
       "\n",
       "// Listen for the clearing of the current output cell\n",
       "var outputEl = gd.closest('.output');\n",
       "if (outputEl) {{\n",
       "    x.observe(outputEl, {childList: true});\n",
       "}}\n",
       "\n",
       "                        })\n",
       "                };\n",
       "                });\n",
       "            </script>\n",
       "        </div>"
      ]
     },
     "metadata": {},
     "output_type": "display_data"
    }
   ],
   "source": [
    "# the totalstoresales are  correlated with totalstorefootage (more storefootage, more sales)\n",
    "# but we can see in the division 01 and subregion 1 the sales is drastically low : let's keep this in mind and move forward\n",
    "sales.groupby(['division','subregion']).agg({'totalstoresales':sum,'totalstoresfootage':sum}).\\\n",
    "sort_values(['totalstoresfootage'],ascending=False).iplot(kind='bar')"
   ]
  },
  {
   "cell_type": "code",
   "execution_count": 240,
   "metadata": {},
   "outputs": [
    {
     "data": {
      "text/plain": [
       "<matplotlib.collections.PathCollection at 0x2779f76fcf8>"
      ]
     },
     "execution_count": 240,
     "metadata": {},
     "output_type": "execute_result"
    },
    {
     "data": {
      "image/png": "[encoded data removed]",
      "text/plain": [
       "<Figure size 432x288 with 1 Axes>"
      ]
     },
     "metadata": {
      "needs_background": "light"
     },
     "output_type": "display_data"
    }
   ],
   "source": [
    "plt.scatter(sales['totalstoresfootage'],sales['totalstoresales'])"
   ]
  },
  {
   "cell_type": "code",
   "execution_count": 241,
   "metadata": {},
   "outputs": [
    {
     "data": {
      "application/vnd.plotly.v1+json": {
       "config": {
        "linkText": "Export to plot.ly",
        "plotlyServerURL": "https://plot.ly",
        "showLink": true
       },
       "data": [
        {
         "marker": {
          "color": "rgba(255, 153, 51, 0.6)",
          "line": {
           "color": "rgba(255, 153, 51, 1.0)",
           "width": 1
          }
         },
         "name": "totalstoresales",
         "orientation": "v",
         "text": "",
         "type": "bar",
         "uid": "3bd382a1-1c36-48d2-92c0-0e76649e9205",
         "x": [
          "(DIVISION 01,2)",
          "(DIVISION 01,3)",
          "(DIVISION 01,1)",
          "(DIVISION 02,5)",
          "(DIVISION 01,4)",
          "(DIVISION 02,6)",
          "(DIVISION 02,7)"
         ],
         "y": [
          41.048202224328406,
          32.78414130899558,
          32.27996024283243,
          21.189767394022258,
          20.571929985401432,
          18.86409997975011,
          12.994160091163906
         ]
        },
        {
         "marker": {
          "color": "rgba(55, 128, 191, 0.6)",
          "line": {
           "color": "rgba(55, 128, 191, 1.0)",
           "width": 1
          }
         },
         "name": "annualbakerysales",
         "orientation": "v",
         "text": "",
         "type": "bar",
         "uid": "78a51929-4b67-425c-8b44-28d6344b8960",
         "x": [
          "(DIVISION 01,2)",
          "(DIVISION 01,3)",
          "(DIVISION 01,1)",
          "(DIVISION 02,5)",
          "(DIVISION 01,4)",
          "(DIVISION 02,6)",
          "(DIVISION 02,7)"
         ],
         "y": [
          39.6469529844354,
          26.745354660073954,
          32.4779340043128,
          16.309656066747337,
          21.763341362435767,
          15.590809796863324,
          11.008894558910134
         ]
        }
       ],
       "layout": {
        "legend": {
         "bgcolor": "#F5F6F9",
         "font": {
          "color": "#4D5663"
         }
        },
        "paper_bgcolor": "#F5F6F9",
        "plot_bgcolor": "#F5F6F9",
        "title": {
         "font": {
          "color": "#4D5663"
         }
        },
        "xaxis": {
         "gridcolor": "#E1E5ED",
         "showgrid": true,
         "tickfont": {
          "color": "#4D5663"
         },
         "title": {
          "font": {
           "color": "#4D5663"
          },
          "text": ""
         },
         "zerolinecolor": "#E1E5ED"
        },
        "yaxis": {
         "gridcolor": "#E1E5ED",
         "showgrid": true,
         "tickfont": {
          "color": "#4D5663"
         },
         "title": {
          "font": {
           "color": "#4D5663"
          },
          "text": ""
         },
         "zerolinecolor": "#E1E5ED"
        }
       }
      },
      "text/html": [
       "<div>\n",
       "        \n",
       "        \n",
       "            <div id=\"2fbb84fc-17e4-43cc-9e21-5461d1a05e26\" class=\"plotly-graph-div\" style=\"height:525px; width:100%;\"></div>\n",
       "            <script type=\"text/javascript\">\n",
       "                require([\"plotly\"], function(Plotly) {\n",
       "                    window.PLOTLYENV=window.PLOTLYENV || {};\n",
       "                    window.PLOTLYENV.BASE_URL='https://plot.ly';\n",
       "                    \n",
       "                if (document.getElementById(\"2fbb84fc-17e4-43cc-9e21-5461d1a05e26\")) {\n",
       "                    Plotly.newPlot(\n",
       "                        '2fbb84fc-17e4-43cc-9e21-5461d1a05e26',\n",
       "                        [{\"marker\": {\"color\": \"rgba(255, 153, 51, 0.6)\", \"line\": {\"color\": \"rgba(255, 153, 51, 1.0)\", \"width\": 1}}, \"name\": \"totalstoresales\", \"orientation\": \"v\", \"text\": \"\", \"type\": \"bar\", \"uid\": \"3bd382a1-1c36-48d2-92c0-0e76649e9205\", \"x\": [\"(DIVISION 01,2)\", \"(DIVISION 01,3)\", \"(DIVISION 01,1)\", \"(DIVISION 02,5)\", \"(DIVISION 01,4)\", \"(DIVISION 02,6)\", \"(DIVISION 02,7)\"], \"y\": [41.048202224328406, 32.78414130899558, 32.27996024283243, 21.189767394022258, 20.571929985401432, 18.86409997975011, 12.994160091163906]}, {\"marker\": {\"color\": \"rgba(55, 128, 191, 0.6)\", \"line\": {\"color\": \"rgba(55, 128, 191, 1.0)\", \"width\": 1}}, \"name\": \"annualbakerysales\", \"orientation\": \"v\", \"text\": \"\", \"type\": \"bar\", \"uid\": \"78a51929-4b67-425c-8b44-28d6344b8960\", \"x\": [\"(DIVISION 01,2)\", \"(DIVISION 01,3)\", \"(DIVISION 01,1)\", \"(DIVISION 02,5)\", \"(DIVISION 01,4)\", \"(DIVISION 02,6)\", \"(DIVISION 02,7)\"], \"y\": [39.6469529844354, 26.745354660073954, 32.4779340043128, 16.309656066747337, 21.763341362435767, 15.590809796863324, 11.008894558910134]}],\n",
       "                        {\"legend\": {\"bgcolor\": \"#F5F6F9\", \"font\": {\"color\": \"#4D5663\"}}, \"paper_bgcolor\": \"#F5F6F9\", \"plot_bgcolor\": \"#F5F6F9\", \"title\": {\"font\": {\"color\": \"#4D5663\"}}, \"xaxis\": {\"gridcolor\": \"#E1E5ED\", \"showgrid\": true, \"tickfont\": {\"color\": \"#4D5663\"}, \"title\": {\"font\": {\"color\": \"#4D5663\"}, \"text\": \"\"}, \"zerolinecolor\": \"#E1E5ED\"}, \"yaxis\": {\"gridcolor\": \"#E1E5ED\", \"showgrid\": true, \"tickfont\": {\"color\": \"#4D5663\"}, \"title\": {\"font\": {\"color\": \"#4D5663\"}, \"text\": \"\"}, \"zerolinecolor\": \"#E1E5ED\"}},\n",
       "                        {\"showLink\": true, \"linkText\": \"Export to plot.ly\", \"plotlyServerURL\": \"https://plot.ly\", \"responsive\": true}\n",
       "                    ).then(function(){\n",
       "                            \n",
       "var gd = document.getElementById('2fbb84fc-17e4-43cc-9e21-5461d1a05e26');\n",
       "var x = new MutationObserver(function (mutations, observer) {{\n",
       "        var display = window.getComputedStyle(gd).display;\n",
       "        if (!display || display === 'none') {{\n",
       "            console.log([gd, 'removed!']);\n",
       "            Plotly.purge(gd);\n",
       "            observer.disconnect();\n",
       "        }}\n",
       "}});\n",
       "\n",
       "// Listen for the removal of the full notebook cells\n",
       "var notebookContainer = gd.closest('#notebook-container');\n",
       "if (notebookContainer) {{\n",
       "    x.observe(notebookContainer, {childList: true});\n",
       "}}\n",
       "\n",
       "// Listen for the clearing of the current output cell\n",
       "var outputEl = gd.closest('.output');\n",
       "if (outputEl) {{\n",
       "    x.observe(outputEl, {childList: true});\n",
       "}}\n",
       "\n",
       "                        })\n",
       "                };\n",
       "                });\n",
       "            </script>\n",
       "        </div>"
      ]
     },
     "metadata": {},
     "output_type": "display_data"
    }
   ],
   "source": [
    "# but here you can see the totalstoresales of bakery is driven by how much the over all sales in the store is making \n",
    "# so the totalsore and totalsquarefotage have some high corelated\n",
    "sales.groupby(['division','subregion']).agg({'totalstoresales':sum,'annualbakerysales':sum}).\\\n",
    "sort_values(['totalstoresales'],ascending=False).iplot(kind='bar')"
   ]
  },
  {
   "cell_type": "code",
   "execution_count": 259,
   "metadata": {},
   "outputs": [
    {
     "data": {
      "text/plain": [
       "Text(0.5, 0, 'totalstoresales')"
      ]
     },
     "execution_count": 259,
     "metadata": {},
     "output_type": "execute_result"
    },
    {
     "data": {
      "image/png": "[encoded data removed]",
      "text/plain": [
       "<Figure size 432x288 with 1 Axes>"
      ]
     },
     "metadata": {
      "needs_background": "light"
     },
     "output_type": "display_data"
    }
   ],
   "source": [
    "plt.scatter(sales['annualbakerysales'],sales['totalstoresales'])\n",
    "plt.ylabel('annualbakerysales')\n",
    "plt.xlabel('totalstoresales')"
   ]
  },
  {
   "cell_type": "code",
   "execution_count": 243,
   "metadata": {},
   "outputs": [
    {
     "data": {
      "application/vnd.plotly.v1+json": {
       "config": {
        "linkText": "Export to plot.ly",
        "plotlyServerURL": "https://plot.ly",
        "showLink": true
       },
       "data": [
        {
         "marker": {
          "color": "rgba(255, 153, 51, 0.6)",
          "line": {
           "color": "rgba(255, 153, 51, 1.0)",
           "width": 1
          }
         },
         "name": "totalstoresales",
         "orientation": "v",
         "text": "",
         "type": "bar",
         "uid": "cdb491ec-1554-4265-9392-52059f86ea61",
         "x": [
          "(DIVISION 01,2)",
          "(DIVISION 01,1)",
          "(DIVISION 01,3)",
          "(DIVISION 01,4)",
          "(DIVISION 02,5)",
          "(DIVISION 02,6)",
          "(DIVISION 02,7)"
         ],
         "y": [
          41.048202224328406,
          32.27996024283243,
          32.78414130899558,
          20.571929985401432,
          21.189767394022258,
          18.86409997975011,
          12.994160091163906
         ]
        },
        {
         "marker": {
          "color": "rgba(55, 128, 191, 0.6)",
          "line": {
           "color": "rgba(55, 128, 191, 1.0)",
           "width": 1
          }
         },
         "name": "totalstoresfootage",
         "orientation": "v",
         "text": "",
         "type": "bar",
         "uid": "4c6c390c-8532-46df-acce-417ffdc60214",
         "x": [
          "(DIVISION 01,2)",
          "(DIVISION 01,1)",
          "(DIVISION 01,3)",
          "(DIVISION 01,4)",
          "(DIVISION 02,5)",
          "(DIVISION 02,6)",
          "(DIVISION 02,7)"
         ],
         "y": [
          57.91333878164068,
          55.03860935636347,
          41.612802049741575,
          30.2134006272916,
          23.55430269028582,
          22.12776648849229,
          17.116579051994524
         ]
        },
        {
         "marker": {
          "color": "rgba(50, 171, 96, 0.6)",
          "line": {
           "color": "rgba(50, 171, 96, 1.0)",
           "width": 1
          }
         },
         "name": "annualbakerysales",
         "orientation": "v",
         "text": "",
         "type": "bar",
         "uid": "2a794862-d14a-42d9-8320-a338dfe75640",
         "x": [
          "(DIVISION 01,2)",
          "(DIVISION 01,1)",
          "(DIVISION 01,3)",
          "(DIVISION 01,4)",
          "(DIVISION 02,5)",
          "(DIVISION 02,6)",
          "(DIVISION 02,7)"
         ],
         "y": [
          39.6469529844354,
          32.4779340043128,
          26.745354660073954,
          21.763341362435767,
          16.309656066747337,
          15.590809796863324,
          11.008894558910134
         ]
        }
       ],
       "layout": {
        "legend": {
         "bgcolor": "#F5F6F9",
         "font": {
          "color": "#4D5663"
         }
        },
        "paper_bgcolor": "#F5F6F9",
        "plot_bgcolor": "#F5F6F9",
        "title": {
         "font": {
          "color": "#4D5663"
         }
        },
        "xaxis": {
         "gridcolor": "#E1E5ED",
         "showgrid": true,
         "tickfont": {
          "color": "#4D5663"
         },
         "title": {
          "font": {
           "color": "#4D5663"
          },
          "text": ""
         },
         "zerolinecolor": "#E1E5ED"
        },
        "yaxis": {
         "gridcolor": "#E1E5ED",
         "showgrid": true,
         "tickfont": {
          "color": "#4D5663"
         },
         "title": {
          "font": {
           "color": "#4D5663"
          },
          "text": ""
         },
         "zerolinecolor": "#E1E5ED"
        }
       }
      },
      "text/html": [
       "<div>\n",
       "        \n",
       "        \n",
       "            <div id=\"14f17f05-a267-4bc7-bfc2-78c05ea55085\" class=\"plotly-graph-div\" style=\"height:525px; width:100%;\"></div>\n",
       "            <script type=\"text/javascript\">\n",
       "                require([\"plotly\"], function(Plotly) {\n",
       "                    window.PLOTLYENV=window.PLOTLYENV || {};\n",
       "                    window.PLOTLYENV.BASE_URL='https://plot.ly';\n",
       "                    \n",
       "                if (document.getElementById(\"14f17f05-a267-4bc7-bfc2-78c05ea55085\")) {\n",
       "                    Plotly.newPlot(\n",
       "                        '14f17f05-a267-4bc7-bfc2-78c05ea55085',\n",
       "                        [{\"marker\": {\"color\": \"rgba(255, 153, 51, 0.6)\", \"line\": {\"color\": \"rgba(255, 153, 51, 1.0)\", \"width\": 1}}, \"name\": \"totalstoresales\", \"orientation\": \"v\", \"text\": \"\", \"type\": \"bar\", \"uid\": \"cdb491ec-1554-4265-9392-52059f86ea61\", \"x\": [\"(DIVISION 01,2)\", \"(DIVISION 01,1)\", \"(DIVISION 01,3)\", \"(DIVISION 01,4)\", \"(DIVISION 02,5)\", \"(DIVISION 02,6)\", \"(DIVISION 02,7)\"], \"y\": [41.048202224328406, 32.27996024283243, 32.78414130899558, 20.571929985401432, 21.189767394022258, 18.86409997975011, 12.994160091163906]}, {\"marker\": {\"color\": \"rgba(55, 128, 191, 0.6)\", \"line\": {\"color\": \"rgba(55, 128, 191, 1.0)\", \"width\": 1}}, \"name\": \"totalstoresfootage\", \"orientation\": \"v\", \"text\": \"\", \"type\": \"bar\", \"uid\": \"4c6c390c-8532-46df-acce-417ffdc60214\", \"x\": [\"(DIVISION 01,2)\", \"(DIVISION 01,1)\", \"(DIVISION 01,3)\", \"(DIVISION 01,4)\", \"(DIVISION 02,5)\", \"(DIVISION 02,6)\", \"(DIVISION 02,7)\"], \"y\": [57.91333878164068, 55.03860935636347, 41.612802049741575, 30.2134006272916, 23.55430269028582, 22.12776648849229, 17.116579051994524]}, {\"marker\": {\"color\": \"rgba(50, 171, 96, 0.6)\", \"line\": {\"color\": \"rgba(50, 171, 96, 1.0)\", \"width\": 1}}, \"name\": \"annualbakerysales\", \"orientation\": \"v\", \"text\": \"\", \"type\": \"bar\", \"uid\": \"2a794862-d14a-42d9-8320-a338dfe75640\", \"x\": [\"(DIVISION 01,2)\", \"(DIVISION 01,1)\", \"(DIVISION 01,3)\", \"(DIVISION 01,4)\", \"(DIVISION 02,5)\", \"(DIVISION 02,6)\", \"(DIVISION 02,7)\"], \"y\": [39.6469529844354, 32.4779340043128, 26.745354660073954, 21.763341362435767, 16.309656066747337, 15.590809796863324, 11.008894558910134]}],\n",
       "                        {\"legend\": {\"bgcolor\": \"#F5F6F9\", \"font\": {\"color\": \"#4D5663\"}}, \"paper_bgcolor\": \"#F5F6F9\", \"plot_bgcolor\": \"#F5F6F9\", \"title\": {\"font\": {\"color\": \"#4D5663\"}}, \"xaxis\": {\"gridcolor\": \"#E1E5ED\", \"showgrid\": true, \"tickfont\": {\"color\": \"#4D5663\"}, \"title\": {\"font\": {\"color\": \"#4D5663\"}, \"text\": \"\"}, \"zerolinecolor\": \"#E1E5ED\"}, \"yaxis\": {\"gridcolor\": \"#E1E5ED\", \"showgrid\": true, \"tickfont\": {\"color\": \"#4D5663\"}, \"title\": {\"font\": {\"color\": \"#4D5663\"}, \"text\": \"\"}, \"zerolinecolor\": \"#E1E5ED\"}},\n",
       "                        {\"showLink\": true, \"linkText\": \"Export to plot.ly\", \"plotlyServerURL\": \"https://plot.ly\", \"responsive\": true}\n",
       "                    ).then(function(){\n",
       "                            \n",
       "var gd = document.getElementById('14f17f05-a267-4bc7-bfc2-78c05ea55085');\n",
       "var x = new MutationObserver(function (mutations, observer) {{\n",
       "        var display = window.getComputedStyle(gd).display;\n",
       "        if (!display || display === 'none') {{\n",
       "            console.log([gd, 'removed!']);\n",
       "            Plotly.purge(gd);\n",
       "            observer.disconnect();\n",
       "        }}\n",
       "}});\n",
       "\n",
       "// Listen for the removal of the full notebook cells\n",
       "var notebookContainer = gd.closest('#notebook-container');\n",
       "if (notebookContainer) {{\n",
       "    x.observe(notebookContainer, {childList: true});\n",
       "}}\n",
       "\n",
       "// Listen for the clearing of the current output cell\n",
       "var outputEl = gd.closest('.output');\n",
       "if (outputEl) {{\n",
       "    x.observe(outputEl, {childList: true});\n",
       "}}\n",
       "\n",
       "                        })\n",
       "                };\n",
       "                });\n",
       "            </script>\n",
       "        </div>"
      ]
     },
     "metadata": {},
     "output_type": "display_data"
    }
   ],
   "source": [
    "#based on this we can see the more the total suare footage more the total sales which is more the annualbakery sales\n",
    "\n",
    "sales.groupby(['division','subregion']).agg({'totalstoresales':sum,'totalstoresfootage':sum,'annualbakerysales':sum}).\\\n",
    "sort_values(['totalstoresfootage','totalstoresales'],ascending=False).iplot(kind='bar')"
   ]
  },
  {
   "cell_type": "code",
   "execution_count": 245,
   "metadata": {},
   "outputs": [
    {
     "data": {
      "application/vnd.plotly.v1+json": {
       "config": {
        "linkText": "Export to plot.ly",
        "plotlyServerURL": "https://plot.ly",
        "showLink": true
       },
       "data": [
        {
         "marker": {
          "color": "rgba(255, 153, 51, 0.6)",
          "line": {
           "color": "rgba(255, 153, 51, 1.0)",
           "width": 1
          }
         },
         "name": "annualbakerysales",
         "orientation": "v",
         "text": "",
         "type": "bar",
         "uid": "f806339e-282f-40a0-92e7-88678e29e283",
         "x": [
          "(DIVISION 01,2)",
          "(DIVISION 01,1)",
          "(DIVISION 01,3)",
          "(DIVISION 01,4)",
          "(DIVISION 02,5)",
          "(DIVISION 02,6)",
          "(DIVISION 02,7)"
         ],
         "y": [
          39.6469529844354,
          32.4779340043128,
          26.745354660073954,
          21.763341362435767,
          16.309656066747337,
          15.590809796863324,
          11.008894558910134
         ]
        },
        {
         "marker": {
          "color": "rgba(55, 128, 191, 0.6)",
          "line": {
           "color": "rgba(55, 128, 191, 1.0)",
           "width": 1
          }
         },
         "name": "bakerysellingsqft",
         "orientation": "v",
         "text": "",
         "type": "bar",
         "uid": "4f39fe81-a2da-4ff3-9d1b-24992d1a14c3",
         "x": [
          "(DIVISION 01,2)",
          "(DIVISION 01,1)",
          "(DIVISION 01,3)",
          "(DIVISION 01,4)",
          "(DIVISION 02,5)",
          "(DIVISION 02,6)",
          "(DIVISION 02,7)"
         ],
         "y": [
          32.46990795374085,
          30.942412084021704,
          26.070568798678302,
          21.537644559830067,
          23.24946896388954,
          23.61576587207929,
          19.530328062308232
         ]
        }
       ],
       "layout": {
        "legend": {
         "bgcolor": "#F5F6F9",
         "font": {
          "color": "#4D5663"
         }
        },
        "paper_bgcolor": "#F5F6F9",
        "plot_bgcolor": "#F5F6F9",
        "title": {
         "font": {
          "color": "#4D5663"
         }
        },
        "xaxis": {
         "gridcolor": "#E1E5ED",
         "showgrid": true,
         "tickfont": {
          "color": "#4D5663"
         },
         "title": {
          "font": {
           "color": "#4D5663"
          },
          "text": ""
         },
         "zerolinecolor": "#E1E5ED"
        },
        "yaxis": {
         "gridcolor": "#E1E5ED",
         "showgrid": true,
         "tickfont": {
          "color": "#4D5663"
         },
         "title": {
          "font": {
           "color": "#4D5663"
          },
          "text": ""
         },
         "zerolinecolor": "#E1E5ED"
        }
       }
      },
      "text/html": [
       "<div>\n",
       "        \n",
       "        \n",
       "            <div id=\"d0c01d29-edfc-403e-b9da-5373a162697b\" class=\"plotly-graph-div\" style=\"height:525px; width:100%;\"></div>\n",
       "            <script type=\"text/javascript\">\n",
       "                require([\"plotly\"], function(Plotly) {\n",
       "                    window.PLOTLYENV=window.PLOTLYENV || {};\n",
       "                    window.PLOTLYENV.BASE_URL='https://plot.ly';\n",
       "                    \n",
       "                if (document.getElementById(\"d0c01d29-edfc-403e-b9da-5373a162697b\")) {\n",
       "                    Plotly.newPlot(\n",
       "                        'd0c01d29-edfc-403e-b9da-5373a162697b',\n",
       "                        [{\"marker\": {\"color\": \"rgba(255, 153, 51, 0.6)\", \"line\": {\"color\": \"rgba(255, 153, 51, 1.0)\", \"width\": 1}}, \"name\": \"annualbakerysales\", \"orientation\": \"v\", \"text\": \"\", \"type\": \"bar\", \"uid\": \"f806339e-282f-40a0-92e7-88678e29e283\", \"x\": [\"(DIVISION 01,2)\", \"(DIVISION 01,1)\", \"(DIVISION 01,3)\", \"(DIVISION 01,4)\", \"(DIVISION 02,5)\", \"(DIVISION 02,6)\", \"(DIVISION 02,7)\"], \"y\": [39.6469529844354, 32.4779340043128, 26.745354660073954, 21.763341362435767, 16.309656066747337, 15.590809796863324, 11.008894558910134]}, {\"marker\": {\"color\": \"rgba(55, 128, 191, 0.6)\", \"line\": {\"color\": \"rgba(55, 128, 191, 1.0)\", \"width\": 1}}, \"name\": \"bakerysellingsqft\", \"orientation\": \"v\", \"text\": \"\", \"type\": \"bar\", \"uid\": \"4f39fe81-a2da-4ff3-9d1b-24992d1a14c3\", \"x\": [\"(DIVISION 01,2)\", \"(DIVISION 01,1)\", \"(DIVISION 01,3)\", \"(DIVISION 01,4)\", \"(DIVISION 02,5)\", \"(DIVISION 02,6)\", \"(DIVISION 02,7)\"], \"y\": [32.46990795374085, 30.942412084021704, 26.070568798678302, 21.537644559830067, 23.24946896388954, 23.61576587207929, 19.530328062308232]}],\n",
       "                        {\"legend\": {\"bgcolor\": \"#F5F6F9\", \"font\": {\"color\": \"#4D5663\"}}, \"paper_bgcolor\": \"#F5F6F9\", \"plot_bgcolor\": \"#F5F6F9\", \"title\": {\"font\": {\"color\": \"#4D5663\"}}, \"xaxis\": {\"gridcolor\": \"#E1E5ED\", \"showgrid\": true, \"tickfont\": {\"color\": \"#4D5663\"}, \"title\": {\"font\": {\"color\": \"#4D5663\"}, \"text\": \"\"}, \"zerolinecolor\": \"#E1E5ED\"}, \"yaxis\": {\"gridcolor\": \"#E1E5ED\", \"showgrid\": true, \"tickfont\": {\"color\": \"#4D5663\"}, \"title\": {\"font\": {\"color\": \"#4D5663\"}, \"text\": \"\"}, \"zerolinecolor\": \"#E1E5ED\"}},\n",
       "                        {\"showLink\": true, \"linkText\": \"Export to plot.ly\", \"plotlyServerURL\": \"https://plot.ly\", \"responsive\": true}\n",
       "                    ).then(function(){\n",
       "                            \n",
       "var gd = document.getElementById('d0c01d29-edfc-403e-b9da-5373a162697b');\n",
       "var x = new MutationObserver(function (mutations, observer) {{\n",
       "        var display = window.getComputedStyle(gd).display;\n",
       "        if (!display || display === 'none') {{\n",
       "            console.log([gd, 'removed!']);\n",
       "            Plotly.purge(gd);\n",
       "            observer.disconnect();\n",
       "        }}\n",
       "}});\n",
       "\n",
       "// Listen for the removal of the full notebook cells\n",
       "var notebookContainer = gd.closest('#notebook-container');\n",
       "if (notebookContainer) {{\n",
       "    x.observe(notebookContainer, {childList: true});\n",
       "}}\n",
       "\n",
       "// Listen for the clearing of the current output cell\n",
       "var outputEl = gd.closest('.output');\n",
       "if (outputEl) {{\n",
       "    x.observe(outputEl, {childList: true});\n",
       "}}\n",
       "\n",
       "                        })\n",
       "                };\n",
       "                });\n",
       "            </script>\n",
       "        </div>"
      ]
     },
     "metadata": {},
     "output_type": "display_data"
    }
   ],
   "source": [
    "# What impact does bakery square footage have on bakery department sales?  Are larger bakeries better?\n",
    "\n",
    "\n",
    "\n",
    "sales.groupby(['division','subregion']).agg({'annualbakerysales':sum,'bakerysellingsqft':sum}).\\\n",
    "sort_values(['annualbakerysales'],ascending=False).iplot(kind='bar')"
   ]
  },
  {
   "cell_type": "code",
   "execution_count": 256,
   "metadata": {},
   "outputs": [
    {
     "data": {
      "text/plain": [
       "Text(0.5, 0, 'bakerysellingsqft')"
      ]
     },
     "execution_count": 256,
     "metadata": {},
     "output_type": "execute_result"
    },
    {
     "data": {
      "image/png": "[encoded data removed]",
      "text/plain": [
       "<Figure size 432x288 with 1 Axes>"
      ]
     },
     "metadata": {
      "needs_background": "light"
     },
     "output_type": "display_data"
    }
   ],
   "source": [
    "# according to the data trend it can be seen that, smaller and mediocre size bakeries make good amount of sales as compared to larger ones \n",
    "plt.scatter(sales['bakerysellingsqft'],sales['annualbakerysales'])\n",
    "plt.ylabel('annualbakerysales')\n",
    "plt.xlabel('bakerysellingsqft')"
   ]
  },
  {
   "cell_type": "code",
   "execution_count": null,
   "metadata": {},
   "outputs": [],
   "source": [
    "# what drives the bakery department sales?\n",
    "#more the total store sales, more the bakery departmental sales \n",
    "# more the totalsizeof the store more the bakery departmental sales \n",
    "#medium size bakeries make good amount of sales rather then larger ones"
   ]
  },
  {
   "cell_type": "code",
   "execution_count": null,
   "metadata": {},
   "outputs": [],
   "source": []
  },
  {
   "cell_type": "code",
   "execution_count": null,
   "metadata": {},
   "outputs": [],
   "source": []
  },
  {
   "cell_type": "code",
   "execution_count": null,
   "metadata": {},
   "outputs": [],
   "source": []
  },
  {
   "cell_type": "code",
   "execution_count": null,
   "metadata": {},
   "outputs": [],
   "source": []
  },
  {
   "cell_type": "code",
   "execution_count": 261,
   "metadata": {},
   "outputs": [
    {
     "data": {
      "text/plain": [
       "'Profitability Analysis'"
      ]
     },
     "execution_count": 261,
     "metadata": {},
     "output_type": "execute_result"
    }
   ],
   "source": [
    "##second section\n",
    "\n",
    "'''Profitability Analysis'''\n",
    "\n",
    "#What factors impact bakery department “contribution margin”?  \n",
    "\n",
    "'''Gross margin is defined as Sales less Materials (pre-calculated in the data set).\n",
    "Contribution margin is calculated as Gross Margin Less Labor Costs.  \n",
    "Net Operating Earnings (also pre-calculated in the data set) is Gross Margin, less Labor Costs, less “Allocations.”\n",
    "'''"
   ]
  },
  {
   "cell_type": "code",
   "execution_count": 560,
   "metadata": {},
   "outputs": [],
   "source": [
    "tempbak=df[['storenumber', 'division', 'marketarea', 'subregion','annualbakerysales', 'avgweeklybakerysales', 'annualbakerygrossmargin',\n",
    "       'bakerygrossmarginrate', 'annualbakerynetoperatingearnings',\n",
    "       'bakerynetoperatingearningspercentage',\n",
    "       'annualbakerydirectpayrollcosts', 'bakerydirectpayrollpercentage',\n",
    "       'annualbakerydeptlaberhours', 'bakerysellingsqft']]\n",
    "\n",
    "tempbak['MC']=tempbak['annualbakerysales']-tempbak['annualbakerygrossmargin']\n",
    "tempbak['MC+LC']=tempbak['MC']+tempbak['annualbakerydirectpayrollcosts']\n",
    "\n",
    "\n",
    "tempbak['AC']=tempbak['annualbakerygrossmargin']-tempbak['annualbakerydirectpayrollcosts']\\\n",
    "-tempbak['annualbakerynetoperatingearnings']\n",
    "\n",
    "tempbak['CM']=tempbak['annualbakerygrossmargin']-tempbak['annualbakerydirectpayrollcosts']\n",
    "\n",
    "tempbak['totspent']=tempbak['MC+LC']+tempbak['AC']\n",
    "\n",
    "#tempbak['CMRate']=tempbak['CM']/tempbak['annualbakerysales']\n",
    "#tempbak['ACRate']=tempbak['AC']/tempbak['annualbakerysales']"
   ]
  },
  {
   "cell_type": "code",
   "execution_count": 561,
   "metadata": {},
   "outputs": [
    {
     "data": {
      "text/html": [
       "<div>\n",
       "<style scoped>\n",
       "    .dataframe tbody tr th:only-of-type {\n",
       "        vertical-align: middle;\n",
       "    }\n",
       "\n",
       "    .dataframe tbody tr th {\n",
       "        vertical-align: top;\n",
       "    }\n",
       "\n",
       "    .dataframe thead th {\n",
       "        text-align: right;\n",
       "    }\n",
       "</style>\n",
       "<table border=\"1\" class=\"dataframe\">\n",
       "  <thead>\n",
       "    <tr style=\"text-align: right;\">\n",
       "      <th></th>\n",
       "      <th>annualbakerynetoperatingearnings</th>\n",
       "      <th>annualbakerysales</th>\n",
       "      <th>MC</th>\n",
       "      <th>annualbakerydirectpayrollcosts</th>\n",
       "      <th>AC</th>\n",
       "      <th>annualbakerygrossmargin</th>\n",
       "      <th>CM</th>\n",
       "      <th>bakerysellingsqft</th>\n",
       "    </tr>\n",
       "  </thead>\n",
       "  <tbody>\n",
       "    <tr>\n",
       "      <th>0</th>\n",
       "      <td>2587.35</td>\n",
       "      <td>537176.06</td>\n",
       "      <td>222450.83</td>\n",
       "      <td>123972.63</td>\n",
       "      <td>188165.25</td>\n",
       "      <td>314725.23</td>\n",
       "      <td>190752.60</td>\n",
       "      <td>922</td>\n",
       "    </tr>\n",
       "    <tr>\n",
       "      <th>1</th>\n",
       "      <td>42395.99</td>\n",
       "      <td>851926.89</td>\n",
       "      <td>362679.26</td>\n",
       "      <td>152187.69</td>\n",
       "      <td>294663.95</td>\n",
       "      <td>489247.63</td>\n",
       "      <td>337059.94</td>\n",
       "      <td>1534</td>\n",
       "    </tr>\n",
       "    <tr>\n",
       "      <th>2</th>\n",
       "      <td>14227.37</td>\n",
       "      <td>599781.15</td>\n",
       "      <td>272361.99</td>\n",
       "      <td>130792.52</td>\n",
       "      <td>182399.27</td>\n",
       "      <td>327419.16</td>\n",
       "      <td>196626.64</td>\n",
       "      <td>1868</td>\n",
       "    </tr>\n",
       "    <tr>\n",
       "      <th>3</th>\n",
       "      <td>13540.22</td>\n",
       "      <td>858674.28</td>\n",
       "      <td>359142.88</td>\n",
       "      <td>181150.01</td>\n",
       "      <td>304841.17</td>\n",
       "      <td>499531.40</td>\n",
       "      <td>318381.39</td>\n",
       "      <td>1129</td>\n",
       "    </tr>\n",
       "    <tr>\n",
       "      <th>4</th>\n",
       "      <td>49579.57</td>\n",
       "      <td>834844.29</td>\n",
       "      <td>355493.63</td>\n",
       "      <td>182483.90</td>\n",
       "      <td>247287.19</td>\n",
       "      <td>479350.66</td>\n",
       "      <td>296866.76</td>\n",
       "      <td>1462</td>\n",
       "    </tr>\n",
       "  </tbody>\n",
       "</table>\n",
       "</div>"
      ],
      "text/plain": [
       "   annualbakerynetoperatingearnings  annualbakerysales         MC  \\\n",
       "0                           2587.35          537176.06  222450.83   \n",
       "1                          42395.99          851926.89  362679.26   \n",
       "2                          14227.37          599781.15  272361.99   \n",
       "3                          13540.22          858674.28  359142.88   \n",
       "4                          49579.57          834844.29  355493.63   \n",
       "\n",
       "   annualbakerydirectpayrollcosts         AC  annualbakerygrossmargin  \\\n",
       "0                       123972.63  188165.25                314725.23   \n",
       "1                       152187.69  294663.95                489247.63   \n",
       "2                       130792.52  182399.27                327419.16   \n",
       "3                       181150.01  304841.17                499531.40   \n",
       "4                       182483.90  247287.19                479350.66   \n",
       "\n",
       "          CM  bakerysellingsqft  \n",
       "0  190752.60                922  \n",
       "1  337059.94               1534  \n",
       "2  196626.64               1868  \n",
       "3  318381.39               1129  \n",
       "4  296866.76               1462  "
      ]
     },
     "execution_count": 561,
     "metadata": {},
     "output_type": "execute_result"
    }
   ],
   "source": [
    "procolumns=['annualbakerynetoperatingearnings','annualbakerysales', 'MC','annualbakerydirectpayrollcosts',\\\n",
    "            'AC','annualbakerygrossmargin','CM', 'bakerysellingsqft']\n",
    "tempbak[procolumns].head()"
   ]
  },
  {
   "cell_type": "code",
   "execution_count": 562,
   "metadata": {},
   "outputs": [
    {
     "data": {
      "text/plain": [
       "<matplotlib.collections.PathCollection at 0x277a298c3c8>"
      ]
     },
     "execution_count": 562,
     "metadata": {},
     "output_type": "execute_result"
    },
    {
     "data": {
      "image/png": "[encoded data removed]",
      "text/plain": [
       "<Figure size 432x288 with 1 Axes>"
      ]
     },
     "metadata": {
      "needs_background": "light"
     },
     "output_type": "display_data"
    }
   ],
   "source": [
    "# what factors imapact the bakery department contribution margin\n",
    "'''CM= Annualbakerysales- (materical cost+labour cost)\n",
    "AM is dependent on overall bakery sales. So more the Bakery sales, more the contribution margin.'''\n",
    "plt.scatter(tempbak['CM'],tempbak['annualbakerysales'])\n"
   ]
  },
  {
   "cell_type": "code",
   "execution_count": 622,
   "metadata": {},
   "outputs": [
    {
     "data": {
      "text/html": [
       "<div>\n",
       "<style scoped>\n",
       "    .dataframe tbody tr th:only-of-type {\n",
       "        vertical-align: middle;\n",
       "    }\n",
       "\n",
       "    .dataframe tbody tr th {\n",
       "        vertical-align: top;\n",
       "    }\n",
       "\n",
       "    .dataframe thead th {\n",
       "        text-align: right;\n",
       "    }\n",
       "</style>\n",
       "<table border=\"1\" class=\"dataframe\">\n",
       "  <thead>\n",
       "    <tr style=\"text-align: right;\">\n",
       "      <th></th>\n",
       "      <th>division</th>\n",
       "      <th>CM</th>\n",
       "    </tr>\n",
       "  </thead>\n",
       "  <tbody>\n",
       "    <tr>\n",
       "      <th>0</th>\n",
       "      <td>DIVISION 01</td>\n",
       "      <td>79926463.54</td>\n",
       "    </tr>\n",
       "    <tr>\n",
       "      <th>1</th>\n",
       "      <td>DIVISION 02</td>\n",
       "      <td>20205840.86</td>\n",
       "    </tr>\n",
       "  </tbody>\n",
       "</table>\n",
       "</div>"
      ],
      "text/plain": [
       "      division           CM\n",
       "0  DIVISION 01  79926463.54\n",
       "1  DIVISION 02  20205840.86"
      ]
     },
     "execution_count": 622,
     "metadata": {},
     "output_type": "execute_result"
    }
   ],
   "source": [
    "\n",
    "#scaling the features\n",
    "#tempbak[procolumns]=tempbak[procolumns].apply(lambda x: (x - x.min()) / (x.max() - x.min()))\n",
    "tempbak.groupby(['division']).agg({'CM':sum}).reset_index()"
   ]
  },
  {
   "cell_type": "code",
   "execution_count": 564,
   "metadata": {},
   "outputs": [
    {
     "data": {
      "application/vnd.plotly.v1+json": {
       "config": {
        "linkText": "Export to plot.ly",
        "plotlyServerURL": "https://plot.ly",
        "showLink": true
       },
       "data": [
        {
         "labels": [
          "DIVISION 01",
          "DIVISION 02"
         ],
         "marker": {
          "colors": [
           "rgba(255, 153, 51, 1.0)",
           "rgba(55, 128, 191, 1.0)"
          ]
         },
         "name": "",
         "type": "pie",
         "values": [
          79926463.54000011,
          20205840.859999996
         ]
        }
       ],
       "layout": {
        "legend": {
         "bgcolor": "#F5F6F9",
         "font": {
          "color": "#4D5663"
         }
        },
        "paper_bgcolor": "#F5F6F9",
        "plot_bgcolor": "#F5F6F9",
        "titlefont": {
         "color": "#4D5663"
        }
       }
      },
      "text/html": [
       "<div>\n",
       "        \n",
       "        \n",
       "            <div id=\"bebf90b5-72a6-4d44-bf16-5a6d5cf2bec2\" class=\"plotly-graph-div\" style=\"height:525px; width:100%;\"></div>\n",
       "            <script type=\"text/javascript\">\n",
       "                require([\"plotly\"], function(Plotly) {\n",
       "                    window.PLOTLYENV=window.PLOTLYENV || {};\n",
       "                    window.PLOTLYENV.BASE_URL='https://plot.ly';\n",
       "                    \n",
       "                if (document.getElementById(\"bebf90b5-72a6-4d44-bf16-5a6d5cf2bec2\")) {\n",
       "                    Plotly.newPlot(\n",
       "                        'bebf90b5-72a6-4d44-bf16-5a6d5cf2bec2',\n",
       "                        [{\"labels\": [\"DIVISION 01\", \"DIVISION 02\"], \"marker\": {\"colors\": [\"rgba(255, 153, 51, 1.0)\", \"rgba(55, 128, 191, 1.0)\"]}, \"name\": \"\", \"type\": \"pie\", \"values\": [79926463.54000011, 20205840.859999996]}],\n",
       "                        {\"legend\": {\"bgcolor\": \"#F5F6F9\", \"font\": {\"color\": \"#4D5663\"}}, \"paper_bgcolor\": \"#F5F6F9\", \"plot_bgcolor\": \"#F5F6F9\", \"titlefont\": {\"color\": \"#4D5663\"}},\n",
       "                        {\"showLink\": true, \"linkText\": \"Export to plot.ly\", \"plotlyServerURL\": \"https://plot.ly\", \"responsive\": true}\n",
       "                    ).then(function(){\n",
       "                            \n",
       "var gd = document.getElementById('bebf90b5-72a6-4d44-bf16-5a6d5cf2bec2');\n",
       "var x = new MutationObserver(function (mutations, observer) {{\n",
       "        var display = window.getComputedStyle(gd).display;\n",
       "        if (!display || display === 'none') {{\n",
       "            console.log([gd, 'removed!']);\n",
       "            Plotly.purge(gd);\n",
       "            observer.disconnect();\n",
       "        }}\n",
       "}});\n",
       "\n",
       "// Listen for the removal of the full notebook cells\n",
       "var notebookContainer = gd.closest('#notebook-container');\n",
       "if (notebookContainer) {{\n",
       "    x.observe(notebookContainer, {childList: true});\n",
       "}}\n",
       "\n",
       "// Listen for the clearing of the current output cell\n",
       "var outputEl = gd.closest('.output');\n",
       "if (outputEl) {{\n",
       "    x.observe(outputEl, {childList: true});\n",
       "}}\n",
       "\n",
       "                        })\n",
       "                };\n",
       "                });\n",
       "            </script>\n",
       "        </div>"
      ]
     },
     "metadata": {},
     "output_type": "display_data"
    }
   ],
   "source": [
    "tempbak.groupby(['division']).agg({'CM':sum}).reset_index().iplot(kind='pie',labels='division',values='CM')"
   ]
  },
  {
   "cell_type": "code",
   "execution_count": 565,
   "metadata": {},
   "outputs": [
    {
     "data": {
      "application/vnd.plotly.v1+json": {
       "config": {
        "linkText": "Export to plot.ly",
        "plotlyServerURL": "https://plot.ly",
        "showLink": true
       },
       "data": [
        {
         "labels": [
          "DIVISION 01",
          "DIVISION 02"
         ],
         "marker": {
          "colors": [
           "rgba(255, 153, 51, 1.0)",
           "rgba(55, 128, 191, 1.0)"
          ]
         },
         "name": "",
         "type": "pie",
         "values": [
          240588207.64999998,
          91610758.85
         ]
        }
       ],
       "layout": {
        "legend": {
         "bgcolor": "#F5F6F9",
         "font": {
          "color": "#4D5663"
         }
        },
        "paper_bgcolor": "#F5F6F9",
        "plot_bgcolor": "#F5F6F9",
        "titlefont": {
         "color": "#4D5663"
        }
       }
      },
      "text/html": [
       "<div>\n",
       "        \n",
       "        \n",
       "            <div id=\"816bb502-7dc3-4fc5-beb8-c6bf340d8902\" class=\"plotly-graph-div\" style=\"height:525px; width:100%;\"></div>\n",
       "            <script type=\"text/javascript\">\n",
       "                require([\"plotly\"], function(Plotly) {\n",
       "                    window.PLOTLYENV=window.PLOTLYENV || {};\n",
       "                    window.PLOTLYENV.BASE_URL='https://plot.ly';\n",
       "                    \n",
       "                if (document.getElementById(\"816bb502-7dc3-4fc5-beb8-c6bf340d8902\")) {\n",
       "                    Plotly.newPlot(\n",
       "                        '816bb502-7dc3-4fc5-beb8-c6bf340d8902',\n",
       "                        [{\"labels\": [\"DIVISION 01\", \"DIVISION 02\"], \"marker\": {\"colors\": [\"rgba(255, 153, 51, 1.0)\", \"rgba(55, 128, 191, 1.0)\"]}, \"name\": \"\", \"type\": \"pie\", \"values\": [240588207.64999998, 91610758.85]}],\n",
       "                        {\"legend\": {\"bgcolor\": \"#F5F6F9\", \"font\": {\"color\": \"#4D5663\"}}, \"paper_bgcolor\": \"#F5F6F9\", \"plot_bgcolor\": \"#F5F6F9\", \"titlefont\": {\"color\": \"#4D5663\"}},\n",
       "                        {\"showLink\": true, \"linkText\": \"Export to plot.ly\", \"plotlyServerURL\": \"https://plot.ly\", \"responsive\": true}\n",
       "                    ).then(function(){\n",
       "                            \n",
       "var gd = document.getElementById('816bb502-7dc3-4fc5-beb8-c6bf340d8902');\n",
       "var x = new MutationObserver(function (mutations, observer) {{\n",
       "        var display = window.getComputedStyle(gd).display;\n",
       "        if (!display || display === 'none') {{\n",
       "            console.log([gd, 'removed!']);\n",
       "            Plotly.purge(gd);\n",
       "            observer.disconnect();\n",
       "        }}\n",
       "}});\n",
       "\n",
       "// Listen for the removal of the full notebook cells\n",
       "var notebookContainer = gd.closest('#notebook-container');\n",
       "if (notebookContainer) {{\n",
       "    x.observe(notebookContainer, {childList: true});\n",
       "}}\n",
       "\n",
       "// Listen for the clearing of the current output cell\n",
       "var outputEl = gd.closest('.output');\n",
       "if (outputEl) {{\n",
       "    x.observe(outputEl, {childList: true});\n",
       "}}\n",
       "\n",
       "                        })\n",
       "                };\n",
       "                });\n",
       "            </script>\n",
       "        </div>"
      ]
     },
     "metadata": {},
     "output_type": "display_data"
    }
   ],
   "source": [
    "tempbak.groupby(['division']).agg({'annualbakerysales':sum}).reset_index().iplot(kind='pie',labels='division',values='annualbakerysales')"
   ]
  },
  {
   "cell_type": "code",
   "execution_count": 566,
   "metadata": {},
   "outputs": [
    {
     "data": {
      "application/vnd.plotly.v1+json": {
       "config": {
        "linkText": "Export to plot.ly",
        "plotlyServerURL": "https://plot.ly",
        "showLink": true
       },
       "data": [
        {
         "labels": [
          "DIVISION 01",
          "DIVISION 02"
         ],
         "marker": {
          "colors": [
           "rgba(255, 153, 51, 1.0)",
           "rgba(55, 128, 191, 1.0)"
          ]
         },
         "name": "",
         "type": "pie",
         "values": [
          160661744.11000007,
          71404917.99000002
         ]
        }
       ],
       "layout": {
        "legend": {
         "bgcolor": "#F5F6F9",
         "font": {
          "color": "#4D5663"
         }
        },
        "paper_bgcolor": "#F5F6F9",
        "plot_bgcolor": "#F5F6F9",
        "titlefont": {
         "color": "#4D5663"
        }
       }
      },
      "text/html": [
       "<div>\n",
       "        \n",
       "        \n",
       "            <div id=\"94308130-aa57-4571-8b59-3f1bfe76a30e\" class=\"plotly-graph-div\" style=\"height:525px; width:100%;\"></div>\n",
       "            <script type=\"text/javascript\">\n",
       "                require([\"plotly\"], function(Plotly) {\n",
       "                    window.PLOTLYENV=window.PLOTLYENV || {};\n",
       "                    window.PLOTLYENV.BASE_URL='https://plot.ly';\n",
       "                    \n",
       "                if (document.getElementById(\"94308130-aa57-4571-8b59-3f1bfe76a30e\")) {\n",
       "                    Plotly.newPlot(\n",
       "                        '94308130-aa57-4571-8b59-3f1bfe76a30e',\n",
       "                        [{\"labels\": [\"DIVISION 01\", \"DIVISION 02\"], \"marker\": {\"colors\": [\"rgba(255, 153, 51, 1.0)\", \"rgba(55, 128, 191, 1.0)\"]}, \"name\": \"\", \"type\": \"pie\", \"values\": [160661744.11000007, 71404917.99000002]}],\n",
       "                        {\"legend\": {\"bgcolor\": \"#F5F6F9\", \"font\": {\"color\": \"#4D5663\"}}, \"paper_bgcolor\": \"#F5F6F9\", \"plot_bgcolor\": \"#F5F6F9\", \"titlefont\": {\"color\": \"#4D5663\"}},\n",
       "                        {\"showLink\": true, \"linkText\": \"Export to plot.ly\", \"plotlyServerURL\": \"https://plot.ly\", \"responsive\": true}\n",
       "                    ).then(function(){\n",
       "                            \n",
       "var gd = document.getElementById('94308130-aa57-4571-8b59-3f1bfe76a30e');\n",
       "var x = new MutationObserver(function (mutations, observer) {{\n",
       "        var display = window.getComputedStyle(gd).display;\n",
       "        if (!display || display === 'none') {{\n",
       "            console.log([gd, 'removed!']);\n",
       "            Plotly.purge(gd);\n",
       "            observer.disconnect();\n",
       "        }}\n",
       "}});\n",
       "\n",
       "// Listen for the removal of the full notebook cells\n",
       "var notebookContainer = gd.closest('#notebook-container');\n",
       "if (notebookContainer) {{\n",
       "    x.observe(notebookContainer, {childList: true});\n",
       "}}\n",
       "\n",
       "// Listen for the clearing of the current output cell\n",
       "var outputEl = gd.closest('.output');\n",
       "if (outputEl) {{\n",
       "    x.observe(outputEl, {childList: true});\n",
       "}}\n",
       "\n",
       "                        })\n",
       "                };\n",
       "                });\n",
       "            </script>\n",
       "        </div>"
      ]
     },
     "metadata": {},
     "output_type": "display_data"
    }
   ],
   "source": [
    "tempbak.groupby(['division']).agg({'MC+LC':sum}).reset_index().iplot(kind='pie',labels='division',values='MC+LC')"
   ]
  },
  {
   "cell_type": "code",
   "execution_count": 567,
   "metadata": {},
   "outputs": [],
   "source": [
    "#breakevensalarysales level \n",
    "#breakevensales = sales-Netoperatingearnings [ At this point the profit will be neither pos nor neg which is zero]\n",
    "tempbak['breakeven']=tempbak['annualbakerysales']-tempbak['annualbakerynetoperatingearnings']"
   ]
  },
  {
   "cell_type": "code",
   "execution_count": 568,
   "metadata": {},
   "outputs": [
    {
     "data": {
      "text/plain": [
       "260"
      ]
     },
     "execution_count": 568,
     "metadata": {},
     "output_type": "execute_result"
    }
   ],
   "source": [
    "# stores which make profit on Allocations being mean of all divisions\n",
    "sum(tempbak['breakeven']>tempbak['MC']+tempbak['annualbakerydirectpayrollcosts']+tempbak['AC'].mean())"
   ]
  },
  {
   "cell_type": "code",
   "execution_count": 569,
   "metadata": {},
   "outputs": [],
   "source": [
    "tempbak['profitablestore']=tempbak['annualbakerynetoperatingearnings']>0"
   ]
  },
  {
   "cell_type": "code",
   "execution_count": 570,
   "metadata": {},
   "outputs": [],
   "source": [
    "# third section\n",
    "#How do sales and profitability compare between the two divisions?  What are the relevant average per store comparisons?\n",
    "#tempbak.groupby(['division']).agg({'annualbakerynetoperatingearnings':sum}).reset_index().iplot(kind='pie',labels='division',values='annualbakerynetoperatingearnings')"
   ]
  },
  {
   "cell_type": "code",
   "execution_count": 571,
   "metadata": {},
   "outputs": [],
   "source": [
    "profanal=tempbak.groupby(['division']).agg({'profitablestore':sum,'storenumber':'count'})"
   ]
  },
  {
   "cell_type": "code",
   "execution_count": 572,
   "metadata": {},
   "outputs": [
    {
     "data": {
      "text/html": [
       "<div>\n",
       "<style scoped>\n",
       "    .dataframe tbody tr th:only-of-type {\n",
       "        vertical-align: middle;\n",
       "    }\n",
       "\n",
       "    .dataframe tbody tr th {\n",
       "        vertical-align: top;\n",
       "    }\n",
       "\n",
       "    .dataframe thead th {\n",
       "        text-align: right;\n",
       "    }\n",
       "</style>\n",
       "<table border=\"1\" class=\"dataframe\">\n",
       "  <thead>\n",
       "    <tr style=\"text-align: right;\">\n",
       "      <th></th>\n",
       "      <th>profitablestore</th>\n",
       "      <th>storenumber</th>\n",
       "    </tr>\n",
       "    <tr>\n",
       "      <th>division</th>\n",
       "      <th></th>\n",
       "      <th></th>\n",
       "    </tr>\n",
       "  </thead>\n",
       "  <tbody>\n",
       "    <tr>\n",
       "      <th>DIVISION 01</th>\n",
       "      <td>129.0</td>\n",
       "      <td>348</td>\n",
       "    </tr>\n",
       "    <tr>\n",
       "      <th>DIVISION 02</th>\n",
       "      <td>3.0</td>\n",
       "      <td>167</td>\n",
       "    </tr>\n",
       "  </tbody>\n",
       "</table>\n",
       "</div>"
      ],
      "text/plain": [
       "             profitablestore  storenumber\n",
       "division                                 \n",
       "DIVISION 01            129.0          348\n",
       "DIVISION 02              3.0          167"
      ]
     },
     "execution_count": 572,
     "metadata": {},
     "output_type": "execute_result"
    }
   ],
   "source": [
    "profanal"
   ]
  },
  {
   "cell_type": "code",
   "execution_count": 573,
   "metadata": {},
   "outputs": [],
   "source": [
    "# division1 analysis\n",
    "mask=tempbak['profitablestore']\n",
    "div1prof=tempbak[tempbak['division']=='DIVISION 01'][mask].mean().reset_index()\n",
    "div1nonprof=tempbak[tempbak['division']=='DIVISION 01'][~mask].mean().reset_index()"
   ]
  },
  {
   "cell_type": "code",
   "execution_count": 574,
   "metadata": {},
   "outputs": [],
   "source": [
    "#underlying causes becuase the Net operating earnings are more \n",
    "\n",
    "#What roles do Materials, Labor and Allocations (all other store costs) have on Operating Earnings?  Why?\n",
    "#OE= Revenue- (MC+LC+AC)\n",
    "#the less the Material cost, labor cost and Allocations the more the earnings"
   ]
  },
  {
   "cell_type": "code",
   "execution_count": 575,
   "metadata": {},
   "outputs": [
    {
     "data": {
      "text/html": [
       "<div>\n",
       "<style scoped>\n",
       "    .dataframe tbody tr th:only-of-type {\n",
       "        vertical-align: middle;\n",
       "    }\n",
       "\n",
       "    .dataframe tbody tr th {\n",
       "        vertical-align: top;\n",
       "    }\n",
       "\n",
       "    .dataframe thead th {\n",
       "        text-align: right;\n",
       "    }\n",
       "</style>\n",
       "<table border=\"1\" class=\"dataframe\">\n",
       "  <thead>\n",
       "    <tr style=\"text-align: right;\">\n",
       "      <th></th>\n",
       "      <th>index</th>\n",
       "      <th>0_prof</th>\n",
       "      <th>0_nonprof</th>\n",
       "    </tr>\n",
       "  </thead>\n",
       "  <tbody>\n",
       "    <tr>\n",
       "      <th>0</th>\n",
       "      <td>storenumber</td>\n",
       "      <td>479.263566</td>\n",
       "      <td>530.118721</td>\n",
       "    </tr>\n",
       "    <tr>\n",
       "      <th>1</th>\n",
       "      <td>subregion</td>\n",
       "      <td>2.108527</td>\n",
       "      <td>2.525114</td>\n",
       "    </tr>\n",
       "    <tr>\n",
       "      <th>2</th>\n",
       "      <td>annualbakerysales</td>\n",
       "      <td>870713.924419</td>\n",
       "      <td>585690.006393</td>\n",
       "    </tr>\n",
       "    <tr>\n",
       "      <th>3</th>\n",
       "      <td>avgweeklybakerysales</td>\n",
       "      <td>16778.300080</td>\n",
       "      <td>11265.139271</td>\n",
       "    </tr>\n",
       "    <tr>\n",
       "      <th>4</th>\n",
       "      <td>annualbakerygrossmargin</td>\n",
       "      <td>499003.279612</td>\n",
       "      <td>321934.833836</td>\n",
       "    </tr>\n",
       "    <tr>\n",
       "      <th>5</th>\n",
       "      <td>bakerygrossmarginrate</td>\n",
       "      <td>0.570997</td>\n",
       "      <td>0.545100</td>\n",
       "    </tr>\n",
       "    <tr>\n",
       "      <th>6</th>\n",
       "      <td>annualbakerynetoperatingearnings</td>\n",
       "      <td>59221.683333</td>\n",
       "      <td>-68712.681187</td>\n",
       "    </tr>\n",
       "    <tr>\n",
       "      <th>7</th>\n",
       "      <td>bakerynetoperatingearningspercentage</td>\n",
       "      <td>0.061174</td>\n",
       "      <td>-0.142462</td>\n",
       "    </tr>\n",
       "    <tr>\n",
       "      <th>8</th>\n",
       "      <td>annualbakerydirectpayrollcosts</td>\n",
       "      <td>176984.052481</td>\n",
       "      <td>146656.371553</td>\n",
       "    </tr>\n",
       "    <tr>\n",
       "      <th>9</th>\n",
       "      <td>bakerydirectpayrollpercentage</td>\n",
       "      <td>0.206349</td>\n",
       "      <td>0.259372</td>\n",
       "    </tr>\n",
       "    <tr>\n",
       "      <th>10</th>\n",
       "      <td>annualbakerydeptlaberhours</td>\n",
       "      <td>10723.306202</td>\n",
       "      <td>8734.475799</td>\n",
       "    </tr>\n",
       "    <tr>\n",
       "      <th>11</th>\n",
       "      <td>bakerysellingsqft</td>\n",
       "      <td>1453.186047</td>\n",
       "      <td>1444.479452</td>\n",
       "    </tr>\n",
       "    <tr>\n",
       "      <th>12</th>\n",
       "      <td>MC</td>\n",
       "      <td>371710.644806</td>\n",
       "      <td>263755.172557</td>\n",
       "    </tr>\n",
       "    <tr>\n",
       "      <th>13</th>\n",
       "      <td>MC+LC</td>\n",
       "      <td>548694.697287</td>\n",
       "      <td>410411.544110</td>\n",
       "    </tr>\n",
       "    <tr>\n",
       "      <th>14</th>\n",
       "      <td>AC</td>\n",
       "      <td>262797.543798</td>\n",
       "      <td>243991.143470</td>\n",
       "    </tr>\n",
       "    <tr>\n",
       "      <th>15</th>\n",
       "      <td>CM</td>\n",
       "      <td>322019.227132</td>\n",
       "      <td>175278.462283</td>\n",
       "    </tr>\n",
       "    <tr>\n",
       "      <th>16</th>\n",
       "      <td>totspent</td>\n",
       "      <td>811492.241085</td>\n",
       "      <td>654402.687580</td>\n",
       "    </tr>\n",
       "    <tr>\n",
       "      <th>17</th>\n",
       "      <td>breakeven</td>\n",
       "      <td>811492.241085</td>\n",
       "      <td>654402.687580</td>\n",
       "    </tr>\n",
       "    <tr>\n",
       "      <th>18</th>\n",
       "      <td>profitablestore</td>\n",
       "      <td>1.000000</td>\n",
       "      <td>0.000000</td>\n",
       "    </tr>\n",
       "  </tbody>\n",
       "</table>\n",
       "</div>"
      ],
      "text/plain": [
       "                                   index         0_prof      0_nonprof\n",
       "0                            storenumber     479.263566     530.118721\n",
       "1                              subregion       2.108527       2.525114\n",
       "2                      annualbakerysales  870713.924419  585690.006393\n",
       "3                   avgweeklybakerysales   16778.300080   11265.139271\n",
       "4                annualbakerygrossmargin  499003.279612  321934.833836\n",
       "5                  bakerygrossmarginrate       0.570997       0.545100\n",
       "6       annualbakerynetoperatingearnings   59221.683333  -68712.681187\n",
       "7   bakerynetoperatingearningspercentage       0.061174      -0.142462\n",
       "8         annualbakerydirectpayrollcosts  176984.052481  146656.371553\n",
       "9          bakerydirectpayrollpercentage       0.206349       0.259372\n",
       "10            annualbakerydeptlaberhours   10723.306202    8734.475799\n",
       "11                     bakerysellingsqft    1453.186047    1444.479452\n",
       "12                                    MC  371710.644806  263755.172557\n",
       "13                                 MC+LC  548694.697287  410411.544110\n",
       "14                                    AC  262797.543798  243991.143470\n",
       "15                                    CM  322019.227132  175278.462283\n",
       "16                              totspent  811492.241085  654402.687580\n",
       "17                             breakeven  811492.241085  654402.687580\n",
       "18                       profitablestore       1.000000       0.000000"
      ]
     },
     "execution_count": 575,
     "metadata": {},
     "output_type": "execute_result"
    }
   ],
   "source": [
    "div1=pd.merge(div1prof,div1nonprof,left_on='index',right_on='index',suffixes=('_prof','_nonprof'),how='inner')\n",
    "div1"
   ]
  },
  {
   "cell_type": "code",
   "execution_count": 576,
   "metadata": {},
   "outputs": [],
   "source": [
    "#additional data analysis"
   ]
  },
  {
   "cell_type": "code",
   "execution_count": 577,
   "metadata": {},
   "outputs": [],
   "source": [
    "# customer segmentation\n",
    "storeatt=['bakerydeptsizegroup','coffeshoptype_nb']\n",
    "\n",
    "#storesegm\n",
    "storesegmcustprof=['storetype_a', 'storetype_b','a_dd', 'b_gl', 'c_qf','d_t', 'e-us', 'f_b']\n",
    "\n",
    "newstoresegm=df[['storenumber']+storeatt+storesegmcustprof]"
   ]
  },
  {
   "cell_type": "code",
   "execution_count": 578,
   "metadata": {},
   "outputs": [],
   "source": [
    "conseg= pd.merge(tempbak,newstoresegm,left_on='storenumber',right_on='storenumber',how='inner')"
   ]
  },
  {
   "cell_type": "code",
   "execution_count": 579,
   "metadata": {},
   "outputs": [
    {
     "data": {
      "text/html": [
       "<div>\n",
       "<style scoped>\n",
       "    .dataframe tbody tr th:only-of-type {\n",
       "        vertical-align: middle;\n",
       "    }\n",
       "\n",
       "    .dataframe tbody tr th {\n",
       "        vertical-align: top;\n",
       "    }\n",
       "\n",
       "    .dataframe thead th {\n",
       "        text-align: right;\n",
       "    }\n",
       "</style>\n",
       "<table border=\"1\" class=\"dataframe\">\n",
       "  <thead>\n",
       "    <tr style=\"text-align: right;\">\n",
       "      <th></th>\n",
       "      <th>storenumber</th>\n",
       "      <th>division</th>\n",
       "      <th>marketarea</th>\n",
       "      <th>subregion</th>\n",
       "      <th>annualbakerysales</th>\n",
       "      <th>avgweeklybakerysales</th>\n",
       "      <th>annualbakerygrossmargin</th>\n",
       "      <th>bakerygrossmarginrate</th>\n",
       "      <th>annualbakerynetoperatingearnings</th>\n",
       "      <th>bakerynetoperatingearningspercentage</th>\n",
       "      <th>...</th>\n",
       "      <th>bakerydeptsizegroup</th>\n",
       "      <th>coffeshoptype_nb</th>\n",
       "      <th>storetype_a</th>\n",
       "      <th>storetype_b</th>\n",
       "      <th>a_dd</th>\n",
       "      <th>b_gl</th>\n",
       "      <th>c_qf</th>\n",
       "      <th>d_t</th>\n",
       "      <th>e-us</th>\n",
       "      <th>f_b</th>\n",
       "    </tr>\n",
       "  </thead>\n",
       "  <tbody>\n",
       "    <tr>\n",
       "      <th>0</th>\n",
       "      <td>1</td>\n",
       "      <td>DIVISION 01</td>\n",
       "      <td>REGION 1</td>\n",
       "      <td>1</td>\n",
       "      <td>537176.06</td>\n",
       "      <td>10330.308846</td>\n",
       "      <td>314725.23</td>\n",
       "      <td>0.585888</td>\n",
       "      <td>2587.35</td>\n",
       "      <td>0.004817</td>\n",
       "      <td>...</td>\n",
       "      <td>SMALL</td>\n",
       "      <td>None</td>\n",
       "      <td>1-Quality Places</td>\n",
       "      <td>2-Mid/Traditional</td>\n",
       "      <td>0.230706</td>\n",
       "      <td>0.090784</td>\n",
       "      <td>0.046249</td>\n",
       "      <td>0.306602</td>\n",
       "      <td>0.268462</td>\n",
       "      <td>0.057197</td>\n",
       "    </tr>\n",
       "    <tr>\n",
       "      <th>1</th>\n",
       "      <td>3</td>\n",
       "      <td>DIVISION 01</td>\n",
       "      <td>REGION 1</td>\n",
       "      <td>1</td>\n",
       "      <td>851926.89</td>\n",
       "      <td>16383.209423</td>\n",
       "      <td>489247.63</td>\n",
       "      <td>0.574284</td>\n",
       "      <td>42395.99</td>\n",
       "      <td>0.049765</td>\n",
       "      <td>...</td>\n",
       "      <td>MEDIUM</td>\n",
       "      <td>Dunkin Donuts</td>\n",
       "      <td>2-Mainstream Markets</td>\n",
       "      <td>2-Mid/Traditional</td>\n",
       "      <td>0.184601</td>\n",
       "      <td>0.141916</td>\n",
       "      <td>0.075622</td>\n",
       "      <td>0.301760</td>\n",
       "      <td>0.210752</td>\n",
       "      <td>0.085349</td>\n",
       "    </tr>\n",
       "    <tr>\n",
       "      <th>2</th>\n",
       "      <td>5</td>\n",
       "      <td>DIVISION 01</td>\n",
       "      <td>REGION 1</td>\n",
       "      <td>1</td>\n",
       "      <td>599781.15</td>\n",
       "      <td>11534.252885</td>\n",
       "      <td>327419.16</td>\n",
       "      <td>0.545898</td>\n",
       "      <td>14227.37</td>\n",
       "      <td>0.023721</td>\n",
       "      <td>...</td>\n",
       "      <td>LARGE</td>\n",
       "      <td>None</td>\n",
       "      <td>3-Savings Centers</td>\n",
       "      <td>2-Mid/Traditional</td>\n",
       "      <td>0.146546</td>\n",
       "      <td>0.085418</td>\n",
       "      <td>0.045554</td>\n",
       "      <td>0.367253</td>\n",
       "      <td>0.264162</td>\n",
       "      <td>0.091067</td>\n",
       "    </tr>\n",
       "    <tr>\n",
       "      <th>3</th>\n",
       "      <td>6</td>\n",
       "      <td>DIVISION 01</td>\n",
       "      <td>REGION 1</td>\n",
       "      <td>1</td>\n",
       "      <td>858674.28</td>\n",
       "      <td>16512.966923</td>\n",
       "      <td>499531.40</td>\n",
       "      <td>0.581747</td>\n",
       "      <td>13540.22</td>\n",
       "      <td>0.015769</td>\n",
       "      <td>...</td>\n",
       "      <td>SMALL</td>\n",
       "      <td>Starbucks</td>\n",
       "      <td>1-Quality Places</td>\n",
       "      <td>2-Mid/Traditional</td>\n",
       "      <td>0.201927</td>\n",
       "      <td>0.140318</td>\n",
       "      <td>0.072568</td>\n",
       "      <td>0.302012</td>\n",
       "      <td>0.204857</td>\n",
       "      <td>0.078319</td>\n",
       "    </tr>\n",
       "    <tr>\n",
       "      <th>4</th>\n",
       "      <td>7</td>\n",
       "      <td>DIVISION 01</td>\n",
       "      <td>REGION 1</td>\n",
       "      <td>1</td>\n",
       "      <td>834844.29</td>\n",
       "      <td>16054.697885</td>\n",
       "      <td>479350.66</td>\n",
       "      <td>0.574180</td>\n",
       "      <td>49579.57</td>\n",
       "      <td>0.059388</td>\n",
       "      <td>...</td>\n",
       "      <td>MEDIUM</td>\n",
       "      <td>Dunkin Donuts</td>\n",
       "      <td>1-Quality Places</td>\n",
       "      <td>2-Mid/Traditional</td>\n",
       "      <td>0.129740</td>\n",
       "      <td>0.143704</td>\n",
       "      <td>0.096409</td>\n",
       "      <td>0.305724</td>\n",
       "      <td>0.194539</td>\n",
       "      <td>0.129884</td>\n",
       "    </tr>\n",
       "  </tbody>\n",
       "</table>\n",
       "<p>5 rows × 31 columns</p>\n",
       "</div>"
      ],
      "text/plain": [
       "   storenumber     division marketarea  subregion  annualbakerysales  \\\n",
       "0            1  DIVISION 01   REGION 1          1          537176.06   \n",
       "1            3  DIVISION 01   REGION 1          1          851926.89   \n",
       "2            5  DIVISION 01   REGION 1          1          599781.15   \n",
       "3            6  DIVISION 01   REGION 1          1          858674.28   \n",
       "4            7  DIVISION 01   REGION 1          1          834844.29   \n",
       "\n",
       "   avgweeklybakerysales  annualbakerygrossmargin  bakerygrossmarginrate  \\\n",
       "0          10330.308846                314725.23               0.585888   \n",
       "1          16383.209423                489247.63               0.574284   \n",
       "2          11534.252885                327419.16               0.545898   \n",
       "3          16512.966923                499531.40               0.581747   \n",
       "4          16054.697885                479350.66               0.574180   \n",
       "\n",
       "   annualbakerynetoperatingearnings  bakerynetoperatingearningspercentage  \\\n",
       "0                           2587.35                              0.004817   \n",
       "1                          42395.99                              0.049765   \n",
       "2                          14227.37                              0.023721   \n",
       "3                          13540.22                              0.015769   \n",
       "4                          49579.57                              0.059388   \n",
       "\n",
       "   ...  bakerydeptsizegroup  coffeshoptype_nb           storetype_a  \\\n",
       "0  ...                SMALL              None      1-Quality Places   \n",
       "1  ...               MEDIUM     Dunkin Donuts  2-Mainstream Markets   \n",
       "2  ...                LARGE              None     3-Savings Centers   \n",
       "3  ...                SMALL         Starbucks      1-Quality Places   \n",
       "4  ...               MEDIUM     Dunkin Donuts      1-Quality Places   \n",
       "\n",
       "         storetype_b      a_dd      b_gl      c_qf       d_t      e-us  \\\n",
       "0  2-Mid/Traditional  0.230706  0.090784  0.046249  0.306602  0.268462   \n",
       "1  2-Mid/Traditional  0.184601  0.141916  0.075622  0.301760  0.210752   \n",
       "2  2-Mid/Traditional  0.146546  0.085418  0.045554  0.367253  0.264162   \n",
       "3  2-Mid/Traditional  0.201927  0.140318  0.072568  0.302012  0.204857   \n",
       "4  2-Mid/Traditional  0.129740  0.143704  0.096409  0.305724  0.194539   \n",
       "\n",
       "        f_b  \n",
       "0  0.057197  \n",
       "1  0.085349  \n",
       "2  0.091067  \n",
       "3  0.078319  \n",
       "4  0.129884  \n",
       "\n",
       "[5 rows x 31 columns]"
      ]
     },
     "execution_count": 579,
     "metadata": {},
     "output_type": "execute_result"
    }
   ],
   "source": [
    "# number of stores in coffeshot typ\n",
    "conseg.head()"
   ]
  },
  {
   "cell_type": "code",
   "execution_count": 580,
   "metadata": {},
   "outputs": [
    {
     "data": {
      "application/vnd.plotly.v1+json": {
       "config": {
        "linkText": "Export to plot.ly",
        "plotlyServerURL": "https://plot.ly",
        "showLink": true
       },
       "data": [
        {
         "marker": {
          "color": "rgba(255, 153, 51, 0.6)",
          "line": {
           "color": "rgba(255, 153, 51, 1.0)",
           "width": 1
          }
         },
         "name": "storenumber",
         "orientation": "v",
         "text": "",
         "type": "bar",
         "uid": "9098b113-91b0-470e-b896-a40000adbbdd",
         "x": [
          "(Dunkin Donuts,DIVISION 01)",
          "(None,DIVISION 01)",
          "(Starbucks,DIVISION 01)",
          "(Starbucks,DIVISION 02)",
          "(None,DIVISION 02)",
          "(Dunkin Donuts,DIVISION 02)"
         ],
         "y": [
          129,
          177,
          42,
          21,
          145,
          1
         ]
        },
        {
         "marker": {
          "color": "rgba(55, 128, 191, 0.6)",
          "line": {
           "color": "rgba(55, 128, 191, 1.0)",
           "width": 1
          }
         },
         "name": "profitablestore",
         "orientation": "v",
         "text": "",
         "type": "bar",
         "uid": "d253295c-315c-4082-9442-3d4f0ce6409b",
         "x": [
          "(Dunkin Donuts,DIVISION 01)",
          "(None,DIVISION 01)",
          "(Starbucks,DIVISION 01)",
          "(Starbucks,DIVISION 02)",
          "(None,DIVISION 02)",
          "(Dunkin Donuts,DIVISION 02)"
         ],
         "y": [
          84,
          36,
          9,
          2,
          1,
          0
         ]
        }
       ],
       "layout": {
        "legend": {
         "bgcolor": "#F5F6F9",
         "font": {
          "color": "#4D5663"
         }
        },
        "paper_bgcolor": "#F5F6F9",
        "plot_bgcolor": "#F5F6F9",
        "title": {
         "font": {
          "color": "#4D5663"
         }
        },
        "xaxis": {
         "gridcolor": "#E1E5ED",
         "showgrid": true,
         "tickfont": {
          "color": "#4D5663"
         },
         "title": {
          "font": {
           "color": "#4D5663"
          },
          "text": ""
         },
         "zerolinecolor": "#E1E5ED"
        },
        "yaxis": {
         "gridcolor": "#E1E5ED",
         "showgrid": true,
         "tickfont": {
          "color": "#4D5663"
         },
         "title": {
          "font": {
           "color": "#4D5663"
          },
          "text": ""
         },
         "zerolinecolor": "#E1E5ED"
        }
       }
      },
      "text/html": [
       "<div>\n",
       "        \n",
       "        \n",
       "            <div id=\"6fa31573-8f6d-45b4-9dca-449a1e998dae\" class=\"plotly-graph-div\" style=\"height:525px; width:100%;\"></div>\n",
       "            <script type=\"text/javascript\">\n",
       "                require([\"plotly\"], function(Plotly) {\n",
       "                    window.PLOTLYENV=window.PLOTLYENV || {};\n",
       "                    window.PLOTLYENV.BASE_URL='https://plot.ly';\n",
       "                    \n",
       "                if (document.getElementById(\"6fa31573-8f6d-45b4-9dca-449a1e998dae\")) {\n",
       "                    Plotly.newPlot(\n",
       "                        '6fa31573-8f6d-45b4-9dca-449a1e998dae',\n",
       "                        [{\"marker\": {\"color\": \"rgba(255, 153, 51, 0.6)\", \"line\": {\"color\": \"rgba(255, 153, 51, 1.0)\", \"width\": 1}}, \"name\": \"storenumber\", \"orientation\": \"v\", \"text\": \"\", \"type\": \"bar\", \"uid\": \"9098b113-91b0-470e-b896-a40000adbbdd\", \"x\": [\"(Dunkin Donuts,DIVISION 01)\", \"(None,DIVISION 01)\", \"(Starbucks,DIVISION 01)\", \"(Starbucks,DIVISION 02)\", \"(None,DIVISION 02)\", \"(Dunkin Donuts,DIVISION 02)\"], \"y\": [129, 177, 42, 21, 145, 1]}, {\"marker\": {\"color\": \"rgba(55, 128, 191, 0.6)\", \"line\": {\"color\": \"rgba(55, 128, 191, 1.0)\", \"width\": 1}}, \"name\": \"profitablestore\", \"orientation\": \"v\", \"text\": \"\", \"type\": \"bar\", \"uid\": \"d253295c-315c-4082-9442-3d4f0ce6409b\", \"x\": [\"(Dunkin Donuts,DIVISION 01)\", \"(None,DIVISION 01)\", \"(Starbucks,DIVISION 01)\", \"(Starbucks,DIVISION 02)\", \"(None,DIVISION 02)\", \"(Dunkin Donuts,DIVISION 02)\"], \"y\": [84.0, 36.0, 9.0, 2.0, 1.0, 0.0]}],\n",
       "                        {\"legend\": {\"bgcolor\": \"#F5F6F9\", \"font\": {\"color\": \"#4D5663\"}}, \"paper_bgcolor\": \"#F5F6F9\", \"plot_bgcolor\": \"#F5F6F9\", \"title\": {\"font\": {\"color\": \"#4D5663\"}}, \"xaxis\": {\"gridcolor\": \"#E1E5ED\", \"showgrid\": true, \"tickfont\": {\"color\": \"#4D5663\"}, \"title\": {\"font\": {\"color\": \"#4D5663\"}, \"text\": \"\"}, \"zerolinecolor\": \"#E1E5ED\"}, \"yaxis\": {\"gridcolor\": \"#E1E5ED\", \"showgrid\": true, \"tickfont\": {\"color\": \"#4D5663\"}, \"title\": {\"font\": {\"color\": \"#4D5663\"}, \"text\": \"\"}, \"zerolinecolor\": \"#E1E5ED\"}},\n",
       "                        {\"showLink\": true, \"linkText\": \"Export to plot.ly\", \"plotlyServerURL\": \"https://plot.ly\", \"responsive\": true}\n",
       "                    ).then(function(){\n",
       "                            \n",
       "var gd = document.getElementById('6fa31573-8f6d-45b4-9dca-449a1e998dae');\n",
       "var x = new MutationObserver(function (mutations, observer) {{\n",
       "        var display = window.getComputedStyle(gd).display;\n",
       "        if (!display || display === 'none') {{\n",
       "            console.log([gd, 'removed!']);\n",
       "            Plotly.purge(gd);\n",
       "            observer.disconnect();\n",
       "        }}\n",
       "}});\n",
       "\n",
       "// Listen for the removal of the full notebook cells\n",
       "var notebookContainer = gd.closest('#notebook-container');\n",
       "if (notebookContainer) {{\n",
       "    x.observe(notebookContainer, {childList: true});\n",
       "}}\n",
       "\n",
       "// Listen for the clearing of the current output cell\n",
       "var outputEl = gd.closest('.output');\n",
       "if (outputEl) {{\n",
       "    x.observe(outputEl, {childList: true});\n",
       "}}\n",
       "\n",
       "                        })\n",
       "                };\n",
       "                });\n",
       "            </script>\n",
       "        </div>"
      ]
     },
     "metadata": {},
     "output_type": "display_data"
    }
   ],
   "source": [
    "# dunkin donuts is helping the bakery business to drive profits\n",
    "conseg.groupby(['coffeshoptype_nb','division']).agg({'storenumber':'count','profitablestore':sum}).\\\n",
    "sort_values(['profitablestore'],ascending=False).iplot(kind='bar')"
   ]
  },
  {
   "cell_type": "code",
   "execution_count": 581,
   "metadata": {},
   "outputs": [
    {
     "data": {
      "application/vnd.plotly.v1+json": {
       "config": {
        "linkText": "Export to plot.ly",
        "plotlyServerURL": "https://plot.ly",
        "showLink": true
       },
       "data": [
        {
         "labels": [
          [
           "MEDIUM",
           "DIVISION 01"
          ],
          [
           "SMALL",
           "DIVISION 01"
          ],
          [
           "LARGE",
           "DIVISION 01"
          ],
          [
           "LARGE",
           "DIVISION 02"
          ],
          [
           "MEDIUM",
           "DIVISION 02"
          ],
          [
           "SMALL",
           "DIVISION 02"
          ]
         ],
         "marker": {
          "colors": [
           "rgba(255, 153, 51, 1.0)",
           "rgba(55, 128, 191, 1.0)",
           "rgba(50, 171, 96, 1.0)",
           "rgba(128, 0, 128, 1.0)",
           "rgba(219, 64, 82, 1.0)",
           "rgba(0, 128, 128, 1.0)"
          ]
         },
         "name": "",
         "pull": 0.2,
         "type": "pie",
         "values": [
          54,
          40,
          35,
          2,
          1,
          0
         ]
        }
       ],
       "layout": {
        "legend": {
         "bgcolor": "#F5F6F9",
         "font": {
          "color": "#4D5663"
         }
        },
        "paper_bgcolor": "#F5F6F9",
        "plot_bgcolor": "#F5F6F9",
        "titlefont": {
         "color": "#4D5663"
        }
       }
      },
      "text/html": [
       "<div>\n",
       "        \n",
       "        \n",
       "            <div id=\"5e01a2e6-e366-44f7-9619-4b99b660eb3e\" class=\"plotly-graph-div\" style=\"height:525px; width:100%;\"></div>\n",
       "            <script type=\"text/javascript\">\n",
       "                require([\"plotly\"], function(Plotly) {\n",
       "                    window.PLOTLYENV=window.PLOTLYENV || {};\n",
       "                    window.PLOTLYENV.BASE_URL='https://plot.ly';\n",
       "                    \n",
       "                if (document.getElementById(\"5e01a2e6-e366-44f7-9619-4b99b660eb3e\")) {\n",
       "                    Plotly.newPlot(\n",
       "                        '5e01a2e6-e366-44f7-9619-4b99b660eb3e',\n",
       "                        [{\"labels\": [[\"MEDIUM\", \"DIVISION 01\"], [\"SMALL\", \"DIVISION 01\"], [\"LARGE\", \"DIVISION 01\"], [\"LARGE\", \"DIVISION 02\"], [\"MEDIUM\", \"DIVISION 02\"], [\"SMALL\", \"DIVISION 02\"]], \"marker\": {\"colors\": [\"rgba(255, 153, 51, 1.0)\", \"rgba(55, 128, 191, 1.0)\", \"rgba(50, 171, 96, 1.0)\", \"rgba(128, 0, 128, 1.0)\", \"rgba(219, 64, 82, 1.0)\", \"rgba(0, 128, 128, 1.0)\"]}, \"name\": \"\", \"pull\": 0.2, \"type\": \"pie\", \"values\": [54.0, 40.0, 35.0, 2.0, 1.0, 0.0]}],\n",
       "                        {\"legend\": {\"bgcolor\": \"#F5F6F9\", \"font\": {\"color\": \"#4D5663\"}}, \"paper_bgcolor\": \"#F5F6F9\", \"plot_bgcolor\": \"#F5F6F9\", \"titlefont\": {\"color\": \"#4D5663\"}},\n",
       "                        {\"showLink\": true, \"linkText\": \"Export to plot.ly\", \"plotlyServerURL\": \"https://plot.ly\", \"responsive\": true}\n",
       "                    ).then(function(){\n",
       "                            \n",
       "var gd = document.getElementById('5e01a2e6-e366-44f7-9619-4b99b660eb3e');\n",
       "var x = new MutationObserver(function (mutations, observer) {{\n",
       "        var display = window.getComputedStyle(gd).display;\n",
       "        if (!display || display === 'none') {{\n",
       "            console.log([gd, 'removed!']);\n",
       "            Plotly.purge(gd);\n",
       "            observer.disconnect();\n",
       "        }}\n",
       "}});\n",
       "\n",
       "// Listen for the removal of the full notebook cells\n",
       "var notebookContainer = gd.closest('#notebook-container');\n",
       "if (notebookContainer) {{\n",
       "    x.observe(notebookContainer, {childList: true});\n",
       "}}\n",
       "\n",
       "// Listen for the clearing of the current output cell\n",
       "var outputEl = gd.closest('.output');\n",
       "if (outputEl) {{\n",
       "    x.observe(outputEl, {childList: true});\n",
       "}}\n",
       "\n",
       "                        })\n",
       "                };\n",
       "                });\n",
       "            </script>\n",
       "        </div>"
      ]
     },
     "metadata": {},
     "output_type": "display_data"
    }
   ],
   "source": [
    "conseg.groupby(['bakerydeptsizegroup','division']).agg({'storenumber':'count','profitablestore':sum}).\\\n",
    "sort_values(['profitablestore'],ascending=False).reset_index().iplot(kind='pie',labels=['bakerydeptsizegroup','division'],values='profitablestore',pull=0.2)"
   ]
  },
  {
   "cell_type": "code",
   "execution_count": 582,
   "metadata": {},
   "outputs": [
    {
     "data": {
      "text/plain": [
       "Index(['storenumber', 'division', 'marketarea', 'subregion',\n",
       "       'annualbakerysales', 'avgweeklybakerysales', 'annualbakerygrossmargin',\n",
       "       'bakerygrossmarginrate', 'annualbakerynetoperatingearnings',\n",
       "       'bakerynetoperatingearningspercentage',\n",
       "       'annualbakerydirectpayrollcosts', 'bakerydirectpayrollpercentage',\n",
       "       'annualbakerydeptlaberhours', 'bakerysellingsqft', 'MC', 'MC+LC', 'AC',\n",
       "       'CM', 'totspent', 'breakeven', 'profitablestore', 'bakerydeptsizegroup',\n",
       "       'coffeshoptype_nb', 'storetype_a', 'storetype_b', 'a_dd', 'b_gl',\n",
       "       'c_qf', 'd_t', 'e-us', 'f_b'],\n",
       "      dtype='object')"
      ]
     },
     "execution_count": 582,
     "metadata": {},
     "output_type": "execute_result"
    }
   ],
   "source": [
    "conseg.columns"
   ]
  },
  {
   "cell_type": "code",
   "execution_count": 583,
   "metadata": {},
   "outputs": [
    {
     "data": {
      "text/plain": [
       "'We have two store clustering structures (scheme A and B). \\xa0 How do the store clusters align with performance? \\xa0\\nWhich store cluster scheme would you recommend to use for the Bakery Strategy or are there other store consumer segmentation alternatives that we should consider?\\n'"
      ]
     },
     "execution_count": 583,
     "metadata": {},
     "output_type": "execute_result"
    }
   ],
   "source": [
    "#consumer segments\n",
    "\n",
    "'''We have two store clustering structures (scheme A and B).   How do the store clusters align with performance?  \n",
    "Which store cluster scheme would you recommend to use for the Bakery Strategy or are there other store consumer segmentation alternatives that we should consider?\n",
    "'''"
   ]
  },
  {
   "cell_type": "code",
   "execution_count": 584,
   "metadata": {},
   "outputs": [
    {
     "data": {
      "text/html": [
       "<div>\n",
       "<style scoped>\n",
       "    .dataframe tbody tr th:only-of-type {\n",
       "        vertical-align: middle;\n",
       "    }\n",
       "\n",
       "    .dataframe tbody tr th {\n",
       "        vertical-align: top;\n",
       "    }\n",
       "\n",
       "    .dataframe thead th {\n",
       "        text-align: right;\n",
       "    }\n",
       "</style>\n",
       "<table border=\"1\" class=\"dataframe\">\n",
       "  <thead>\n",
       "    <tr style=\"text-align: right;\">\n",
       "      <th></th>\n",
       "      <th>storenumber</th>\n",
       "      <th>division</th>\n",
       "      <th>marketarea</th>\n",
       "      <th>subregion</th>\n",
       "      <th>annualbakerysales</th>\n",
       "      <th>avgweeklybakerysales</th>\n",
       "      <th>annualbakerygrossmargin</th>\n",
       "      <th>bakerygrossmarginrate</th>\n",
       "      <th>annualbakerynetoperatingearnings</th>\n",
       "      <th>bakerynetoperatingearningspercentage</th>\n",
       "      <th>...</th>\n",
       "      <th>bakerydeptsizegroup</th>\n",
       "      <th>coffeshoptype_nb</th>\n",
       "      <th>storetype_a</th>\n",
       "      <th>storetype_b</th>\n",
       "      <th>a_dd</th>\n",
       "      <th>b_gl</th>\n",
       "      <th>c_qf</th>\n",
       "      <th>d_t</th>\n",
       "      <th>e-us</th>\n",
       "      <th>f_b</th>\n",
       "    </tr>\n",
       "  </thead>\n",
       "  <tbody>\n",
       "    <tr>\n",
       "      <th>0</th>\n",
       "      <td>1</td>\n",
       "      <td>DIVISION 01</td>\n",
       "      <td>REGION 1</td>\n",
       "      <td>1</td>\n",
       "      <td>537176.06</td>\n",
       "      <td>10330.308846</td>\n",
       "      <td>314725.23</td>\n",
       "      <td>0.585888</td>\n",
       "      <td>2587.35</td>\n",
       "      <td>0.004817</td>\n",
       "      <td>...</td>\n",
       "      <td>SMALL</td>\n",
       "      <td>None</td>\n",
       "      <td>1-Quality Places</td>\n",
       "      <td>2-Mid/Traditional</td>\n",
       "      <td>0.230706</td>\n",
       "      <td>0.090784</td>\n",
       "      <td>0.046249</td>\n",
       "      <td>0.306602</td>\n",
       "      <td>0.268462</td>\n",
       "      <td>0.057197</td>\n",
       "    </tr>\n",
       "    <tr>\n",
       "      <th>1</th>\n",
       "      <td>3</td>\n",
       "      <td>DIVISION 01</td>\n",
       "      <td>REGION 1</td>\n",
       "      <td>1</td>\n",
       "      <td>851926.89</td>\n",
       "      <td>16383.209423</td>\n",
       "      <td>489247.63</td>\n",
       "      <td>0.574284</td>\n",
       "      <td>42395.99</td>\n",
       "      <td>0.049765</td>\n",
       "      <td>...</td>\n",
       "      <td>MEDIUM</td>\n",
       "      <td>Dunkin Donuts</td>\n",
       "      <td>2-Mainstream Markets</td>\n",
       "      <td>2-Mid/Traditional</td>\n",
       "      <td>0.184601</td>\n",
       "      <td>0.141916</td>\n",
       "      <td>0.075622</td>\n",
       "      <td>0.301760</td>\n",
       "      <td>0.210752</td>\n",
       "      <td>0.085349</td>\n",
       "    </tr>\n",
       "    <tr>\n",
       "      <th>2</th>\n",
       "      <td>5</td>\n",
       "      <td>DIVISION 01</td>\n",
       "      <td>REGION 1</td>\n",
       "      <td>1</td>\n",
       "      <td>599781.15</td>\n",
       "      <td>11534.252885</td>\n",
       "      <td>327419.16</td>\n",
       "      <td>0.545898</td>\n",
       "      <td>14227.37</td>\n",
       "      <td>0.023721</td>\n",
       "      <td>...</td>\n",
       "      <td>LARGE</td>\n",
       "      <td>None</td>\n",
       "      <td>3-Savings Centers</td>\n",
       "      <td>2-Mid/Traditional</td>\n",
       "      <td>0.146546</td>\n",
       "      <td>0.085418</td>\n",
       "      <td>0.045554</td>\n",
       "      <td>0.367253</td>\n",
       "      <td>0.264162</td>\n",
       "      <td>0.091067</td>\n",
       "    </tr>\n",
       "    <tr>\n",
       "      <th>3</th>\n",
       "      <td>6</td>\n",
       "      <td>DIVISION 01</td>\n",
       "      <td>REGION 1</td>\n",
       "      <td>1</td>\n",
       "      <td>858674.28</td>\n",
       "      <td>16512.966923</td>\n",
       "      <td>499531.40</td>\n",
       "      <td>0.581747</td>\n",
       "      <td>13540.22</td>\n",
       "      <td>0.015769</td>\n",
       "      <td>...</td>\n",
       "      <td>SMALL</td>\n",
       "      <td>Starbucks</td>\n",
       "      <td>1-Quality Places</td>\n",
       "      <td>2-Mid/Traditional</td>\n",
       "      <td>0.201927</td>\n",
       "      <td>0.140318</td>\n",
       "      <td>0.072568</td>\n",
       "      <td>0.302012</td>\n",
       "      <td>0.204857</td>\n",
       "      <td>0.078319</td>\n",
       "    </tr>\n",
       "    <tr>\n",
       "      <th>4</th>\n",
       "      <td>7</td>\n",
       "      <td>DIVISION 01</td>\n",
       "      <td>REGION 1</td>\n",
       "      <td>1</td>\n",
       "      <td>834844.29</td>\n",
       "      <td>16054.697885</td>\n",
       "      <td>479350.66</td>\n",
       "      <td>0.574180</td>\n",
       "      <td>49579.57</td>\n",
       "      <td>0.059388</td>\n",
       "      <td>...</td>\n",
       "      <td>MEDIUM</td>\n",
       "      <td>Dunkin Donuts</td>\n",
       "      <td>1-Quality Places</td>\n",
       "      <td>2-Mid/Traditional</td>\n",
       "      <td>0.129740</td>\n",
       "      <td>0.143704</td>\n",
       "      <td>0.096409</td>\n",
       "      <td>0.305724</td>\n",
       "      <td>0.194539</td>\n",
       "      <td>0.129884</td>\n",
       "    </tr>\n",
       "  </tbody>\n",
       "</table>\n",
       "<p>5 rows × 31 columns</p>\n",
       "</div>"
      ],
      "text/plain": [
       "   storenumber     division marketarea  subregion  annualbakerysales  \\\n",
       "0            1  DIVISION 01   REGION 1          1          537176.06   \n",
       "1            3  DIVISION 01   REGION 1          1          851926.89   \n",
       "2            5  DIVISION 01   REGION 1          1          599781.15   \n",
       "3            6  DIVISION 01   REGION 1          1          858674.28   \n",
       "4            7  DIVISION 01   REGION 1          1          834844.29   \n",
       "\n",
       "   avgweeklybakerysales  annualbakerygrossmargin  bakerygrossmarginrate  \\\n",
       "0          10330.308846                314725.23               0.585888   \n",
       "1          16383.209423                489247.63               0.574284   \n",
       "2          11534.252885                327419.16               0.545898   \n",
       "3          16512.966923                499531.40               0.581747   \n",
       "4          16054.697885                479350.66               0.574180   \n",
       "\n",
       "   annualbakerynetoperatingearnings  bakerynetoperatingearningspercentage  \\\n",
       "0                           2587.35                              0.004817   \n",
       "1                          42395.99                              0.049765   \n",
       "2                          14227.37                              0.023721   \n",
       "3                          13540.22                              0.015769   \n",
       "4                          49579.57                              0.059388   \n",
       "\n",
       "   ...  bakerydeptsizegroup  coffeshoptype_nb           storetype_a  \\\n",
       "0  ...                SMALL              None      1-Quality Places   \n",
       "1  ...               MEDIUM     Dunkin Donuts  2-Mainstream Markets   \n",
       "2  ...                LARGE              None     3-Savings Centers   \n",
       "3  ...                SMALL         Starbucks      1-Quality Places   \n",
       "4  ...               MEDIUM     Dunkin Donuts      1-Quality Places   \n",
       "\n",
       "         storetype_b      a_dd      b_gl      c_qf       d_t      e-us  \\\n",
       "0  2-Mid/Traditional  0.230706  0.090784  0.046249  0.306602  0.268462   \n",
       "1  2-Mid/Traditional  0.184601  0.141916  0.075622  0.301760  0.210752   \n",
       "2  2-Mid/Traditional  0.146546  0.085418  0.045554  0.367253  0.264162   \n",
       "3  2-Mid/Traditional  0.201927  0.140318  0.072568  0.302012  0.204857   \n",
       "4  2-Mid/Traditional  0.129740  0.143704  0.096409  0.305724  0.194539   \n",
       "\n",
       "        f_b  \n",
       "0  0.057197  \n",
       "1  0.085349  \n",
       "2  0.091067  \n",
       "3  0.078319  \n",
       "4  0.129884  \n",
       "\n",
       "[5 rows x 31 columns]"
      ]
     },
     "execution_count": 584,
     "metadata": {},
     "output_type": "execute_result"
    }
   ],
   "source": [
    "conseg.head()"
   ]
  },
  {
   "cell_type": "code",
   "execution_count": 544,
   "metadata": {},
   "outputs": [
    {
     "data": {
      "application/vnd.plotly.v1+json": {
       "config": {
        "linkText": "Export to plot.ly",
        "plotlyServerURL": "https://plot.ly",
        "showLink": true
       },
       "data": [
        {
         "marker": {
          "color": "rgba(255, 153, 51, 0.6)",
          "line": {
           "color": "rgba(255, 153, 51, 1.0)",
           "width": 1
          }
         },
         "name": "profitablestore",
         "orientation": "v",
         "text": "",
         "type": "bar",
         "uid": "3e323368-1cb6-4d5b-9bc7-efed26e3195a",
         "x": [
          "1-Quality Places",
          "3-Savings Centers",
          "2-Mainstream Markets"
         ],
         "y": [
          54,
          51,
          27
         ]
        }
       ],
       "layout": {
        "legend": {
         "bgcolor": "#F5F6F9",
         "font": {
          "color": "#4D5663"
         }
        },
        "paper_bgcolor": "#F5F6F9",
        "plot_bgcolor": "#F5F6F9",
        "title": {
         "font": {
          "color": "#4D5663"
         }
        },
        "xaxis": {
         "gridcolor": "#E1E5ED",
         "showgrid": true,
         "tickfont": {
          "color": "#4D5663"
         },
         "title": {
          "font": {
           "color": "#4D5663"
          },
          "text": ""
         },
         "zerolinecolor": "#E1E5ED"
        },
        "yaxis": {
         "gridcolor": "#E1E5ED",
         "showgrid": true,
         "tickfont": {
          "color": "#4D5663"
         },
         "title": {
          "font": {
           "color": "#4D5663"
          },
          "text": ""
         },
         "zerolinecolor": "#E1E5ED"
        }
       }
      },
      "text/html": [
       "<div>\n",
       "        \n",
       "        \n",
       "            <div id=\"d1c0b381-a7d3-4a26-9994-f416aa905ad8\" class=\"plotly-graph-div\" style=\"height:525px; width:100%;\"></div>\n",
       "            <script type=\"text/javascript\">\n",
       "                require([\"plotly\"], function(Plotly) {\n",
       "                    window.PLOTLYENV=window.PLOTLYENV || {};\n",
       "                    window.PLOTLYENV.BASE_URL='https://plot.ly';\n",
       "                    \n",
       "                if (document.getElementById(\"d1c0b381-a7d3-4a26-9994-f416aa905ad8\")) {\n",
       "                    Plotly.newPlot(\n",
       "                        'd1c0b381-a7d3-4a26-9994-f416aa905ad8',\n",
       "                        [{\"marker\": {\"color\": \"rgba(255, 153, 51, 0.6)\", \"line\": {\"color\": \"rgba(255, 153, 51, 1.0)\", \"width\": 1}}, \"name\": \"profitablestore\", \"orientation\": \"v\", \"text\": \"\", \"type\": \"bar\", \"uid\": \"3e323368-1cb6-4d5b-9bc7-efed26e3195a\", \"x\": [\"1-Quality Places\", \"3-Savings Centers\", \"2-Mainstream Markets\"], \"y\": [54.0, 51.0, 27.0]}],\n",
       "                        {\"legend\": {\"bgcolor\": \"#F5F6F9\", \"font\": {\"color\": \"#4D5663\"}}, \"paper_bgcolor\": \"#F5F6F9\", \"plot_bgcolor\": \"#F5F6F9\", \"title\": {\"font\": {\"color\": \"#4D5663\"}}, \"xaxis\": {\"gridcolor\": \"#E1E5ED\", \"showgrid\": true, \"tickfont\": {\"color\": \"#4D5663\"}, \"title\": {\"font\": {\"color\": \"#4D5663\"}, \"text\": \"\"}, \"zerolinecolor\": \"#E1E5ED\"}, \"yaxis\": {\"gridcolor\": \"#E1E5ED\", \"showgrid\": true, \"tickfont\": {\"color\": \"#4D5663\"}, \"title\": {\"font\": {\"color\": \"#4D5663\"}, \"text\": \"\"}, \"zerolinecolor\": \"#E1E5ED\"}},\n",
       "                        {\"showLink\": true, \"linkText\": \"Export to plot.ly\", \"plotlyServerURL\": \"https://plot.ly\", \"responsive\": true}\n",
       "                    ).then(function(){\n",
       "                            \n",
       "var gd = document.getElementById('d1c0b381-a7d3-4a26-9994-f416aa905ad8');\n",
       "var x = new MutationObserver(function (mutations, observer) {{\n",
       "        var display = window.getComputedStyle(gd).display;\n",
       "        if (!display || display === 'none') {{\n",
       "            console.log([gd, 'removed!']);\n",
       "            Plotly.purge(gd);\n",
       "            observer.disconnect();\n",
       "        }}\n",
       "}});\n",
       "\n",
       "// Listen for the removal of the full notebook cells\n",
       "var notebookContainer = gd.closest('#notebook-container');\n",
       "if (notebookContainer) {{\n",
       "    x.observe(notebookContainer, {childList: true});\n",
       "}}\n",
       "\n",
       "// Listen for the clearing of the current output cell\n",
       "var outputEl = gd.closest('.output');\n",
       "if (outputEl) {{\n",
       "    x.observe(outputEl, {childList: true});\n",
       "}}\n",
       "\n",
       "                        })\n",
       "                };\n",
       "                });\n",
       "            </script>\n",
       "        </div>"
      ]
     },
     "metadata": {},
     "output_type": "display_data"
    }
   ],
   "source": [
    "conseg.groupby(['storetype_a']).agg({'profitablestore':sum}).sort_values(['profitablestore'],ascending=False).iplot(kind='bar')"
   ]
  },
  {
   "cell_type": "code",
   "execution_count": 587,
   "metadata": {},
   "outputs": [
    {
     "data": {
      "application/vnd.plotly.v1+json": {
       "config": {
        "linkText": "Export to plot.ly",
        "plotlyServerURL": "https://plot.ly",
        "showLink": true
       },
       "data": [
        {
         "marker": {
          "color": "rgba(255, 153, 51, 0.6)",
          "line": {
           "color": "rgba(255, 153, 51, 1.0)",
           "width": 1
          }
         },
         "name": "totspent",
         "orientation": "v",
         "text": "",
         "type": "bar",
         "uid": "eb17f514-92af-4023-aae0-3039ce5f11a2",
         "x": [
          "3-Savings Centers",
          "1-Quality Places",
          "2-Mainstream Markets"
         ],
         "y": [
          139089193.70999992,
          134440948.06000003,
          81878653.11
         ]
        },
        {
         "marker": {
          "color": "rgba(55, 128, 191, 0.6)",
          "line": {
           "color": "rgba(55, 128, 191, 1.0)",
           "width": 1
          }
         },
         "name": "annualbakerynetoperatingearnings",
         "orientation": "v",
         "text": "",
         "type": "bar",
         "uid": "b5e0e889-7520-4d8a-b77a-4f93d84d03e5",
         "x": [
          "3-Savings Centers",
          "1-Quality Places",
          "2-Mainstream Markets"
         ],
         "y": [
          -10043698.489999996,
          -8051663.749999999,
          -5114466.140000002
         ]
        },
        {
         "marker": {
          "color": "rgba(50, 171, 96, 0.6)",
          "line": {
           "color": "rgba(50, 171, 96, 1.0)",
           "width": 1
          }
         },
         "name": "annualbakerysales",
         "orientation": "v",
         "text": "",
         "type": "bar",
         "uid": "f665d1b3-ef84-4574-8054-7c885394f382",
         "x": [
          "3-Savings Centers",
          "1-Quality Places",
          "2-Mainstream Markets"
         ],
         "y": [
          129045495.22,
          126389284.31000006,
          76764186.96999998
         ]
        }
       ],
       "layout": {
        "legend": {
         "bgcolor": "#F5F6F9",
         "font": {
          "color": "#4D5663"
         }
        },
        "paper_bgcolor": "#F5F6F9",
        "plot_bgcolor": "#F5F6F9",
        "title": {
         "font": {
          "color": "#4D5663"
         }
        },
        "xaxis": {
         "gridcolor": "#E1E5ED",
         "showgrid": true,
         "tickfont": {
          "color": "#4D5663"
         },
         "title": {
          "font": {
           "color": "#4D5663"
          },
          "text": ""
         },
         "zerolinecolor": "#E1E5ED"
        },
        "yaxis": {
         "gridcolor": "#E1E5ED",
         "showgrid": true,
         "tickfont": {
          "color": "#4D5663"
         },
         "title": {
          "font": {
           "color": "#4D5663"
          },
          "text": ""
         },
         "zerolinecolor": "#E1E5ED"
        }
       }
      },
      "text/html": [
       "<div>\n",
       "        \n",
       "        \n",
       "            <div id=\"b97ac05e-be78-4041-b3a9-48931b297d30\" class=\"plotly-graph-div\" style=\"height:525px; width:100%;\"></div>\n",
       "            <script type=\"text/javascript\">\n",
       "                require([\"plotly\"], function(Plotly) {\n",
       "                    window.PLOTLYENV=window.PLOTLYENV || {};\n",
       "                    window.PLOTLYENV.BASE_URL='https://plot.ly';\n",
       "                    \n",
       "                if (document.getElementById(\"b97ac05e-be78-4041-b3a9-48931b297d30\")) {\n",
       "                    Plotly.newPlot(\n",
       "                        'b97ac05e-be78-4041-b3a9-48931b297d30',\n",
       "                        [{\"marker\": {\"color\": \"rgba(255, 153, 51, 0.6)\", \"line\": {\"color\": \"rgba(255, 153, 51, 1.0)\", \"width\": 1}}, \"name\": \"totspent\", \"orientation\": \"v\", \"text\": \"\", \"type\": \"bar\", \"uid\": \"eb17f514-92af-4023-aae0-3039ce5f11a2\", \"x\": [\"3-Savings Centers\", \"1-Quality Places\", \"2-Mainstream Markets\"], \"y\": [139089193.70999992, 134440948.06000003, 81878653.11]}, {\"marker\": {\"color\": \"rgba(55, 128, 191, 0.6)\", \"line\": {\"color\": \"rgba(55, 128, 191, 1.0)\", \"width\": 1}}, \"name\": \"annualbakerynetoperatingearnings\", \"orientation\": \"v\", \"text\": \"\", \"type\": \"bar\", \"uid\": \"b5e0e889-7520-4d8a-b77a-4f93d84d03e5\", \"x\": [\"3-Savings Centers\", \"1-Quality Places\", \"2-Mainstream Markets\"], \"y\": [-10043698.489999996, -8051663.749999999, -5114466.140000002]}, {\"marker\": {\"color\": \"rgba(50, 171, 96, 0.6)\", \"line\": {\"color\": \"rgba(50, 171, 96, 1.0)\", \"width\": 1}}, \"name\": \"annualbakerysales\", \"orientation\": \"v\", \"text\": \"\", \"type\": \"bar\", \"uid\": \"f665d1b3-ef84-4574-8054-7c885394f382\", \"x\": [\"3-Savings Centers\", \"1-Quality Places\", \"2-Mainstream Markets\"], \"y\": [129045495.22, 126389284.31000006, 76764186.96999998]}],\n",
       "                        {\"legend\": {\"bgcolor\": \"#F5F6F9\", \"font\": {\"color\": \"#4D5663\"}}, \"paper_bgcolor\": \"#F5F6F9\", \"plot_bgcolor\": \"#F5F6F9\", \"title\": {\"font\": {\"color\": \"#4D5663\"}}, \"xaxis\": {\"gridcolor\": \"#E1E5ED\", \"showgrid\": true, \"tickfont\": {\"color\": \"#4D5663\"}, \"title\": {\"font\": {\"color\": \"#4D5663\"}, \"text\": \"\"}, \"zerolinecolor\": \"#E1E5ED\"}, \"yaxis\": {\"gridcolor\": \"#E1E5ED\", \"showgrid\": true, \"tickfont\": {\"color\": \"#4D5663\"}, \"title\": {\"font\": {\"color\": \"#4D5663\"}, \"text\": \"\"}, \"zerolinecolor\": \"#E1E5ED\"}},\n",
       "                        {\"showLink\": true, \"linkText\": \"Export to plot.ly\", \"plotlyServerURL\": \"https://plot.ly\", \"responsive\": true}\n",
       "                    ).then(function(){\n",
       "                            \n",
       "var gd = document.getElementById('b97ac05e-be78-4041-b3a9-48931b297d30');\n",
       "var x = new MutationObserver(function (mutations, observer) {{\n",
       "        var display = window.getComputedStyle(gd).display;\n",
       "        if (!display || display === 'none') {{\n",
       "            console.log([gd, 'removed!']);\n",
       "            Plotly.purge(gd);\n",
       "            observer.disconnect();\n",
       "        }}\n",
       "}});\n",
       "\n",
       "// Listen for the removal of the full notebook cells\n",
       "var notebookContainer = gd.closest('#notebook-container');\n",
       "if (notebookContainer) {{\n",
       "    x.observe(notebookContainer, {childList: true});\n",
       "}}\n",
       "\n",
       "// Listen for the clearing of the current output cell\n",
       "var outputEl = gd.closest('.output');\n",
       "if (outputEl) {{\n",
       "    x.observe(outputEl, {childList: true});\n",
       "}}\n",
       "\n",
       "                        })\n",
       "                };\n",
       "                });\n",
       "            </script>\n",
       "        </div>"
      ]
     },
     "metadata": {},
     "output_type": "display_data"
    }
   ],
   "source": [
    "conseg.groupby(['storetype_a']).agg({'totspent':sum,'annualbakerynetoperatingearnings':sum,'annualbakerysales':sum}).sort_values(['totspent'],ascending=False).iplot(kind='bar')"
   ]
  },
  {
   "cell_type": "code",
   "execution_count": 585,
   "metadata": {},
   "outputs": [
    {
     "data": {
      "text/plain": [
       "Index(['storenumber', 'division', 'marketarea', 'subregion',\n",
       "       'annualbakerysales', 'avgweeklybakerysales', 'annualbakerygrossmargin',\n",
       "       'bakerygrossmarginrate', 'annualbakerynetoperatingearnings',\n",
       "       'bakerynetoperatingearningspercentage',\n",
       "       'annualbakerydirectpayrollcosts', 'bakerydirectpayrollpercentage',\n",
       "       'annualbakerydeptlaberhours', 'bakerysellingsqft', 'MC', 'MC+LC', 'AC',\n",
       "       'CM', 'totspent', 'breakeven', 'profitablestore', 'bakerydeptsizegroup',\n",
       "       'coffeshoptype_nb', 'storetype_a', 'storetype_b', 'a_dd', 'b_gl',\n",
       "       'c_qf', 'd_t', 'e-us', 'f_b'],\n",
       "      dtype='object')"
      ]
     },
     "execution_count": 585,
     "metadata": {},
     "output_type": "execute_result"
    }
   ],
   "source": [
    "conseg.columns"
   ]
  },
  {
   "cell_type": "code",
   "execution_count": 619,
   "metadata": {},
   "outputs": [
    {
     "data": {
      "application/vnd.plotly.v1+json": {
       "config": {
        "linkText": "Export to plot.ly",
        "plotlyServerURL": "https://plot.ly",
        "showLink": true
       },
       "data": [
        {
         "marker": {
          "color": "rgba(255, 153, 51, 0.6)",
          "line": {
           "color": "rgba(255, 153, 51, 1.0)",
           "width": 1
          }
         },
         "name": "profitablestore",
         "orientation": "v",
         "text": "",
         "type": "bar",
         "uid": "b3e09500-c0cb-47df-bd31-fdd7d80f514f",
         "x": [
          "2-Mid/Traditional",
          "3-Economy",
          "1-Affluent"
         ],
         "y": [
          78,
          29,
          25
         ]
        }
       ],
       "layout": {
        "legend": {
         "bgcolor": "#F5F6F9",
         "font": {
          "color": "#4D5663"
         }
        },
        "paper_bgcolor": "#F5F6F9",
        "plot_bgcolor": "#F5F6F9",
        "title": {
         "font": {
          "color": "#4D5663"
         }
        },
        "xaxis": {
         "gridcolor": "#E1E5ED",
         "showgrid": true,
         "tickfont": {
          "color": "#4D5663"
         },
         "title": {
          "font": {
           "color": "#4D5663"
          },
          "text": ""
         },
         "zerolinecolor": "#E1E5ED"
        },
        "yaxis": {
         "gridcolor": "#E1E5ED",
         "showgrid": true,
         "tickfont": {
          "color": "#4D5663"
         },
         "title": {
          "font": {
           "color": "#4D5663"
          },
          "text": ""
         },
         "zerolinecolor": "#E1E5ED"
        }
       }
      },
      "text/html": [
       "<div>\n",
       "        \n",
       "        \n",
       "            <div id=\"61ac1516-c932-4ec6-ad6f-0623710b1ced\" class=\"plotly-graph-div\" style=\"height:525px; width:100%;\"></div>\n",
       "            <script type=\"text/javascript\">\n",
       "                require([\"plotly\"], function(Plotly) {\n",
       "                    window.PLOTLYENV=window.PLOTLYENV || {};\n",
       "                    window.PLOTLYENV.BASE_URL='https://plot.ly';\n",
       "                    \n",
       "                if (document.getElementById(\"61ac1516-c932-4ec6-ad6f-0623710b1ced\")) {\n",
       "                    Plotly.newPlot(\n",
       "                        '61ac1516-c932-4ec6-ad6f-0623710b1ced',\n",
       "                        [{\"marker\": {\"color\": \"rgba(255, 153, 51, 0.6)\", \"line\": {\"color\": \"rgba(255, 153, 51, 1.0)\", \"width\": 1}}, \"name\": \"profitablestore\", \"orientation\": \"v\", \"text\": \"\", \"type\": \"bar\", \"uid\": \"b3e09500-c0cb-47df-bd31-fdd7d80f514f\", \"x\": [\"2-Mid/Traditional\", \"3-Economy\", \"1-Affluent\"], \"y\": [78.0, 29.0, 25.0]}],\n",
       "                        {\"legend\": {\"bgcolor\": \"#F5F6F9\", \"font\": {\"color\": \"#4D5663\"}}, \"paper_bgcolor\": \"#F5F6F9\", \"plot_bgcolor\": \"#F5F6F9\", \"title\": {\"font\": {\"color\": \"#4D5663\"}}, \"xaxis\": {\"gridcolor\": \"#E1E5ED\", \"showgrid\": true, \"tickfont\": {\"color\": \"#4D5663\"}, \"title\": {\"font\": {\"color\": \"#4D5663\"}, \"text\": \"\"}, \"zerolinecolor\": \"#E1E5ED\"}, \"yaxis\": {\"gridcolor\": \"#E1E5ED\", \"showgrid\": true, \"tickfont\": {\"color\": \"#4D5663\"}, \"title\": {\"font\": {\"color\": \"#4D5663\"}, \"text\": \"\"}, \"zerolinecolor\": \"#E1E5ED\"}},\n",
       "                        {\"showLink\": true, \"linkText\": \"Export to plot.ly\", \"plotlyServerURL\": \"https://plot.ly\", \"responsive\": true}\n",
       "                    ).then(function(){\n",
       "                            \n",
       "var gd = document.getElementById('61ac1516-c932-4ec6-ad6f-0623710b1ced');\n",
       "var x = new MutationObserver(function (mutations, observer) {{\n",
       "        var display = window.getComputedStyle(gd).display;\n",
       "        if (!display || display === 'none') {{\n",
       "            console.log([gd, 'removed!']);\n",
       "            Plotly.purge(gd);\n",
       "            observer.disconnect();\n",
       "        }}\n",
       "}});\n",
       "\n",
       "// Listen for the removal of the full notebook cells\n",
       "var notebookContainer = gd.closest('#notebook-container');\n",
       "if (notebookContainer) {{\n",
       "    x.observe(notebookContainer, {childList: true});\n",
       "}}\n",
       "\n",
       "// Listen for the clearing of the current output cell\n",
       "var outputEl = gd.closest('.output');\n",
       "if (outputEl) {{\n",
       "    x.observe(outputEl, {childList: true});\n",
       "}}\n",
       "\n",
       "                        })\n",
       "                };\n",
       "                });\n",
       "            </script>\n",
       "        </div>"
      ]
     },
     "metadata": {},
     "output_type": "display_data"
    }
   ],
   "source": [
    "conseg.groupby(['storetype_b']).agg({'profitablestore':sum}).sort_values(['profitablestore'],ascending=False).iplot(kind='bar')"
   ]
  },
  {
   "cell_type": "code",
   "execution_count": 586,
   "metadata": {},
   "outputs": [
    {
     "data": {
      "application/vnd.plotly.v1+json": {
       "config": {
        "linkText": "Export to plot.ly",
        "plotlyServerURL": "https://plot.ly",
        "showLink": true
       },
       "data": [
        {
         "marker": {
          "color": "rgba(255, 153, 51, 0.6)",
          "line": {
           "color": "rgba(255, 153, 51, 1.0)",
           "width": 1
          }
         },
         "name": "totspent",
         "orientation": "v",
         "text": "",
         "type": "bar",
         "uid": "32937777-ed6f-43cc-9a49-10cf566377b7",
         "x": [
          "2-Mid/Traditional",
          "1-Affluent",
          "3-Economy"
         ],
         "y": [
          201474854.46999994,
          77577410.97000001,
          76356529.44
         ]
        },
        {
         "marker": {
          "color": "rgba(55, 128, 191, 0.6)",
          "line": {
           "color": "rgba(55, 128, 191, 1.0)",
           "width": 1
          }
         },
         "name": "annualbakerynetoperatingearnings",
         "orientation": "v",
         "text": "",
         "type": "bar",
         "uid": "93d8a957-4dbf-4c6a-9599-4569aa623dcd",
         "x": [
          "2-Mid/Traditional",
          "1-Affluent",
          "3-Economy"
         ],
         "y": [
          -13416911.729999993,
          -4884693.78,
          -4908222.87
         ]
        },
        {
         "marker": {
          "color": "rgba(50, 171, 96, 0.6)",
          "line": {
           "color": "rgba(50, 171, 96, 1.0)",
           "width": 1
          }
         },
         "name": "annualbakerysales",
         "orientation": "v",
         "text": "",
         "type": "bar",
         "uid": "344af602-b5ec-4eb4-a342-ee9ce94797fe",
         "x": [
          "2-Mid/Traditional",
          "1-Affluent",
          "3-Economy"
         ],
         "y": [
          188057942.73999998,
          72692717.19000001,
          71448306.57000001
         ]
        }
       ],
       "layout": {
        "legend": {
         "bgcolor": "#F5F6F9",
         "font": {
          "color": "#4D5663"
         }
        },
        "paper_bgcolor": "#F5F6F9",
        "plot_bgcolor": "#F5F6F9",
        "title": {
         "font": {
          "color": "#4D5663"
         }
        },
        "xaxis": {
         "gridcolor": "#E1E5ED",
         "showgrid": true,
         "tickfont": {
          "color": "#4D5663"
         },
         "title": {
          "font": {
           "color": "#4D5663"
          },
          "text": ""
         },
         "zerolinecolor": "#E1E5ED"
        },
        "yaxis": {
         "gridcolor": "#E1E5ED",
         "showgrid": true,
         "tickfont": {
          "color": "#4D5663"
         },
         "title": {
          "font": {
           "color": "#4D5663"
          },
          "text": ""
         },
         "zerolinecolor": "#E1E5ED"
        }
       }
      },
      "text/html": [
       "<div>\n",
       "        \n",
       "        \n",
       "            <div id=\"a514934c-507f-4cf2-b6d7-939ab177151b\" class=\"plotly-graph-div\" style=\"height:525px; width:100%;\"></div>\n",
       "            <script type=\"text/javascript\">\n",
       "                require([\"plotly\"], function(Plotly) {\n",
       "                    window.PLOTLYENV=window.PLOTLYENV || {};\n",
       "                    window.PLOTLYENV.BASE_URL='https://plot.ly';\n",
       "                    \n",
       "                if (document.getElementById(\"a514934c-507f-4cf2-b6d7-939ab177151b\")) {\n",
       "                    Plotly.newPlot(\n",
       "                        'a514934c-507f-4cf2-b6d7-939ab177151b',\n",
       "                        [{\"marker\": {\"color\": \"rgba(255, 153, 51, 0.6)\", \"line\": {\"color\": \"rgba(255, 153, 51, 1.0)\", \"width\": 1}}, \"name\": \"totspent\", \"orientation\": \"v\", \"text\": \"\", \"type\": \"bar\", \"uid\": \"32937777-ed6f-43cc-9a49-10cf566377b7\", \"x\": [\"2-Mid/Traditional\", \"1-Affluent\", \"3-Economy\"], \"y\": [201474854.46999994, 77577410.97000001, 76356529.44]}, {\"marker\": {\"color\": \"rgba(55, 128, 191, 0.6)\", \"line\": {\"color\": \"rgba(55, 128, 191, 1.0)\", \"width\": 1}}, \"name\": \"annualbakerynetoperatingearnings\", \"orientation\": \"v\", \"text\": \"\", \"type\": \"bar\", \"uid\": \"93d8a957-4dbf-4c6a-9599-4569aa623dcd\", \"x\": [\"2-Mid/Traditional\", \"1-Affluent\", \"3-Economy\"], \"y\": [-13416911.729999993, -4884693.78, -4908222.87]}, {\"marker\": {\"color\": \"rgba(50, 171, 96, 0.6)\", \"line\": {\"color\": \"rgba(50, 171, 96, 1.0)\", \"width\": 1}}, \"name\": \"annualbakerysales\", \"orientation\": \"v\", \"text\": \"\", \"type\": \"bar\", \"uid\": \"344af602-b5ec-4eb4-a342-ee9ce94797fe\", \"x\": [\"2-Mid/Traditional\", \"1-Affluent\", \"3-Economy\"], \"y\": [188057942.73999998, 72692717.19000001, 71448306.57000001]}],\n",
       "                        {\"legend\": {\"bgcolor\": \"#F5F6F9\", \"font\": {\"color\": \"#4D5663\"}}, \"paper_bgcolor\": \"#F5F6F9\", \"plot_bgcolor\": \"#F5F6F9\", \"title\": {\"font\": {\"color\": \"#4D5663\"}}, \"xaxis\": {\"gridcolor\": \"#E1E5ED\", \"showgrid\": true, \"tickfont\": {\"color\": \"#4D5663\"}, \"title\": {\"font\": {\"color\": \"#4D5663\"}, \"text\": \"\"}, \"zerolinecolor\": \"#E1E5ED\"}, \"yaxis\": {\"gridcolor\": \"#E1E5ED\", \"showgrid\": true, \"tickfont\": {\"color\": \"#4D5663\"}, \"title\": {\"font\": {\"color\": \"#4D5663\"}, \"text\": \"\"}, \"zerolinecolor\": \"#E1E5ED\"}},\n",
       "                        {\"showLink\": true, \"linkText\": \"Export to plot.ly\", \"plotlyServerURL\": \"https://plot.ly\", \"responsive\": true}\n",
       "                    ).then(function(){\n",
       "                            \n",
       "var gd = document.getElementById('a514934c-507f-4cf2-b6d7-939ab177151b');\n",
       "var x = new MutationObserver(function (mutations, observer) {{\n",
       "        var display = window.getComputedStyle(gd).display;\n",
       "        if (!display || display === 'none') {{\n",
       "            console.log([gd, 'removed!']);\n",
       "            Plotly.purge(gd);\n",
       "            observer.disconnect();\n",
       "        }}\n",
       "}});\n",
       "\n",
       "// Listen for the removal of the full notebook cells\n",
       "var notebookContainer = gd.closest('#notebook-container');\n",
       "if (notebookContainer) {{\n",
       "    x.observe(notebookContainer, {childList: true});\n",
       "}}\n",
       "\n",
       "// Listen for the clearing of the current output cell\n",
       "var outputEl = gd.closest('.output');\n",
       "if (outputEl) {{\n",
       "    x.observe(outputEl, {childList: true});\n",
       "}}\n",
       "\n",
       "                        })\n",
       "                };\n",
       "                });\n",
       "            </script>\n",
       "        </div>"
      ]
     },
     "metadata": {},
     "output_type": "display_data"
    }
   ],
   "source": [
    "conseg.groupby(['storetype_b']).agg({'totspent':sum,'annualbakerynetoperatingearnings':sum,'annualbakerysales':sum}).sort_values(['totspent'],ascending=False).iplot(kind='bar')"
   ]
  },
  {
   "cell_type": "code",
   "execution_count": 602,
   "metadata": {},
   "outputs": [
    {
     "data": {
      "application/vnd.plotly.v1+json": {
       "config": {
        "linkText": "Export to plot.ly",
        "plotlyServerURL": "https://plot.ly",
        "showLink": true
       },
       "data": [
        {
         "marker": {
          "color": "rgba(255, 153, 51, 0.6)",
          "line": {
           "color": "rgba(255, 153, 51, 1.0)",
           "width": 1
          }
         },
         "name": "a_dd",
         "orientation": "v",
         "text": "",
         "type": "bar",
         "uid": "03fe2b7f-9e06-40b0-9003-969d571f7c2d",
         "x": [
          "1-Affluent",
          "2-Mid/Traditional",
          "3-Economy"
         ],
         "y": [
          0.2629413913384298,
          0.18488392139245918,
          0.12422006273016524
         ]
        },
        {
         "marker": {
          "color": "rgba(55, 128, 191, 0.6)",
          "line": {
           "color": "rgba(55, 128, 191, 1.0)",
           "width": 1
          }
         },
         "name": "b_gl",
         "orientation": "v",
         "text": "",
         "type": "bar",
         "uid": "8225b445-d25b-4f9e-8b11-11e201c5d5ba",
         "x": [
          "1-Affluent",
          "2-Mid/Traditional",
          "3-Economy"
         ],
         "y": [
          0.1329866894121506,
          0.09686339708530516,
          0.061797738502410236
         ]
        },
        {
         "marker": {
          "color": "rgba(50, 171, 96, 0.6)",
          "line": {
           "color": "rgba(50, 171, 96, 1.0)",
           "width": 1
          }
         },
         "name": "c_qf",
         "orientation": "v",
         "text": "",
         "type": "bar",
         "uid": "11cf4848-66b6-425c-91de-465ea67abad3",
         "x": [
          "1-Affluent",
          "2-Mid/Traditional",
          "3-Economy"
         ],
         "y": [
          0.1840067332691048,
          0.14335087705905902,
          0.08666966608931106
         ]
        },
        {
         "marker": {
          "color": "rgba(128, 0, 128, 0.6)",
          "line": {
           "color": "rgba(128, 0, 128, 1.0)",
           "width": 1
          }
         },
         "name": "d_t",
         "orientation": "v",
         "text": "",
         "type": "bar",
         "uid": "1675991e-756c-4783-af49-0fcc5e6e2e57",
         "x": [
          "1-Affluent",
          "2-Mid/Traditional",
          "3-Economy"
         ],
         "y": [
          0.20482515364890855,
          0.278766760956828,
          0.30345740933850046
         ]
        },
        {
         "marker": {
          "color": "rgba(219, 64, 82, 0.6)",
          "line": {
           "color": "rgba(219, 64, 82, 1.0)",
           "width": 1
          }
         },
         "name": "e-us",
         "orientation": "v",
         "text": "",
         "type": "bar",
         "uid": "a93bed40-59a3-4b42-bfde-23e96a7c646b",
         "x": [
          "1-Affluent",
          "2-Mid/Traditional",
          "3-Economy"
         ],
         "y": [
          0.14875355045380376,
          0.20079309143650587,
          0.31332092302070563
         ]
        },
        {
         "marker": {
          "color": "rgba(0, 128, 128, 0.6)",
          "line": {
           "color": "rgba(0, 128, 128, 1.0)",
           "width": 1
          }
         },
         "name": "f_b",
         "orientation": "v",
         "text": "",
         "type": "bar",
         "uid": "e7edf465-773a-41f6-bf0c-8ad111b23d25",
         "x": [
          "1-Affluent",
          "2-Mid/Traditional",
          "3-Economy"
         ],
         "y": [
          0.06648648187760244,
          0.09534195206984278,
          0.1105342003189074
         ]
        }
       ],
       "layout": {
        "legend": {
         "bgcolor": "#F5F6F9",
         "font": {
          "color": "#4D5663"
         }
        },
        "paper_bgcolor": "#F5F6F9",
        "plot_bgcolor": "#F5F6F9",
        "title": {
         "font": {
          "color": "#4D5663"
         }
        },
        "xaxis": {
         "gridcolor": "#E1E5ED",
         "showgrid": true,
         "tickfont": {
          "color": "#4D5663"
         },
         "title": {
          "font": {
           "color": "#4D5663"
          },
          "text": ""
         },
         "zerolinecolor": "#E1E5ED"
        },
        "yaxis": {
         "gridcolor": "#E1E5ED",
         "showgrid": true,
         "tickfont": {
          "color": "#4D5663"
         },
         "title": {
          "font": {
           "color": "#4D5663"
          },
          "text": ""
         },
         "zerolinecolor": "#E1E5ED"
        }
       }
      },
      "text/html": [
       "<div>\n",
       "        \n",
       "        \n",
       "            <div id=\"d4a99234-c5f2-46b3-9eae-a0312afcfa8a\" class=\"plotly-graph-div\" style=\"height:525px; width:100%;\"></div>\n",
       "            <script type=\"text/javascript\">\n",
       "                require([\"plotly\"], function(Plotly) {\n",
       "                    window.PLOTLYENV=window.PLOTLYENV || {};\n",
       "                    window.PLOTLYENV.BASE_URL='https://plot.ly';\n",
       "                    \n",
       "                if (document.getElementById(\"d4a99234-c5f2-46b3-9eae-a0312afcfa8a\")) {\n",
       "                    Plotly.newPlot(\n",
       "                        'd4a99234-c5f2-46b3-9eae-a0312afcfa8a',\n",
       "                        [{\"marker\": {\"color\": \"rgba(255, 153, 51, 0.6)\", \"line\": {\"color\": \"rgba(255, 153, 51, 1.0)\", \"width\": 1}}, \"name\": \"a_dd\", \"orientation\": \"v\", \"text\": \"\", \"type\": \"bar\", \"uid\": \"03fe2b7f-9e06-40b0-9003-969d571f7c2d\", \"x\": [\"1-Affluent\", \"2-Mid/Traditional\", \"3-Economy\"], \"y\": [0.2629413913384298, 0.18488392139245918, 0.12422006273016524]}, {\"marker\": {\"color\": \"rgba(55, 128, 191, 0.6)\", \"line\": {\"color\": \"rgba(55, 128, 191, 1.0)\", \"width\": 1}}, \"name\": \"b_gl\", \"orientation\": \"v\", \"text\": \"\", \"type\": \"bar\", \"uid\": \"8225b445-d25b-4f9e-8b11-11e201c5d5ba\", \"x\": [\"1-Affluent\", \"2-Mid/Traditional\", \"3-Economy\"], \"y\": [0.1329866894121506, 0.09686339708530516, 0.061797738502410236]}, {\"marker\": {\"color\": \"rgba(50, 171, 96, 0.6)\", \"line\": {\"color\": \"rgba(50, 171, 96, 1.0)\", \"width\": 1}}, \"name\": \"c_qf\", \"orientation\": \"v\", \"text\": \"\", \"type\": \"bar\", \"uid\": \"11cf4848-66b6-425c-91de-465ea67abad3\", \"x\": [\"1-Affluent\", \"2-Mid/Traditional\", \"3-Economy\"], \"y\": [0.1840067332691048, 0.14335087705905902, 0.08666966608931106]}, {\"marker\": {\"color\": \"rgba(128, 0, 128, 0.6)\", \"line\": {\"color\": \"rgba(128, 0, 128, 1.0)\", \"width\": 1}}, \"name\": \"d_t\", \"orientation\": \"v\", \"text\": \"\", \"type\": \"bar\", \"uid\": \"1675991e-756c-4783-af49-0fcc5e6e2e57\", \"x\": [\"1-Affluent\", \"2-Mid/Traditional\", \"3-Economy\"], \"y\": [0.20482515364890855, 0.278766760956828, 0.30345740933850046]}, {\"marker\": {\"color\": \"rgba(219, 64, 82, 0.6)\", \"line\": {\"color\": \"rgba(219, 64, 82, 1.0)\", \"width\": 1}}, \"name\": \"e-us\", \"orientation\": \"v\", \"text\": \"\", \"type\": \"bar\", \"uid\": \"a93bed40-59a3-4b42-bfde-23e96a7c646b\", \"x\": [\"1-Affluent\", \"2-Mid/Traditional\", \"3-Economy\"], \"y\": [0.14875355045380376, 0.20079309143650587, 0.31332092302070563]}, {\"marker\": {\"color\": \"rgba(0, 128, 128, 0.6)\", \"line\": {\"color\": \"rgba(0, 128, 128, 1.0)\", \"width\": 1}}, \"name\": \"f_b\", \"orientation\": \"v\", \"text\": \"\", \"type\": \"bar\", \"uid\": \"e7edf465-773a-41f6-bf0c-8ad111b23d25\", \"x\": [\"1-Affluent\", \"2-Mid/Traditional\", \"3-Economy\"], \"y\": [0.06648648187760244, 0.09534195206984278, 0.1105342003189074]}],\n",
       "                        {\"legend\": {\"bgcolor\": \"#F5F6F9\", \"font\": {\"color\": \"#4D5663\"}}, \"paper_bgcolor\": \"#F5F6F9\", \"plot_bgcolor\": \"#F5F6F9\", \"title\": {\"font\": {\"color\": \"#4D5663\"}}, \"xaxis\": {\"gridcolor\": \"#E1E5ED\", \"showgrid\": true, \"tickfont\": {\"color\": \"#4D5663\"}, \"title\": {\"font\": {\"color\": \"#4D5663\"}, \"text\": \"\"}, \"zerolinecolor\": \"#E1E5ED\"}, \"yaxis\": {\"gridcolor\": \"#E1E5ED\", \"showgrid\": true, \"tickfont\": {\"color\": \"#4D5663\"}, \"title\": {\"font\": {\"color\": \"#4D5663\"}, \"text\": \"\"}, \"zerolinecolor\": \"#E1E5ED\"}},\n",
       "                        {\"showLink\": true, \"linkText\": \"Export to plot.ly\", \"plotlyServerURL\": \"https://plot.ly\", \"responsive\": true}\n",
       "                    ).then(function(){\n",
       "                            \n",
       "var gd = document.getElementById('d4a99234-c5f2-46b3-9eae-a0312afcfa8a');\n",
       "var x = new MutationObserver(function (mutations, observer) {{\n",
       "        var display = window.getComputedStyle(gd).display;\n",
       "        if (!display || display === 'none') {{\n",
       "            console.log([gd, 'removed!']);\n",
       "            Plotly.purge(gd);\n",
       "            observer.disconnect();\n",
       "        }}\n",
       "}});\n",
       "\n",
       "// Listen for the removal of the full notebook cells\n",
       "var notebookContainer = gd.closest('#notebook-container');\n",
       "if (notebookContainer) {{\n",
       "    x.observe(notebookContainer, {childList: true});\n",
       "}}\n",
       "\n",
       "// Listen for the clearing of the current output cell\n",
       "var outputEl = gd.closest('.output');\n",
       "if (outputEl) {{\n",
       "    x.observe(outputEl, {childList: true});\n",
       "}}\n",
       "\n",
       "                        })\n",
       "                };\n",
       "                });\n",
       "            </script>\n",
       "        </div>"
      ]
     },
     "metadata": {},
     "output_type": "display_data"
    }
   ],
   "source": [
    "conseg.groupby(['storetype_b']).agg({'a_dd':'mean','b_gl':'mean','c_qf':'mean','d_t':'mean','e-us':'mean','f_b':'mean'})\\\n",
    ".sort_values(['a_dd', 'b_gl','c_qf', 'd_t', 'e-us', 'f_b'],ascending=False).iplot(kind='bar')"
   ]
  },
  {
   "cell_type": "code",
   "execution_count": 615,
   "metadata": {},
   "outputs": [],
   "source": [
    "conseg1=conseg.groupby(['storetype_b']).agg({'storenumber':'count','profitablestore':sum,'a_dd':'mean','b_gl':'mean','c_qf':'mean','d_t':'mean','e-us':'mean','f_b':'mean'})\\\n",
    ".sort_values(['a_dd', 'b_gl','c_qf', 'd_t', 'e-us', 'f_b'],ascending=False)"
   ]
  },
  {
   "cell_type": "code",
   "execution_count": 616,
   "metadata": {},
   "outputs": [],
   "source": [
    "conseg1.head()\n",
    "conseg1['storepercent']=conseg1.profitablestore/conseg1.storenumber"
   ]
  },
  {
   "cell_type": "code",
   "execution_count": 618,
   "metadata": {},
   "outputs": [
    {
     "data": {
      "application/vnd.plotly.v1+json": {
       "config": {
        "linkText": "Export to plot.ly",
        "plotlyServerURL": "https://plot.ly",
        "showLink": true
       },
       "data": [
        {
         "marker": {
          "color": "rgba(255, 153, 51, 0.6)",
          "line": {
           "color": "rgba(255, 153, 51, 1.0)",
           "width": 1
          }
         },
         "name": "storepercent",
         "orientation": "v",
         "text": "",
         "type": "bar",
         "uid": "7abbb3c6-845d-41d3-a69c-d2ec5da06173",
         "x": [
          "1-Affluent",
          "2-Mid/Traditional",
          "3-Economy"
         ],
         "y": [
          0.22522522522522523,
          0.2671232876712329,
          0.25892857142857145
         ]
        },
        {
         "marker": {
          "color": "rgba(55, 128, 191, 0.6)",
          "line": {
           "color": "rgba(55, 128, 191, 1.0)",
           "width": 1
          }
         },
         "name": "a_dd",
         "orientation": "v",
         "text": "",
         "type": "bar",
         "uid": "ec1946e6-e266-437b-9f5c-cdb7b429989a",
         "x": [
          "1-Affluent",
          "2-Mid/Traditional",
          "3-Economy"
         ],
         "y": [
          0.2629413913384298,
          0.18488392139245918,
          0.12422006273016524
         ]
        },
        {
         "marker": {
          "color": "rgba(50, 171, 96, 0.6)",
          "line": {
           "color": "rgba(50, 171, 96, 1.0)",
           "width": 1
          }
         },
         "name": "b_gl",
         "orientation": "v",
         "text": "",
         "type": "bar",
         "uid": "043eaa40-3cfc-426f-852b-5bb7a30ab835",
         "x": [
          "1-Affluent",
          "2-Mid/Traditional",
          "3-Economy"
         ],
         "y": [
          0.1329866894121506,
          0.09686339708530516,
          0.061797738502410236
         ]
        },
        {
         "marker": {
          "color": "rgba(128, 0, 128, 0.6)",
          "line": {
           "color": "rgba(128, 0, 128, 1.0)",
           "width": 1
          }
         },
         "name": "c_qf",
         "orientation": "v",
         "text": "",
         "type": "bar",
         "uid": "747966ea-c1e3-4f4a-9178-1a9e5b80c763",
         "x": [
          "1-Affluent",
          "2-Mid/Traditional",
          "3-Economy"
         ],
         "y": [
          0.1840067332691048,
          0.14335087705905902,
          0.08666966608931106
         ]
        },
        {
         "marker": {
          "color": "rgba(219, 64, 82, 0.6)",
          "line": {
           "color": "rgba(219, 64, 82, 1.0)",
           "width": 1
          }
         },
         "name": "d_t",
         "orientation": "v",
         "text": "",
         "type": "bar",
         "uid": "5285a438-6297-4ba6-a6b2-35ca289a4640",
         "x": [
          "1-Affluent",
          "2-Mid/Traditional",
          "3-Economy"
         ],
         "y": [
          0.20482515364890855,
          0.278766760956828,
          0.30345740933850046
         ]
        },
        {
         "marker": {
          "color": "rgba(0, 128, 128, 0.6)",
          "line": {
           "color": "rgba(0, 128, 128, 1.0)",
           "width": 1
          }
         },
         "name": "e-us",
         "orientation": "v",
         "text": "",
         "type": "bar",
         "uid": "f1fd2753-0522-4b31-9739-419083aaf0ee",
         "x": [
          "1-Affluent",
          "2-Mid/Traditional",
          "3-Economy"
         ],
         "y": [
          0.14875355045380376,
          0.20079309143650587,
          0.31332092302070563
         ]
        },
        {
         "marker": {
          "color": "rgba(255, 255, 51, 0.6)",
          "line": {
           "color": "rgba(255, 255, 51, 1.0)",
           "width": 1
          }
         },
         "name": "f_b",
         "orientation": "v",
         "text": "",
         "type": "bar",
         "uid": "5446d992-e1d0-48cb-8397-8d44cfa3ae2a",
         "x": [
          "1-Affluent",
          "2-Mid/Traditional",
          "3-Economy"
         ],
         "y": [
          0.06648648187760244,
          0.09534195206984278,
          0.1105342003189074
         ]
        }
       ],
       "layout": {
        "legend": {
         "bgcolor": "#F5F6F9",
         "font": {
          "color": "#4D5663"
         }
        },
        "paper_bgcolor": "#F5F6F9",
        "plot_bgcolor": "#F5F6F9",
        "title": {
         "font": {
          "color": "#4D5663"
         }
        },
        "xaxis": {
         "gridcolor": "#E1E5ED",
         "showgrid": true,
         "tickfont": {
          "color": "#4D5663"
         },
         "title": {
          "font": {
           "color": "#4D5663"
          },
          "text": ""
         },
         "zerolinecolor": "#E1E5ED"
        },
        "yaxis": {
         "gridcolor": "#E1E5ED",
         "showgrid": true,
         "tickfont": {
          "color": "#4D5663"
         },
         "title": {
          "font": {
           "color": "#4D5663"
          },
          "text": ""
         },
         "zerolinecolor": "#E1E5ED"
        }
       }
      },
      "text/html": [
       "<div>\n",
       "        \n",
       "        \n",
       "            <div id=\"638dcdb9-1cc7-490a-80a1-deba01e64b8b\" class=\"plotly-graph-div\" style=\"height:525px; width:100%;\"></div>\n",
       "            <script type=\"text/javascript\">\n",
       "                require([\"plotly\"], function(Plotly) {\n",
       "                    window.PLOTLYENV=window.PLOTLYENV || {};\n",
       "                    window.PLOTLYENV.BASE_URL='https://plot.ly';\n",
       "                    \n",
       "                if (document.getElementById(\"638dcdb9-1cc7-490a-80a1-deba01e64b8b\")) {\n",
       "                    Plotly.newPlot(\n",
       "                        '638dcdb9-1cc7-490a-80a1-deba01e64b8b',\n",
       "                        [{\"marker\": {\"color\": \"rgba(255, 153, 51, 0.6)\", \"line\": {\"color\": \"rgba(255, 153, 51, 1.0)\", \"width\": 1}}, \"name\": \"storepercent\", \"orientation\": \"v\", \"text\": \"\", \"type\": \"bar\", \"uid\": \"7abbb3c6-845d-41d3-a69c-d2ec5da06173\", \"x\": [\"1-Affluent\", \"2-Mid/Traditional\", \"3-Economy\"], \"y\": [0.22522522522522523, 0.2671232876712329, 0.25892857142857145]}, {\"marker\": {\"color\": \"rgba(55, 128, 191, 0.6)\", \"line\": {\"color\": \"rgba(55, 128, 191, 1.0)\", \"width\": 1}}, \"name\": \"a_dd\", \"orientation\": \"v\", \"text\": \"\", \"type\": \"bar\", \"uid\": \"ec1946e6-e266-437b-9f5c-cdb7b429989a\", \"x\": [\"1-Affluent\", \"2-Mid/Traditional\", \"3-Economy\"], \"y\": [0.2629413913384298, 0.18488392139245918, 0.12422006273016524]}, {\"marker\": {\"color\": \"rgba(50, 171, 96, 0.6)\", \"line\": {\"color\": \"rgba(50, 171, 96, 1.0)\", \"width\": 1}}, \"name\": \"b_gl\", \"orientation\": \"v\", \"text\": \"\", \"type\": \"bar\", \"uid\": \"043eaa40-3cfc-426f-852b-5bb7a30ab835\", \"x\": [\"1-Affluent\", \"2-Mid/Traditional\", \"3-Economy\"], \"y\": [0.1329866894121506, 0.09686339708530516, 0.061797738502410236]}, {\"marker\": {\"color\": \"rgba(128, 0, 128, 0.6)\", \"line\": {\"color\": \"rgba(128, 0, 128, 1.0)\", \"width\": 1}}, \"name\": \"c_qf\", \"orientation\": \"v\", \"text\": \"\", \"type\": \"bar\", \"uid\": \"747966ea-c1e3-4f4a-9178-1a9e5b80c763\", \"x\": [\"1-Affluent\", \"2-Mid/Traditional\", \"3-Economy\"], \"y\": [0.1840067332691048, 0.14335087705905902, 0.08666966608931106]}, {\"marker\": {\"color\": \"rgba(219, 64, 82, 0.6)\", \"line\": {\"color\": \"rgba(219, 64, 82, 1.0)\", \"width\": 1}}, \"name\": \"d_t\", \"orientation\": \"v\", \"text\": \"\", \"type\": \"bar\", \"uid\": \"5285a438-6297-4ba6-a6b2-35ca289a4640\", \"x\": [\"1-Affluent\", \"2-Mid/Traditional\", \"3-Economy\"], \"y\": [0.20482515364890855, 0.278766760956828, 0.30345740933850046]}, {\"marker\": {\"color\": \"rgba(0, 128, 128, 0.6)\", \"line\": {\"color\": \"rgba(0, 128, 128, 1.0)\", \"width\": 1}}, \"name\": \"e-us\", \"orientation\": \"v\", \"text\": \"\", \"type\": \"bar\", \"uid\": \"f1fd2753-0522-4b31-9739-419083aaf0ee\", \"x\": [\"1-Affluent\", \"2-Mid/Traditional\", \"3-Economy\"], \"y\": [0.14875355045380376, 0.20079309143650587, 0.31332092302070563]}, {\"marker\": {\"color\": \"rgba(255, 255, 51, 0.6)\", \"line\": {\"color\": \"rgba(255, 255, 51, 1.0)\", \"width\": 1}}, \"name\": \"f_b\", \"orientation\": \"v\", \"text\": \"\", \"type\": \"bar\", \"uid\": \"5446d992-e1d0-48cb-8397-8d44cfa3ae2a\", \"x\": [\"1-Affluent\", \"2-Mid/Traditional\", \"3-Economy\"], \"y\": [0.06648648187760244, 0.09534195206984278, 0.1105342003189074]}],\n",
       "                        {\"legend\": {\"bgcolor\": \"#F5F6F9\", \"font\": {\"color\": \"#4D5663\"}}, \"paper_bgcolor\": \"#F5F6F9\", \"plot_bgcolor\": \"#F5F6F9\", \"title\": {\"font\": {\"color\": \"#4D5663\"}}, \"xaxis\": {\"gridcolor\": \"#E1E5ED\", \"showgrid\": true, \"tickfont\": {\"color\": \"#4D5663\"}, \"title\": {\"font\": {\"color\": \"#4D5663\"}, \"text\": \"\"}, \"zerolinecolor\": \"#E1E5ED\"}, \"yaxis\": {\"gridcolor\": \"#E1E5ED\", \"showgrid\": true, \"tickfont\": {\"color\": \"#4D5663\"}, \"title\": {\"font\": {\"color\": \"#4D5663\"}, \"text\": \"\"}, \"zerolinecolor\": \"#E1E5ED\"}},\n",
       "                        {\"showLink\": true, \"linkText\": \"Export to plot.ly\", \"plotlyServerURL\": \"https://plot.ly\", \"responsive\": true}\n",
       "                    ).then(function(){\n",
       "                            \n",
       "var gd = document.getElementById('638dcdb9-1cc7-490a-80a1-deba01e64b8b');\n",
       "var x = new MutationObserver(function (mutations, observer) {{\n",
       "        var display = window.getComputedStyle(gd).display;\n",
       "        if (!display || display === 'none') {{\n",
       "            console.log([gd, 'removed!']);\n",
       "            Plotly.purge(gd);\n",
       "            observer.disconnect();\n",
       "        }}\n",
       "}});\n",
       "\n",
       "// Listen for the removal of the full notebook cells\n",
       "var notebookContainer = gd.closest('#notebook-container');\n",
       "if (notebookContainer) {{\n",
       "    x.observe(notebookContainer, {childList: true});\n",
       "}}\n",
       "\n",
       "// Listen for the clearing of the current output cell\n",
       "var outputEl = gd.closest('.output');\n",
       "if (outputEl) {{\n",
       "    x.observe(outputEl, {childList: true});\n",
       "}}\n",
       "\n",
       "                        })\n",
       "                };\n",
       "                });\n",
       "            </script>\n",
       "        </div>"
      ]
     },
     "metadata": {},
     "output_type": "display_data"
    }
   ],
   "source": [
    "conseg1.groupby(['storetype_b']).agg({'storepercent':'mean','a_dd':'mean','b_gl':'mean','c_qf':'mean','d_t':'mean','e-us':'mean','f_b':'mean'})\\\n",
    ".sort_values(['a_dd', 'b_gl','c_qf', 'd_t', 'e-us', 'f_b'],ascending=False).iplot(kind='bar')"
   ]
  },
  {
   "cell_type": "code",
   "execution_count": 621,
   "metadata": {},
   "outputs": [
    {
     "data": {
      "text/plain": [
       "Index(['storenumber', 'division', 'marketarea', 'subregion',\n",
       "       'annualbakerysales', 'avgweeklybakerysales', 'annualbakerygrossmargin',\n",
       "       'bakerygrossmarginrate', 'annualbakerynetoperatingearnings',\n",
       "       'bakerynetoperatingearningspercentage',\n",
       "       'annualbakerydirectpayrollcosts', 'bakerydirectpayrollpercentage',\n",
       "       'annualbakerydeptlaberhours', 'bakerysellingsqft', 'MC', 'MC+LC', 'AC',\n",
       "       'CM', 'totspent', 'breakeven', 'profitablestore'],\n",
       "      dtype='object')"
      ]
     },
     "execution_count": 621,
     "metadata": {},
     "output_type": "execute_result"
    }
   ],
   "source": [
    "tempbak.columns"
   ]
  },
  {
   "cell_type": "code",
   "execution_count": null,
   "metadata": {},
   "outputs": [],
   "source": []
  }
 ],
 "metadata": {
  "kernelspec": {
   "display_name": "Python 3",
   "language": "python",
   "name": "python3"
  },
  "language_info": {
   "codemirror_mode": {
    "name": "ipython",
    "version": 3
   },
   "file_extension": ".py",
   "mimetype": "text/x-python",
   "name": "python",
   "nbconvert_exporter": "python",
   "pygments_lexer": "ipython3",
   "version": "3.7.0"
  }
 },
 "nbformat": 4,
 "nbformat_minor": 2
}
