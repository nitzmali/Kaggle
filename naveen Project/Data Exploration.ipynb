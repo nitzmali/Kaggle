{
 "cells": [
  {
   "cell_type": "code",
   "execution_count": 1,
   "metadata": {},
   "outputs": [
    {
     "data": {
      "text/html": [
       "        <script type=\"text/javascript\">\n",
       "        window.PlotlyConfig = {MathJaxConfig: 'local'};\n",
       "        if (window.MathJax) {MathJax.Hub.Config({SVG: {font: \"STIX-Web\"}});}\n",
       "        if (typeof require !== 'undefined') {\n",
       "        require.undef(\"plotly\");\n",
       "        requirejs.config({\n",
       "            paths: {\n",
       "                'plotly': ['https://cdn.plot.ly/plotly-latest.min']\n",
       "            }\n",
       "        });\n",
       "        require(['plotly'], function(Plotly) {\n",
       "            window._Plotly = Plotly;\n",
       "        });\n",
       "        }\n",
       "        </script>\n",
       "        "
      ]
     },
     "metadata": {},
     "output_type": "display_data"
    }
   ],
   "source": [
    "import numpy as np\n",
    "import pandas as pd\n",
    "import scipy\n",
    "import matplotlib.pyplot as plt\n",
    "import seaborn as sns\n",
    "%matplotlib inline\n",
    "import plotly\n",
    "import cufflinks as cf\n",
    "cf.go_offline()\n",
    "import warnings \n",
    "warnings.filterwarnings('ignore')\n",
    "\n",
    "\n",
    "from sklearn.preprocessing import LabelEncoder,OneHotEncoder,StandardScaler\n",
    "from sklearn.model_selection import train_test_split,cross_val_score\n",
    "from sklearn.metrics import confusion_matrix,accuracy_score\n",
    "from sklearn.linear_model import LinearRegression,LogisticRegression\n",
    "from sklearn.svm import SVR,SVC\n",
    "from sklearn.naive_bayes import GaussianNB\n",
    "from sklearn.ensemble import RandomForestClassifier\n",
    "from sklearn.decomposition import PCA"
   ]
  },
  {
   "cell_type": "code",
   "execution_count": 2,
   "metadata": {},
   "outputs": [],
   "source": [
    "data=pd.read_csv('disease_prediction\\Training.csv')"
   ]
  },
  {
   "cell_type": "code",
   "execution_count": 3,
   "metadata": {},
   "outputs": [
    {
     "data": {
      "text/html": [
       "<div>\n",
       "<style scoped>\n",
       "    .dataframe tbody tr th:only-of-type {\n",
       "        vertical-align: middle;\n",
       "    }\n",
       "\n",
       "    .dataframe tbody tr th {\n",
       "        vertical-align: top;\n",
       "    }\n",
       "\n",
       "    .dataframe thead th {\n",
       "        text-align: right;\n",
       "    }\n",
       "</style>\n",
       "<table border=\"1\" class=\"dataframe\">\n",
       "  <thead>\n",
       "    <tr style=\"text-align: right;\">\n",
       "      <th></th>\n",
       "      <th>itching</th>\n",
       "      <th>skin_rash</th>\n",
       "      <th>nodal_skin_eruptions</th>\n",
       "      <th>continuous_sneezing</th>\n",
       "      <th>shivering</th>\n",
       "      <th>chills</th>\n",
       "      <th>joint_pain</th>\n",
       "      <th>stomach_pain</th>\n",
       "      <th>acidity</th>\n",
       "      <th>ulcers_on_tongue</th>\n",
       "      <th>...</th>\n",
       "      <th>blackheads</th>\n",
       "      <th>scurring</th>\n",
       "      <th>skin_peeling</th>\n",
       "      <th>silver_like_dusting</th>\n",
       "      <th>small_dents_in_nails</th>\n",
       "      <th>inflammatory_nails</th>\n",
       "      <th>blister</th>\n",
       "      <th>red_sore_around_nose</th>\n",
       "      <th>yellow_crust_ooze</th>\n",
       "      <th>prognosis</th>\n",
       "    </tr>\n",
       "  </thead>\n",
       "  <tbody>\n",
       "    <tr>\n",
       "      <th>0</th>\n",
       "      <td>1</td>\n",
       "      <td>1</td>\n",
       "      <td>1</td>\n",
       "      <td>0</td>\n",
       "      <td>0</td>\n",
       "      <td>0</td>\n",
       "      <td>0</td>\n",
       "      <td>0</td>\n",
       "      <td>0</td>\n",
       "      <td>0</td>\n",
       "      <td>...</td>\n",
       "      <td>0</td>\n",
       "      <td>0</td>\n",
       "      <td>0</td>\n",
       "      <td>0</td>\n",
       "      <td>0</td>\n",
       "      <td>0</td>\n",
       "      <td>0</td>\n",
       "      <td>0</td>\n",
       "      <td>0</td>\n",
       "      <td>Fungal infection</td>\n",
       "    </tr>\n",
       "    <tr>\n",
       "      <th>1</th>\n",
       "      <td>0</td>\n",
       "      <td>1</td>\n",
       "      <td>1</td>\n",
       "      <td>0</td>\n",
       "      <td>0</td>\n",
       "      <td>0</td>\n",
       "      <td>0</td>\n",
       "      <td>0</td>\n",
       "      <td>0</td>\n",
       "      <td>0</td>\n",
       "      <td>...</td>\n",
       "      <td>0</td>\n",
       "      <td>0</td>\n",
       "      <td>0</td>\n",
       "      <td>0</td>\n",
       "      <td>0</td>\n",
       "      <td>0</td>\n",
       "      <td>0</td>\n",
       "      <td>0</td>\n",
       "      <td>0</td>\n",
       "      <td>Fungal infection</td>\n",
       "    </tr>\n",
       "    <tr>\n",
       "      <th>2</th>\n",
       "      <td>1</td>\n",
       "      <td>0</td>\n",
       "      <td>1</td>\n",
       "      <td>0</td>\n",
       "      <td>0</td>\n",
       "      <td>0</td>\n",
       "      <td>0</td>\n",
       "      <td>0</td>\n",
       "      <td>0</td>\n",
       "      <td>0</td>\n",
       "      <td>...</td>\n",
       "      <td>0</td>\n",
       "      <td>0</td>\n",
       "      <td>0</td>\n",
       "      <td>0</td>\n",
       "      <td>0</td>\n",
       "      <td>0</td>\n",
       "      <td>0</td>\n",
       "      <td>0</td>\n",
       "      <td>0</td>\n",
       "      <td>Fungal infection</td>\n",
       "    </tr>\n",
       "    <tr>\n",
       "      <th>3</th>\n",
       "      <td>1</td>\n",
       "      <td>1</td>\n",
       "      <td>0</td>\n",
       "      <td>0</td>\n",
       "      <td>0</td>\n",
       "      <td>0</td>\n",
       "      <td>0</td>\n",
       "      <td>0</td>\n",
       "      <td>0</td>\n",
       "      <td>0</td>\n",
       "      <td>...</td>\n",
       "      <td>0</td>\n",
       "      <td>0</td>\n",
       "      <td>0</td>\n",
       "      <td>0</td>\n",
       "      <td>0</td>\n",
       "      <td>0</td>\n",
       "      <td>0</td>\n",
       "      <td>0</td>\n",
       "      <td>0</td>\n",
       "      <td>Fungal infection</td>\n",
       "    </tr>\n",
       "    <tr>\n",
       "      <th>4</th>\n",
       "      <td>1</td>\n",
       "      <td>1</td>\n",
       "      <td>1</td>\n",
       "      <td>0</td>\n",
       "      <td>0</td>\n",
       "      <td>0</td>\n",
       "      <td>0</td>\n",
       "      <td>0</td>\n",
       "      <td>0</td>\n",
       "      <td>0</td>\n",
       "      <td>...</td>\n",
       "      <td>0</td>\n",
       "      <td>0</td>\n",
       "      <td>0</td>\n",
       "      <td>0</td>\n",
       "      <td>0</td>\n",
       "      <td>0</td>\n",
       "      <td>0</td>\n",
       "      <td>0</td>\n",
       "      <td>0</td>\n",
       "      <td>Fungal infection</td>\n",
       "    </tr>\n",
       "  </tbody>\n",
       "</table>\n",
       "<p>5 rows × 133 columns</p>\n",
       "</div>"
      ],
      "text/plain": [
       "   itching  skin_rash  nodal_skin_eruptions  continuous_sneezing  shivering  \\\n",
       "0        1          1                     1                    0          0   \n",
       "1        0          1                     1                    0          0   \n",
       "2        1          0                     1                    0          0   \n",
       "3        1          1                     0                    0          0   \n",
       "4        1          1                     1                    0          0   \n",
       "\n",
       "   chills  joint_pain  stomach_pain  acidity  ulcers_on_tongue  ...  \\\n",
       "0       0           0             0        0                 0  ...   \n",
       "1       0           0             0        0                 0  ...   \n",
       "2       0           0             0        0                 0  ...   \n",
       "3       0           0             0        0                 0  ...   \n",
       "4       0           0             0        0                 0  ...   \n",
       "\n",
       "   blackheads  scurring  skin_peeling  silver_like_dusting  \\\n",
       "0           0         0             0                    0   \n",
       "1           0         0             0                    0   \n",
       "2           0         0             0                    0   \n",
       "3           0         0             0                    0   \n",
       "4           0         0             0                    0   \n",
       "\n",
       "   small_dents_in_nails  inflammatory_nails  blister  red_sore_around_nose  \\\n",
       "0                     0                   0        0                     0   \n",
       "1                     0                   0        0                     0   \n",
       "2                     0                   0        0                     0   \n",
       "3                     0                   0        0                     0   \n",
       "4                     0                   0        0                     0   \n",
       "\n",
       "   yellow_crust_ooze         prognosis  \n",
       "0                  0  Fungal infection  \n",
       "1                  0  Fungal infection  \n",
       "2                  0  Fungal infection  \n",
       "3                  0  Fungal infection  \n",
       "4                  0  Fungal infection  \n",
       "\n",
       "[5 rows x 133 columns]"
      ]
     },
     "execution_count": 3,
     "metadata": {},
     "output_type": "execute_result"
    }
   ],
   "source": [
    "data.head()"
   ]
  },
  {
   "cell_type": "code",
   "execution_count": 4,
   "metadata": {},
   "outputs": [],
   "source": [
    "columns=list(data.columns.values)"
   ]
  },
  {
   "cell_type": "code",
   "execution_count": 5,
   "metadata": {},
   "outputs": [],
   "source": [
    "\n",
    "diseases=list(data['prognosis'].unique())\n"
   ]
  },
  {
   "cell_type": "code",
   "execution_count": 6,
   "metadata": {},
   "outputs": [],
   "source": [
    "mapping={}\n",
    "for i,dis in enumerate(diseases):\n",
    "    mapping[dis]=i\n",
    "    "
   ]
  },
  {
   "cell_type": "code",
   "execution_count": 7,
   "metadata": {},
   "outputs": [],
   "source": [
    "invmapping={v:k for k,v in mapping.items()}"
   ]
  },
  {
   "cell_type": "code",
   "execution_count": 8,
   "metadata": {},
   "outputs": [],
   "source": [
    "data['prognosis']=data['prognosis'].map(mapping)"
   ]
  },
  {
   "cell_type": "code",
   "execution_count": 9,
   "metadata": {},
   "outputs": [],
   "source": [
    "itch=data['itching'].value_counts().reset_index()"
   ]
  },
  {
   "cell_type": "code",
   "execution_count": 10,
   "metadata": {},
   "outputs": [],
   "source": [
    "#data.set_index('prognosis').T.plot(kind='bar', stacked=True)"
   ]
  },
  {
   "cell_type": "code",
   "execution_count": 11,
   "metadata": {},
   "outputs": [
    {
     "data": {
      "application/vnd.plotly.v1+json": {
       "config": {
        "linkText": "Export to plot.ly",
        "plotlyServerURL": "https://plot.ly",
        "showLink": true
       },
       "data": [
        {
         "marker": {
          "color": "rgba(255, 153, 51, 0.6)",
          "line": {
           "color": "rgba(255, 153, 51, 1.0)",
           "width": 1
          }
         },
         "name": "itching",
         "orientation": "v",
         "text": "",
         "type": "bar",
         "uid": "53d1d8ce-62db-4d37-9dc9-2e70f6db1c12",
         "x": [
          0,
          1
         ],
         "y": [
          4242,
          678
         ]
        }
       ],
       "layout": {
        "legend": {
         "bgcolor": "#F5F6F9",
         "font": {
          "color": "#4D5663"
         }
        },
        "paper_bgcolor": "#F5F6F9",
        "plot_bgcolor": "#F5F6F9",
        "title": {
         "font": {
          "color": "#4D5663"
         }
        },
        "xaxis": {
         "gridcolor": "#E1E5ED",
         "showgrid": true,
         "tickfont": {
          "color": "#4D5663"
         },
         "title": {
          "font": {
           "color": "#4D5663"
          },
          "text": ""
         },
         "zerolinecolor": "#E1E5ED"
        },
        "yaxis": {
         "gridcolor": "#E1E5ED",
         "showgrid": true,
         "tickfont": {
          "color": "#4D5663"
         },
         "title": {
          "font": {
           "color": "#4D5663"
          },
          "text": ""
         },
         "zerolinecolor": "#E1E5ED"
        }
       }
      },
      "text/html": [
       "<div>\n",
       "        \n",
       "        \n",
       "            <div id=\"847e50ed-b58f-4102-a99f-abd84186d2d9\" class=\"plotly-graph-div\" style=\"height:525px; width:100%;\"></div>\n",
       "            <script type=\"text/javascript\">\n",
       "                require([\"plotly\"], function(Plotly) {\n",
       "                    window.PLOTLYENV=window.PLOTLYENV || {};\n",
       "                    window.PLOTLYENV.BASE_URL='https://plot.ly';\n",
       "                    \n",
       "                if (document.getElementById(\"847e50ed-b58f-4102-a99f-abd84186d2d9\")) {\n",
       "                    Plotly.newPlot(\n",
       "                        '847e50ed-b58f-4102-a99f-abd84186d2d9',\n",
       "                        [{\"marker\": {\"color\": \"rgba(255, 153, 51, 0.6)\", \"line\": {\"color\": \"rgba(255, 153, 51, 1.0)\", \"width\": 1}}, \"name\": \"itching\", \"orientation\": \"v\", \"text\": \"\", \"type\": \"bar\", \"uid\": \"53d1d8ce-62db-4d37-9dc9-2e70f6db1c12\", \"x\": [0, 1], \"y\": [4242, 678]}],\n",
       "                        {\"legend\": {\"bgcolor\": \"#F5F6F9\", \"font\": {\"color\": \"#4D5663\"}}, \"paper_bgcolor\": \"#F5F6F9\", \"plot_bgcolor\": \"#F5F6F9\", \"title\": {\"font\": {\"color\": \"#4D5663\"}}, \"xaxis\": {\"gridcolor\": \"#E1E5ED\", \"showgrid\": true, \"tickfont\": {\"color\": \"#4D5663\"}, \"title\": {\"font\": {\"color\": \"#4D5663\"}, \"text\": \"\"}, \"zerolinecolor\": \"#E1E5ED\"}, \"yaxis\": {\"gridcolor\": \"#E1E5ED\", \"showgrid\": true, \"tickfont\": {\"color\": \"#4D5663\"}, \"title\": {\"font\": {\"color\": \"#4D5663\"}, \"text\": \"\"}, \"zerolinecolor\": \"#E1E5ED\"}},\n",
       "                        {\"showLink\": true, \"linkText\": \"Export to plot.ly\", \"plotlyServerURL\": \"https://plot.ly\", \"responsive\": true}\n",
       "                    ).then(function(){\n",
       "                            \n",
       "var gd = document.getElementById('847e50ed-b58f-4102-a99f-abd84186d2d9');\n",
       "var x = new MutationObserver(function (mutations, observer) {{\n",
       "        var display = window.getComputedStyle(gd).display;\n",
       "        if (!display || display === 'none') {{\n",
       "            console.log([gd, 'removed!']);\n",
       "            Plotly.purge(gd);\n",
       "            observer.disconnect();\n",
       "        }}\n",
       "}});\n",
       "\n",
       "// Listen for the removal of the full notebook cells\n",
       "var notebookContainer = gd.closest('#notebook-container');\n",
       "if (notebookContainer) {{\n",
       "    x.observe(notebookContainer, {childList: true});\n",
       "}}\n",
       "\n",
       "// Listen for the clearing of the current output cell\n",
       "var outputEl = gd.closest('.output');\n",
       "if (outputEl) {{\n",
       "    x.observe(outputEl, {childList: true});\n",
       "}}\n",
       "\n",
       "                        })\n",
       "                };\n",
       "                });\n",
       "            </script>\n",
       "        </div>"
      ]
     },
     "metadata": {},
     "output_type": "display_data"
    }
   ],
   "source": [
    "itch.iplot(kind='bar',x='index')"
   ]
  },
  {
   "cell_type": "code",
   "execution_count": 12,
   "metadata": {},
   "outputs": [
    {
     "data": {
      "text/html": [
       "<div>\n",
       "<style scoped>\n",
       "    .dataframe tbody tr th:only-of-type {\n",
       "        vertical-align: middle;\n",
       "    }\n",
       "\n",
       "    .dataframe tbody tr th {\n",
       "        vertical-align: top;\n",
       "    }\n",
       "\n",
       "    .dataframe thead th {\n",
       "        text-align: right;\n",
       "    }\n",
       "</style>\n",
       "<table border=\"1\" class=\"dataframe\">\n",
       "  <thead>\n",
       "    <tr style=\"text-align: right;\">\n",
       "      <th></th>\n",
       "      <th>itching</th>\n",
       "      <th>skin_rash</th>\n",
       "      <th>nodal_skin_eruptions</th>\n",
       "      <th>continuous_sneezing</th>\n",
       "      <th>shivering</th>\n",
       "      <th>chills</th>\n",
       "      <th>joint_pain</th>\n",
       "      <th>stomach_pain</th>\n",
       "      <th>acidity</th>\n",
       "      <th>ulcers_on_tongue</th>\n",
       "      <th>...</th>\n",
       "      <th>blackheads</th>\n",
       "      <th>scurring</th>\n",
       "      <th>skin_peeling</th>\n",
       "      <th>silver_like_dusting</th>\n",
       "      <th>small_dents_in_nails</th>\n",
       "      <th>inflammatory_nails</th>\n",
       "      <th>blister</th>\n",
       "      <th>red_sore_around_nose</th>\n",
       "      <th>yellow_crust_ooze</th>\n",
       "      <th>prognosis</th>\n",
       "    </tr>\n",
       "  </thead>\n",
       "  <tbody>\n",
       "    <tr>\n",
       "      <th>0</th>\n",
       "      <td>1</td>\n",
       "      <td>1</td>\n",
       "      <td>1</td>\n",
       "      <td>0</td>\n",
       "      <td>0</td>\n",
       "      <td>0</td>\n",
       "      <td>0</td>\n",
       "      <td>0</td>\n",
       "      <td>0</td>\n",
       "      <td>0</td>\n",
       "      <td>...</td>\n",
       "      <td>0</td>\n",
       "      <td>0</td>\n",
       "      <td>0</td>\n",
       "      <td>0</td>\n",
       "      <td>0</td>\n",
       "      <td>0</td>\n",
       "      <td>0</td>\n",
       "      <td>0</td>\n",
       "      <td>0</td>\n",
       "      <td>0</td>\n",
       "    </tr>\n",
       "    <tr>\n",
       "      <th>1</th>\n",
       "      <td>0</td>\n",
       "      <td>1</td>\n",
       "      <td>1</td>\n",
       "      <td>0</td>\n",
       "      <td>0</td>\n",
       "      <td>0</td>\n",
       "      <td>0</td>\n",
       "      <td>0</td>\n",
       "      <td>0</td>\n",
       "      <td>0</td>\n",
       "      <td>...</td>\n",
       "      <td>0</td>\n",
       "      <td>0</td>\n",
       "      <td>0</td>\n",
       "      <td>0</td>\n",
       "      <td>0</td>\n",
       "      <td>0</td>\n",
       "      <td>0</td>\n",
       "      <td>0</td>\n",
       "      <td>0</td>\n",
       "      <td>0</td>\n",
       "    </tr>\n",
       "    <tr>\n",
       "      <th>2</th>\n",
       "      <td>1</td>\n",
       "      <td>0</td>\n",
       "      <td>1</td>\n",
       "      <td>0</td>\n",
       "      <td>0</td>\n",
       "      <td>0</td>\n",
       "      <td>0</td>\n",
       "      <td>0</td>\n",
       "      <td>0</td>\n",
       "      <td>0</td>\n",
       "      <td>...</td>\n",
       "      <td>0</td>\n",
       "      <td>0</td>\n",
       "      <td>0</td>\n",
       "      <td>0</td>\n",
       "      <td>0</td>\n",
       "      <td>0</td>\n",
       "      <td>0</td>\n",
       "      <td>0</td>\n",
       "      <td>0</td>\n",
       "      <td>0</td>\n",
       "    </tr>\n",
       "    <tr>\n",
       "      <th>3</th>\n",
       "      <td>1</td>\n",
       "      <td>1</td>\n",
       "      <td>0</td>\n",
       "      <td>0</td>\n",
       "      <td>0</td>\n",
       "      <td>0</td>\n",
       "      <td>0</td>\n",
       "      <td>0</td>\n",
       "      <td>0</td>\n",
       "      <td>0</td>\n",
       "      <td>...</td>\n",
       "      <td>0</td>\n",
       "      <td>0</td>\n",
       "      <td>0</td>\n",
       "      <td>0</td>\n",
       "      <td>0</td>\n",
       "      <td>0</td>\n",
       "      <td>0</td>\n",
       "      <td>0</td>\n",
       "      <td>0</td>\n",
       "      <td>0</td>\n",
       "    </tr>\n",
       "    <tr>\n",
       "      <th>4</th>\n",
       "      <td>1</td>\n",
       "      <td>1</td>\n",
       "      <td>1</td>\n",
       "      <td>0</td>\n",
       "      <td>0</td>\n",
       "      <td>0</td>\n",
       "      <td>0</td>\n",
       "      <td>0</td>\n",
       "      <td>0</td>\n",
       "      <td>0</td>\n",
       "      <td>...</td>\n",
       "      <td>0</td>\n",
       "      <td>0</td>\n",
       "      <td>0</td>\n",
       "      <td>0</td>\n",
       "      <td>0</td>\n",
       "      <td>0</td>\n",
       "      <td>0</td>\n",
       "      <td>0</td>\n",
       "      <td>0</td>\n",
       "      <td>0</td>\n",
       "    </tr>\n",
       "  </tbody>\n",
       "</table>\n",
       "<p>5 rows × 133 columns</p>\n",
       "</div>"
      ],
      "text/plain": [
       "   itching  skin_rash  nodal_skin_eruptions  continuous_sneezing  shivering  \\\n",
       "0        1          1                     1                    0          0   \n",
       "1        0          1                     1                    0          0   \n",
       "2        1          0                     1                    0          0   \n",
       "3        1          1                     0                    0          0   \n",
       "4        1          1                     1                    0          0   \n",
       "\n",
       "   chills  joint_pain  stomach_pain  acidity  ulcers_on_tongue  ...  \\\n",
       "0       0           0             0        0                 0  ...   \n",
       "1       0           0             0        0                 0  ...   \n",
       "2       0           0             0        0                 0  ...   \n",
       "3       0           0             0        0                 0  ...   \n",
       "4       0           0             0        0                 0  ...   \n",
       "\n",
       "   blackheads  scurring  skin_peeling  silver_like_dusting  \\\n",
       "0           0         0             0                    0   \n",
       "1           0         0             0                    0   \n",
       "2           0         0             0                    0   \n",
       "3           0         0             0                    0   \n",
       "4           0         0             0                    0   \n",
       "\n",
       "   small_dents_in_nails  inflammatory_nails  blister  red_sore_around_nose  \\\n",
       "0                     0                   0        0                     0   \n",
       "1                     0                   0        0                     0   \n",
       "2                     0                   0        0                     0   \n",
       "3                     0                   0        0                     0   \n",
       "4                     0                   0        0                     0   \n",
       "\n",
       "   yellow_crust_ooze  prognosis  \n",
       "0                  0          0  \n",
       "1                  0          0  \n",
       "2                  0          0  \n",
       "3                  0          0  \n",
       "4                  0          0  \n",
       "\n",
       "[5 rows x 133 columns]"
      ]
     },
     "execution_count": 12,
     "metadata": {},
     "output_type": "execute_result"
    }
   ],
   "source": [
    "data.head()"
   ]
  },
  {
   "cell_type": "code",
   "execution_count": 13,
   "metadata": {},
   "outputs": [],
   "source": [
    "X=np.array(data.iloc[:,:-1])"
   ]
  },
  {
   "cell_type": "code",
   "execution_count": 14,
   "metadata": {},
   "outputs": [],
   "source": [
    "y=np.array(data.iloc[:,-1])[:,np.newaxis]"
   ]
  },
  {
   "cell_type": "code",
   "execution_count": 15,
   "metadata": {},
   "outputs": [
    {
     "name": "stdout",
     "output_type": "stream",
     "text": [
      "(4920, 132) (4920, 1)\n"
     ]
    }
   ],
   "source": [
    "print(X.shape,y.shape)"
   ]
  },
  {
   "cell_type": "code",
   "execution_count": 16,
   "metadata": {},
   "outputs": [],
   "source": [
    "m=len(y)\n",
    "k=41\n",
    "ones=np.ones([m,1])\n",
    "X=np.hstack([ones,X])"
   ]
  },
  {
   "cell_type": "code",
   "execution_count": 17,
   "metadata": {},
   "outputs": [
    {
     "name": "stdout",
     "output_type": "stream",
     "text": [
      "(4920, 133) (4920, 1)\n"
     ]
    }
   ],
   "source": [
    "m,n=X.shape\n",
    "print(X.shape,y.shape)"
   ]
  },
  {
   "cell_type": "code",
   "execution_count": 18,
   "metadata": {},
   "outputs": [],
   "source": [
    "theta=np.zeros([k,n])"
   ]
  },
  {
   "cell_type": "code",
   "execution_count": 19,
   "metadata": {},
   "outputs": [
    {
     "name": "stdout",
     "output_type": "stream",
     "text": [
      "(41, 133) (4920, 133) (4920, 1)\n"
     ]
    }
   ],
   "source": [
    "print(theta.shape,X.shape,y.shape)"
   ]
  },
  {
   "cell_type": "code",
   "execution_count": 20,
   "metadata": {},
   "outputs": [],
   "source": [
    "def sigmoid(X):\n",
    "    return 1/1+np.exp(-X)"
   ]
  },
  {
   "cell_type": "code",
   "execution_count": 21,
   "metadata": {},
   "outputs": [],
   "source": [
    "def costfunction(theta,X,y,lmbda):\n",
    "    temp=np.dot(y.T,np.log(sigmoid(np.dot(X,theta))))+np.dot((1-y).T,np.log(1-sigmoid(np.dot(X,theta))))\n",
    "    return (temp/(-m))+np.sum(theta[1:]**2)*((lmbda)/(2*m))"
   ]
  },
  {
   "cell_type": "code",
   "execution_count": 22,
   "metadata": {},
   "outputs": [],
   "source": [
    "def gradient(theta,X,y,lmbda):\n",
    "    temp=sigmoid(np.dot(X,theta))-y\n",
    "    temp=(np.dot(X.T,temp)/m)+theta * lmbda / m\n",
    "    temp[0]=temp[0]-theta[0] * lmbda / m\n",
    "    return temp"
   ]
  },
  {
   "cell_type": "code",
   "execution_count": 23,
   "metadata": {},
   "outputs": [
    {
     "name": "stdout",
     "output_type": "stream",
     "text": [
      "Optimization terminated successfully.\n",
      "         Current function value: nan\n",
      "         Iterations: 1\n",
      "         Function evaluations: 112\n",
      "         Gradient evaluations: 112\n",
      "Optimization terminated successfully.\n",
      "         Current function value: nan\n",
      "         Iterations: 1\n",
      "         Function evaluations: 112\n",
      "         Gradient evaluations: 112\n",
      "Optimization terminated successfully.\n",
      "         Current function value: nan\n",
      "         Iterations: 1\n",
      "         Function evaluations: 112\n",
      "         Gradient evaluations: 112\n",
      "Optimization terminated successfully.\n",
      "         Current function value: nan\n",
      "         Iterations: 1\n",
      "         Function evaluations: 112\n",
      "         Gradient evaluations: 112\n",
      "Optimization terminated successfully.\n",
      "         Current function value: nan\n",
      "         Iterations: 1\n",
      "         Function evaluations: 112\n",
      "         Gradient evaluations: 112\n",
      "Optimization terminated successfully.\n",
      "         Current function value: nan\n",
      "         Iterations: 1\n",
      "         Function evaluations: 112\n",
      "         Gradient evaluations: 112\n",
      "Optimization terminated successfully.\n",
      "         Current function value: nan\n",
      "         Iterations: 1\n",
      "         Function evaluations: 112\n",
      "         Gradient evaluations: 112\n",
      "Optimization terminated successfully.\n",
      "         Current function value: nan\n",
      "         Iterations: 1\n",
      "         Function evaluations: 112\n",
      "         Gradient evaluations: 112\n",
      "Optimization terminated successfully.\n",
      "         Current function value: nan\n",
      "         Iterations: 1\n",
      "         Function evaluations: 112\n",
      "         Gradient evaluations: 112\n",
      "Optimization terminated successfully.\n",
      "         Current function value: nan\n",
      "         Iterations: 1\n",
      "         Function evaluations: 112\n",
      "         Gradient evaluations: 112\n",
      "Optimization terminated successfully.\n",
      "         Current function value: nan\n",
      "         Iterations: 1\n",
      "         Function evaluations: 112\n",
      "         Gradient evaluations: 112\n",
      "Optimization terminated successfully.\n",
      "         Current function value: nan\n",
      "         Iterations: 1\n",
      "         Function evaluations: 112\n",
      "         Gradient evaluations: 112\n",
      "Optimization terminated successfully.\n",
      "         Current function value: nan\n",
      "         Iterations: 1\n",
      "         Function evaluations: 112\n",
      "         Gradient evaluations: 112\n",
      "Optimization terminated successfully.\n",
      "         Current function value: nan\n",
      "         Iterations: 1\n",
      "         Function evaluations: 112\n",
      "         Gradient evaluations: 112\n",
      "Optimization terminated successfully.\n",
      "         Current function value: nan\n",
      "         Iterations: 1\n",
      "         Function evaluations: 112\n",
      "         Gradient evaluations: 112\n",
      "Optimization terminated successfully.\n",
      "         Current function value: nan\n",
      "         Iterations: 1\n",
      "         Function evaluations: 112\n",
      "         Gradient evaluations: 112\n",
      "Optimization terminated successfully.\n",
      "         Current function value: nan\n",
      "         Iterations: 1\n",
      "         Function evaluations: 112\n",
      "         Gradient evaluations: 112\n",
      "Optimization terminated successfully.\n",
      "         Current function value: nan\n",
      "         Iterations: 1\n",
      "         Function evaluations: 112\n",
      "         Gradient evaluations: 112\n",
      "Optimization terminated successfully.\n",
      "         Current function value: nan\n",
      "         Iterations: 1\n",
      "         Function evaluations: 112\n",
      "         Gradient evaluations: 112\n",
      "Optimization terminated successfully.\n",
      "         Current function value: nan\n",
      "         Iterations: 1\n",
      "         Function evaluations: 112\n",
      "         Gradient evaluations: 112\n",
      "Optimization terminated successfully.\n",
      "         Current function value: nan\n",
      "         Iterations: 1\n",
      "         Function evaluations: 112\n",
      "         Gradient evaluations: 112\n",
      "Optimization terminated successfully.\n",
      "         Current function value: nan\n",
      "         Iterations: 1\n",
      "         Function evaluations: 112\n",
      "         Gradient evaluations: 112\n",
      "Optimization terminated successfully.\n",
      "         Current function value: nan\n",
      "         Iterations: 1\n",
      "         Function evaluations: 112\n",
      "         Gradient evaluations: 112\n",
      "Optimization terminated successfully.\n",
      "         Current function value: nan\n",
      "         Iterations: 1\n",
      "         Function evaluations: 112\n",
      "         Gradient evaluations: 112\n",
      "Optimization terminated successfully.\n",
      "         Current function value: nan\n",
      "         Iterations: 1\n",
      "         Function evaluations: 112\n",
      "         Gradient evaluations: 112\n",
      "Optimization terminated successfully.\n",
      "         Current function value: nan\n",
      "         Iterations: 1\n",
      "         Function evaluations: 112\n",
      "         Gradient evaluations: 112\n",
      "Optimization terminated successfully.\n",
      "         Current function value: nan\n",
      "         Iterations: 1\n",
      "         Function evaluations: 112\n",
      "         Gradient evaluations: 112\n",
      "Optimization terminated successfully.\n",
      "         Current function value: nan\n",
      "         Iterations: 1\n",
      "         Function evaluations: 112\n",
      "         Gradient evaluations: 112\n",
      "Optimization terminated successfully.\n",
      "         Current function value: nan\n",
      "         Iterations: 1\n",
      "         Function evaluations: 112\n",
      "         Gradient evaluations: 112\n",
      "Optimization terminated successfully.\n",
      "         Current function value: nan\n",
      "         Iterations: 1\n",
      "         Function evaluations: 112\n",
      "         Gradient evaluations: 112\n",
      "Optimization terminated successfully.\n",
      "         Current function value: nan\n",
      "         Iterations: 1\n",
      "         Function evaluations: 112\n",
      "         Gradient evaluations: 112\n",
      "Optimization terminated successfully.\n",
      "         Current function value: nan\n",
      "         Iterations: 1\n",
      "         Function evaluations: 112\n",
      "         Gradient evaluations: 112\n",
      "Optimization terminated successfully.\n",
      "         Current function value: nan\n",
      "         Iterations: 1\n",
      "         Function evaluations: 112\n",
      "         Gradient evaluations: 112\n",
      "Optimization terminated successfully.\n",
      "         Current function value: nan\n",
      "         Iterations: 1\n",
      "         Function evaluations: 112\n",
      "         Gradient evaluations: 112\n",
      "Optimization terminated successfully.\n",
      "         Current function value: nan\n",
      "         Iterations: 1\n",
      "         Function evaluations: 112\n",
      "         Gradient evaluations: 112\n",
      "Optimization terminated successfully.\n",
      "         Current function value: nan\n",
      "         Iterations: 1\n",
      "         Function evaluations: 112\n",
      "         Gradient evaluations: 112\n",
      "Optimization terminated successfully.\n",
      "         Current function value: nan\n",
      "         Iterations: 1\n",
      "         Function evaluations: 112\n",
      "         Gradient evaluations: 112\n",
      "Optimization terminated successfully.\n",
      "         Current function value: nan\n",
      "         Iterations: 1\n",
      "         Function evaluations: 112\n",
      "         Gradient evaluations: 112\n",
      "Optimization terminated successfully.\n",
      "         Current function value: nan\n",
      "         Iterations: 1\n",
      "         Function evaluations: 112\n",
      "         Gradient evaluations: 112\n",
      "Optimization terminated successfully.\n",
      "         Current function value: nan\n",
      "         Iterations: 1\n",
      "         Function evaluations: 112\n",
      "         Gradient evaluations: 112\n",
      "Optimization terminated successfully.\n",
      "         Current function value: nan\n",
      "         Iterations: 1\n",
      "         Function evaluations: 112\n",
      "         Gradient evaluations: 112\n"
     ]
    }
   ],
   "source": [
    "import scipy.optimize as opt\n",
    "lmbda =1001\n",
    "k=41\n",
    "theta=np.zeros((k,n))\n",
    "\n",
    "for i in range(k):\n",
    "    digit_class=i \n",
    "    theta[i]=opt.fmin_cg(f=costfunction,x0=theta[i],fprime=gradient,args=(X,(y==digit_class).flatten(),lmbda),maxiter=50)"
   ]
  },
  {
   "cell_type": "code",
   "execution_count": 24,
   "metadata": {},
   "outputs": [
    {
     "data": {
      "text/plain": [
       "array([nan])"
      ]
     },
     "execution_count": 24,
     "metadata": {},
     "output_type": "execute_result"
    }
   ],
   "source": [
    "theta=np.zeros((k,n))\n",
    "costfunction(theta[0],X,y==0,100000000000000000)"
   ]
  },
  {
   "cell_type": "code",
   "execution_count": 25,
   "metadata": {},
   "outputs": [],
   "source": [
    "X=(X-np.mean(X))/(np.std(X))"
   ]
  },
  {
   "cell_type": "code",
   "execution_count": 26,
   "metadata": {},
   "outputs": [
    {
     "data": {
      "text/plain": [
       "array([68205.6825671])"
      ]
     },
     "execution_count": 26,
     "metadata": {},
     "output_type": "execute_result"
    }
   ],
   "source": [
    "y.T@np.log(sigmoid(np.dot(X,theta[0])))"
   ]
  },
  {
   "cell_type": "code",
   "execution_count": 27,
   "metadata": {},
   "outputs": [
    {
     "data": {
      "text/plain": [
       "array([2., 2., 2., ..., 2., 2., 2.])"
      ]
     },
     "execution_count": 27,
     "metadata": {},
     "output_type": "execute_result"
    }
   ],
   "source": [
    "sigmoid(np.dot(X,theta[0]))"
   ]
  },
  {
   "cell_type": "code",
   "execution_count": null,
   "metadata": {},
   "outputs": [],
   "source": []
  },
  {
   "cell_type": "code",
   "execution_count": null,
   "metadata": {},
   "outputs": [],
   "source": []
  },
  {
   "cell_type": "code",
   "execution_count": 28,
   "metadata": {},
   "outputs": [],
   "source": [
    "# data exploration section\n",
    "data['Noofdiseases']=data.iloc[:,:-1].sum(axis=1)\n",
    "output=data['prognosis'].value_counts().sort_values().reset_index()"
   ]
  },
  {
   "cell_type": "code",
   "execution_count": 29,
   "metadata": {},
   "outputs": [
    {
     "data": {
      "application/vnd.plotly.v1+json": {
       "config": {
        "linkText": "Export to plot.ly",
        "plotlyServerURL": "https://plot.ly",
        "showLink": true
       },
       "data": [
        {
         "labels": [
          39,
          2,
          31,
          27,
          23,
          19,
          15,
          11,
          7,
          3,
          38,
          34,
          30,
          26,
          22,
          18,
          14,
          10,
          35,
          6,
          37,
          4,
          33,
          25,
          21,
          17,
          13,
          9,
          5,
          1,
          40,
          36,
          32,
          28,
          24,
          20,
          16,
          12,
          8,
          29,
          0
         ],
         "marker": {
          "colors": [
           "rgba(255, 153, 51, 1.0)",
           "rgba(55, 128, 191, 1.0)",
           "rgba(50, 171, 96, 1.0)",
           "rgba(128, 0, 128, 1.0)",
           "rgba(219, 64, 82, 1.0)",
           "rgba(0, 128, 128, 1.0)",
           "rgba(255, 255, 51, 1.0)",
           "rgba(128, 128, 0, 1.0)",
           "rgba(251, 128, 114, 1.0)",
           "rgba(128, 177, 211, 1.0)",
           "rgba(128, 177, 211, 0.8999999999999999)",
           "rgba(255, 153, 51, 0.8999999999999999)",
           "rgba(55, 128, 191, 0.8999999999999999)",
           "rgba(50, 171, 96, 0.8999999999999999)",
           "rgba(128, 0, 128, 0.8999999999999999)",
           "rgba(219, 64, 82, 0.8999999999999999)",
           "rgba(0, 128, 128, 0.8999999999999999)",
           "rgba(255, 255, 51, 0.8999999999999999)",
           "rgba(128, 128, 0, 0.8999999999999999)",
           "rgba(251, 128, 114, 0.8999999999999999)",
           "rgba(251, 128, 114, 0.7999999999999998)",
           "rgba(128, 177, 211, 0.7999999999999998)",
           "rgba(255, 153, 51, 0.7999999999999998)",
           "rgba(55, 128, 191, 0.7999999999999998)",
           "rgba(50, 171, 96, 0.7999999999999998)",
           "rgba(128, 0, 128, 0.7999999999999998)",
           "rgba(219, 64, 82, 0.7999999999999998)",
           "rgba(0, 128, 128, 0.7999999999999998)",
           "rgba(255, 255, 51, 0.7999999999999998)",
           "rgba(128, 128, 0, 0.7999999999999998)",
           "rgba(128, 128, 0, 0.7)",
           "rgba(251, 128, 114, 0.7)",
           "rgba(128, 177, 211, 0.7)",
           "rgba(255, 153, 51, 0.7)",
           "rgba(55, 128, 191, 0.7)",
           "rgba(50, 171, 96, 0.7)",
           "rgba(128, 0, 128, 0.7)",
           "rgba(219, 64, 82, 0.7)",
           "rgba(0, 128, 128, 0.7)",
           "rgba(255, 255, 51, 0.7)",
           "rgba(255, 255, 51, 0.5999999999999999)"
          ]
         },
         "name": "",
         "pull": 0.05,
         "type": "pie",
         "values": [
          120,
          120,
          120,
          120,
          120,
          120,
          120,
          120,
          120,
          120,
          120,
          120,
          120,
          120,
          120,
          120,
          120,
          120,
          120,
          120,
          120,
          120,
          120,
          120,
          120,
          120,
          120,
          120,
          120,
          120,
          120,
          120,
          120,
          120,
          120,
          120,
          120,
          120,
          120,
          120,
          120
         ]
        }
       ],
       "layout": {
        "legend": {
         "bgcolor": "#F5F6F9",
         "font": {
          "color": "#4D5663"
         }
        },
        "paper_bgcolor": "#F5F6F9",
        "plot_bgcolor": "#F5F6F9",
        "titlefont": {
         "color": "#4D5663"
        }
       }
      },
      "text/html": [
       "<div>\n",
       "        \n",
       "        \n",
       "            <div id=\"5a329050-4d35-42db-bfdf-4d8a5648c851\" class=\"plotly-graph-div\" style=\"height:525px; width:100%;\"></div>\n",
       "            <script type=\"text/javascript\">\n",
       "                require([\"plotly\"], function(Plotly) {\n",
       "                    window.PLOTLYENV=window.PLOTLYENV || {};\n",
       "                    window.PLOTLYENV.BASE_URL='https://plot.ly';\n",
       "                    \n",
       "                if (document.getElementById(\"5a329050-4d35-42db-bfdf-4d8a5648c851\")) {\n",
       "                    Plotly.newPlot(\n",
       "                        '5a329050-4d35-42db-bfdf-4d8a5648c851',\n",
       "                        [{\"labels\": [39, 2, 31, 27, 23, 19, 15, 11, 7, 3, 38, 34, 30, 26, 22, 18, 14, 10, 35, 6, 37, 4, 33, 25, 21, 17, 13, 9, 5, 1, 40, 36, 32, 28, 24, 20, 16, 12, 8, 29, 0], \"marker\": {\"colors\": [\"rgba(255, 153, 51, 1.0)\", \"rgba(55, 128, 191, 1.0)\", \"rgba(50, 171, 96, 1.0)\", \"rgba(128, 0, 128, 1.0)\", \"rgba(219, 64, 82, 1.0)\", \"rgba(0, 128, 128, 1.0)\", \"rgba(255, 255, 51, 1.0)\", \"rgba(128, 128, 0, 1.0)\", \"rgba(251, 128, 114, 1.0)\", \"rgba(128, 177, 211, 1.0)\", \"rgba(128, 177, 211, 0.8999999999999999)\", \"rgba(255, 153, 51, 0.8999999999999999)\", \"rgba(55, 128, 191, 0.8999999999999999)\", \"rgba(50, 171, 96, 0.8999999999999999)\", \"rgba(128, 0, 128, 0.8999999999999999)\", \"rgba(219, 64, 82, 0.8999999999999999)\", \"rgba(0, 128, 128, 0.8999999999999999)\", \"rgba(255, 255, 51, 0.8999999999999999)\", \"rgba(128, 128, 0, 0.8999999999999999)\", \"rgba(251, 128, 114, 0.8999999999999999)\", \"rgba(251, 128, 114, 0.7999999999999998)\", \"rgba(128, 177, 211, 0.7999999999999998)\", \"rgba(255, 153, 51, 0.7999999999999998)\", \"rgba(55, 128, 191, 0.7999999999999998)\", \"rgba(50, 171, 96, 0.7999999999999998)\", \"rgba(128, 0, 128, 0.7999999999999998)\", \"rgba(219, 64, 82, 0.7999999999999998)\", \"rgba(0, 128, 128, 0.7999999999999998)\", \"rgba(255, 255, 51, 0.7999999999999998)\", \"rgba(128, 128, 0, 0.7999999999999998)\", \"rgba(128, 128, 0, 0.7)\", \"rgba(251, 128, 114, 0.7)\", \"rgba(128, 177, 211, 0.7)\", \"rgba(255, 153, 51, 0.7)\", \"rgba(55, 128, 191, 0.7)\", \"rgba(50, 171, 96, 0.7)\", \"rgba(128, 0, 128, 0.7)\", \"rgba(219, 64, 82, 0.7)\", \"rgba(0, 128, 128, 0.7)\", \"rgba(255, 255, 51, 0.7)\", \"rgba(255, 255, 51, 0.5999999999999999)\"]}, \"name\": \"\", \"pull\": 0.05, \"type\": \"pie\", \"values\": [120, 120, 120, 120, 120, 120, 120, 120, 120, 120, 120, 120, 120, 120, 120, 120, 120, 120, 120, 120, 120, 120, 120, 120, 120, 120, 120, 120, 120, 120, 120, 120, 120, 120, 120, 120, 120, 120, 120, 120, 120]}],\n",
       "                        {\"legend\": {\"bgcolor\": \"#F5F6F9\", \"font\": {\"color\": \"#4D5663\"}}, \"paper_bgcolor\": \"#F5F6F9\", \"plot_bgcolor\": \"#F5F6F9\", \"titlefont\": {\"color\": \"#4D5663\"}},\n",
       "                        {\"showLink\": true, \"linkText\": \"Export to plot.ly\", \"plotlyServerURL\": \"https://plot.ly\", \"responsive\": true}\n",
       "                    ).then(function(){\n",
       "                            \n",
       "var gd = document.getElementById('5a329050-4d35-42db-bfdf-4d8a5648c851');\n",
       "var x = new MutationObserver(function (mutations, observer) {{\n",
       "        var display = window.getComputedStyle(gd).display;\n",
       "        if (!display || display === 'none') {{\n",
       "            console.log([gd, 'removed!']);\n",
       "            Plotly.purge(gd);\n",
       "            observer.disconnect();\n",
       "        }}\n",
       "}});\n",
       "\n",
       "// Listen for the removal of the full notebook cells\n",
       "var notebookContainer = gd.closest('#notebook-container');\n",
       "if (notebookContainer) {{\n",
       "    x.observe(notebookContainer, {childList: true});\n",
       "}}\n",
       "\n",
       "// Listen for the clearing of the current output cell\n",
       "var outputEl = gd.closest('.output');\n",
       "if (outputEl) {{\n",
       "    x.observe(outputEl, {childList: true});\n",
       "}}\n",
       "\n",
       "                        })\n",
       "                };\n",
       "                });\n",
       "            </script>\n",
       "        </div>"
      ]
     },
     "metadata": {},
     "output_type": "display_data"
    }
   ],
   "source": [
    "output.iplot(kind='pie',labels='index',values='prognosis',pull=0.05)"
   ]
  },
  {
   "cell_type": "code",
   "execution_count": 30,
   "metadata": {},
   "outputs": [
    {
     "data": {
      "application/vnd.plotly.v1+json": {
       "config": {
        "linkText": "Export to plot.ly",
        "plotlyServerURL": "https://plot.ly",
        "showLink": true
       },
       "data": [
        {
         "hole": 0.1,
         "labels": [
          0,
          1
         ],
         "marker": {
          "colors": [
           "rgba(255, 153, 51, 1.0)",
           "rgba(55, 128, 191, 1.0)"
          ]
         },
         "name": "",
         "pull": 0.05,
         "type": "pie",
         "values": [
          4242,
          678
         ]
        }
       ],
       "layout": {
        "legend": {
         "bgcolor": "#F5F6F9",
         "font": {
          "color": "#4D5663"
         }
        },
        "paper_bgcolor": "#F5F6F9",
        "plot_bgcolor": "#F5F6F9",
        "titlefont": {
         "color": "#4D5663"
        }
       }
      },
      "text/html": [
       "<div>\n",
       "        \n",
       "        \n",
       "            <div id=\"8d0941ca-c0db-4b9b-b8f4-50e2fa996cd1\" class=\"plotly-graph-div\" style=\"height:525px; width:100%;\"></div>\n",
       "            <script type=\"text/javascript\">\n",
       "                require([\"plotly\"], function(Plotly) {\n",
       "                    window.PLOTLYENV=window.PLOTLYENV || {};\n",
       "                    window.PLOTLYENV.BASE_URL='https://plot.ly';\n",
       "                    \n",
       "                if (document.getElementById(\"8d0941ca-c0db-4b9b-b8f4-50e2fa996cd1\")) {\n",
       "                    Plotly.newPlot(\n",
       "                        '8d0941ca-c0db-4b9b-b8f4-50e2fa996cd1',\n",
       "                        [{\"hole\": 0.1, \"labels\": [0, 1], \"marker\": {\"colors\": [\"rgba(255, 153, 51, 1.0)\", \"rgba(55, 128, 191, 1.0)\"]}, \"name\": \"\", \"pull\": 0.05, \"type\": \"pie\", \"values\": [4242, 678]}],\n",
       "                        {\"legend\": {\"bgcolor\": \"#F5F6F9\", \"font\": {\"color\": \"#4D5663\"}}, \"paper_bgcolor\": \"#F5F6F9\", \"plot_bgcolor\": \"#F5F6F9\", \"titlefont\": {\"color\": \"#4D5663\"}},\n",
       "                        {\"showLink\": true, \"linkText\": \"Export to plot.ly\", \"plotlyServerURL\": \"https://plot.ly\", \"responsive\": true}\n",
       "                    ).then(function(){\n",
       "                            \n",
       "var gd = document.getElementById('8d0941ca-c0db-4b9b-b8f4-50e2fa996cd1');\n",
       "var x = new MutationObserver(function (mutations, observer) {{\n",
       "        var display = window.getComputedStyle(gd).display;\n",
       "        if (!display || display === 'none') {{\n",
       "            console.log([gd, 'removed!']);\n",
       "            Plotly.purge(gd);\n",
       "            observer.disconnect();\n",
       "        }}\n",
       "}});\n",
       "\n",
       "// Listen for the removal of the full notebook cells\n",
       "var notebookContainer = gd.closest('#notebook-container');\n",
       "if (notebookContainer) {{\n",
       "    x.observe(notebookContainer, {childList: true});\n",
       "}}\n",
       "\n",
       "// Listen for the clearing of the current output cell\n",
       "var outputEl = gd.closest('.output');\n",
       "if (outputEl) {{\n",
       "    x.observe(outputEl, {childList: true});\n",
       "}}\n",
       "\n",
       "                        })\n",
       "                };\n",
       "                });\n",
       "            </script>\n",
       "        </div>"
      ]
     },
     "metadata": {},
     "output_type": "display_data"
    }
   ],
   "source": [
    "data['itching'].value_counts().reset_index().iplot(kind='pie',labels='index',values='itching',pull=0.05,hole=0.1)"
   ]
  },
  {
   "cell_type": "code",
   "execution_count": 31,
   "metadata": {},
   "outputs": [
    {
     "data": {
      "application/vnd.plotly.v1+json": {
       "config": {
        "linkText": "Export to plot.ly",
        "plotlyServerURL": "https://plot.ly",
        "showLink": true
       },
       "data": [
        {
         "hole": 0.1,
         "labels": [
          0,
          1
         ],
         "marker": {
          "colors": [
           "rgba(255, 153, 51, 1.0)",
           "rgba(55, 128, 191, 1.0)"
          ]
         },
         "name": "",
         "pull": 0.05,
         "type": "pie",
         "values": [
          4242,
          678
         ]
        }
       ],
       "layout": {
        "legend": {
         "bgcolor": "#F5F6F9",
         "font": {
          "color": "#4D5663"
         }
        },
        "paper_bgcolor": "#F5F6F9",
        "plot_bgcolor": "#F5F6F9",
        "titlefont": {
         "color": "#4D5663"
        }
       }
      },
      "text/html": [
       "<div>\n",
       "        \n",
       "        \n",
       "            <div id=\"4f10b18b-2501-4eed-9c9f-544d24e442b6\" class=\"plotly-graph-div\" style=\"height:525px; width:100%;\"></div>\n",
       "            <script type=\"text/javascript\">\n",
       "                require([\"plotly\"], function(Plotly) {\n",
       "                    window.PLOTLYENV=window.PLOTLYENV || {};\n",
       "                    window.PLOTLYENV.BASE_URL='https://plot.ly';\n",
       "                    \n",
       "                if (document.getElementById(\"4f10b18b-2501-4eed-9c9f-544d24e442b6\")) {\n",
       "                    Plotly.newPlot(\n",
       "                        '4f10b18b-2501-4eed-9c9f-544d24e442b6',\n",
       "                        [{\"hole\": 0.1, \"labels\": [0, 1], \"marker\": {\"colors\": [\"rgba(255, 153, 51, 1.0)\", \"rgba(55, 128, 191, 1.0)\"]}, \"name\": \"\", \"pull\": 0.05, \"type\": \"pie\", \"values\": [4242, 678]}],\n",
       "                        {\"legend\": {\"bgcolor\": \"#F5F6F9\", \"font\": {\"color\": \"#4D5663\"}}, \"paper_bgcolor\": \"#F5F6F9\", \"plot_bgcolor\": \"#F5F6F9\", \"titlefont\": {\"color\": \"#4D5663\"}},\n",
       "                        {\"showLink\": true, \"linkText\": \"Export to plot.ly\", \"plotlyServerURL\": \"https://plot.ly\", \"responsive\": true}\n",
       "                    ).then(function(){\n",
       "                            \n",
       "var gd = document.getElementById('4f10b18b-2501-4eed-9c9f-544d24e442b6');\n",
       "var x = new MutationObserver(function (mutations, observer) {{\n",
       "        var display = window.getComputedStyle(gd).display;\n",
       "        if (!display || display === 'none') {{\n",
       "            console.log([gd, 'removed!']);\n",
       "            Plotly.purge(gd);\n",
       "            observer.disconnect();\n",
       "        }}\n",
       "}});\n",
       "\n",
       "// Listen for the removal of the full notebook cells\n",
       "var notebookContainer = gd.closest('#notebook-container');\n",
       "if (notebookContainer) {{\n",
       "    x.observe(notebookContainer, {childList: true});\n",
       "}}\n",
       "\n",
       "// Listen for the clearing of the current output cell\n",
       "var outputEl = gd.closest('.output');\n",
       "if (outputEl) {{\n",
       "    x.observe(outputEl, {childList: true});\n",
       "}}\n",
       "\n",
       "                        })\n",
       "                };\n",
       "                });\n",
       "            </script>\n",
       "        </div>"
      ]
     },
     "metadata": {},
     "output_type": "display_data"
    }
   ],
   "source": [
    "data['itching'].value_counts().reset_index().iplot(kind='pie',labels='index',values='itching',pull=0.05,hole=0.1)"
   ]
  },
  {
   "cell_type": "code",
   "execution_count": 32,
   "metadata": {},
   "outputs": [],
   "source": [
    "lis=[]\n",
    "for i,each in enumerate(data.columns.values):\n",
    "    df=data[each].value_counts().reset_index()\n",
    "    lis.append(df)"
   ]
  },
  {
   "cell_type": "code",
   "execution_count": 33,
   "metadata": {},
   "outputs": [],
   "source": [
    "df_final=pd.concat(lis,axis=1)[:2]\n",
    "df_final.drop(['index'],axis=1,inplace=True)\n",
    "df_final['index']=0\n",
    "df_final['index'].loc[0]=0\n",
    "df_final['index'].loc[1]=1\n",
    "    \n",
    "df_final.drop(['prognosis'],axis=1,inplace=True)\n",
    "df_final['index'][1]=1"
   ]
  },
  {
   "cell_type": "code",
   "execution_count": 34,
   "metadata": {},
   "outputs": [
    {
     "data": {
      "text/html": [
       "<div>\n",
       "<style scoped>\n",
       "    .dataframe tbody tr th:only-of-type {\n",
       "        vertical-align: middle;\n",
       "    }\n",
       "\n",
       "    .dataframe tbody tr th {\n",
       "        vertical-align: top;\n",
       "    }\n",
       "\n",
       "    .dataframe thead th {\n",
       "        text-align: right;\n",
       "    }\n",
       "</style>\n",
       "<table border=\"1\" class=\"dataframe\">\n",
       "  <thead>\n",
       "    <tr style=\"text-align: right;\">\n",
       "      <th></th>\n",
       "      <th>itching</th>\n",
       "      <th>skin_rash</th>\n",
       "      <th>nodal_skin_eruptions</th>\n",
       "      <th>continuous_sneezing</th>\n",
       "      <th>shivering</th>\n",
       "      <th>chills</th>\n",
       "      <th>joint_pain</th>\n",
       "      <th>stomach_pain</th>\n",
       "      <th>acidity</th>\n",
       "      <th>ulcers_on_tongue</th>\n",
       "      <th>...</th>\n",
       "      <th>scurring</th>\n",
       "      <th>skin_peeling</th>\n",
       "      <th>silver_like_dusting</th>\n",
       "      <th>small_dents_in_nails</th>\n",
       "      <th>inflammatory_nails</th>\n",
       "      <th>blister</th>\n",
       "      <th>red_sore_around_nose</th>\n",
       "      <th>yellow_crust_ooze</th>\n",
       "      <th>Noofdiseases</th>\n",
       "      <th>index</th>\n",
       "    </tr>\n",
       "  </thead>\n",
       "  <tbody>\n",
       "    <tr>\n",
       "      <th>0</th>\n",
       "      <td>4242.0</td>\n",
       "      <td>4134.0</td>\n",
       "      <td>4812.0</td>\n",
       "      <td>4698.0</td>\n",
       "      <td>4812.0</td>\n",
       "      <td>4122.0</td>\n",
       "      <td>4236.0</td>\n",
       "      <td>4698.0</td>\n",
       "      <td>4698.0</td>\n",
       "      <td>4812.0</td>\n",
       "      <td>...</td>\n",
       "      <td>4812.0</td>\n",
       "      <td>4806.0</td>\n",
       "      <td>4806.0</td>\n",
       "      <td>4806.0</td>\n",
       "      <td>4806.0</td>\n",
       "      <td>4806.0</td>\n",
       "      <td>4806.0</td>\n",
       "      <td>4806.0</td>\n",
       "      <td>858.0</td>\n",
       "      <td>0</td>\n",
       "    </tr>\n",
       "    <tr>\n",
       "      <th>1</th>\n",
       "      <td>678.0</td>\n",
       "      <td>786.0</td>\n",
       "      <td>108.0</td>\n",
       "      <td>222.0</td>\n",
       "      <td>108.0</td>\n",
       "      <td>798.0</td>\n",
       "      <td>684.0</td>\n",
       "      <td>222.0</td>\n",
       "      <td>222.0</td>\n",
       "      <td>108.0</td>\n",
       "      <td>...</td>\n",
       "      <td>108.0</td>\n",
       "      <td>114.0</td>\n",
       "      <td>114.0</td>\n",
       "      <td>114.0</td>\n",
       "      <td>114.0</td>\n",
       "      <td>114.0</td>\n",
       "      <td>114.0</td>\n",
       "      <td>114.0</td>\n",
       "      <td>780.0</td>\n",
       "      <td>1</td>\n",
       "    </tr>\n",
       "  </tbody>\n",
       "</table>\n",
       "<p>2 rows × 134 columns</p>\n",
       "</div>"
      ],
      "text/plain": [
       "   itching  skin_rash  nodal_skin_eruptions  continuous_sneezing  shivering  \\\n",
       "0   4242.0     4134.0                4812.0               4698.0     4812.0   \n",
       "1    678.0      786.0                 108.0                222.0      108.0   \n",
       "\n",
       "   chills  joint_pain  stomach_pain  acidity  ulcers_on_tongue  ...  scurring  \\\n",
       "0  4122.0      4236.0        4698.0   4698.0            4812.0  ...    4812.0   \n",
       "1   798.0       684.0         222.0    222.0             108.0  ...     108.0   \n",
       "\n",
       "   skin_peeling  silver_like_dusting  small_dents_in_nails  \\\n",
       "0        4806.0               4806.0                4806.0   \n",
       "1         114.0                114.0                 114.0   \n",
       "\n",
       "   inflammatory_nails  blister  red_sore_around_nose  yellow_crust_ooze  \\\n",
       "0              4806.0   4806.0                4806.0             4806.0   \n",
       "1               114.0    114.0                 114.0              114.0   \n",
       "\n",
       "   Noofdiseases  index  \n",
       "0         858.0      0  \n",
       "1         780.0      1  \n",
       "\n",
       "[2 rows x 134 columns]"
      ]
     },
     "execution_count": 34,
     "metadata": {},
     "output_type": "execute_result"
    }
   ],
   "source": [
    "df_final\n"
   ]
  },
  {
   "cell_type": "code",
   "execution_count": 35,
   "metadata": {},
   "outputs": [],
   "source": [
    "disyes=df_final.loc[1].reset_index().sort_values([1],ascending=False)"
   ]
  },
  {
   "cell_type": "code",
   "execution_count": 36,
   "metadata": {},
   "outputs": [
    {
     "data": {
      "application/vnd.plotly.v1+json": {
       "config": {
        "linkText": "Export to plot.ly",
        "plotlyServerURL": "https://plot.ly",
        "showLink": true
       },
       "data": [
        {
         "marker": {
          "color": "rgba(255, 153, 51, 0.6)",
          "line": {
           "color": "rgba(255, 153, 51, 1.0)",
           "width": 1
          }
         },
         "name": "1",
         "orientation": "v",
         "text": "",
         "type": "bar",
         "uid": "6874252c-4239-4897-8d22-f0f11f22aa7f",
         "x": [
          "fatigue",
          "vomiting",
          "high_fever",
          "loss_of_appetite",
          "nausea",
          "headache",
          "abdominal_pain",
          "yellowish_skin",
          "yellowing_of_eyes",
          "chills",
          "skin_rash",
          "Noofdiseases",
          "malaise",
          "chest_pain",
          "joint_pain",
          "itching",
          "sweating",
          "dark_urine",
          "cough",
          "diarrhoea",
          "irritability",
          "muscle_pain",
          "excessive_hunger",
          "lethargy",
          "weight_loss",
          "breathlessness",
          "mild_fever",
          "phlegm",
          "swelled_lymph_nodes",
          "blurred_and_distorted_vision",
          "loss_of_balance",
          "dizziness",
          "abnormal_menstruation",
          "depression",
          "red_spots_over_body",
          "muscle_weakness",
          "fast_heart_rate",
          "stiff_neck",
          "swelling_joints",
          "family_history",
          "painful_walking",
          "neck_pain",
          "obesity",
          "constipation",
          "back_pain",
          "restlessness",
          "mood_swings",
          "continuous_sneezing",
          "indigestion",
          "stomach_pain",
          "acidity",
          "burning_micturition",
          "increased_appetite",
          "stomach_bleeding",
          "rusty_sputum",
          "swollen_extremeties",
          "enlarged_thyroid",
          "brittle_nails",
          "polyuria",
          "coma",
          "receiving_unsterile_injections",
          "slurred_speech",
          "blood_in_sputum",
          "receiving_blood_transfusion",
          "palpitations",
          "loss_of_smell",
          "congestion",
          "runny_nose",
          "sinus_pressure",
          "redness_of_eyes",
          "throat_irritation",
          "pain_behind_the_eyes",
          "mucoid_sputum",
          "visual_disturbances",
          "belly_pain",
          "lack_of_concentration",
          "altered_sensorium",
          "yellow_urine",
          "history_of_alcohol_consumption",
          "distention_of_abdomen",
          "internal_itching",
          "fluid_overload.1",
          "prominent_veins_on_calf",
          "skin_peeling",
          "silver_like_dusting",
          "small_dents_in_nails",
          "inflammatory_nails",
          "blister",
          "red_sore_around_nose",
          "yellow_crust_ooze",
          "toxic_look_(typhos)",
          "bladder_discomfort",
          "passage_of_gases",
          "irritation_in_anus",
          "cramps",
          "bruising",
          "swollen_legs",
          "puffy_face_and_eyes",
          "continuous_feel_of_urine",
          "drying_and_tingling_lips",
          "knee_pain",
          "hip_joint_pain",
          "cold_hands_and_feets",
          "anxiety",
          "weight_gain",
          "movement_stiffness",
          "bloody_stool",
          "pain_in_anal_region",
          "pain_during_bowel_movements",
          "unsteadiness",
          "acute_liver_failure",
          "swelling_of_stomach",
          "irregular_sugar_level",
          "scurring",
          "sunken_eyes",
          "weakness_in_limbs",
          "blackheads",
          "dehydration",
          "nodal_skin_eruptions",
          "pus_filled_pimples",
          "extra_marital_contacts",
          "patches_in_throat",
          "swollen_blood_vessels",
          "shivering",
          "spinning_movements",
          "watering_from_eyes",
          "dischromic _patches",
          "spotting_ urination",
          "weakness_of_one_body_side",
          "ulcers_on_tongue",
          "muscle_wasting",
          "foul_smell_of urine",
          "index",
          "fluid_overload"
         ],
         "y": [
          1932,
          1914,
          1362,
          1152,
          1146,
          1134,
          1032,
          912,
          816,
          798,
          786,
          780,
          702,
          696,
          684,
          678,
          678,
          570,
          564,
          564,
          474,
          474,
          462,
          456,
          456,
          450,
          354,
          354,
          348,
          342,
          342,
          336,
          240,
          234,
          234,
          234,
          234,
          228,
          228,
          228,
          228,
          228,
          228,
          228,
          228,
          228,
          228,
          222,
          222,
          222,
          222,
          216,
          120,
          120,
          120,
          120,
          120,
          120,
          120,
          120,
          120,
          120,
          120,
          120,
          120,
          120,
          120,
          120,
          120,
          120,
          120,
          120,
          114,
          114,
          114,
          114,
          114,
          114,
          114,
          114,
          114,
          114,
          114,
          114,
          114,
          114,
          114,
          114,
          114,
          114,
          114,
          114,
          114,
          114,
          114,
          114,
          114,
          114,
          114,
          114,
          114,
          114,
          114,
          114,
          114,
          114,
          114,
          114,
          114,
          114,
          114,
          114,
          114,
          108,
          108,
          108,
          108,
          108,
          108,
          108,
          108,
          108,
          108,
          108,
          108,
          108,
          108,
          108,
          108,
          108,
          108,
          102,
          1,
          ""
         ]
        }
       ],
       "layout": {
        "legend": {
         "bgcolor": "#F5F6F9",
         "font": {
          "color": "#4D5663"
         }
        },
        "paper_bgcolor": "#F5F6F9",
        "plot_bgcolor": "#F5F6F9",
        "title": {
         "font": {
          "color": "#4D5663"
         }
        },
        "xaxis": {
         "gridcolor": "#E1E5ED",
         "showgrid": true,
         "tickfont": {
          "color": "#4D5663"
         },
         "title": {
          "font": {
           "color": "#4D5663"
          },
          "text": ""
         },
         "zerolinecolor": "#E1E5ED"
        },
        "yaxis": {
         "gridcolor": "#E1E5ED",
         "showgrid": true,
         "tickfont": {
          "color": "#4D5663"
         },
         "title": {
          "font": {
           "color": "#4D5663"
          },
          "text": ""
         },
         "zerolinecolor": "#E1E5ED"
        }
       }
      },
      "text/html": [
       "<div>\n",
       "        \n",
       "        \n",
       "            <div id=\"61ce57c3-bda6-4d6c-8aef-a969d2ab412f\" class=\"plotly-graph-div\" style=\"height:525px; width:100%;\"></div>\n",
       "            <script type=\"text/javascript\">\n",
       "                require([\"plotly\"], function(Plotly) {\n",
       "                    window.PLOTLYENV=window.PLOTLYENV || {};\n",
       "                    window.PLOTLYENV.BASE_URL='https://plot.ly';\n",
       "                    \n",
       "                if (document.getElementById(\"61ce57c3-bda6-4d6c-8aef-a969d2ab412f\")) {\n",
       "                    Plotly.newPlot(\n",
       "                        '61ce57c3-bda6-4d6c-8aef-a969d2ab412f',\n",
       "                        [{\"marker\": {\"color\": \"rgba(255, 153, 51, 0.6)\", \"line\": {\"color\": \"rgba(255, 153, 51, 1.0)\", \"width\": 1}}, \"name\": \"1\", \"orientation\": \"v\", \"text\": \"\", \"type\": \"bar\", \"uid\": \"6874252c-4239-4897-8d22-f0f11f22aa7f\", \"x\": [\"fatigue\", \"vomiting\", \"high_fever\", \"loss_of_appetite\", \"nausea\", \"headache\", \"abdominal_pain\", \"yellowish_skin\", \"yellowing_of_eyes\", \"chills\", \"skin_rash\", \"Noofdiseases\", \"malaise\", \"chest_pain\", \"joint_pain\", \"itching\", \"sweating\", \"dark_urine\", \"cough\", \"diarrhoea\", \"irritability\", \"muscle_pain\", \"excessive_hunger\", \"lethargy\", \"weight_loss\", \"breathlessness\", \"mild_fever\", \"phlegm\", \"swelled_lymph_nodes\", \"blurred_and_distorted_vision\", \"loss_of_balance\", \"dizziness\", \"abnormal_menstruation\", \"depression\", \"red_spots_over_body\", \"muscle_weakness\", \"fast_heart_rate\", \"stiff_neck\", \"swelling_joints\", \"family_history\", \"painful_walking\", \"neck_pain\", \"obesity\", \"constipation\", \"back_pain\", \"restlessness\", \"mood_swings\", \"continuous_sneezing\", \"indigestion\", \"stomach_pain\", \"acidity\", \"burning_micturition\", \"increased_appetite\", \"stomach_bleeding\", \"rusty_sputum\", \"swollen_extremeties\", \"enlarged_thyroid\", \"brittle_nails\", \"polyuria\", \"coma\", \"receiving_unsterile_injections\", \"slurred_speech\", \"blood_in_sputum\", \"receiving_blood_transfusion\", \"palpitations\", \"loss_of_smell\", \"congestion\", \"runny_nose\", \"sinus_pressure\", \"redness_of_eyes\", \"throat_irritation\", \"pain_behind_the_eyes\", \"mucoid_sputum\", \"visual_disturbances\", \"belly_pain\", \"lack_of_concentration\", \"altered_sensorium\", \"yellow_urine\", \"history_of_alcohol_consumption\", \"distention_of_abdomen\", \"internal_itching\", \"fluid_overload.1\", \"prominent_veins_on_calf\", \"skin_peeling\", \"silver_like_dusting\", \"small_dents_in_nails\", \"inflammatory_nails\", \"blister\", \"red_sore_around_nose\", \"yellow_crust_ooze\", \"toxic_look_(typhos)\", \"bladder_discomfort\", \"passage_of_gases\", \"irritation_in_anus\", \"cramps\", \"bruising\", \"swollen_legs\", \"puffy_face_and_eyes\", \"continuous_feel_of_urine\", \"drying_and_tingling_lips\", \"knee_pain\", \"hip_joint_pain\", \"cold_hands_and_feets\", \"anxiety\", \"weight_gain\", \"movement_stiffness\", \"bloody_stool\", \"pain_in_anal_region\", \"pain_during_bowel_movements\", \"unsteadiness\", \"acute_liver_failure\", \"swelling_of_stomach\", \"irregular_sugar_level\", \"scurring\", \"sunken_eyes\", \"weakness_in_limbs\", \"blackheads\", \"dehydration\", \"nodal_skin_eruptions\", \"pus_filled_pimples\", \"extra_marital_contacts\", \"patches_in_throat\", \"swollen_blood_vessels\", \"shivering\", \"spinning_movements\", \"watering_from_eyes\", \"dischromic _patches\", \"spotting_ urination\", \"weakness_of_one_body_side\", \"ulcers_on_tongue\", \"muscle_wasting\", \"foul_smell_of urine\", \"index\", \"fluid_overload\"], \"y\": [1932.0, 1914.0, 1362.0, 1152.0, 1146.0, 1134.0, 1032.0, 912.0, 816.0, 798.0, 786.0, 780.0, 702.0, 696.0, 684.0, 678.0, 678.0, 570.0, 564.0, 564.0, 474.0, 474.0, 462.0, 456.0, 456.0, 450.0, 354.0, 354.0, 348.0, 342.0, 342.0, 336.0, 240.0, 234.0, 234.0, 234.0, 234.0, 228.0, 228.0, 228.0, 228.0, 228.0, 228.0, 228.0, 228.0, 228.0, 228.0, 222.0, 222.0, 222.0, 222.0, 216.0, 120.0, 120.0, 120.0, 120.0, 120.0, 120.0, 120.0, 120.0, 120.0, 120.0, 120.0, 120.0, 120.0, 120.0, 120.0, 120.0, 120.0, 120.0, 120.0, 120.0, 114.0, 114.0, 114.0, 114.0, 114.0, 114.0, 114.0, 114.0, 114.0, 114.0, 114.0, 114.0, 114.0, 114.0, 114.0, 114.0, 114.0, 114.0, 114.0, 114.0, 114.0, 114.0, 114.0, 114.0, 114.0, 114.0, 114.0, 114.0, 114.0, 114.0, 114.0, 114.0, 114.0, 114.0, 114.0, 114.0, 114.0, 114.0, 114.0, 114.0, 114.0, 108.0, 108.0, 108.0, 108.0, 108.0, 108.0, 108.0, 108.0, 108.0, 108.0, 108.0, 108.0, 108.0, 108.0, 108.0, 108.0, 108.0, 108.0, 102.0, 1.0, \"\"]}],\n",
       "                        {\"legend\": {\"bgcolor\": \"#F5F6F9\", \"font\": {\"color\": \"#4D5663\"}}, \"paper_bgcolor\": \"#F5F6F9\", \"plot_bgcolor\": \"#F5F6F9\", \"title\": {\"font\": {\"color\": \"#4D5663\"}}, \"xaxis\": {\"gridcolor\": \"#E1E5ED\", \"showgrid\": true, \"tickfont\": {\"color\": \"#4D5663\"}, \"title\": {\"font\": {\"color\": \"#4D5663\"}, \"text\": \"\"}, \"zerolinecolor\": \"#E1E5ED\"}, \"yaxis\": {\"gridcolor\": \"#E1E5ED\", \"showgrid\": true, \"tickfont\": {\"color\": \"#4D5663\"}, \"title\": {\"font\": {\"color\": \"#4D5663\"}, \"text\": \"\"}, \"zerolinecolor\": \"#E1E5ED\"}},\n",
       "                        {\"showLink\": true, \"linkText\": \"Export to plot.ly\", \"plotlyServerURL\": \"https://plot.ly\", \"responsive\": true}\n",
       "                    ).then(function(){\n",
       "                            \n",
       "var gd = document.getElementById('61ce57c3-bda6-4d6c-8aef-a969d2ab412f');\n",
       "var x = new MutationObserver(function (mutations, observer) {{\n",
       "        var display = window.getComputedStyle(gd).display;\n",
       "        if (!display || display === 'none') {{\n",
       "            console.log([gd, 'removed!']);\n",
       "            Plotly.purge(gd);\n",
       "            observer.disconnect();\n",
       "        }}\n",
       "}});\n",
       "\n",
       "// Listen for the removal of the full notebook cells\n",
       "var notebookContainer = gd.closest('#notebook-container');\n",
       "if (notebookContainer) {{\n",
       "    x.observe(notebookContainer, {childList: true});\n",
       "}}\n",
       "\n",
       "// Listen for the clearing of the current output cell\n",
       "var outputEl = gd.closest('.output');\n",
       "if (outputEl) {{\n",
       "    x.observe(outputEl, {childList: true});\n",
       "}}\n",
       "\n",
       "                        })\n",
       "                };\n",
       "                });\n",
       "            </script>\n",
       "        </div>"
      ]
     },
     "metadata": {},
     "output_type": "display_data"
    }
   ],
   "source": [
    "#sorted based on most common symptomps\n",
    "disyes.iplot(kind='bar',x='index',y=1)"
   ]
  },
  {
   "cell_type": "code",
   "execution_count": 37,
   "metadata": {},
   "outputs": [
    {
     "data": {
      "application/vnd.plotly.v1+json": {
       "config": {
        "linkText": "Export to plot.ly",
        "plotlyServerURL": "https://plot.ly",
        "showLink": true
       },
       "data": [
        {
         "marker": {
          "color": "rgba(255, 153, 51, 0.6)",
          "line": {
           "color": "rgba(255, 153, 51, 1.0)",
           "width": 1
          }
         },
         "name": "1",
         "orientation": "v",
         "text": "",
         "type": "bar",
         "uid": "809600fd-8633-4eb7-9f07-cd8c61ab4dd3",
         "x": [
          "fatigue",
          "vomiting",
          "high_fever",
          "loss_of_appetite",
          "nausea",
          "headache",
          "abdominal_pain",
          "yellowish_skin",
          "yellowing_of_eyes",
          "chills",
          "skin_rash",
          "Noofdiseases",
          "malaise",
          "chest_pain",
          "joint_pain",
          "itching",
          "sweating",
          "dark_urine",
          "cough",
          "diarrhoea"
         ],
         "y": [
          1932,
          1914,
          1362,
          1152,
          1146,
          1134,
          1032,
          912,
          816,
          798,
          786,
          780,
          702,
          696,
          684,
          678,
          678,
          570,
          564,
          564
         ]
        }
       ],
       "layout": {
        "legend": {
         "bgcolor": "#F5F6F9",
         "font": {
          "color": "#4D5663"
         }
        },
        "paper_bgcolor": "#F5F6F9",
        "plot_bgcolor": "#F5F6F9",
        "title": {
         "font": {
          "color": "#4D5663"
         }
        },
        "xaxis": {
         "gridcolor": "#E1E5ED",
         "showgrid": true,
         "tickfont": {
          "color": "#4D5663"
         },
         "title": {
          "font": {
           "color": "#4D5663"
          },
          "text": ""
         },
         "zerolinecolor": "#E1E5ED"
        },
        "yaxis": {
         "gridcolor": "#E1E5ED",
         "showgrid": true,
         "tickfont": {
          "color": "#4D5663"
         },
         "title": {
          "font": {
           "color": "#4D5663"
          },
          "text": ""
         },
         "zerolinecolor": "#E1E5ED"
        }
       }
      },
      "text/html": [
       "<div>\n",
       "        \n",
       "        \n",
       "            <div id=\"2c9ac753-b147-4072-b075-7b0ffdbae02a\" class=\"plotly-graph-div\" style=\"height:525px; width:100%;\"></div>\n",
       "            <script type=\"text/javascript\">\n",
       "                require([\"plotly\"], function(Plotly) {\n",
       "                    window.PLOTLYENV=window.PLOTLYENV || {};\n",
       "                    window.PLOTLYENV.BASE_URL='https://plot.ly';\n",
       "                    \n",
       "                if (document.getElementById(\"2c9ac753-b147-4072-b075-7b0ffdbae02a\")) {\n",
       "                    Plotly.newPlot(\n",
       "                        '2c9ac753-b147-4072-b075-7b0ffdbae02a',\n",
       "                        [{\"marker\": {\"color\": \"rgba(255, 153, 51, 0.6)\", \"line\": {\"color\": \"rgba(255, 153, 51, 1.0)\", \"width\": 1}}, \"name\": \"1\", \"orientation\": \"v\", \"text\": \"\", \"type\": \"bar\", \"uid\": \"809600fd-8633-4eb7-9f07-cd8c61ab4dd3\", \"x\": [\"fatigue\", \"vomiting\", \"high_fever\", \"loss_of_appetite\", \"nausea\", \"headache\", \"abdominal_pain\", \"yellowish_skin\", \"yellowing_of_eyes\", \"chills\", \"skin_rash\", \"Noofdiseases\", \"malaise\", \"chest_pain\", \"joint_pain\", \"itching\", \"sweating\", \"dark_urine\", \"cough\", \"diarrhoea\"], \"y\": [1932.0, 1914.0, 1362.0, 1152.0, 1146.0, 1134.0, 1032.0, 912.0, 816.0, 798.0, 786.0, 780.0, 702.0, 696.0, 684.0, 678.0, 678.0, 570.0, 564.0, 564.0]}],\n",
       "                        {\"legend\": {\"bgcolor\": \"#F5F6F9\", \"font\": {\"color\": \"#4D5663\"}}, \"paper_bgcolor\": \"#F5F6F9\", \"plot_bgcolor\": \"#F5F6F9\", \"title\": {\"font\": {\"color\": \"#4D5663\"}}, \"xaxis\": {\"gridcolor\": \"#E1E5ED\", \"showgrid\": true, \"tickfont\": {\"color\": \"#4D5663\"}, \"title\": {\"font\": {\"color\": \"#4D5663\"}, \"text\": \"\"}, \"zerolinecolor\": \"#E1E5ED\"}, \"yaxis\": {\"gridcolor\": \"#E1E5ED\", \"showgrid\": true, \"tickfont\": {\"color\": \"#4D5663\"}, \"title\": {\"font\": {\"color\": \"#4D5663\"}, \"text\": \"\"}, \"zerolinecolor\": \"#E1E5ED\"}},\n",
       "                        {\"showLink\": true, \"linkText\": \"Export to plot.ly\", \"plotlyServerURL\": \"https://plot.ly\", \"responsive\": true}\n",
       "                    ).then(function(){\n",
       "                            \n",
       "var gd = document.getElementById('2c9ac753-b147-4072-b075-7b0ffdbae02a');\n",
       "var x = new MutationObserver(function (mutations, observer) {{\n",
       "        var display = window.getComputedStyle(gd).display;\n",
       "        if (!display || display === 'none') {{\n",
       "            console.log([gd, 'removed!']);\n",
       "            Plotly.purge(gd);\n",
       "            observer.disconnect();\n",
       "        }}\n",
       "}});\n",
       "\n",
       "// Listen for the removal of the full notebook cells\n",
       "var notebookContainer = gd.closest('#notebook-container');\n",
       "if (notebookContainer) {{\n",
       "    x.observe(notebookContainer, {childList: true});\n",
       "}}\n",
       "\n",
       "// Listen for the clearing of the current output cell\n",
       "var outputEl = gd.closest('.output');\n",
       "if (outputEl) {{\n",
       "    x.observe(outputEl, {childList: true});\n",
       "}}\n",
       "\n",
       "                        })\n",
       "                };\n",
       "                });\n",
       "            </script>\n",
       "        </div>"
      ]
     },
     "metadata": {},
     "output_type": "display_data"
    }
   ],
   "source": [
    "#top 20 most common diseases\n",
    "disyes[:20].iplot(kind='bar',x='index')"
   ]
  },
  {
   "cell_type": "code",
   "execution_count": 38,
   "metadata": {},
   "outputs": [
    {
     "data": {
      "application/vnd.plotly.v1+json": {
       "config": {
        "linkText": "Export to plot.ly",
        "plotlyServerURL": "https://plot.ly",
        "showLink": true
       },
       "data": [
        {
         "labels": [
          "fatigue",
          "vomiting",
          "high_fever",
          "loss_of_appetite",
          "nausea",
          "headache",
          "abdominal_pain",
          "yellowish_skin",
          "yellowing_of_eyes",
          "chills",
          "skin_rash",
          "Noofdiseases",
          "malaise",
          "chest_pain",
          "joint_pain",
          "itching",
          "sweating",
          "dark_urine",
          "cough",
          "diarrhoea"
         ],
         "marker": {
          "colors": [
           "rgba(255, 153, 51, 1.0)",
           "rgba(55, 128, 191, 1.0)",
           "rgba(50, 171, 96, 1.0)",
           "rgba(128, 0, 128, 1.0)",
           "rgba(219, 64, 82, 1.0)",
           "rgba(0, 128, 128, 1.0)",
           "rgba(255, 255, 51, 1.0)",
           "rgba(128, 128, 0, 1.0)",
           "rgba(251, 128, 114, 1.0)",
           "rgba(128, 177, 211, 1.0)",
           "rgba(128, 177, 211, 0.8999999999999999)",
           "rgba(255, 153, 51, 0.8999999999999999)",
           "rgba(55, 128, 191, 0.8999999999999999)",
           "rgba(50, 171, 96, 0.8999999999999999)",
           "rgba(128, 0, 128, 0.8999999999999999)",
           "rgba(219, 64, 82, 0.8999999999999999)",
           "rgba(0, 128, 128, 0.8999999999999999)",
           "rgba(255, 255, 51, 0.8999999999999999)",
           "rgba(128, 128, 0, 0.8999999999999999)",
           "rgba(251, 128, 114, 0.8999999999999999)"
          ]
         },
         "name": "",
         "type": "pie",
         "values": [
          1932,
          1914,
          1362,
          1152,
          1146,
          1134,
          1032,
          912,
          816,
          798,
          786,
          780,
          702,
          696,
          684,
          678,
          678,
          570,
          564,
          564
         ]
        }
       ],
       "layout": {
        "legend": {
         "bgcolor": "#F5F6F9",
         "font": {
          "color": "#4D5663"
         }
        },
        "paper_bgcolor": "#F5F6F9",
        "plot_bgcolor": "#F5F6F9",
        "titlefont": {
         "color": "#4D5663"
        }
       }
      },
      "text/html": [
       "<div>\n",
       "        \n",
       "        \n",
       "            <div id=\"e1f8dbd2-a83d-44e0-a739-9c2729984fab\" class=\"plotly-graph-div\" style=\"height:525px; width:100%;\"></div>\n",
       "            <script type=\"text/javascript\">\n",
       "                require([\"plotly\"], function(Plotly) {\n",
       "                    window.PLOTLYENV=window.PLOTLYENV || {};\n",
       "                    window.PLOTLYENV.BASE_URL='https://plot.ly';\n",
       "                    \n",
       "                if (document.getElementById(\"e1f8dbd2-a83d-44e0-a739-9c2729984fab\")) {\n",
       "                    Plotly.newPlot(\n",
       "                        'e1f8dbd2-a83d-44e0-a739-9c2729984fab',\n",
       "                        [{\"labels\": [\"fatigue\", \"vomiting\", \"high_fever\", \"loss_of_appetite\", \"nausea\", \"headache\", \"abdominal_pain\", \"yellowish_skin\", \"yellowing_of_eyes\", \"chills\", \"skin_rash\", \"Noofdiseases\", \"malaise\", \"chest_pain\", \"joint_pain\", \"itching\", \"sweating\", \"dark_urine\", \"cough\", \"diarrhoea\"], \"marker\": {\"colors\": [\"rgba(255, 153, 51, 1.0)\", \"rgba(55, 128, 191, 1.0)\", \"rgba(50, 171, 96, 1.0)\", \"rgba(128, 0, 128, 1.0)\", \"rgba(219, 64, 82, 1.0)\", \"rgba(0, 128, 128, 1.0)\", \"rgba(255, 255, 51, 1.0)\", \"rgba(128, 128, 0, 1.0)\", \"rgba(251, 128, 114, 1.0)\", \"rgba(128, 177, 211, 1.0)\", \"rgba(128, 177, 211, 0.8999999999999999)\", \"rgba(255, 153, 51, 0.8999999999999999)\", \"rgba(55, 128, 191, 0.8999999999999999)\", \"rgba(50, 171, 96, 0.8999999999999999)\", \"rgba(128, 0, 128, 0.8999999999999999)\", \"rgba(219, 64, 82, 0.8999999999999999)\", \"rgba(0, 128, 128, 0.8999999999999999)\", \"rgba(255, 255, 51, 0.8999999999999999)\", \"rgba(128, 128, 0, 0.8999999999999999)\", \"rgba(251, 128, 114, 0.8999999999999999)\"]}, \"name\": \"\", \"type\": \"pie\", \"values\": [1932.0, 1914.0, 1362.0, 1152.0, 1146.0, 1134.0, 1032.0, 912.0, 816.0, 798.0, 786.0, 780.0, 702.0, 696.0, 684.0, 678.0, 678.0, 570.0, 564.0, 564.0]}],\n",
       "                        {\"legend\": {\"bgcolor\": \"#F5F6F9\", \"font\": {\"color\": \"#4D5663\"}}, \"paper_bgcolor\": \"#F5F6F9\", \"plot_bgcolor\": \"#F5F6F9\", \"titlefont\": {\"color\": \"#4D5663\"}},\n",
       "                        {\"showLink\": true, \"linkText\": \"Export to plot.ly\", \"plotlyServerURL\": \"https://plot.ly\", \"responsive\": true}\n",
       "                    ).then(function(){\n",
       "                            \n",
       "var gd = document.getElementById('e1f8dbd2-a83d-44e0-a739-9c2729984fab');\n",
       "var x = new MutationObserver(function (mutations, observer) {{\n",
       "        var display = window.getComputedStyle(gd).display;\n",
       "        if (!display || display === 'none') {{\n",
       "            console.log([gd, 'removed!']);\n",
       "            Plotly.purge(gd);\n",
       "            observer.disconnect();\n",
       "        }}\n",
       "}});\n",
       "\n",
       "// Listen for the removal of the full notebook cells\n",
       "var notebookContainer = gd.closest('#notebook-container');\n",
       "if (notebookContainer) {{\n",
       "    x.observe(notebookContainer, {childList: true});\n",
       "}}\n",
       "\n",
       "// Listen for the clearing of the current output cell\n",
       "var outputEl = gd.closest('.output');\n",
       "if (outputEl) {{\n",
       "    x.observe(outputEl, {childList: true});\n",
       "}}\n",
       "\n",
       "                        })\n",
       "                };\n",
       "                });\n",
       "            </script>\n",
       "        </div>"
      ]
     },
     "metadata": {},
     "output_type": "display_data"
    }
   ],
   "source": [
    "#top 20 most common diseases share percentage\n",
    "disyes[:20].iplot(kind='pie',labels='index',values=1)"
   ]
  },
  {
   "cell_type": "code",
   "execution_count": 39,
   "metadata": {},
   "outputs": [
    {
     "data": {
      "application/vnd.plotly.v1+json": {
       "config": {
        "linkText": "Export to plot.ly",
        "plotlyServerURL": "https://plot.ly",
        "showLink": true
       },
       "data": [
        {
         "marker": {
          "color": "rgba(255, 153, 51, 0.6)",
          "line": {
           "color": "rgba(255, 153, 51, 1.0)",
           "width": 1
          }
         },
         "name": "1",
         "orientation": "v",
         "text": "",
         "type": "bar",
         "uid": "c20cecad-53ee-4a6f-bdab-01a034542b3e",
         "x": [
          "fluid_overload",
          "shivering",
          "scurring",
          "anxiety",
          "irritation_in_anus",
          "skin_peeling",
          "visual_disturbances",
          "receiving_blood_transfusion",
          "stomach_bleeding",
          "constipation",
          "depression",
          "lethargy",
          "chest_pain",
          "loss_of_appetite"
         ],
         "y": [
          "",
          108,
          108,
          114,
          114,
          114,
          114,
          120,
          120,
          228,
          234,
          456,
          696,
          1152
         ]
        }
       ],
       "layout": {
        "legend": {
         "bgcolor": "#F5F6F9",
         "font": {
          "color": "#4D5663"
         }
        },
        "paper_bgcolor": "#F5F6F9",
        "plot_bgcolor": "#F5F6F9",
        "title": {
         "font": {
          "color": "#4D5663"
         }
        },
        "xaxis": {
         "gridcolor": "#E1E5ED",
         "showgrid": true,
         "tickfont": {
          "color": "#4D5663"
         },
         "title": {
          "font": {
           "color": "#4D5663"
          },
          "text": ""
         },
         "zerolinecolor": "#E1E5ED"
        },
        "yaxis": {
         "gridcolor": "#E1E5ED",
         "showgrid": true,
         "tickfont": {
          "color": "#4D5663"
         },
         "title": {
          "font": {
           "color": "#4D5663"
          },
          "text": ""
         },
         "zerolinecolor": "#E1E5ED"
        }
       }
      },
      "text/html": [
       "<div>\n",
       "        \n",
       "        \n",
       "            <div id=\"dbb7f90c-7dca-4faa-9fd3-fee7811ff278\" class=\"plotly-graph-div\" style=\"height:525px; width:100%;\"></div>\n",
       "            <script type=\"text/javascript\">\n",
       "                require([\"plotly\"], function(Plotly) {\n",
       "                    window.PLOTLYENV=window.PLOTLYENV || {};\n",
       "                    window.PLOTLYENV.BASE_URL='https://plot.ly';\n",
       "                    \n",
       "                if (document.getElementById(\"dbb7f90c-7dca-4faa-9fd3-fee7811ff278\")) {\n",
       "                    Plotly.newPlot(\n",
       "                        'dbb7f90c-7dca-4faa-9fd3-fee7811ff278',\n",
       "                        [{\"marker\": {\"color\": \"rgba(255, 153, 51, 0.6)\", \"line\": {\"color\": \"rgba(255, 153, 51, 1.0)\", \"width\": 1}}, \"name\": \"1\", \"orientation\": \"v\", \"text\": \"\", \"type\": \"bar\", \"uid\": \"c20cecad-53ee-4a6f-bdab-01a034542b3e\", \"x\": [\"fluid_overload\", \"shivering\", \"scurring\", \"anxiety\", \"irritation_in_anus\", \"skin_peeling\", \"visual_disturbances\", \"receiving_blood_transfusion\", \"stomach_bleeding\", \"constipation\", \"depression\", \"lethargy\", \"chest_pain\", \"loss_of_appetite\"], \"y\": [\"\", 108.0, 108.0, 114.0, 114.0, 114.0, 114.0, 120.0, 120.0, 228.0, 234.0, 456.0, 696.0, 1152.0]}],\n",
       "                        {\"legend\": {\"bgcolor\": \"#F5F6F9\", \"font\": {\"color\": \"#4D5663\"}}, \"paper_bgcolor\": \"#F5F6F9\", \"plot_bgcolor\": \"#F5F6F9\", \"title\": {\"font\": {\"color\": \"#4D5663\"}}, \"xaxis\": {\"gridcolor\": \"#E1E5ED\", \"showgrid\": true, \"tickfont\": {\"color\": \"#4D5663\"}, \"title\": {\"font\": {\"color\": \"#4D5663\"}, \"text\": \"\"}, \"zerolinecolor\": \"#E1E5ED\"}, \"yaxis\": {\"gridcolor\": \"#E1E5ED\", \"showgrid\": true, \"tickfont\": {\"color\": \"#4D5663\"}, \"title\": {\"font\": {\"color\": \"#4D5663\"}, \"text\": \"\"}, \"zerolinecolor\": \"#E1E5ED\"}},\n",
       "                        {\"showLink\": true, \"linkText\": \"Export to plot.ly\", \"plotlyServerURL\": \"https://plot.ly\", \"responsive\": true}\n",
       "                    ).then(function(){\n",
       "                            \n",
       "var gd = document.getElementById('dbb7f90c-7dca-4faa-9fd3-fee7811ff278');\n",
       "var x = new MutationObserver(function (mutations, observer) {{\n",
       "        var display = window.getComputedStyle(gd).display;\n",
       "        if (!display || display === 'none') {{\n",
       "            console.log([gd, 'removed!']);\n",
       "            Plotly.purge(gd);\n",
       "            observer.disconnect();\n",
       "        }}\n",
       "}});\n",
       "\n",
       "// Listen for the removal of the full notebook cells\n",
       "var notebookContainer = gd.closest('#notebook-container');\n",
       "if (notebookContainer) {{\n",
       "    x.observe(notebookContainer, {childList: true});\n",
       "}}\n",
       "\n",
       "// Listen for the clearing of the current output cell\n",
       "var outputEl = gd.closest('.output');\n",
       "if (outputEl) {{\n",
       "    x.observe(outputEl, {childList: true});\n",
       "}}\n",
       "\n",
       "                        })\n",
       "                };\n",
       "                });\n",
       "            </script>\n",
       "        </div>"
      ]
     },
     "metadata": {},
     "output_type": "display_data"
    }
   ],
   "source": [
    "#10 lowest common symtomps\n",
    "disyes[::-10].iplot(kind='bar',x='index')"
   ]
  },
  {
   "cell_type": "code",
   "execution_count": 40,
   "metadata": {},
   "outputs": [
    {
     "data": {
      "application/vnd.plotly.v1+json": {
       "config": {
        "linkText": "Export to plot.ly",
        "plotlyServerURL": "https://plot.ly",
        "showLink": true
       },
       "data": [
        {
         "hole": 0.1,
         "labels": [
          "fluid_overload",
          "shivering",
          "scurring",
          "anxiety",
          "irritation_in_anus",
          "skin_peeling",
          "visual_disturbances",
          "receiving_blood_transfusion",
          "stomach_bleeding",
          "constipation",
          "depression",
          "lethargy",
          "chest_pain",
          "loss_of_appetite"
         ],
         "marker": {
          "colors": [
           "rgba(255, 153, 51, 1.0)",
           "rgba(55, 128, 191, 1.0)",
           "rgba(50, 171, 96, 1.0)",
           "rgba(128, 0, 128, 1.0)",
           "rgba(219, 64, 82, 1.0)",
           "rgba(0, 128, 128, 1.0)",
           "rgba(255, 255, 51, 1.0)",
           "rgba(128, 128, 0, 1.0)",
           "rgba(251, 128, 114, 1.0)",
           "rgba(128, 177, 211, 1.0)",
           "rgba(128, 177, 211, 0.8999999999999999)",
           "rgba(255, 153, 51, 0.8999999999999999)",
           "rgba(55, 128, 191, 0.8999999999999999)",
           "rgba(50, 171, 96, 0.8999999999999999)"
          ]
         },
         "name": "",
         "pull": 0.1,
         "type": "pie",
         "values": [
          null,
          108,
          108,
          114,
          114,
          114,
          114,
          120,
          120,
          228,
          234,
          456,
          696,
          1152
         ]
        }
       ],
       "layout": {
        "legend": {
         "bgcolor": "#F5F6F9",
         "font": {
          "color": "#4D5663"
         }
        },
        "paper_bgcolor": "#F5F6F9",
        "plot_bgcolor": "#F5F6F9",
        "titlefont": {
         "color": "#4D5663"
        }
       }
      },
      "text/html": [
       "<div>\n",
       "        \n",
       "        \n",
       "            <div id=\"3c439ee3-1d0a-4281-98a7-5964b3fc6965\" class=\"plotly-graph-div\" style=\"height:525px; width:100%;\"></div>\n",
       "            <script type=\"text/javascript\">\n",
       "                require([\"plotly\"], function(Plotly) {\n",
       "                    window.PLOTLYENV=window.PLOTLYENV || {};\n",
       "                    window.PLOTLYENV.BASE_URL='https://plot.ly';\n",
       "                    \n",
       "                if (document.getElementById(\"3c439ee3-1d0a-4281-98a7-5964b3fc6965\")) {\n",
       "                    Plotly.newPlot(\n",
       "                        '3c439ee3-1d0a-4281-98a7-5964b3fc6965',\n",
       "                        [{\"hole\": 0.1, \"labels\": [\"fluid_overload\", \"shivering\", \"scurring\", \"anxiety\", \"irritation_in_anus\", \"skin_peeling\", \"visual_disturbances\", \"receiving_blood_transfusion\", \"stomach_bleeding\", \"constipation\", \"depression\", \"lethargy\", \"chest_pain\", \"loss_of_appetite\"], \"marker\": {\"colors\": [\"rgba(255, 153, 51, 1.0)\", \"rgba(55, 128, 191, 1.0)\", \"rgba(50, 171, 96, 1.0)\", \"rgba(128, 0, 128, 1.0)\", \"rgba(219, 64, 82, 1.0)\", \"rgba(0, 128, 128, 1.0)\", \"rgba(255, 255, 51, 1.0)\", \"rgba(128, 128, 0, 1.0)\", \"rgba(251, 128, 114, 1.0)\", \"rgba(128, 177, 211, 1.0)\", \"rgba(128, 177, 211, 0.8999999999999999)\", \"rgba(255, 153, 51, 0.8999999999999999)\", \"rgba(55, 128, 191, 0.8999999999999999)\", \"rgba(50, 171, 96, 0.8999999999999999)\"]}, \"name\": \"\", \"pull\": 0.1, \"type\": \"pie\", \"values\": [null, 108.0, 108.0, 114.0, 114.0, 114.0, 114.0, 120.0, 120.0, 228.0, 234.0, 456.0, 696.0, 1152.0]}],\n",
       "                        {\"legend\": {\"bgcolor\": \"#F5F6F9\", \"font\": {\"color\": \"#4D5663\"}}, \"paper_bgcolor\": \"#F5F6F9\", \"plot_bgcolor\": \"#F5F6F9\", \"titlefont\": {\"color\": \"#4D5663\"}},\n",
       "                        {\"showLink\": true, \"linkText\": \"Export to plot.ly\", \"plotlyServerURL\": \"https://plot.ly\", \"responsive\": true}\n",
       "                    ).then(function(){\n",
       "                            \n",
       "var gd = document.getElementById('3c439ee3-1d0a-4281-98a7-5964b3fc6965');\n",
       "var x = new MutationObserver(function (mutations, observer) {{\n",
       "        var display = window.getComputedStyle(gd).display;\n",
       "        if (!display || display === 'none') {{\n",
       "            console.log([gd, 'removed!']);\n",
       "            Plotly.purge(gd);\n",
       "            observer.disconnect();\n",
       "        }}\n",
       "}});\n",
       "\n",
       "// Listen for the removal of the full notebook cells\n",
       "var notebookContainer = gd.closest('#notebook-container');\n",
       "if (notebookContainer) {{\n",
       "    x.observe(notebookContainer, {childList: true});\n",
       "}}\n",
       "\n",
       "// Listen for the clearing of the current output cell\n",
       "var outputEl = gd.closest('.output');\n",
       "if (outputEl) {{\n",
       "    x.observe(outputEl, {childList: true});\n",
       "}}\n",
       "\n",
       "                        })\n",
       "                };\n",
       "                });\n",
       "            </script>\n",
       "        </div>"
      ]
     },
     "metadata": {},
     "output_type": "display_data"
    }
   ],
   "source": [
    "#top 10 lowect common symptomps share percentage\n",
    "disyes[::-10].iplot(kind='pie',labels='index',values=1,hole=0.1,pull=0.1)"
   ]
  },
  {
   "cell_type": "code",
   "execution_count": 41,
   "metadata": {},
   "outputs": [
    {
     "data": {
      "text/plain": [
       "Text(0, 0.5, 'Wine Alcohol %')"
      ]
     },
     "execution_count": 41,
     "metadata": {},
     "output_type": "execute_result"
    },
    {
     "data": {
      "image/png": "[encoded data removed]",
      "text/plain": [
       "<Figure size 864x288 with 1 Axes>"
      ]
     },
     "metadata": {
      "needs_background": "light"
     },
     "output_type": "display_data"
    }
   ],
   "source": [
    "f, (ax) = plt.subplots(1, 1, figsize=(12, 4))\n",
    "f.suptitle('no of diseases distribution', fontsize=14)\n",
    "\n",
    "sns.boxplot(data=disyes,  \n",
    "            y=1, \n",
    "            ax=ax)\n",
    "\n",
    "ax.set_xlabel(\"Wine Quality\",size=12,alpha=0.8)\n",
    "ax.set_ylabel(\"Wine Alcohol %\",size=12,alpha=0.8)"
   ]
  },
  {
   "cell_type": "code",
   "execution_count": 42,
   "metadata": {},
   "outputs": [
    {
     "data": {
      "image/png": "[encoded data removed]",
      "text/plain": [
       "<Figure size 720x576 with 1 Axes>"
      ]
     },
     "metadata": {
      "needs_background": "light"
     },
     "output_type": "display_data"
    }
   ],
   "source": [
    "#the distribution is right skewed\n",
    "fig = plt.figure(figsize=(10,8))\n",
    "title = fig.suptitle(\"No of diseases distribution\", fontsize=14)\n",
    "fig.subplots_adjust(top=0.93, wspace=0.3)\n",
    "\n",
    "ax = fig.add_subplot(1,1,1)\n",
    "ax.set_xlabel(\"\")\n",
    "ax.set_ylabel(\"No Of diseases\") \n",
    "\n",
    "g = sns.FacetGrid(data=disyes,  \n",
    "                  palette={\"red\": \"r\", \"white\": \"y\"})\n",
    "\n",
    "g.map(sns.distplot, 1, \n",
    "      kde=True, bins=15, ax=ax)\n",
    "\n",
    "plt.close(2)"
   ]
  },
  {
   "cell_type": "code",
   "execution_count": 43,
   "metadata": {},
   "outputs": [
    {
     "data": {
      "text/plain": [
       "Text(0, 0.5, '1')"
      ]
     },
     "execution_count": 43,
     "metadata": {},
     "output_type": "execute_result"
    },
    {
     "data": {
      "image/png": "[encoded data removed]",
      "text/plain": [
       "<Figure size 864x288 with 1 Axes>"
      ]
     },
     "metadata": {
      "needs_background": "light"
     },
     "output_type": "display_data"
    }
   ],
   "source": [
    "f, (ax) = plt.subplots(1, 1, figsize=(12, 4))\n",
    "f.suptitle('No of diseases distribution', fontsize=14)\n",
    "\n",
    "sns.violinplot(data=disyes,\n",
    "               y=1,   \n",
    "               ax=ax)\n",
    "\n",
    "ax.set_ylabel(1,size=12,alpha=0.8)"
   ]
  },
  {
   "cell_type": "code",
   "execution_count": 44,
   "metadata": {},
   "outputs": [
    {
     "data": {
      "text/html": [
       "<div>\n",
       "<style scoped>\n",
       "    .dataframe tbody tr th:only-of-type {\n",
       "        vertical-align: middle;\n",
       "    }\n",
       "\n",
       "    .dataframe tbody tr th {\n",
       "        vertical-align: top;\n",
       "    }\n",
       "\n",
       "    .dataframe thead th {\n",
       "        text-align: right;\n",
       "    }\n",
       "</style>\n",
       "<table border=\"1\" class=\"dataframe\">\n",
       "  <thead>\n",
       "    <tr style=\"text-align: right;\">\n",
       "      <th></th>\n",
       "      <th>itching</th>\n",
       "      <th>skin_rash</th>\n",
       "      <th>nodal_skin_eruptions</th>\n",
       "      <th>continuous_sneezing</th>\n",
       "      <th>shivering</th>\n",
       "      <th>chills</th>\n",
       "      <th>joint_pain</th>\n",
       "      <th>stomach_pain</th>\n",
       "      <th>acidity</th>\n",
       "      <th>ulcers_on_tongue</th>\n",
       "      <th>...</th>\n",
       "      <th>scurring</th>\n",
       "      <th>skin_peeling</th>\n",
       "      <th>silver_like_dusting</th>\n",
       "      <th>small_dents_in_nails</th>\n",
       "      <th>inflammatory_nails</th>\n",
       "      <th>blister</th>\n",
       "      <th>red_sore_around_nose</th>\n",
       "      <th>yellow_crust_ooze</th>\n",
       "      <th>prognosis</th>\n",
       "      <th>Noofdiseases</th>\n",
       "    </tr>\n",
       "  </thead>\n",
       "  <tbody>\n",
       "    <tr>\n",
       "      <th>0</th>\n",
       "      <td>1</td>\n",
       "      <td>1</td>\n",
       "      <td>1</td>\n",
       "      <td>0</td>\n",
       "      <td>0</td>\n",
       "      <td>0</td>\n",
       "      <td>0</td>\n",
       "      <td>0</td>\n",
       "      <td>0</td>\n",
       "      <td>0</td>\n",
       "      <td>...</td>\n",
       "      <td>0</td>\n",
       "      <td>0</td>\n",
       "      <td>0</td>\n",
       "      <td>0</td>\n",
       "      <td>0</td>\n",
       "      <td>0</td>\n",
       "      <td>0</td>\n",
       "      <td>0</td>\n",
       "      <td>0</td>\n",
       "      <td>4</td>\n",
       "    </tr>\n",
       "    <tr>\n",
       "      <th>1</th>\n",
       "      <td>0</td>\n",
       "      <td>1</td>\n",
       "      <td>1</td>\n",
       "      <td>0</td>\n",
       "      <td>0</td>\n",
       "      <td>0</td>\n",
       "      <td>0</td>\n",
       "      <td>0</td>\n",
       "      <td>0</td>\n",
       "      <td>0</td>\n",
       "      <td>...</td>\n",
       "      <td>0</td>\n",
       "      <td>0</td>\n",
       "      <td>0</td>\n",
       "      <td>0</td>\n",
       "      <td>0</td>\n",
       "      <td>0</td>\n",
       "      <td>0</td>\n",
       "      <td>0</td>\n",
       "      <td>0</td>\n",
       "      <td>3</td>\n",
       "    </tr>\n",
       "    <tr>\n",
       "      <th>2</th>\n",
       "      <td>1</td>\n",
       "      <td>0</td>\n",
       "      <td>1</td>\n",
       "      <td>0</td>\n",
       "      <td>0</td>\n",
       "      <td>0</td>\n",
       "      <td>0</td>\n",
       "      <td>0</td>\n",
       "      <td>0</td>\n",
       "      <td>0</td>\n",
       "      <td>...</td>\n",
       "      <td>0</td>\n",
       "      <td>0</td>\n",
       "      <td>0</td>\n",
       "      <td>0</td>\n",
       "      <td>0</td>\n",
       "      <td>0</td>\n",
       "      <td>0</td>\n",
       "      <td>0</td>\n",
       "      <td>0</td>\n",
       "      <td>3</td>\n",
       "    </tr>\n",
       "    <tr>\n",
       "      <th>3</th>\n",
       "      <td>1</td>\n",
       "      <td>1</td>\n",
       "      <td>0</td>\n",
       "      <td>0</td>\n",
       "      <td>0</td>\n",
       "      <td>0</td>\n",
       "      <td>0</td>\n",
       "      <td>0</td>\n",
       "      <td>0</td>\n",
       "      <td>0</td>\n",
       "      <td>...</td>\n",
       "      <td>0</td>\n",
       "      <td>0</td>\n",
       "      <td>0</td>\n",
       "      <td>0</td>\n",
       "      <td>0</td>\n",
       "      <td>0</td>\n",
       "      <td>0</td>\n",
       "      <td>0</td>\n",
       "      <td>0</td>\n",
       "      <td>3</td>\n",
       "    </tr>\n",
       "    <tr>\n",
       "      <th>4</th>\n",
       "      <td>1</td>\n",
       "      <td>1</td>\n",
       "      <td>1</td>\n",
       "      <td>0</td>\n",
       "      <td>0</td>\n",
       "      <td>0</td>\n",
       "      <td>0</td>\n",
       "      <td>0</td>\n",
       "      <td>0</td>\n",
       "      <td>0</td>\n",
       "      <td>...</td>\n",
       "      <td>0</td>\n",
       "      <td>0</td>\n",
       "      <td>0</td>\n",
       "      <td>0</td>\n",
       "      <td>0</td>\n",
       "      <td>0</td>\n",
       "      <td>0</td>\n",
       "      <td>0</td>\n",
       "      <td>0</td>\n",
       "      <td>3</td>\n",
       "    </tr>\n",
       "  </tbody>\n",
       "</table>\n",
       "<p>5 rows × 134 columns</p>\n",
       "</div>"
      ],
      "text/plain": [
       "   itching  skin_rash  nodal_skin_eruptions  continuous_sneezing  shivering  \\\n",
       "0        1          1                     1                    0          0   \n",
       "1        0          1                     1                    0          0   \n",
       "2        1          0                     1                    0          0   \n",
       "3        1          1                     0                    0          0   \n",
       "4        1          1                     1                    0          0   \n",
       "\n",
       "   chills  joint_pain  stomach_pain  acidity  ulcers_on_tongue  ...  scurring  \\\n",
       "0       0           0             0        0                 0  ...         0   \n",
       "1       0           0             0        0                 0  ...         0   \n",
       "2       0           0             0        0                 0  ...         0   \n",
       "3       0           0             0        0                 0  ...         0   \n",
       "4       0           0             0        0                 0  ...         0   \n",
       "\n",
       "   skin_peeling  silver_like_dusting  small_dents_in_nails  \\\n",
       "0             0                    0                     0   \n",
       "1             0                    0                     0   \n",
       "2             0                    0                     0   \n",
       "3             0                    0                     0   \n",
       "4             0                    0                     0   \n",
       "\n",
       "   inflammatory_nails  blister  red_sore_around_nose  yellow_crust_ooze  \\\n",
       "0                   0        0                     0                  0   \n",
       "1                   0        0                     0                  0   \n",
       "2                   0        0                     0                  0   \n",
       "3                   0        0                     0                  0   \n",
       "4                   0        0                     0                  0   \n",
       "\n",
       "   prognosis  Noofdiseases  \n",
       "0          0             4  \n",
       "1          0             3  \n",
       "2          0             3  \n",
       "3          0             3  \n",
       "4          0             3  \n",
       "\n",
       "[5 rows x 134 columns]"
      ]
     },
     "execution_count": 44,
     "metadata": {},
     "output_type": "execute_result"
    }
   ],
   "source": [
    "data.head()"
   ]
  },
  {
   "cell_type": "code",
   "execution_count": 45,
   "metadata": {},
   "outputs": [],
   "source": [
    "# above was based on symtomps \n",
    "\n",
    "#now based on diseases\n",
    "\n",
    "progno=data.groupby(['prognosis']).agg({'Noofdiseases':sum}).sort_values(by='Noofdiseases',ascending=False).reset_index()"
   ]
  },
  {
   "cell_type": "code",
   "execution_count": 46,
   "metadata": {},
   "outputs": [],
   "source": [
    "progno['prognosis']=progno['prognosis'].apply(lambda x:invmapping[x])"
   ]
  },
  {
   "cell_type": "code",
   "execution_count": 47,
   "metadata": {},
   "outputs": [
    {
     "data": {
      "application/vnd.plotly.v1+json": {
       "config": {
        "linkText": "Export to plot.ly",
        "plotlyServerURL": "https://plot.ly",
        "showLink": true
       },
       "data": [
        {
         "marker": {
          "color": "rgba(255, 153, 51, 0.6)",
          "line": {
           "color": "rgba(255, 153, 51, 1.0)",
           "width": 1
          }
         },
         "name": "Noofdiseases",
         "orientation": "v",
         "text": "",
         "type": "bar",
         "uid": "008897fa-355d-486f-9286-d04f96114a04",
         "x": [
          "Common Cold",
          "Tuberculosis",
          "Dengue",
          "Hepatitis E",
          "Hypothyroidism",
          "Hepatitis B",
          "Hypoglycemia",
          "Pneumonia",
          "hepatitis A",
          "Typhoid",
          "Hyperthyroidism",
          "Chicken pox",
          "Diabetes ",
          "Hepatitis D",
          "Migraine",
          "Jaundice",
          "Malaria",
          "Alcoholic hepatitis",
          "Chronic cholestasis",
          "Varicose veins",
          "Osteoarthristis",
          "Psoriasis",
          "Hepatitis C",
          "(vertigo) Paroymsal  Positional Vertigo",
          "Bronchial Asthma",
          "Peptic ulcer diseae",
          "GERD",
          "Arthritis",
          "Dimorphic hemmorhoids(piles)",
          "Impetigo",
          "Cervical spondylosis",
          "Hypertension ",
          "Drug Reaction",
          "Heart attack",
          "Paralysis (brain hemorrhage)",
          "Gastroenteritis",
          "AIDS",
          "Acne",
          "Urinary tract infection",
          "Allergy",
          "Fungal infection"
         ],
         "y": [
          1992,
          1872,
          1626,
          1512,
          1512,
          1392,
          1392,
          1272,
          1272,
          1272,
          1272,
          1266,
          1152,
          1026,
          1026,
          912,
          912,
          798,
          798,
          792,
          684,
          684,
          678,
          678,
          672,
          672,
          666,
          570,
          570,
          558,
          558,
          552,
          546,
          438,
          438,
          438,
          438,
          438,
          438,
          432,
          432
         ]
        }
       ],
       "layout": {
        "legend": {
         "bgcolor": "#F5F6F9",
         "font": {
          "color": "#4D5663"
         }
        },
        "paper_bgcolor": "#F5F6F9",
        "plot_bgcolor": "#F5F6F9",
        "title": {
         "font": {
          "color": "#4D5663"
         }
        },
        "xaxis": {
         "gridcolor": "#E1E5ED",
         "showgrid": true,
         "tickfont": {
          "color": "#4D5663"
         },
         "title": {
          "font": {
           "color": "#4D5663"
          },
          "text": ""
         },
         "zerolinecolor": "#E1E5ED"
        },
        "yaxis": {
         "gridcolor": "#E1E5ED",
         "showgrid": true,
         "tickfont": {
          "color": "#4D5663"
         },
         "title": {
          "font": {
           "color": "#4D5663"
          },
          "text": ""
         },
         "zerolinecolor": "#E1E5ED"
        }
       }
      },
      "text/html": [
       "<div>\n",
       "        \n",
       "        \n",
       "            <div id=\"91c75b59-5038-40dd-9fa3-6b15885c2837\" class=\"plotly-graph-div\" style=\"height:525px; width:100%;\"></div>\n",
       "            <script type=\"text/javascript\">\n",
       "                require([\"plotly\"], function(Plotly) {\n",
       "                    window.PLOTLYENV=window.PLOTLYENV || {};\n",
       "                    window.PLOTLYENV.BASE_URL='https://plot.ly';\n",
       "                    \n",
       "                if (document.getElementById(\"91c75b59-5038-40dd-9fa3-6b15885c2837\")) {\n",
       "                    Plotly.newPlot(\n",
       "                        '91c75b59-5038-40dd-9fa3-6b15885c2837',\n",
       "                        [{\"marker\": {\"color\": \"rgba(255, 153, 51, 0.6)\", \"line\": {\"color\": \"rgba(255, 153, 51, 1.0)\", \"width\": 1}}, \"name\": \"Noofdiseases\", \"orientation\": \"v\", \"text\": \"\", \"type\": \"bar\", \"uid\": \"008897fa-355d-486f-9286-d04f96114a04\", \"x\": [\"Common Cold\", \"Tuberculosis\", \"Dengue\", \"Hepatitis E\", \"Hypothyroidism\", \"Hepatitis B\", \"Hypoglycemia\", \"Pneumonia\", \"hepatitis A\", \"Typhoid\", \"Hyperthyroidism\", \"Chicken pox\", \"Diabetes \", \"Hepatitis D\", \"Migraine\", \"Jaundice\", \"Malaria\", \"Alcoholic hepatitis\", \"Chronic cholestasis\", \"Varicose veins\", \"Osteoarthristis\", \"Psoriasis\", \"Hepatitis C\", \"(vertigo) Paroymsal  Positional Vertigo\", \"Bronchial Asthma\", \"Peptic ulcer diseae\", \"GERD\", \"Arthritis\", \"Dimorphic hemmorhoids(piles)\", \"Impetigo\", \"Cervical spondylosis\", \"Hypertension \", \"Drug Reaction\", \"Heart attack\", \"Paralysis (brain hemorrhage)\", \"Gastroenteritis\", \"AIDS\", \"Acne\", \"Urinary tract infection\", \"Allergy\", \"Fungal infection\"], \"y\": [1992, 1872, 1626, 1512, 1512, 1392, 1392, 1272, 1272, 1272, 1272, 1266, 1152, 1026, 1026, 912, 912, 798, 798, 792, 684, 684, 678, 678, 672, 672, 666, 570, 570, 558, 558, 552, 546, 438, 438, 438, 438, 438, 438, 432, 432]}],\n",
       "                        {\"legend\": {\"bgcolor\": \"#F5F6F9\", \"font\": {\"color\": \"#4D5663\"}}, \"paper_bgcolor\": \"#F5F6F9\", \"plot_bgcolor\": \"#F5F6F9\", \"title\": {\"font\": {\"color\": \"#4D5663\"}}, \"xaxis\": {\"gridcolor\": \"#E1E5ED\", \"showgrid\": true, \"tickfont\": {\"color\": \"#4D5663\"}, \"title\": {\"font\": {\"color\": \"#4D5663\"}, \"text\": \"\"}, \"zerolinecolor\": \"#E1E5ED\"}, \"yaxis\": {\"gridcolor\": \"#E1E5ED\", \"showgrid\": true, \"tickfont\": {\"color\": \"#4D5663\"}, \"title\": {\"font\": {\"color\": \"#4D5663\"}, \"text\": \"\"}, \"zerolinecolor\": \"#E1E5ED\"}},\n",
       "                        {\"showLink\": true, \"linkText\": \"Export to plot.ly\", \"plotlyServerURL\": \"https://plot.ly\", \"responsive\": true}\n",
       "                    ).then(function(){\n",
       "                            \n",
       "var gd = document.getElementById('91c75b59-5038-40dd-9fa3-6b15885c2837');\n",
       "var x = new MutationObserver(function (mutations, observer) {{\n",
       "        var display = window.getComputedStyle(gd).display;\n",
       "        if (!display || display === 'none') {{\n",
       "            console.log([gd, 'removed!']);\n",
       "            Plotly.purge(gd);\n",
       "            observer.disconnect();\n",
       "        }}\n",
       "}});\n",
       "\n",
       "// Listen for the removal of the full notebook cells\n",
       "var notebookContainer = gd.closest('#notebook-container');\n",
       "if (notebookContainer) {{\n",
       "    x.observe(notebookContainer, {childList: true});\n",
       "}}\n",
       "\n",
       "// Listen for the clearing of the current output cell\n",
       "var outputEl = gd.closest('.output');\n",
       "if (outputEl) {{\n",
       "    x.observe(outputEl, {childList: true});\n",
       "}}\n",
       "\n",
       "                        })\n",
       "                };\n",
       "                });\n",
       "            </script>\n",
       "        </div>"
      ]
     },
     "metadata": {},
     "output_type": "display_data"
    }
   ],
   "source": [
    "#sorted based on most common diseases\n",
    "progno.iplot(kind='bar',x='prognosis',y='Noofdiseases')"
   ]
  },
  {
   "cell_type": "code",
   "execution_count": 48,
   "metadata": {},
   "outputs": [
    {
     "data": {
      "application/vnd.plotly.v1+json": {
       "config": {
        "linkText": "Export to plot.ly",
        "plotlyServerURL": "https://plot.ly",
        "showLink": true
       },
       "data": [
        {
         "hole": 0.2,
         "labels": [
          "Common Cold",
          "Tuberculosis",
          "Dengue",
          "Hepatitis E",
          "Hypothyroidism",
          "Hepatitis B",
          "Hypoglycemia",
          "Pneumonia",
          "hepatitis A",
          "Typhoid",
          "Hyperthyroidism",
          "Chicken pox",
          "Diabetes ",
          "Hepatitis D",
          "Migraine",
          "Jaundice",
          "Malaria",
          "Alcoholic hepatitis",
          "Chronic cholestasis",
          "Varicose veins"
         ],
         "marker": {
          "colors": [
           "rgba(255, 153, 51, 1.0)",
           "rgba(55, 128, 191, 1.0)",
           "rgba(50, 171, 96, 1.0)",
           "rgba(128, 0, 128, 1.0)",
           "rgba(219, 64, 82, 1.0)",
           "rgba(0, 128, 128, 1.0)",
           "rgba(255, 255, 51, 1.0)",
           "rgba(128, 128, 0, 1.0)",
           "rgba(251, 128, 114, 1.0)",
           "rgba(128, 177, 211, 1.0)",
           "rgba(128, 177, 211, 0.8999999999999999)",
           "rgba(255, 153, 51, 0.8999999999999999)",
           "rgba(55, 128, 191, 0.8999999999999999)",
           "rgba(50, 171, 96, 0.8999999999999999)",
           "rgba(128, 0, 128, 0.8999999999999999)",
           "rgba(219, 64, 82, 0.8999999999999999)",
           "rgba(0, 128, 128, 0.8999999999999999)",
           "rgba(255, 255, 51, 0.8999999999999999)",
           "rgba(128, 128, 0, 0.8999999999999999)",
           "rgba(251, 128, 114, 0.8999999999999999)"
          ]
         },
         "name": "",
         "pull": 0.2,
         "type": "pie",
         "values": [
          1992,
          1872,
          1626,
          1512,
          1512,
          1392,
          1392,
          1272,
          1272,
          1272,
          1272,
          1266,
          1152,
          1026,
          1026,
          912,
          912,
          798,
          798,
          792
         ]
        }
       ],
       "layout": {
        "legend": {
         "bgcolor": "#F5F6F9",
         "font": {
          "color": "#4D5663"
         }
        },
        "paper_bgcolor": "#F5F6F9",
        "plot_bgcolor": "#F5F6F9",
        "titlefont": {
         "color": "#4D5663"
        }
       }
      },
      "text/html": [
       "<div>\n",
       "        \n",
       "        \n",
       "            <div id=\"cd315347-5278-4f83-949c-35a1738e540e\" class=\"plotly-graph-div\" style=\"height:525px; width:100%;\"></div>\n",
       "            <script type=\"text/javascript\">\n",
       "                require([\"plotly\"], function(Plotly) {\n",
       "                    window.PLOTLYENV=window.PLOTLYENV || {};\n",
       "                    window.PLOTLYENV.BASE_URL='https://plot.ly';\n",
       "                    \n",
       "                if (document.getElementById(\"cd315347-5278-4f83-949c-35a1738e540e\")) {\n",
       "                    Plotly.newPlot(\n",
       "                        'cd315347-5278-4f83-949c-35a1738e540e',\n",
       "                        [{\"hole\": 0.2, \"labels\": [\"Common Cold\", \"Tuberculosis\", \"Dengue\", \"Hepatitis E\", \"Hypothyroidism\", \"Hepatitis B\", \"Hypoglycemia\", \"Pneumonia\", \"hepatitis A\", \"Typhoid\", \"Hyperthyroidism\", \"Chicken pox\", \"Diabetes \", \"Hepatitis D\", \"Migraine\", \"Jaundice\", \"Malaria\", \"Alcoholic hepatitis\", \"Chronic cholestasis\", \"Varicose veins\"], \"marker\": {\"colors\": [\"rgba(255, 153, 51, 1.0)\", \"rgba(55, 128, 191, 1.0)\", \"rgba(50, 171, 96, 1.0)\", \"rgba(128, 0, 128, 1.0)\", \"rgba(219, 64, 82, 1.0)\", \"rgba(0, 128, 128, 1.0)\", \"rgba(255, 255, 51, 1.0)\", \"rgba(128, 128, 0, 1.0)\", \"rgba(251, 128, 114, 1.0)\", \"rgba(128, 177, 211, 1.0)\", \"rgba(128, 177, 211, 0.8999999999999999)\", \"rgba(255, 153, 51, 0.8999999999999999)\", \"rgba(55, 128, 191, 0.8999999999999999)\", \"rgba(50, 171, 96, 0.8999999999999999)\", \"rgba(128, 0, 128, 0.8999999999999999)\", \"rgba(219, 64, 82, 0.8999999999999999)\", \"rgba(0, 128, 128, 0.8999999999999999)\", \"rgba(255, 255, 51, 0.8999999999999999)\", \"rgba(128, 128, 0, 0.8999999999999999)\", \"rgba(251, 128, 114, 0.8999999999999999)\"]}, \"name\": \"\", \"pull\": 0.2, \"type\": \"pie\", \"values\": [1992, 1872, 1626, 1512, 1512, 1392, 1392, 1272, 1272, 1272, 1272, 1266, 1152, 1026, 1026, 912, 912, 798, 798, 792]}],\n",
       "                        {\"legend\": {\"bgcolor\": \"#F5F6F9\", \"font\": {\"color\": \"#4D5663\"}}, \"paper_bgcolor\": \"#F5F6F9\", \"plot_bgcolor\": \"#F5F6F9\", \"titlefont\": {\"color\": \"#4D5663\"}},\n",
       "                        {\"showLink\": true, \"linkText\": \"Export to plot.ly\", \"plotlyServerURL\": \"https://plot.ly\", \"responsive\": true}\n",
       "                    ).then(function(){\n",
       "                            \n",
       "var gd = document.getElementById('cd315347-5278-4f83-949c-35a1738e540e');\n",
       "var x = new MutationObserver(function (mutations, observer) {{\n",
       "        var display = window.getComputedStyle(gd).display;\n",
       "        if (!display || display === 'none') {{\n",
       "            console.log([gd, 'removed!']);\n",
       "            Plotly.purge(gd);\n",
       "            observer.disconnect();\n",
       "        }}\n",
       "}});\n",
       "\n",
       "// Listen for the removal of the full notebook cells\n",
       "var notebookContainer = gd.closest('#notebook-container');\n",
       "if (notebookContainer) {{\n",
       "    x.observe(notebookContainer, {childList: true});\n",
       "}}\n",
       "\n",
       "// Listen for the clearing of the current output cell\n",
       "var outputEl = gd.closest('.output');\n",
       "if (outputEl) {{\n",
       "    x.observe(outputEl, {childList: true});\n",
       "}}\n",
       "\n",
       "                        })\n",
       "                };\n",
       "                });\n",
       "            </script>\n",
       "        </div>"
      ]
     },
     "metadata": {},
     "output_type": "display_data"
    }
   ],
   "source": [
    "#top 20 most common diseases share percentage\n",
    "progno[:20].iplot(kind='pie',labels='prognosis',values='Noofdiseases',hole=0.2,pull=0.2)"
   ]
  },
  {
   "cell_type": "code",
   "execution_count": 49,
   "metadata": {},
   "outputs": [
    {
     "data": {
      "application/vnd.plotly.v1+json": {
       "config": {
        "linkText": "Export to plot.ly",
        "plotlyServerURL": "https://plot.ly",
        "showLink": true
       },
       "data": [
        {
         "marker": {
          "color": "rgba(255, 153, 51, 0.6)",
          "line": {
           "color": "rgba(255, 153, 51, 1.0)",
           "width": 1
          }
         },
         "name": "Noofdiseases",
         "orientation": "v",
         "text": "",
         "type": "bar",
         "uid": "7c8349a1-67d1-4b38-be60-876c629d3bee",
         "x": [
          "Fungal infection",
          "Acne",
          "Paralysis (brain hemorrhage)",
          "Hypertension ",
          "Dimorphic hemmorhoids(piles)",
          "Peptic ulcer diseae",
          "Hepatitis C",
          "Varicose veins",
          "Malaria",
          "Hepatitis D",
          "Hyperthyroidism",
          "Pneumonia",
          "Hypothyroidism",
          "Tuberculosis"
         ],
         "y": [
          432,
          438,
          438,
          552,
          570,
          672,
          678,
          792,
          912,
          1026,
          1272,
          1272,
          1512,
          1872
         ]
        }
       ],
       "layout": {
        "legend": {
         "bgcolor": "#F5F6F9",
         "font": {
          "color": "#4D5663"
         }
        },
        "paper_bgcolor": "#F5F6F9",
        "plot_bgcolor": "#F5F6F9",
        "title": {
         "font": {
          "color": "#4D5663"
         }
        },
        "xaxis": {
         "gridcolor": "#E1E5ED",
         "showgrid": true,
         "tickfont": {
          "color": "#4D5663"
         },
         "title": {
          "font": {
           "color": "#4D5663"
          },
          "text": ""
         },
         "zerolinecolor": "#E1E5ED"
        },
        "yaxis": {
         "gridcolor": "#E1E5ED",
         "showgrid": true,
         "tickfont": {
          "color": "#4D5663"
         },
         "title": {
          "font": {
           "color": "#4D5663"
          },
          "text": ""
         },
         "zerolinecolor": "#E1E5ED"
        }
       }
      },
      "text/html": [
       "<div>\n",
       "        \n",
       "        \n",
       "            <div id=\"8e1ca184-3aa3-4624-bc70-3c3555449e46\" class=\"plotly-graph-div\" style=\"height:525px; width:100%;\"></div>\n",
       "            <script type=\"text/javascript\">\n",
       "                require([\"plotly\"], function(Plotly) {\n",
       "                    window.PLOTLYENV=window.PLOTLYENV || {};\n",
       "                    window.PLOTLYENV.BASE_URL='https://plot.ly';\n",
       "                    \n",
       "                if (document.getElementById(\"8e1ca184-3aa3-4624-bc70-3c3555449e46\")) {\n",
       "                    Plotly.newPlot(\n",
       "                        '8e1ca184-3aa3-4624-bc70-3c3555449e46',\n",
       "                        [{\"marker\": {\"color\": \"rgba(255, 153, 51, 0.6)\", \"line\": {\"color\": \"rgba(255, 153, 51, 1.0)\", \"width\": 1}}, \"name\": \"Noofdiseases\", \"orientation\": \"v\", \"text\": \"\", \"type\": \"bar\", \"uid\": \"7c8349a1-67d1-4b38-be60-876c629d3bee\", \"x\": [\"Fungal infection\", \"Acne\", \"Paralysis (brain hemorrhage)\", \"Hypertension \", \"Dimorphic hemmorhoids(piles)\", \"Peptic ulcer diseae\", \"Hepatitis C\", \"Varicose veins\", \"Malaria\", \"Hepatitis D\", \"Hyperthyroidism\", \"Pneumonia\", \"Hypothyroidism\", \"Tuberculosis\"], \"y\": [432, 438, 438, 552, 570, 672, 678, 792, 912, 1026, 1272, 1272, 1512, 1872]}],\n",
       "                        {\"legend\": {\"bgcolor\": \"#F5F6F9\", \"font\": {\"color\": \"#4D5663\"}}, \"paper_bgcolor\": \"#F5F6F9\", \"plot_bgcolor\": \"#F5F6F9\", \"title\": {\"font\": {\"color\": \"#4D5663\"}}, \"xaxis\": {\"gridcolor\": \"#E1E5ED\", \"showgrid\": true, \"tickfont\": {\"color\": \"#4D5663\"}, \"title\": {\"font\": {\"color\": \"#4D5663\"}, \"text\": \"\"}, \"zerolinecolor\": \"#E1E5ED\"}, \"yaxis\": {\"gridcolor\": \"#E1E5ED\", \"showgrid\": true, \"tickfont\": {\"color\": \"#4D5663\"}, \"title\": {\"font\": {\"color\": \"#4D5663\"}, \"text\": \"\"}, \"zerolinecolor\": \"#E1E5ED\"}},\n",
       "                        {\"showLink\": true, \"linkText\": \"Export to plot.ly\", \"plotlyServerURL\": \"https://plot.ly\", \"responsive\": true}\n",
       "                    ).then(function(){\n",
       "                            \n",
       "var gd = document.getElementById('8e1ca184-3aa3-4624-bc70-3c3555449e46');\n",
       "var x = new MutationObserver(function (mutations, observer) {{\n",
       "        var display = window.getComputedStyle(gd).display;\n",
       "        if (!display || display === 'none') {{\n",
       "            console.log([gd, 'removed!']);\n",
       "            Plotly.purge(gd);\n",
       "            observer.disconnect();\n",
       "        }}\n",
       "}});\n",
       "\n",
       "// Listen for the removal of the full notebook cells\n",
       "var notebookContainer = gd.closest('#notebook-container');\n",
       "if (notebookContainer) {{\n",
       "    x.observe(notebookContainer, {childList: true});\n",
       "}}\n",
       "\n",
       "// Listen for the clearing of the current output cell\n",
       "var outputEl = gd.closest('.output');\n",
       "if (outputEl) {{\n",
       "    x.observe(outputEl, {childList: true});\n",
       "}}\n",
       "\n",
       "                        })\n",
       "                };\n",
       "                });\n",
       "            </script>\n",
       "        </div>"
      ]
     },
     "metadata": {},
     "output_type": "display_data"
    }
   ],
   "source": [
    "# top 10 lowet no of diseases\n",
    "progno[::-3].iplot(kind='bar',x=['prognosis'])"
   ]
  },
  {
   "cell_type": "code",
   "execution_count": 50,
   "metadata": {},
   "outputs": [
    {
     "data": {
      "application/vnd.plotly.v1+json": {
       "config": {
        "linkText": "Export to plot.ly",
        "plotlyServerURL": "https://plot.ly",
        "showLink": true
       },
       "data": [
        {
         "hole": 0.1,
         "labels": [
          "Fungal infection",
          "Acne",
          "Paralysis (brain hemorrhage)",
          "Hypertension ",
          "Dimorphic hemmorhoids(piles)",
          "Peptic ulcer diseae",
          "Hepatitis C",
          "Varicose veins",
          "Malaria",
          "Hepatitis D",
          "Hyperthyroidism",
          "Pneumonia",
          "Hypothyroidism",
          "Tuberculosis"
         ],
         "marker": {
          "colors": [
           "rgba(255, 153, 51, 1.0)",
           "rgba(55, 128, 191, 1.0)",
           "rgba(50, 171, 96, 1.0)",
           "rgba(128, 0, 128, 1.0)",
           "rgba(219, 64, 82, 1.0)",
           "rgba(0, 128, 128, 1.0)",
           "rgba(255, 255, 51, 1.0)",
           "rgba(128, 128, 0, 1.0)",
           "rgba(251, 128, 114, 1.0)",
           "rgba(128, 177, 211, 1.0)",
           "rgba(128, 177, 211, 0.8999999999999999)",
           "rgba(255, 153, 51, 0.8999999999999999)",
           "rgba(55, 128, 191, 0.8999999999999999)",
           "rgba(50, 171, 96, 0.8999999999999999)"
          ]
         },
         "name": "",
         "pull": 0.1,
         "type": "pie",
         "values": [
          432,
          438,
          438,
          552,
          570,
          672,
          678,
          792,
          912,
          1026,
          1272,
          1272,
          1512,
          1872
         ]
        }
       ],
       "layout": {
        "legend": {
         "bgcolor": "#F5F6F9",
         "font": {
          "color": "#4D5663"
         }
        },
        "paper_bgcolor": "#F5F6F9",
        "plot_bgcolor": "#F5F6F9",
        "titlefont": {
         "color": "#4D5663"
        }
       }
      },
      "text/html": [
       "<div>\n",
       "        \n",
       "        \n",
       "            <div id=\"a3ac7032-bd3d-4031-8cfa-9265cd2bb2db\" class=\"plotly-graph-div\" style=\"height:525px; width:100%;\"></div>\n",
       "            <script type=\"text/javascript\">\n",
       "                require([\"plotly\"], function(Plotly) {\n",
       "                    window.PLOTLYENV=window.PLOTLYENV || {};\n",
       "                    window.PLOTLYENV.BASE_URL='https://plot.ly';\n",
       "                    \n",
       "                if (document.getElementById(\"a3ac7032-bd3d-4031-8cfa-9265cd2bb2db\")) {\n",
       "                    Plotly.newPlot(\n",
       "                        'a3ac7032-bd3d-4031-8cfa-9265cd2bb2db',\n",
       "                        [{\"hole\": 0.1, \"labels\": [\"Fungal infection\", \"Acne\", \"Paralysis (brain hemorrhage)\", \"Hypertension \", \"Dimorphic hemmorhoids(piles)\", \"Peptic ulcer diseae\", \"Hepatitis C\", \"Varicose veins\", \"Malaria\", \"Hepatitis D\", \"Hyperthyroidism\", \"Pneumonia\", \"Hypothyroidism\", \"Tuberculosis\"], \"marker\": {\"colors\": [\"rgba(255, 153, 51, 1.0)\", \"rgba(55, 128, 191, 1.0)\", \"rgba(50, 171, 96, 1.0)\", \"rgba(128, 0, 128, 1.0)\", \"rgba(219, 64, 82, 1.0)\", \"rgba(0, 128, 128, 1.0)\", \"rgba(255, 255, 51, 1.0)\", \"rgba(128, 128, 0, 1.0)\", \"rgba(251, 128, 114, 1.0)\", \"rgba(128, 177, 211, 1.0)\", \"rgba(128, 177, 211, 0.8999999999999999)\", \"rgba(255, 153, 51, 0.8999999999999999)\", \"rgba(55, 128, 191, 0.8999999999999999)\", \"rgba(50, 171, 96, 0.8999999999999999)\"]}, \"name\": \"\", \"pull\": 0.1, \"type\": \"pie\", \"values\": [432, 438, 438, 552, 570, 672, 678, 792, 912, 1026, 1272, 1272, 1512, 1872]}],\n",
       "                        {\"legend\": {\"bgcolor\": \"#F5F6F9\", \"font\": {\"color\": \"#4D5663\"}}, \"paper_bgcolor\": \"#F5F6F9\", \"plot_bgcolor\": \"#F5F6F9\", \"titlefont\": {\"color\": \"#4D5663\"}},\n",
       "                        {\"showLink\": true, \"linkText\": \"Export to plot.ly\", \"plotlyServerURL\": \"https://plot.ly\", \"responsive\": true}\n",
       "                    ).then(function(){\n",
       "                            \n",
       "var gd = document.getElementById('a3ac7032-bd3d-4031-8cfa-9265cd2bb2db');\n",
       "var x = new MutationObserver(function (mutations, observer) {{\n",
       "        var display = window.getComputedStyle(gd).display;\n",
       "        if (!display || display === 'none') {{\n",
       "            console.log([gd, 'removed!']);\n",
       "            Plotly.purge(gd);\n",
       "            observer.disconnect();\n",
       "        }}\n",
       "}});\n",
       "\n",
       "// Listen for the removal of the full notebook cells\n",
       "var notebookContainer = gd.closest('#notebook-container');\n",
       "if (notebookContainer) {{\n",
       "    x.observe(notebookContainer, {childList: true});\n",
       "}}\n",
       "\n",
       "// Listen for the clearing of the current output cell\n",
       "var outputEl = gd.closest('.output');\n",
       "if (outputEl) {{\n",
       "    x.observe(outputEl, {childList: true});\n",
       "}}\n",
       "\n",
       "                        })\n",
       "                };\n",
       "                });\n",
       "            </script>\n",
       "        </div>"
      ]
     },
     "metadata": {},
     "output_type": "display_data"
    }
   ],
   "source": [
    "#top 10 lowect common diseases share percentage\n",
    "progno[::-3].iplot(kind='pie',labels='prognosis',values='Noofdiseases',hole=0.1,pull=0.1)"
   ]
  },
  {
   "cell_type": "code",
   "execution_count": 51,
   "metadata": {},
   "outputs": [
    {
     "data": {
      "text/plain": [
       "Text(0, 0.5, 'No of diseases')"
      ]
     },
     "execution_count": 51,
     "metadata": {},
     "output_type": "execute_result"
    },
    {
     "data": {
      "image/png": "[encoded data removed]",
      "text/plain": [
       "<Figure size 864x288 with 1 Axes>"
      ]
     },
     "metadata": {
      "needs_background": "light"
     },
     "output_type": "display_data"
    }
   ],
   "source": [
    "#distribution\n",
    "\n",
    "f, (ax) = plt.subplots(1, 1, figsize=(12, 4))\n",
    "f.suptitle('no of diseases distribution', fontsize=14)\n",
    "\n",
    "sns.boxplot(data=progno,  \n",
    "            y='Noofdiseases', \n",
    "            ax=ax)\n",
    "\n",
    "ax.set_xlabel(\"diseases count\",size=12,alpha=0.8)\n",
    "ax.set_ylabel(\"No of diseases\",size=12,alpha=0.8)"
   ]
  },
  {
   "cell_type": "code",
   "execution_count": 52,
   "metadata": {},
   "outputs": [
    {
     "data": {
      "image/png": "[encoded data removed]",
      "text/plain": [
       "<Figure size 720x576 with 1 Axes>"
      ]
     },
     "metadata": {
      "needs_background": "light"
     },
     "output_type": "display_data"
    }
   ],
   "source": [
    "#the distribution is right skewed\n",
    "fig = plt.figure(figsize=(10,8))\n",
    "title = fig.suptitle(\"No of diseases distribution\", fontsize=14)\n",
    "fig.subplots_adjust(top=0.93, wspace=0.3)\n",
    "\n",
    "ax = fig.add_subplot(1,1,1)\n",
    "ax.set_xlabel(\"\")\n",
    "ax.set_ylabel(\"No Of diseases\") \n",
    "\n",
    "g = sns.FacetGrid(data=progno,  \n",
    "                  palette={\"red\": \"r\", \"white\": \"y\"})\n",
    "\n",
    "g.map(sns.distplot, 'Noofdiseases', \n",
    "      kde=True, bins=10, ax=ax)\n",
    "\n",
    "plt.close(2)"
   ]
  },
  {
   "cell_type": "code",
   "execution_count": 53,
   "metadata": {},
   "outputs": [
    {
     "data": {
      "text/plain": [
       "Text(0, 0.5, '1')"
      ]
     },
     "execution_count": 53,
     "metadata": {},
     "output_type": "execute_result"
    },
    {
     "data": {
      "image/png": "[encoded data removed]",
      "text/plain": [
       "<Figure size 864x288 with 1 Axes>"
      ]
     },
     "metadata": {
      "needs_background": "light"
     },
     "output_type": "display_data"
    }
   ],
   "source": [
    "f, (ax) = plt.subplots(1, 1, figsize=(12, 4))\n",
    "f.suptitle('No of diseases distribution', fontsize=14)\n",
    "\n",
    "sns.violinplot(data=progno,\n",
    "               y='Noofdiseases',   \n",
    "               ax=ax)\n",
    "\n",
    "ax.set_ylabel(1,size=12,alpha=0.8)"
   ]
  },
  {
   "cell_type": "code",
   "execution_count": null,
   "metadata": {},
   "outputs": [],
   "source": []
  },
  {
   "cell_type": "code",
   "execution_count": null,
   "metadata": {},
   "outputs": [],
   "source": []
  },
  {
   "cell_type": "code",
   "execution_count": null,
   "metadata": {},
   "outputs": [],
   "source": []
  },
  {
   "cell_type": "code",
   "execution_count": 54,
   "metadata": {},
   "outputs": [
    {
     "data": {
      "application/vnd.plotly.v1+json": {
       "config": {
        "linkText": "Export to plot.ly",
        "plotlyServerURL": "https://plot.ly",
        "showLink": true
       },
       "data": [
        {
         "labels": [
          2609,
          1497,
          663,
          2764,
          4623,
          1876,
          2528,
          735,
          4316,
          4074,
          3386,
          3765,
          465,
          3974,
          417
         ],
         "marker": {
          "colors": [
           "rgba(255, 153, 51, 1.0)",
           "rgba(55, 128, 191, 1.0)",
           "rgba(50, 171, 96, 1.0)",
           "rgba(128, 0, 128, 1.0)",
           "rgba(219, 64, 82, 1.0)",
           "rgba(0, 128, 128, 1.0)",
           "rgba(255, 255, 51, 1.0)",
           "rgba(128, 128, 0, 1.0)",
           "rgba(251, 128, 114, 1.0)",
           "rgba(128, 177, 211, 1.0)",
           "rgba(128, 177, 211, 0.8999999999999999)",
           "rgba(255, 153, 51, 0.8999999999999999)",
           "rgba(55, 128, 191, 0.8999999999999999)",
           "rgba(50, 171, 96, 0.8999999999999999)",
           "rgba(128, 0, 128, 0.8999999999999999)"
          ]
         },
         "name": "",
         "type": "pie",
         "values": [
          17,
          16,
          15,
          14,
          13,
          12,
          11,
          10,
          9,
          8,
          7,
          6,
          5,
          4,
          3
         ]
        }
       ],
       "layout": {
        "legend": {
         "bgcolor": "#F5F6F9",
         "font": {
          "color": "#4D5663"
         }
        },
        "paper_bgcolor": "#F5F6F9",
        "plot_bgcolor": "#F5F6F9",
        "titlefont": {
         "color": "#4D5663"
        }
       }
      },
      "text/html": [
       "<div>\n",
       "        \n",
       "        \n",
       "            <div id=\"00f5d281-af40-4772-843d-004b19b327f3\" class=\"plotly-graph-div\" style=\"height:525px; width:100%;\"></div>\n",
       "            <script type=\"text/javascript\">\n",
       "                require([\"plotly\"], function(Plotly) {\n",
       "                    window.PLOTLYENV=window.PLOTLYENV || {};\n",
       "                    window.PLOTLYENV.BASE_URL='https://plot.ly';\n",
       "                    \n",
       "                if (document.getElementById(\"00f5d281-af40-4772-843d-004b19b327f3\")) {\n",
       "                    Plotly.newPlot(\n",
       "                        '00f5d281-af40-4772-843d-004b19b327f3',\n",
       "                        [{\"labels\": [2609, 1497, 663, 2764, 4623, 1876, 2528, 735, 4316, 4074, 3386, 3765, 465, 3974, 417], \"marker\": {\"colors\": [\"rgba(255, 153, 51, 1.0)\", \"rgba(55, 128, 191, 1.0)\", \"rgba(50, 171, 96, 1.0)\", \"rgba(128, 0, 128, 1.0)\", \"rgba(219, 64, 82, 1.0)\", \"rgba(0, 128, 128, 1.0)\", \"rgba(255, 255, 51, 1.0)\", \"rgba(128, 128, 0, 1.0)\", \"rgba(251, 128, 114, 1.0)\", \"rgba(128, 177, 211, 1.0)\", \"rgba(128, 177, 211, 0.8999999999999999)\", \"rgba(255, 153, 51, 0.8999999999999999)\", \"rgba(55, 128, 191, 0.8999999999999999)\", \"rgba(50, 171, 96, 0.8999999999999999)\", \"rgba(128, 0, 128, 0.8999999999999999)\"]}, \"name\": \"\", \"type\": \"pie\", \"values\": [17, 16, 15, 14, 13, 12, 11, 10, 9, 8, 7, 6, 5, 4, 3]}],\n",
       "                        {\"legend\": {\"bgcolor\": \"#F5F6F9\", \"font\": {\"color\": \"#4D5663\"}}, \"paper_bgcolor\": \"#F5F6F9\", \"plot_bgcolor\": \"#F5F6F9\", \"titlefont\": {\"color\": \"#4D5663\"}},\n",
       "                        {\"showLink\": true, \"linkText\": \"Export to plot.ly\", \"plotlyServerURL\": \"https://plot.ly\", \"responsive\": true}\n",
       "                    ).then(function(){\n",
       "                            \n",
       "var gd = document.getElementById('00f5d281-af40-4772-843d-004b19b327f3');\n",
       "var x = new MutationObserver(function (mutations, observer) {{\n",
       "        var display = window.getComputedStyle(gd).display;\n",
       "        if (!display || display === 'none') {{\n",
       "            console.log([gd, 'removed!']);\n",
       "            Plotly.purge(gd);\n",
       "            observer.disconnect();\n",
       "        }}\n",
       "}});\n",
       "\n",
       "// Listen for the removal of the full notebook cells\n",
       "var notebookContainer = gd.closest('#notebook-container');\n",
       "if (notebookContainer) {{\n",
       "    x.observe(notebookContainer, {childList: true});\n",
       "}}\n",
       "\n",
       "// Listen for the clearing of the current output cell\n",
       "var outputEl = gd.closest('.output');\n",
       "if (outputEl) {{\n",
       "    x.observe(outputEl, {childList: true});\n",
       "}}\n",
       "\n",
       "                        })\n",
       "                };\n",
       "                });\n",
       "            </script>\n",
       "        </div>"
      ]
     },
     "metadata": {},
     "output_type": "display_data"
    }
   ],
   "source": [
    "data['Noofdiseases'].reset_index().sort_values(['Noofdiseases'],ascending=False).drop_duplicates('Noofdiseases').\\\n",
    "iplot(kind='pie',labels='index',values='Noofdiseases')\n"
   ]
  },
  {
   "cell_type": "code",
   "execution_count": 55,
   "metadata": {},
   "outputs": [
    {
     "data": {
      "application/vnd.plotly.v1+json": {
       "config": {
        "linkText": "Export to plot.ly",
        "plotlyServerURL": "https://plot.ly",
        "showLink": true
       },
       "data": [
        {
         "marker": {
          "color": "rgba(255, 153, 51, 0.6)",
          "line": {
           "color": "rgba(255, 153, 51, 1.0)",
           "width": 1
          }
         },
         "name": "Noofdiseases",
         "orientation": "v",
         "text": "",
         "type": "bar",
         "uid": "f9c315e9-d69c-4d08-b136-710760ada1db",
         "x": [
          2609,
          1497,
          663,
          2764,
          4623,
          1876,
          2528,
          735,
          4316,
          4074,
          3386,
          3765,
          465,
          3974,
          417
         ],
         "y": [
          17,
          16,
          15,
          14,
          13,
          12,
          11,
          10,
          9,
          8,
          7,
          6,
          5,
          4,
          3
         ]
        }
       ],
       "layout": {
        "legend": {
         "bgcolor": "#F5F6F9",
         "font": {
          "color": "#4D5663"
         }
        },
        "paper_bgcolor": "#F5F6F9",
        "plot_bgcolor": "#F5F6F9",
        "title": {
         "font": {
          "color": "#4D5663"
         }
        },
        "xaxis": {
         "gridcolor": "#E1E5ED",
         "showgrid": true,
         "tickfont": {
          "color": "#4D5663"
         },
         "title": {
          "font": {
           "color": "#4D5663"
          },
          "text": ""
         },
         "zerolinecolor": "#E1E5ED"
        },
        "yaxis": {
         "gridcolor": "#E1E5ED",
         "showgrid": true,
         "tickfont": {
          "color": "#4D5663"
         },
         "title": {
          "font": {
           "color": "#4D5663"
          },
          "text": ""
         },
         "zerolinecolor": "#E1E5ED"
        }
       }
      },
      "text/html": [
       "<div>\n",
       "        \n",
       "        \n",
       "            <div id=\"cab34366-05e4-4121-99aa-74eb9c002a0a\" class=\"plotly-graph-div\" style=\"height:525px; width:100%;\"></div>\n",
       "            <script type=\"text/javascript\">\n",
       "                require([\"plotly\"], function(Plotly) {\n",
       "                    window.PLOTLYENV=window.PLOTLYENV || {};\n",
       "                    window.PLOTLYENV.BASE_URL='https://plot.ly';\n",
       "                    \n",
       "                if (document.getElementById(\"cab34366-05e4-4121-99aa-74eb9c002a0a\")) {\n",
       "                    Plotly.newPlot(\n",
       "                        'cab34366-05e4-4121-99aa-74eb9c002a0a',\n",
       "                        [{\"marker\": {\"color\": \"rgba(255, 153, 51, 0.6)\", \"line\": {\"color\": \"rgba(255, 153, 51, 1.0)\", \"width\": 1}}, \"name\": \"Noofdiseases\", \"orientation\": \"v\", \"text\": \"\", \"type\": \"bar\", \"uid\": \"f9c315e9-d69c-4d08-b136-710760ada1db\", \"x\": [2609, 1497, 663, 2764, 4623, 1876, 2528, 735, 4316, 4074, 3386, 3765, 465, 3974, 417], \"y\": [17, 16, 15, 14, 13, 12, 11, 10, 9, 8, 7, 6, 5, 4, 3]}],\n",
       "                        {\"legend\": {\"bgcolor\": \"#F5F6F9\", \"font\": {\"color\": \"#4D5663\"}}, \"paper_bgcolor\": \"#F5F6F9\", \"plot_bgcolor\": \"#F5F6F9\", \"title\": {\"font\": {\"color\": \"#4D5663\"}}, \"xaxis\": {\"gridcolor\": \"#E1E5ED\", \"showgrid\": true, \"tickfont\": {\"color\": \"#4D5663\"}, \"title\": {\"font\": {\"color\": \"#4D5663\"}, \"text\": \"\"}, \"zerolinecolor\": \"#E1E5ED\"}, \"yaxis\": {\"gridcolor\": \"#E1E5ED\", \"showgrid\": true, \"tickfont\": {\"color\": \"#4D5663\"}, \"title\": {\"font\": {\"color\": \"#4D5663\"}, \"text\": \"\"}, \"zerolinecolor\": \"#E1E5ED\"}},\n",
       "                        {\"showLink\": true, \"linkText\": \"Export to plot.ly\", \"plotlyServerURL\": \"https://plot.ly\", \"responsive\": true}\n",
       "                    ).then(function(){\n",
       "                            \n",
       "var gd = document.getElementById('cab34366-05e4-4121-99aa-74eb9c002a0a');\n",
       "var x = new MutationObserver(function (mutations, observer) {{\n",
       "        var display = window.getComputedStyle(gd).display;\n",
       "        if (!display || display === 'none') {{\n",
       "            console.log([gd, 'removed!']);\n",
       "            Plotly.purge(gd);\n",
       "            observer.disconnect();\n",
       "        }}\n",
       "}});\n",
       "\n",
       "// Listen for the removal of the full notebook cells\n",
       "var notebookContainer = gd.closest('#notebook-container');\n",
       "if (notebookContainer) {{\n",
       "    x.observe(notebookContainer, {childList: true});\n",
       "}}\n",
       "\n",
       "// Listen for the clearing of the current output cell\n",
       "var outputEl = gd.closest('.output');\n",
       "if (outputEl) {{\n",
       "    x.observe(outputEl, {childList: true});\n",
       "}}\n",
       "\n",
       "                        })\n",
       "                };\n",
       "                });\n",
       "            </script>\n",
       "        </div>"
      ]
     },
     "metadata": {},
     "output_type": "display_data"
    }
   ],
   "source": [
    "data['Noofdiseases'].reset_index().sort_values(['Noofdiseases'],ascending=False).drop_duplicates('Noofdiseases')\\\n",
    ".sort_values(['Noofdiseases'],ascending=False).iplot(kind='bar',x='index',y='Noofdiseases')"
   ]
  },
  {
   "cell_type": "code",
   "execution_count": 56,
   "metadata": {},
   "outputs": [
    {
     "data": {
      "text/plain": [
       "<matplotlib.axes._subplots.AxesSubplot at 0x1618fdbd1d0>"
      ]
     },
     "execution_count": 56,
     "metadata": {},
     "output_type": "execute_result"
    },
    {
     "data": {
      "image/png": "[encoded data removed]",
      "text/plain": [
       "<Figure size 432x288 with 1 Axes>"
      ]
     },
     "metadata": {
      "needs_background": "light"
     },
     "output_type": "display_data"
    }
   ],
   "source": [
    "data['Noofdiseases'].reset_index().sort_values(['Noofdiseases'],ascending=False).drop_duplicates('Noofdiseases').plot(kind='bar',x='index')"
   ]
  },
  {
   "cell_type": "code",
   "execution_count": 57,
   "metadata": {},
   "outputs": [],
   "source": [
    "dis_sympt=data[['Noofdiseases','prognosis']].reset_index().sort_values(['Noofdiseases'],ascending=False)"
   ]
  },
  {
   "cell_type": "code",
   "execution_count": 58,
   "metadata": {},
   "outputs": [],
   "source": [
    "dis_sympt['prognosis']=dis_sympt['prognosis'].apply(lambda x:invmapping[x])"
   ]
  },
  {
   "cell_type": "code",
   "execution_count": 59,
   "metadata": {},
   "outputs": [
    {
     "data": {
      "text/plain": [
       "<matplotlib.axes._subplots.AxesSubplot at 0x1619028b2b0>"
      ]
     },
     "execution_count": 59,
     "metadata": {},
     "output_type": "execute_result"
    },
    {
     "data": {
      "image/png": "[encoded data removed]",
      "text/plain": [
       "<Figure size 432x288 with 1 Axes>"
      ]
     },
     "metadata": {
      "needs_background": "light"
     },
     "output_type": "display_data"
    }
   ],
   "source": [
    "dis_sympt.drop_duplicates(['Noofdiseases']).plot(kind='bar',x='prognosis',y='Noofdiseases')"
   ]
  },
  {
   "cell_type": "code",
   "execution_count": 60,
   "metadata": {},
   "outputs": [],
   "source": [
    "totsym_totpat=dis_sympt['Noofdiseases'].value_counts().rename_axis(['totalsymtomps']).rename('totalpatients').reset_index()"
   ]
  },
  {
   "cell_type": "code",
   "execution_count": 61,
   "metadata": {},
   "outputs": [],
   "source": [
    "totsym_totpat=(totsym_totpat-np.mean(totsym_totpat,axis=0))/(np.std(totsym_totpat,axis=0))"
   ]
  },
  {
   "cell_type": "code",
   "execution_count": 62,
   "metadata": {},
   "outputs": [
    {
     "data": {
      "text/plain": [
       "Text(0, 0.5, 'totalpatients')"
      ]
     },
     "execution_count": 62,
     "metadata": {},
     "output_type": "execute_result"
    },
    {
     "data": {
      "image/png": "[encoded data removed]",
      "text/plain": [
       "<Figure size 432x288 with 1 Axes>"
      ]
     },
     "metadata": {
      "needs_background": "light"
     },
     "output_type": "display_data"
    }
   ],
   "source": [
    "plt.scatter(totsym_totpat.iloc[:,0],totsym_totpat.iloc[:,1])\n",
    "plt.xlabel('totsymptopms')\n",
    "plt.ylabel('totalpatients')"
   ]
  },
  {
   "cell_type": "code",
   "execution_count": 63,
   "metadata": {},
   "outputs": [
    {
     "data": {
      "text/plain": [
       "<seaborn.axisgrid.FacetGrid at 0x161908cfba8>"
      ]
     },
     "execution_count": 63,
     "metadata": {},
     "output_type": "execute_result"
    },
    {
     "data": {
      "image/png": "[encoded data removed]",
      "text/plain": [
       "<Figure size 216x216 with 1 Axes>"
      ]
     },
     "metadata": {
      "needs_background": "light"
     },
     "output_type": "display_data"
    }
   ],
   "source": [
    "g = sns.FacetGrid(totsym_totpat)\n",
    "g.map(sns.regplot, 'totalsymtomps', 'totalpatients')\n",
    "\n",
    "\n"
   ]
  },
  {
   "cell_type": "code",
   "execution_count": null,
   "metadata": {},
   "outputs": [],
   "source": []
  },
  {
   "cell_type": "code",
   "execution_count": null,
   "metadata": {},
   "outputs": [],
   "source": []
  }
 ],
 "metadata": {
  "kernelspec": {
   "display_name": "Python 3",
   "language": "python",
   "name": "python3"
  },
  "language_info": {
   "codemirror_mode": {
    "name": "ipython",
    "version": 3
   },
   "file_extension": ".py",
   "mimetype": "text/x-python",
   "name": "python",
   "nbconvert_exporter": "python",
   "pygments_lexer": "ipython3",
   "version": "3.7.0"
  }
 },
 "nbformat": 4,
 "nbformat_minor": 2
}
