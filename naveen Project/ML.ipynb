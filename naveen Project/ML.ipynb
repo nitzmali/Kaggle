{
 "cells": [
  {
   "cell_type": "code",
   "execution_count": 3,
   "metadata": {},
   "outputs": [
    {
     "data": {
      "text/html": [
       "        <script type=\"text/javascript\">\n",
       "        window.PlotlyConfig = {MathJaxConfig: 'local'};\n",
       "        if (window.MathJax) {MathJax.Hub.Config({SVG: {font: \"STIX-Web\"}});}\n",
       "        if (typeof require !== 'undefined') {\n",
       "        require.undef(\"plotly\");\n",
       "        requirejs.config({\n",
       "            paths: {\n",
       "                'plotly': ['https://cdn.plot.ly/plotly-latest.min']\n",
       "            }\n",
       "        });\n",
       "        require(['plotly'], function(Plotly) {\n",
       "            window._Plotly = Plotly;\n",
       "        });\n",
       "        }\n",
       "        </script>\n",
       "        "
      ]
     },
     "metadata": {},
     "output_type": "display_data"
    }
   ],
   "source": [
    "import numpy as np\n",
    "import pandas as pd\n",
    "import scipy\n",
    "import matplotlib.pyplot as plt\n",
    "import seaborn as sns\n",
    "%matplotlib inline\n",
    "import plotly\n",
    "import cufflinks as cf\n",
    "cf.go_offline()\n",
    "import warnings \n",
    "warnings.filterwarnings('ignore')\n",
    "\n",
    "\n",
    "from sklearn.preprocessing import LabelEncoder,OneHotEncoder,StandardScaler\n",
    "from sklearn.model_selection import train_test_split,cross_val_score\n",
    "from sklearn.metrics import confusion_matrix,accuracy_score\n",
    "from sklearn.linear_model import LinearRegression,LogisticRegression\n",
    "from sklearn.svm import SVR,SVC\n",
    "from sklearn.naive_bayes import GaussianNB\n",
    "from sklearn.ensemble import RandomForestClassifier\n",
    "from sklearn.decomposition import PCA"
   ]
  },
  {
   "cell_type": "code",
   "execution_count": 4,
   "metadata": {},
   "outputs": [],
   "source": [
    "data=pd.read_csv('disease_prediction\\Training.csv')"
   ]
  },
  {
   "cell_type": "code",
   "execution_count": 5,
   "metadata": {},
   "outputs": [
    {
     "data": {
      "text/html": [
       "<div>\n",
       "<style scoped>\n",
       "    .dataframe tbody tr th:only-of-type {\n",
       "        vertical-align: middle;\n",
       "    }\n",
       "\n",
       "    .dataframe tbody tr th {\n",
       "        vertical-align: top;\n",
       "    }\n",
       "\n",
       "    .dataframe thead th {\n",
       "        text-align: right;\n",
       "    }\n",
       "</style>\n",
       "<table border=\"1\" class=\"dataframe\">\n",
       "  <thead>\n",
       "    <tr style=\"text-align: right;\">\n",
       "      <th></th>\n",
       "      <th>itching</th>\n",
       "      <th>skin_rash</th>\n",
       "      <th>nodal_skin_eruptions</th>\n",
       "      <th>continuous_sneezing</th>\n",
       "      <th>shivering</th>\n",
       "      <th>chills</th>\n",
       "      <th>joint_pain</th>\n",
       "      <th>stomach_pain</th>\n",
       "      <th>acidity</th>\n",
       "      <th>ulcers_on_tongue</th>\n",
       "      <th>...</th>\n",
       "      <th>blackheads</th>\n",
       "      <th>scurring</th>\n",
       "      <th>skin_peeling</th>\n",
       "      <th>silver_like_dusting</th>\n",
       "      <th>small_dents_in_nails</th>\n",
       "      <th>inflammatory_nails</th>\n",
       "      <th>blister</th>\n",
       "      <th>red_sore_around_nose</th>\n",
       "      <th>yellow_crust_ooze</th>\n",
       "      <th>prognosis</th>\n",
       "    </tr>\n",
       "  </thead>\n",
       "  <tbody>\n",
       "    <tr>\n",
       "      <th>0</th>\n",
       "      <td>1</td>\n",
       "      <td>1</td>\n",
       "      <td>1</td>\n",
       "      <td>0</td>\n",
       "      <td>0</td>\n",
       "      <td>0</td>\n",
       "      <td>0</td>\n",
       "      <td>0</td>\n",
       "      <td>0</td>\n",
       "      <td>0</td>\n",
       "      <td>...</td>\n",
       "      <td>0</td>\n",
       "      <td>0</td>\n",
       "      <td>0</td>\n",
       "      <td>0</td>\n",
       "      <td>0</td>\n",
       "      <td>0</td>\n",
       "      <td>0</td>\n",
       "      <td>0</td>\n",
       "      <td>0</td>\n",
       "      <td>Fungal infection</td>\n",
       "    </tr>\n",
       "    <tr>\n",
       "      <th>1</th>\n",
       "      <td>0</td>\n",
       "      <td>1</td>\n",
       "      <td>1</td>\n",
       "      <td>0</td>\n",
       "      <td>0</td>\n",
       "      <td>0</td>\n",
       "      <td>0</td>\n",
       "      <td>0</td>\n",
       "      <td>0</td>\n",
       "      <td>0</td>\n",
       "      <td>...</td>\n",
       "      <td>0</td>\n",
       "      <td>0</td>\n",
       "      <td>0</td>\n",
       "      <td>0</td>\n",
       "      <td>0</td>\n",
       "      <td>0</td>\n",
       "      <td>0</td>\n",
       "      <td>0</td>\n",
       "      <td>0</td>\n",
       "      <td>Fungal infection</td>\n",
       "    </tr>\n",
       "    <tr>\n",
       "      <th>2</th>\n",
       "      <td>1</td>\n",
       "      <td>0</td>\n",
       "      <td>1</td>\n",
       "      <td>0</td>\n",
       "      <td>0</td>\n",
       "      <td>0</td>\n",
       "      <td>0</td>\n",
       "      <td>0</td>\n",
       "      <td>0</td>\n",
       "      <td>0</td>\n",
       "      <td>...</td>\n",
       "      <td>0</td>\n",
       "      <td>0</td>\n",
       "      <td>0</td>\n",
       "      <td>0</td>\n",
       "      <td>0</td>\n",
       "      <td>0</td>\n",
       "      <td>0</td>\n",
       "      <td>0</td>\n",
       "      <td>0</td>\n",
       "      <td>Fungal infection</td>\n",
       "    </tr>\n",
       "    <tr>\n",
       "      <th>3</th>\n",
       "      <td>1</td>\n",
       "      <td>1</td>\n",
       "      <td>0</td>\n",
       "      <td>0</td>\n",
       "      <td>0</td>\n",
       "      <td>0</td>\n",
       "      <td>0</td>\n",
       "      <td>0</td>\n",
       "      <td>0</td>\n",
       "      <td>0</td>\n",
       "      <td>...</td>\n",
       "      <td>0</td>\n",
       "      <td>0</td>\n",
       "      <td>0</td>\n",
       "      <td>0</td>\n",
       "      <td>0</td>\n",
       "      <td>0</td>\n",
       "      <td>0</td>\n",
       "      <td>0</td>\n",
       "      <td>0</td>\n",
       "      <td>Fungal infection</td>\n",
       "    </tr>\n",
       "    <tr>\n",
       "      <th>4</th>\n",
       "      <td>1</td>\n",
       "      <td>1</td>\n",
       "      <td>1</td>\n",
       "      <td>0</td>\n",
       "      <td>0</td>\n",
       "      <td>0</td>\n",
       "      <td>0</td>\n",
       "      <td>0</td>\n",
       "      <td>0</td>\n",
       "      <td>0</td>\n",
       "      <td>...</td>\n",
       "      <td>0</td>\n",
       "      <td>0</td>\n",
       "      <td>0</td>\n",
       "      <td>0</td>\n",
       "      <td>0</td>\n",
       "      <td>0</td>\n",
       "      <td>0</td>\n",
       "      <td>0</td>\n",
       "      <td>0</td>\n",
       "      <td>Fungal infection</td>\n",
       "    </tr>\n",
       "  </tbody>\n",
       "</table>\n",
       "<p>5 rows × 133 columns</p>\n",
       "</div>"
      ],
      "text/plain": [
       "   itching  skin_rash  nodal_skin_eruptions  continuous_sneezing  shivering  \\\n",
       "0        1          1                     1                    0          0   \n",
       "1        0          1                     1                    0          0   \n",
       "2        1          0                     1                    0          0   \n",
       "3        1          1                     0                    0          0   \n",
       "4        1          1                     1                    0          0   \n",
       "\n",
       "   chills  joint_pain  stomach_pain  acidity  ulcers_on_tongue  ...  \\\n",
       "0       0           0             0        0                 0  ...   \n",
       "1       0           0             0        0                 0  ...   \n",
       "2       0           0             0        0                 0  ...   \n",
       "3       0           0             0        0                 0  ...   \n",
       "4       0           0             0        0                 0  ...   \n",
       "\n",
       "   blackheads  scurring  skin_peeling  silver_like_dusting  \\\n",
       "0           0         0             0                    0   \n",
       "1           0         0             0                    0   \n",
       "2           0         0             0                    0   \n",
       "3           0         0             0                    0   \n",
       "4           0         0             0                    0   \n",
       "\n",
       "   small_dents_in_nails  inflammatory_nails  blister  red_sore_around_nose  \\\n",
       "0                     0                   0        0                     0   \n",
       "1                     0                   0        0                     0   \n",
       "2                     0                   0        0                     0   \n",
       "3                     0                   0        0                     0   \n",
       "4                     0                   0        0                     0   \n",
       "\n",
       "   yellow_crust_ooze         prognosis  \n",
       "0                  0  Fungal infection  \n",
       "1                  0  Fungal infection  \n",
       "2                  0  Fungal infection  \n",
       "3                  0  Fungal infection  \n",
       "4                  0  Fungal infection  \n",
       "\n",
       "[5 rows x 133 columns]"
      ]
     },
     "execution_count": 5,
     "metadata": {},
     "output_type": "execute_result"
    }
   ],
   "source": [
    "data.head()"
   ]
  },
  {
   "cell_type": "code",
   "execution_count": 22,
   "metadata": {},
   "outputs": [],
   "source": [
    "columns=list(data.columns.values)\n",
    "\n",
    "diseases=list(data['prognosis'].unique())\n",
    "mapping={}\n",
    "for i,dis in enumerate(diseases):\n",
    "    mapping[dis]=i\n",
    "    \n",
    "invmapping={v:k for k,v in mapping.items()}\n",
    "\n",
    "data['prognosis']=data['prognosis'].map(mapping)"
   ]
  },
  {
   "cell_type": "code",
   "execution_count": 23,
   "metadata": {},
   "outputs": [],
   "source": [
    "X=np.array(data.iloc[:,:-1])"
   ]
  },
  {
   "cell_type": "code",
   "execution_count": 24,
   "metadata": {},
   "outputs": [],
   "source": [
    "y=np.array(data.iloc[:,-1])[:,np.newaxis]"
   ]
  },
  {
   "cell_type": "code",
   "execution_count": 25,
   "metadata": {},
   "outputs": [],
   "source": [
    "m=len(y)\n",
    "k=41\n",
    "ones=np.ones([m,1])\n",
    "X=np.hstack([ones,X])"
   ]
  },
  {
   "cell_type": "code",
   "execution_count": 26,
   "metadata": {},
   "outputs": [
    {
     "name": "stdout",
     "output_type": "stream",
     "text": [
      "(4920, 133) (4920, 1)\n"
     ]
    }
   ],
   "source": [
    "m,n=X.shape\n",
    "print(X.shape,y.shape)"
   ]
  },
  {
   "cell_type": "code",
   "execution_count": 10,
   "metadata": {},
   "outputs": [],
   "source": [
    "theta=np.zeros([k,n])"
   ]
  },
  {
   "cell_type": "code",
   "execution_count": 11,
   "metadata": {},
   "outputs": [
    {
     "name": "stdout",
     "output_type": "stream",
     "text": [
      "(41, 133) (4920, 133) (4920, 1)\n"
     ]
    }
   ],
   "source": [
    "print(theta.shape,X.shape,y.shape)"
   ]
  },
  {
   "cell_type": "code",
   "execution_count": 13,
   "metadata": {},
   "outputs": [],
   "source": [
    "def sigmoid(X):\n",
    "    return 1/1+np.exp(-X)"
   ]
  },
  {
   "cell_type": "code",
   "execution_count": 14,
   "metadata": {},
   "outputs": [],
   "source": [
    "def costfunction(theta,X,y,lmbda):\n",
    "    temp=np.dot(y.T,np.log(sigmoid(np.dot(X,theta))))+np.dot((1-y).T,np.log(1-sigmoid(np.dot(X,theta))))\n",
    "    return (temp/(-m))+np.sum(theta[1:]**2)*((lmbda)/(2*m))"
   ]
  },
  {
   "cell_type": "code",
   "execution_count": 15,
   "metadata": {},
   "outputs": [],
   "source": [
    "def gradient(theta,X,y,lmbda):\n",
    "    temp=sigmoid(np.dot(X,theta))-y\n",
    "    temp=(np.dot(X.T,temp)/m)+theta * lmbda / m\n",
    "    temp[0]=temp[0]-theta[0] * lmbda / m\n",
    "    return temp"
   ]
  },
  {
   "cell_type": "code",
   "execution_count": 42,
   "metadata": {},
   "outputs": [
    {
     "name": "stdout",
     "output_type": "stream",
     "text": [
      "Optimization terminated successfully.\n",
      "         Current function value: nan\n",
      "         Iterations: 1\n",
      "         Function evaluations: 112\n",
      "         Gradient evaluations: 112\n",
      "Optimization terminated successfully.\n",
      "         Current function value: nan\n",
      "         Iterations: 1\n",
      "         Function evaluations: 112\n",
      "         Gradient evaluations: 112\n",
      "Optimization terminated successfully.\n",
      "         Current function value: nan\n",
      "         Iterations: 1\n",
      "         Function evaluations: 112\n",
      "         Gradient evaluations: 112\n",
      "Optimization terminated successfully.\n",
      "         Current function value: nan\n",
      "         Iterations: 1\n",
      "         Function evaluations: 112\n",
      "         Gradient evaluations: 112\n",
      "Optimization terminated successfully.\n",
      "         Current function value: nan\n",
      "         Iterations: 1\n",
      "         Function evaluations: 112\n",
      "         Gradient evaluations: 112\n",
      "Optimization terminated successfully.\n",
      "         Current function value: nan\n",
      "         Iterations: 1\n",
      "         Function evaluations: 112\n",
      "         Gradient evaluations: 112\n",
      "Optimization terminated successfully.\n",
      "         Current function value: nan\n",
      "         Iterations: 1\n",
      "         Function evaluations: 112\n",
      "         Gradient evaluations: 112\n",
      "Optimization terminated successfully.\n",
      "         Current function value: nan\n",
      "         Iterations: 1\n",
      "         Function evaluations: 112\n",
      "         Gradient evaluations: 112\n",
      "Optimization terminated successfully.\n",
      "         Current function value: nan\n",
      "         Iterations: 1\n",
      "         Function evaluations: 112\n",
      "         Gradient evaluations: 112\n",
      "Optimization terminated successfully.\n",
      "         Current function value: nan\n",
      "         Iterations: 1\n",
      "         Function evaluations: 112\n",
      "         Gradient evaluations: 112\n",
      "Optimization terminated successfully.\n",
      "         Current function value: nan\n",
      "         Iterations: 1\n",
      "         Function evaluations: 112\n",
      "         Gradient evaluations: 112\n",
      "Optimization terminated successfully.\n",
      "         Current function value: nan\n",
      "         Iterations: 1\n",
      "         Function evaluations: 112\n",
      "         Gradient evaluations: 112\n",
      "Optimization terminated successfully.\n",
      "         Current function value: nan\n",
      "         Iterations: 1\n",
      "         Function evaluations: 112\n",
      "         Gradient evaluations: 112\n",
      "Optimization terminated successfully.\n",
      "         Current function value: nan\n",
      "         Iterations: 1\n",
      "         Function evaluations: 112\n",
      "         Gradient evaluations: 112\n",
      "Optimization terminated successfully.\n",
      "         Current function value: nan\n",
      "         Iterations: 1\n",
      "         Function evaluations: 112\n",
      "         Gradient evaluations: 112\n",
      "Optimization terminated successfully.\n",
      "         Current function value: nan\n",
      "         Iterations: 1\n",
      "         Function evaluations: 112\n",
      "         Gradient evaluations: 112\n",
      "Optimization terminated successfully.\n",
      "         Current function value: nan\n",
      "         Iterations: 1\n",
      "         Function evaluations: 112\n",
      "         Gradient evaluations: 112\n",
      "Optimization terminated successfully.\n",
      "         Current function value: nan\n",
      "         Iterations: 1\n",
      "         Function evaluations: 112\n",
      "         Gradient evaluations: 112\n",
      "Optimization terminated successfully.\n",
      "         Current function value: nan\n",
      "         Iterations: 1\n",
      "         Function evaluations: 112\n",
      "         Gradient evaluations: 112\n",
      "Optimization terminated successfully.\n",
      "         Current function value: nan\n",
      "         Iterations: 1\n",
      "         Function evaluations: 112\n",
      "         Gradient evaluations: 112\n",
      "Optimization terminated successfully.\n",
      "         Current function value: nan\n",
      "         Iterations: 1\n",
      "         Function evaluations: 112\n",
      "         Gradient evaluations: 112\n",
      "Optimization terminated successfully.\n",
      "         Current function value: nan\n",
      "         Iterations: 1\n",
      "         Function evaluations: 112\n",
      "         Gradient evaluations: 112\n",
      "Optimization terminated successfully.\n",
      "         Current function value: nan\n",
      "         Iterations: 1\n",
      "         Function evaluations: 112\n",
      "         Gradient evaluations: 112\n",
      "Optimization terminated successfully.\n",
      "         Current function value: nan\n",
      "         Iterations: 1\n",
      "         Function evaluations: 112\n",
      "         Gradient evaluations: 112\n",
      "Optimization terminated successfully.\n",
      "         Current function value: nan\n",
      "         Iterations: 1\n",
      "         Function evaluations: 112\n",
      "         Gradient evaluations: 112\n",
      "Optimization terminated successfully.\n",
      "         Current function value: nan\n",
      "         Iterations: 1\n",
      "         Function evaluations: 112\n",
      "         Gradient evaluations: 112\n",
      "Optimization terminated successfully.\n",
      "         Current function value: nan\n",
      "         Iterations: 1\n",
      "         Function evaluations: 112\n",
      "         Gradient evaluations: 112\n",
      "Optimization terminated successfully.\n",
      "         Current function value: nan\n",
      "         Iterations: 1\n",
      "         Function evaluations: 112\n",
      "         Gradient evaluations: 112\n",
      "Optimization terminated successfully.\n",
      "         Current function value: nan\n",
      "         Iterations: 1\n",
      "         Function evaluations: 112\n",
      "         Gradient evaluations: 112\n",
      "Optimization terminated successfully.\n",
      "         Current function value: nan\n",
      "         Iterations: 1\n",
      "         Function evaluations: 112\n",
      "         Gradient evaluations: 112\n",
      "Optimization terminated successfully.\n",
      "         Current function value: nan\n",
      "         Iterations: 1\n",
      "         Function evaluations: 112\n",
      "         Gradient evaluations: 112\n",
      "Optimization terminated successfully.\n",
      "         Current function value: nan\n",
      "         Iterations: 1\n",
      "         Function evaluations: 112\n",
      "         Gradient evaluations: 112\n",
      "Optimization terminated successfully.\n",
      "         Current function value: nan\n",
      "         Iterations: 1\n",
      "         Function evaluations: 112\n",
      "         Gradient evaluations: 112\n",
      "Optimization terminated successfully.\n",
      "         Current function value: nan\n",
      "         Iterations: 1\n",
      "         Function evaluations: 112\n",
      "         Gradient evaluations: 112\n",
      "Optimization terminated successfully.\n",
      "         Current function value: nan\n",
      "         Iterations: 1\n",
      "         Function evaluations: 112\n",
      "         Gradient evaluations: 112\n",
      "Optimization terminated successfully.\n",
      "         Current function value: nan\n",
      "         Iterations: 1\n",
      "         Function evaluations: 112\n",
      "         Gradient evaluations: 112\n",
      "Optimization terminated successfully.\n",
      "         Current function value: nan\n",
      "         Iterations: 1\n",
      "         Function evaluations: 112\n",
      "         Gradient evaluations: 112\n",
      "Optimization terminated successfully.\n",
      "         Current function value: nan\n",
      "         Iterations: 1\n",
      "         Function evaluations: 112\n",
      "         Gradient evaluations: 112\n",
      "Optimization terminated successfully.\n",
      "         Current function value: nan\n",
      "         Iterations: 1\n",
      "         Function evaluations: 112\n",
      "         Gradient evaluations: 112\n",
      "Optimization terminated successfully.\n",
      "         Current function value: nan\n",
      "         Iterations: 1\n",
      "         Function evaluations: 112\n",
      "         Gradient evaluations: 112\n",
      "Optimization terminated successfully.\n",
      "         Current function value: nan\n",
      "         Iterations: 1\n",
      "         Function evaluations: 112\n",
      "         Gradient evaluations: 112\n"
     ]
    }
   ],
   "source": [
    "import scipy.optimize as opt\n",
    "lmbda =1001\n",
    "k=41\n",
    "theta=np.zeros((k,n))\n",
    "\n",
    "for i in range(k):\n",
    "    digit_class=i \n",
    "    theta[i]=opt.fmin_cg(f=costfunction,x0=theta[i],fprime=gradient,args=(X,(y==digit_class).flatten(),lmbda),maxiter=50)"
   ]
  },
  {
   "cell_type": "code",
   "execution_count": 39,
   "metadata": {},
   "outputs": [
    {
     "data": {
      "text/plain": [
       "array([nan])"
      ]
     },
     "execution_count": 39,
     "metadata": {},
     "output_type": "execute_result"
    }
   ],
   "source": [
    "theta=np.ones((k,n))\n",
    "costfunction(theta[0],X,y==0,100000000000000000)"
   ]
  },
  {
   "cell_type": "code",
   "execution_count": 40,
   "metadata": {},
   "outputs": [
    {
     "data": {
      "text/plain": [
       "array([258.44337806])"
      ]
     },
     "execution_count": 40,
     "metadata": {},
     "output_type": "execute_result"
    }
   ],
   "source": [
    "#the cost function is returning nan"
   ]
  },
  {
   "cell_type": "code",
   "execution_count": 70,
   "metadata": {},
   "outputs": [],
   "source": [
    "from sklearn.multiclass import OneVsRestClassifier\n",
    "from sklearn.svm import LinearSVC\n",
    "from sklearn.model_selection import train_test_split"
   ]
  },
  {
   "cell_type": "code",
   "execution_count": 110,
   "metadata": {},
   "outputs": [],
   "source": [
    "X_train,X_test,y_train,y_test=train_test_split(X,y,random_state=0)"
   ]
  },
  {
   "cell_type": "code",
   "execution_count": 111,
   "metadata": {},
   "outputs": [],
   "source": [
    "oneall=OneVsRestClassifier(LinearSVC(random_state=0,multi_class=\"ovr\")).fit(X_train, y_train)"
   ]
  },
  {
   "cell_type": "code",
   "execution_count": 112,
   "metadata": {},
   "outputs": [
    {
     "data": {
      "text/plain": [
       "array([29, 19, 25, ..., 19,  8,  1], dtype=int64)"
      ]
     },
     "execution_count": 112,
     "metadata": {},
     "output_type": "execute_result"
    }
   ],
   "source": [
    "oneall.predict(X_test)"
   ]
  },
  {
   "cell_type": "code",
   "execution_count": 114,
   "metadata": {},
   "outputs": [
    {
     "data": {
      "text/plain": [
       "1.0"
      ]
     },
     "execution_count": 114,
     "metadata": {},
     "output_type": "execute_result"
    }
   ],
   "source": [
    "oneall.score(X_test,y_test)"
   ]
  },
  {
   "cell_type": "code",
   "execution_count": 106,
   "metadata": {},
   "outputs": [],
   "source": []
  },
  {
   "cell_type": "code",
   "execution_count": null,
   "metadata": {},
   "outputs": [],
   "source": []
  },
  {
   "cell_type": "code",
   "execution_count": null,
   "metadata": {},
   "outputs": [],
   "source": []
  }
 ],
 "metadata": {
  "kernelspec": {
   "display_name": "Python 3",
   "language": "python",
   "name": "python3"
  },
  "language_info": {
   "codemirror_mode": {
    "name": "ipython",
    "version": 3
   },
   "file_extension": ".py",
   "mimetype": "text/x-python",
   "name": "python",
   "nbconvert_exporter": "python",
   "pygments_lexer": "ipython3",
   "version": "3.7.0"
  }
 },
 "nbformat": 4,
 "nbformat_minor": 2
}
